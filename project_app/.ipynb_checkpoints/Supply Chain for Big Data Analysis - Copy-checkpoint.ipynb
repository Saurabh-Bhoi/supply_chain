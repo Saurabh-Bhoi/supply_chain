{
 "cells": [
  {
   "cell_type": "code",
   "execution_count": null,
   "id": "f57fd14c",
   "metadata": {},
   "outputs": [],
   "source": [
    "import numpy as np\n",
    "import pandas as pd\n",
    "\n",
    "import seaborn as sns\n",
    "import matplotlib.pyplot as plt\n",
    "\n",
    "import warnings\n",
    "warnings.filterwarnings(\"ignore\")\n",
    "\n",
    "from sklearn.preprocessing import LabelEncoder\n",
    "\n",
    "from sklearn.model_selection import train_test_split, RandomizedSearchCV, GridSearchCV\n",
    "from sklearn.ensemble import RandomForestClassifier\n",
    "from sklearn.metrics import confusion_matrix, classification_report, accuracy_score, multilabel_confusion_matrix\n",
    "from sklearn.preprocessing import MinMaxScaler, StandardScaler\n",
    "from sklearn.neighbors import KNeighborsClassifier\n",
    "from sklearn.linear_model import LogisticRegression\n",
    "from sklearn.tree import DecisionTreeClassifier,plot_tree\n",
    "from sklearn.ensemble import AdaBoostClassifier\n",
    "from statsmodels.stats.outliers_influence import variance_inflation_factor\n",
    "\n",
    "import pickle\n",
    "import json"
   ]
  },
  {
   "cell_type": "code",
   "execution_count": null,
   "id": "bf1ce2db",
   "metadata": {},
   "outputs": [],
   "source": [
    "model_details = []\n",
    "training_accuracy_list = []\n",
    "testing_accuracy_list = []"
   ]
  },
  {
   "cell_type": "markdown",
   "id": "cf720303",
   "metadata": {},
   "source": [
    "# Problem Statement"
   ]
  },
  {
   "cell_type": "raw",
   "id": "64e40c10",
   "metadata": {},
   "source": [
    "-The objective of this project is to analyze the supply chain dataset, consisting of structured and unstructured data,\n",
    " in order to gain valuable insights and generate knowledge.\n",
    "-The focus will be on extract meaningful insights and generate knowledge regarding the companys supply chain activities\n",
    " like areas of provisioning, production, sales, and commercial distribution related to clothing, sports goods, and \n",
    " electronic supplies. \n",
    "-The analysis should help identify patterns, trends, and potential areas for optimization or improvement within the\n",
    " supply chain processes. By addressing this problem statement, the project aims to provide with actionable insights\n",
    " and recommendations to enhance the supply chain operations, improve efficiency, reduce costs,\n",
    " and ultimately drive business growth and customer satisfaction."
   ]
  },
  {
   "cell_type": "markdown",
   "id": "38d89939",
   "metadata": {},
   "source": [
    "# Data Gathering"
   ]
  },
  {
   "cell_type": "code",
   "execution_count": null,
   "id": "153f96aa",
   "metadata": {
    "scrolled": true
   },
   "outputs": [],
   "source": [
    "df= pd.read_csv(\"supply_chain_dataset.csv\", encoding='latin-1')\n",
    "df"
   ]
  },
  {
   "cell_type": "code",
   "execution_count": null,
   "id": "2ac07023",
   "metadata": {},
   "outputs": [],
   "source": [
    "df.head(1000)"
   ]
  },
  {
   "cell_type": "markdown",
   "id": "ac96d578",
   "metadata": {},
   "source": [
    "# Exploratory Data Analysis"
   ]
  },
  {
   "cell_type": "markdown",
   "id": "7c80a057",
   "metadata": {},
   "source": [
    "### Dataframe Information"
   ]
  },
  {
   "cell_type": "code",
   "execution_count": null,
   "id": "0759ce7b",
   "metadata": {
    "scrolled": false
   },
   "outputs": [],
   "source": [
    "df.info()"
   ]
  },
  {
   "cell_type": "markdown",
   "id": "b0e7fec4",
   "metadata": {},
   "source": [
    "### Statastical Information"
   ]
  },
  {
   "cell_type": "code",
   "execution_count": null,
   "id": "ee6d8079",
   "metadata": {
    "scrolled": true
   },
   "outputs": [],
   "source": [
    "df.describe()"
   ]
  },
  {
   "cell_type": "markdown",
   "id": "2028839b",
   "metadata": {},
   "source": [
    "### Missing Values Information"
   ]
  },
  {
   "cell_type": "code",
   "execution_count": null,
   "id": "e845f9f0",
   "metadata": {},
   "outputs": [],
   "source": [
    "df.isna().sum()"
   ]
  },
  {
   "cell_type": "markdown",
   "id": "797299b2",
   "metadata": {},
   "source": [
    "### Outliers Information"
   ]
  },
  {
   "cell_type": "code",
   "execution_count": null,
   "id": "1d701700",
   "metadata": {
    "scrolled": true
   },
   "outputs": [],
   "source": [
    "# df.boxplot()"
   ]
  },
  {
   "cell_type": "markdown",
   "id": "a9b519f4",
   "metadata": {},
   "source": [
    "### Columns Information"
   ]
  },
  {
   "cell_type": "code",
   "execution_count": null,
   "id": "847c08d5",
   "metadata": {
    "scrolled": false
   },
   "outputs": [],
   "source": [
    "df.columns"
   ]
  },
  {
   "cell_type": "markdown",
   "id": "92a9d163",
   "metadata": {},
   "source": [
    "### Type"
   ]
  },
  {
   "cell_type": "code",
   "execution_count": null,
   "id": "52992ab0",
   "metadata": {
    "scrolled": false
   },
   "outputs": [],
   "source": [
    "df[\"Type\"].value_counts()"
   ]
  },
  {
   "cell_type": "code",
   "execution_count": null,
   "id": "08d19a05",
   "metadata": {},
   "outputs": [],
   "source": [
    "df[\"Type\"].unique()"
   ]
  },
  {
   "cell_type": "markdown",
   "id": "45587531",
   "metadata": {},
   "source": [
    "### Days for shipping (real)"
   ]
  },
  {
   "cell_type": "code",
   "execution_count": null,
   "id": "e6fc0302",
   "metadata": {
    "scrolled": true
   },
   "outputs": [],
   "source": [
    "df[\"Days for shipping (real)\"].value_counts()"
   ]
  },
  {
   "cell_type": "code",
   "execution_count": null,
   "id": "e5a5bee3",
   "metadata": {},
   "outputs": [],
   "source": [
    "df[\"Days for shipping (real)\"].unique()"
   ]
  },
  {
   "cell_type": "code",
   "execution_count": null,
   "id": "6ff65f86",
   "metadata": {},
   "outputs": [],
   "source": [
    "sns.boxplot(df[\"Days for shipping (real)\"])\n",
    "plt.show()"
   ]
  },
  {
   "cell_type": "markdown",
   "id": "72d439f4",
   "metadata": {},
   "source": [
    "### Days for shipment (scheduled)"
   ]
  },
  {
   "cell_type": "code",
   "execution_count": null,
   "id": "7b93661c",
   "metadata": {
    "scrolled": false
   },
   "outputs": [],
   "source": [
    "df[\"Days for shipment (scheduled)\"].value_counts()"
   ]
  },
  {
   "cell_type": "code",
   "execution_count": null,
   "id": "5e47e361",
   "metadata": {},
   "outputs": [],
   "source": [
    "df[\"Days for shipment (scheduled)\"].unique()"
   ]
  },
  {
   "cell_type": "code",
   "execution_count": null,
   "id": "1e9877c6",
   "metadata": {},
   "outputs": [],
   "source": [
    "sns.boxplot(df[\"Days for shipment (scheduled)\"])"
   ]
  },
  {
   "cell_type": "markdown",
   "id": "301185bf",
   "metadata": {},
   "source": [
    "### Benefit per order"
   ]
  },
  {
   "cell_type": "code",
   "execution_count": null,
   "id": "077f33db",
   "metadata": {
    "scrolled": false
   },
   "outputs": [],
   "source": [
    "df[\"Benefit per order\"].value_counts()"
   ]
  },
  {
   "cell_type": "code",
   "execution_count": null,
   "id": "c8dc9245",
   "metadata": {},
   "outputs": [],
   "source": [
    "df[\"Benefit per order\"].unique()"
   ]
  },
  {
   "cell_type": "code",
   "execution_count": null,
   "id": "cb689150",
   "metadata": {},
   "outputs": [],
   "source": [
    "sns.boxplot(df[\"Benefit per order\"])"
   ]
  },
  {
   "cell_type": "markdown",
   "id": "2c4021d9",
   "metadata": {},
   "source": [
    "### Sales per customer"
   ]
  },
  {
   "cell_type": "code",
   "execution_count": null,
   "id": "fed81453",
   "metadata": {
    "scrolled": false
   },
   "outputs": [],
   "source": [
    "df[\"Sales per customer\"].value_counts()"
   ]
  },
  {
   "cell_type": "code",
   "execution_count": null,
   "id": "b7156255",
   "metadata": {},
   "outputs": [],
   "source": [
    "df[\"Sales per customer\"].unique()"
   ]
  },
  {
   "cell_type": "code",
   "execution_count": null,
   "id": "8075c369",
   "metadata": {},
   "outputs": [],
   "source": [
    "sns.boxplot(df[\"Sales per customer\"])"
   ]
  },
  {
   "cell_type": "markdown",
   "id": "f044f963",
   "metadata": {},
   "source": [
    "### Delivery Status  "
   ]
  },
  {
   "cell_type": "code",
   "execution_count": null,
   "id": "08e5a72f",
   "metadata": {
    "scrolled": false
   },
   "outputs": [],
   "source": [
    "df[\"Delivery Status\"].value_counts()"
   ]
  },
  {
   "cell_type": "code",
   "execution_count": null,
   "id": "6366ef48",
   "metadata": {},
   "outputs": [],
   "source": [
    "df[\"Delivery Status\"].unique"
   ]
  },
  {
   "cell_type": "markdown",
   "id": "3c4e5b2b",
   "metadata": {},
   "source": [
    "### Late_delivery_risk "
   ]
  },
  {
   "cell_type": "code",
   "execution_count": null,
   "id": "3480a480",
   "metadata": {
    "scrolled": false
   },
   "outputs": [],
   "source": [
    "df[\"Late_delivery_risk\"].value_counts()"
   ]
  },
  {
   "cell_type": "code",
   "execution_count": null,
   "id": "3c18396a",
   "metadata": {},
   "outputs": [],
   "source": [
    "df[\"Late_delivery_risk\"].unique"
   ]
  },
  {
   "cell_type": "code",
   "execution_count": null,
   "id": "3e8e2294",
   "metadata": {},
   "outputs": [],
   "source": [
    "sns.boxplot(df[\"Late_delivery_risk\"])"
   ]
  },
  {
   "cell_type": "markdown",
   "id": "5e13fef8",
   "metadata": {},
   "source": [
    "### Category Id"
   ]
  },
  {
   "cell_type": "code",
   "execution_count": null,
   "id": "04b1d35a",
   "metadata": {
    "scrolled": true
   },
   "outputs": [],
   "source": [
    "df[\"Category Id\"].value_counts()"
   ]
  },
  {
   "cell_type": "code",
   "execution_count": null,
   "id": "1b0fda95",
   "metadata": {},
   "outputs": [],
   "source": [
    "df[\"Category Id\"].unique"
   ]
  },
  {
   "cell_type": "code",
   "execution_count": null,
   "id": "cede6105",
   "metadata": {},
   "outputs": [],
   "source": [
    "sns.boxplot(df[\"Category Id\"])"
   ]
  },
  {
   "cell_type": "markdown",
   "id": "6ac1dc72",
   "metadata": {},
   "source": [
    "### Category Name "
   ]
  },
  {
   "cell_type": "code",
   "execution_count": null,
   "id": "2061cbad",
   "metadata": {
    "scrolled": true
   },
   "outputs": [],
   "source": [
    "df[\"Category Name\"].value_counts()"
   ]
  },
  {
   "cell_type": "code",
   "execution_count": null,
   "id": "4c7f697c",
   "metadata": {},
   "outputs": [],
   "source": [
    "df[\"Category Name\"].unique()"
   ]
  },
  {
   "cell_type": "markdown",
   "id": "dfc79a0b",
   "metadata": {},
   "source": [
    "### Customer City"
   ]
  },
  {
   "cell_type": "code",
   "execution_count": null,
   "id": "05f44e70",
   "metadata": {
    "scrolled": true
   },
   "outputs": [],
   "source": [
    "df[\"Customer City\"].value_counts()"
   ]
  },
  {
   "cell_type": "markdown",
   "id": "b1df3206",
   "metadata": {},
   "source": [
    "### Customer Country"
   ]
  },
  {
   "cell_type": "code",
   "execution_count": null,
   "id": "0b0fc4e4",
   "metadata": {
    "scrolled": true
   },
   "outputs": [],
   "source": [
    "df[\"Customer Country\"].value_counts()"
   ]
  },
  {
   "cell_type": "code",
   "execution_count": null,
   "id": "923ec644",
   "metadata": {},
   "outputs": [],
   "source": [
    "df[\"Customer Country\"].unique()"
   ]
  },
  {
   "cell_type": "markdown",
   "id": "81a0ebbf",
   "metadata": {},
   "source": [
    "### Customer Email"
   ]
  },
  {
   "cell_type": "code",
   "execution_count": null,
   "id": "09601643",
   "metadata": {
    "scrolled": true
   },
   "outputs": [],
   "source": [
    "df[\"Customer Email\"].value_counts()"
   ]
  },
  {
   "cell_type": "markdown",
   "id": "e59d52c4",
   "metadata": {},
   "source": [
    "### Customer Fname"
   ]
  },
  {
   "cell_type": "code",
   "execution_count": null,
   "id": "44878ab7",
   "metadata": {
    "scrolled": true
   },
   "outputs": [],
   "source": [
    "df[\"Customer Fname\"].value_counts()"
   ]
  },
  {
   "cell_type": "code",
   "execution_count": null,
   "id": "45e16ee8",
   "metadata": {},
   "outputs": [],
   "source": [
    "df[\"Customer Fname\"].unique()"
   ]
  },
  {
   "cell_type": "markdown",
   "id": "d1e5b7d4",
   "metadata": {},
   "source": [
    "### Customer Id"
   ]
  },
  {
   "cell_type": "code",
   "execution_count": null,
   "id": "c07efe39",
   "metadata": {
    "scrolled": true
   },
   "outputs": [],
   "source": [
    "df['Customer Id'].unique()"
   ]
  },
  {
   "cell_type": "code",
   "execution_count": null,
   "id": "5af62dc7",
   "metadata": {},
   "outputs": [],
   "source": [
    "df['Customer Id'].unique()"
   ]
  },
  {
   "cell_type": "code",
   "execution_count": null,
   "id": "6cbcd867",
   "metadata": {},
   "outputs": [],
   "source": [
    "df['Customer Id'].value_counts()"
   ]
  },
  {
   "cell_type": "code",
   "execution_count": null,
   "id": "1af2d642",
   "metadata": {},
   "outputs": [],
   "source": [
    "df['Customer Id'].isna().sum()"
   ]
  },
  {
   "cell_type": "code",
   "execution_count": null,
   "id": "dbeb06be",
   "metadata": {},
   "outputs": [],
   "source": [
    "df[['Customer Id']].boxplot()"
   ]
  },
  {
   "cell_type": "markdown",
   "id": "80940569",
   "metadata": {},
   "source": [
    "### Customer Lname"
   ]
  },
  {
   "cell_type": "code",
   "execution_count": null,
   "id": "2969c13e",
   "metadata": {},
   "outputs": [],
   "source": [
    "df['Customer Lname'].unique()"
   ]
  },
  {
   "cell_type": "code",
   "execution_count": null,
   "id": "963e3a0d",
   "metadata": {},
   "outputs": [],
   "source": [
    "df['Customer Lname'].value_counts()"
   ]
  },
  {
   "cell_type": "code",
   "execution_count": null,
   "id": "c6cf9a11",
   "metadata": {},
   "outputs": [],
   "source": [
    "df['Customer Lname'].isna().sum()"
   ]
  },
  {
   "cell_type": "markdown",
   "id": "cad70943",
   "metadata": {},
   "source": [
    "### Customer Password"
   ]
  },
  {
   "cell_type": "code",
   "execution_count": null,
   "id": "8b1dc2ef",
   "metadata": {},
   "outputs": [],
   "source": [
    "df['Customer Password'].unique()"
   ]
  },
  {
   "cell_type": "code",
   "execution_count": null,
   "id": "afbc0fee",
   "metadata": {},
   "outputs": [],
   "source": [
    "df['Customer Password'].value_counts()"
   ]
  },
  {
   "cell_type": "code",
   "execution_count": null,
   "id": "79bd6101",
   "metadata": {},
   "outputs": [],
   "source": [
    "df['Customer Password'].isna().sum()"
   ]
  },
  {
   "cell_type": "markdown",
   "id": "21a99320",
   "metadata": {},
   "source": [
    "### Customer Segment"
   ]
  },
  {
   "cell_type": "code",
   "execution_count": null,
   "id": "bdbc846e",
   "metadata": {},
   "outputs": [],
   "source": [
    "df['Customer Segment'].unique()"
   ]
  },
  {
   "cell_type": "code",
   "execution_count": null,
   "id": "8e0ba02d",
   "metadata": {},
   "outputs": [],
   "source": [
    "df['Customer Segment'].value_counts()"
   ]
  },
  {
   "cell_type": "code",
   "execution_count": null,
   "id": "e683300b",
   "metadata": {},
   "outputs": [],
   "source": [
    "df['Customer Segment'].isna().sum()"
   ]
  },
  {
   "cell_type": "code",
   "execution_count": null,
   "id": "fc07d62a",
   "metadata": {},
   "outputs": [],
   "source": [
    "plt.title('Share of Customer Segment')\n",
    "df['Customer Segment'].value_counts().plot(kind = 'pie', autopct = '%.2f%%', cmap = 'Set2', explode = [0.1, 0.1, 0.1])\n",
    "plt.ylabel('');"
   ]
  },
  {
   "cell_type": "markdown",
   "id": "ae6d649f",
   "metadata": {},
   "source": [
    "### Customer State"
   ]
  },
  {
   "cell_type": "code",
   "execution_count": null,
   "id": "92071fb8",
   "metadata": {},
   "outputs": [],
   "source": [
    "df['Customer State'].unique()"
   ]
  },
  {
   "cell_type": "code",
   "execution_count": null,
   "id": "c133c4be",
   "metadata": {},
   "outputs": [],
   "source": [
    "df['Customer State'].value_counts()"
   ]
  },
  {
   "cell_type": "code",
   "execution_count": null,
   "id": "5dedb4f8",
   "metadata": {},
   "outputs": [],
   "source": [
    "df['Customer State'].isna().sum()"
   ]
  },
  {
   "cell_type": "markdown",
   "id": "af5e0694",
   "metadata": {},
   "source": [
    "### Customer Street"
   ]
  },
  {
   "cell_type": "code",
   "execution_count": null,
   "id": "bf78922c",
   "metadata": {},
   "outputs": [],
   "source": [
    "df['Customer Street'].unique()"
   ]
  },
  {
   "cell_type": "code",
   "execution_count": null,
   "id": "d69c7608",
   "metadata": {},
   "outputs": [],
   "source": [
    "df['Customer Street'].value_counts()"
   ]
  },
  {
   "cell_type": "code",
   "execution_count": null,
   "id": "c13a0380",
   "metadata": {},
   "outputs": [],
   "source": [
    "df['Customer Street'].isna().sum()"
   ]
  },
  {
   "cell_type": "markdown",
   "id": "d16d9ac5",
   "metadata": {},
   "source": [
    "### Customer Zipcode"
   ]
  },
  {
   "cell_type": "code",
   "execution_count": null,
   "id": "16bc5ee5",
   "metadata": {},
   "outputs": [],
   "source": [
    "df['Customer Zipcode'].unique()"
   ]
  },
  {
   "cell_type": "code",
   "execution_count": null,
   "id": "4e119e3d",
   "metadata": {},
   "outputs": [],
   "source": [
    "df['Customer Zipcode'].value_counts()"
   ]
  },
  {
   "cell_type": "code",
   "execution_count": null,
   "id": "8cb4b0fb",
   "metadata": {},
   "outputs": [],
   "source": [
    "df['Customer Zipcode'].isna().sum()"
   ]
  },
  {
   "cell_type": "code",
   "execution_count": null,
   "id": "a1cdfdb7",
   "metadata": {},
   "outputs": [],
   "source": [
    "df[['Customer Zipcode']].boxplot()"
   ]
  },
  {
   "cell_type": "code",
   "execution_count": null,
   "id": "b9ff2c6c",
   "metadata": {
    "scrolled": false
   },
   "outputs": [],
   "source": [
    "sns.boxplot(x = df['Customer Zipcode'])"
   ]
  },
  {
   "cell_type": "markdown",
   "id": "37b0de6d",
   "metadata": {},
   "source": [
    "### Department Id"
   ]
  },
  {
   "cell_type": "code",
   "execution_count": null,
   "id": "dc45774d",
   "metadata": {},
   "outputs": [],
   "source": [
    "df['Department Id'].unique()"
   ]
  },
  {
   "cell_type": "code",
   "execution_count": null,
   "id": "0a0e056b",
   "metadata": {},
   "outputs": [],
   "source": [
    "df['Department Id'].value_counts()"
   ]
  },
  {
   "cell_type": "code",
   "execution_count": null,
   "id": "7bd002e2",
   "metadata": {},
   "outputs": [],
   "source": [
    "df['Department Id'].isna().sum()"
   ]
  },
  {
   "cell_type": "code",
   "execution_count": null,
   "id": "717ac9dd",
   "metadata": {},
   "outputs": [],
   "source": [
    "df[['Department Id']].boxplot()"
   ]
  },
  {
   "cell_type": "code",
   "execution_count": null,
   "id": "f8bf848e",
   "metadata": {},
   "outputs": [],
   "source": [
    "plt.title('Department code of store')\n",
    "df['Department Id'].value_counts().plot(kind = 'pie', autopct = '%.2f%%', cmap = 'Set2', explode = [0.1, 0.1, 0.1,0.1, 0.1, 0.1,0.1, 0.1, 0.1,0.1, 0.1])\n",
    "plt.ylabel('');"
   ]
  },
  {
   "cell_type": "markdown",
   "id": "1fbb82ee",
   "metadata": {},
   "source": [
    "### Department Name"
   ]
  },
  {
   "cell_type": "code",
   "execution_count": null,
   "id": "17994088",
   "metadata": {},
   "outputs": [],
   "source": [
    "df['Department Name'].unique()"
   ]
  },
  {
   "cell_type": "code",
   "execution_count": null,
   "id": "a816f2ab",
   "metadata": {},
   "outputs": [],
   "source": [
    "df['Department Name'].value_counts()"
   ]
  },
  {
   "cell_type": "code",
   "execution_count": null,
   "id": "8d199ade",
   "metadata": {},
   "outputs": [],
   "source": [
    "df['Department Name'].isna().sum()"
   ]
  },
  {
   "cell_type": "markdown",
   "id": "895f3701",
   "metadata": {},
   "source": [
    "### Latitude"
   ]
  },
  {
   "cell_type": "code",
   "execution_count": null,
   "id": "f52a8e03",
   "metadata": {},
   "outputs": [],
   "source": [
    "df['Latitude'].unique()"
   ]
  },
  {
   "cell_type": "code",
   "execution_count": null,
   "id": "9a0f3c65",
   "metadata": {},
   "outputs": [],
   "source": [
    "df['Latitude'].value_counts()"
   ]
  },
  {
   "cell_type": "code",
   "execution_count": null,
   "id": "3a905e40",
   "metadata": {},
   "outputs": [],
   "source": [
    "df['Latitude'].isna().sum()"
   ]
  },
  {
   "cell_type": "code",
   "execution_count": null,
   "id": "5e04b78f",
   "metadata": {},
   "outputs": [],
   "source": [
    "df[['Latitude']].boxplot()"
   ]
  },
  {
   "cell_type": "markdown",
   "id": "115ee9ec",
   "metadata": {},
   "source": [
    "### Longitude"
   ]
  },
  {
   "cell_type": "code",
   "execution_count": null,
   "id": "eefa9473",
   "metadata": {},
   "outputs": [],
   "source": [
    "df['Longitude'].unique()"
   ]
  },
  {
   "cell_type": "code",
   "execution_count": null,
   "id": "b8a4cdc4",
   "metadata": {},
   "outputs": [],
   "source": [
    "df['Longitude'].value_counts()"
   ]
  },
  {
   "cell_type": "code",
   "execution_count": null,
   "id": "00f51d2a",
   "metadata": {},
   "outputs": [],
   "source": [
    "df['Longitude'].isna().sum()"
   ]
  },
  {
   "cell_type": "code",
   "execution_count": null,
   "id": "279c8494",
   "metadata": {},
   "outputs": [],
   "source": [
    "df[['Longitude']].boxplot()"
   ]
  },
  {
   "cell_type": "markdown",
   "id": "653f6e07",
   "metadata": {},
   "source": [
    "### Market"
   ]
  },
  {
   "cell_type": "code",
   "execution_count": null,
   "id": "f3ac934f",
   "metadata": {},
   "outputs": [],
   "source": [
    "df['Market'].unique()"
   ]
  },
  {
   "cell_type": "code",
   "execution_count": null,
   "id": "5bf060ca",
   "metadata": {},
   "outputs": [],
   "source": [
    "df['Market'].value_counts()"
   ]
  },
  {
   "cell_type": "code",
   "execution_count": null,
   "id": "1e7551fb",
   "metadata": {},
   "outputs": [],
   "source": [
    "df['Market'].isna().sum()"
   ]
  },
  {
   "cell_type": "code",
   "execution_count": null,
   "id": "10040c7a",
   "metadata": {},
   "outputs": [],
   "source": [
    "plt.title(' Market to where the order is delivered')\n",
    "df['Market'].value_counts().plot(kind = 'pie', autopct = '%.2f%%', cmap = 'Set2', explode = [0.1, 0.1, 0.1,0.1, 0.1])\n",
    "plt.ylabel('');"
   ]
  },
  {
   "cell_type": "markdown",
   "id": "1f55a4a9",
   "metadata": {},
   "source": [
    "### Order City"
   ]
  },
  {
   "cell_type": "code",
   "execution_count": null,
   "id": "cadd287d",
   "metadata": {},
   "outputs": [],
   "source": [
    "df['Order City'].unique()"
   ]
  },
  {
   "cell_type": "code",
   "execution_count": null,
   "id": "2bc23bf3",
   "metadata": {},
   "outputs": [],
   "source": [
    "df['Order City'].value_counts()"
   ]
  },
  {
   "cell_type": "code",
   "execution_count": null,
   "id": "9de5114f",
   "metadata": {},
   "outputs": [],
   "source": [
    "df['Order City'].isna().sum()"
   ]
  },
  {
   "cell_type": "markdown",
   "id": "7dd6d3dd",
   "metadata": {},
   "source": [
    "### Order Country"
   ]
  },
  {
   "cell_type": "code",
   "execution_count": null,
   "id": "cce33814",
   "metadata": {},
   "outputs": [],
   "source": [
    "df['Order Country'].unique()"
   ]
  },
  {
   "cell_type": "code",
   "execution_count": null,
   "id": "613f9252",
   "metadata": {},
   "outputs": [],
   "source": [
    "df['Order Country'].value_counts()"
   ]
  },
  {
   "cell_type": "code",
   "execution_count": null,
   "id": "867ffa5b",
   "metadata": {},
   "outputs": [],
   "source": [
    "df['Order Country'].isna().sum()"
   ]
  },
  {
   "cell_type": "markdown",
   "id": "7a7cb667",
   "metadata": {},
   "source": [
    "### Order Customer Id"
   ]
  },
  {
   "cell_type": "code",
   "execution_count": null,
   "id": "28df3e49",
   "metadata": {},
   "outputs": [],
   "source": [
    "df[\"Order Customer Id\"].value_counts()"
   ]
  },
  {
   "cell_type": "code",
   "execution_count": null,
   "id": "1ee6e42d",
   "metadata": {},
   "outputs": [],
   "source": [
    "df[\"Order Customer Id\"].unique()"
   ]
  },
  {
   "cell_type": "code",
   "execution_count": null,
   "id": "0561b0da",
   "metadata": {},
   "outputs": [],
   "source": [
    "df[\"Order Customer Id\"].isna().sum()"
   ]
  },
  {
   "cell_type": "code",
   "execution_count": null,
   "id": "b9177cf9",
   "metadata": {},
   "outputs": [],
   "source": [
    "sns.boxplot(df[\"Order Customer Id\"])\n",
    "plt.show()"
   ]
  },
  {
   "cell_type": "markdown",
   "id": "57fdba7c",
   "metadata": {},
   "source": [
    "### order date (DateOrders)"
   ]
  },
  {
   "cell_type": "code",
   "execution_count": null,
   "id": "dca273b7",
   "metadata": {},
   "outputs": [],
   "source": [
    "df[\"order date (DateOrders)\"].value_counts()"
   ]
  },
  {
   "cell_type": "code",
   "execution_count": null,
   "id": "49793088",
   "metadata": {},
   "outputs": [],
   "source": [
    "df[\"order date (DateOrders)\"].unique()"
   ]
  },
  {
   "cell_type": "code",
   "execution_count": null,
   "id": "6990094c",
   "metadata": {},
   "outputs": [],
   "source": [
    "df[\"order date (DateOrders)\"].isna().sum()"
   ]
  },
  {
   "cell_type": "markdown",
   "id": "60dfbb3d",
   "metadata": {},
   "source": [
    "### Order Id"
   ]
  },
  {
   "cell_type": "code",
   "execution_count": null,
   "id": "e0730905",
   "metadata": {},
   "outputs": [],
   "source": [
    "df[\"Order Id\"].value_counts()"
   ]
  },
  {
   "cell_type": "code",
   "execution_count": null,
   "id": "eac9fbc3",
   "metadata": {},
   "outputs": [],
   "source": [
    "df[\"Order Id\"].unique()"
   ]
  },
  {
   "cell_type": "code",
   "execution_count": null,
   "id": "db685f7c",
   "metadata": {},
   "outputs": [],
   "source": [
    "df[\"Order Id\"].isna().sum()"
   ]
  },
  {
   "cell_type": "code",
   "execution_count": null,
   "id": "08cbc8b0",
   "metadata": {},
   "outputs": [],
   "source": [
    "sns.boxplot(df[\"Order Id\"])\n",
    "plt.show()"
   ]
  },
  {
   "cell_type": "markdown",
   "id": "a602f936",
   "metadata": {},
   "source": [
    "### Order Item Cardprod Id"
   ]
  },
  {
   "cell_type": "code",
   "execution_count": null,
   "id": "cd25d24b",
   "metadata": {},
   "outputs": [],
   "source": [
    "df[\"Order Item Cardprod Id\"].value_counts()"
   ]
  },
  {
   "cell_type": "code",
   "execution_count": null,
   "id": "ad8879ba",
   "metadata": {},
   "outputs": [],
   "source": [
    "df[\"Order Item Cardprod Id\"].unique()"
   ]
  },
  {
   "cell_type": "code",
   "execution_count": null,
   "id": "10b04503",
   "metadata": {},
   "outputs": [],
   "source": [
    "df[\"Order Item Cardprod Id\"].isna().sum()"
   ]
  },
  {
   "cell_type": "code",
   "execution_count": null,
   "id": "c267d077",
   "metadata": {},
   "outputs": [],
   "source": [
    "sns.boxplot(df[\"Order Item Cardprod Id\"])\n",
    "plt.show()"
   ]
  },
  {
   "cell_type": "markdown",
   "id": "bac9fcac",
   "metadata": {},
   "source": [
    "### Order Item Discount"
   ]
  },
  {
   "cell_type": "code",
   "execution_count": null,
   "id": "066e9de0",
   "metadata": {},
   "outputs": [],
   "source": [
    "df[\"Order Item Discount\"].value_counts()"
   ]
  },
  {
   "cell_type": "code",
   "execution_count": null,
   "id": "023d9cbf",
   "metadata": {},
   "outputs": [],
   "source": [
    "df[\"Order Item Discount\"].unique()"
   ]
  },
  {
   "cell_type": "code",
   "execution_count": null,
   "id": "7e9e6712",
   "metadata": {},
   "outputs": [],
   "source": [
    "df[\"Order Item Discount\"].isna().sum()"
   ]
  },
  {
   "cell_type": "code",
   "execution_count": null,
   "id": "698a06d9",
   "metadata": {},
   "outputs": [],
   "source": [
    "sns.boxplot(df[\"Order Item Discount\"])\n",
    "plt.show()"
   ]
  },
  {
   "cell_type": "markdown",
   "id": "3087873b",
   "metadata": {},
   "source": [
    "### Order Item Discount Rate"
   ]
  },
  {
   "cell_type": "code",
   "execution_count": null,
   "id": "2237f13b",
   "metadata": {},
   "outputs": [],
   "source": [
    "df[\"Order Item Discount Rate\"].value_counts()"
   ]
  },
  {
   "cell_type": "code",
   "execution_count": null,
   "id": "81faf9c0",
   "metadata": {},
   "outputs": [],
   "source": [
    "df[\"Order Item Discount Rate\"].unique()"
   ]
  },
  {
   "cell_type": "code",
   "execution_count": null,
   "id": "dcc120c2",
   "metadata": {},
   "outputs": [],
   "source": [
    "df[\"Order Item Discount Rate\"].isna().sum()"
   ]
  },
  {
   "cell_type": "code",
   "execution_count": null,
   "id": "3da1a414",
   "metadata": {},
   "outputs": [],
   "source": [
    "sns.boxplot(df[\"Order Item Discount Rate\"])\n",
    "plt.show()"
   ]
  },
  {
   "cell_type": "markdown",
   "id": "a3448456",
   "metadata": {},
   "source": [
    "### Order Item Id"
   ]
  },
  {
   "cell_type": "code",
   "execution_count": null,
   "id": "28891638",
   "metadata": {},
   "outputs": [],
   "source": [
    "df[\"Order Item Id\"].value_counts()"
   ]
  },
  {
   "cell_type": "code",
   "execution_count": null,
   "id": "4df83beb",
   "metadata": {},
   "outputs": [],
   "source": [
    "df[\"Order Item Id\"].unique()"
   ]
  },
  {
   "cell_type": "code",
   "execution_count": null,
   "id": "75af8b63",
   "metadata": {},
   "outputs": [],
   "source": [
    "df[\"Order Item Id\"].isna().sum()"
   ]
  },
  {
   "cell_type": "code",
   "execution_count": null,
   "id": "8e4b6cb2",
   "metadata": {},
   "outputs": [],
   "source": [
    "sns.boxplot(df[\"Order Item Id\"])\n",
    "plt.show()"
   ]
  },
  {
   "cell_type": "markdown",
   "id": "b1b10fd3",
   "metadata": {},
   "source": [
    "### Order Item Product Price"
   ]
  },
  {
   "cell_type": "code",
   "execution_count": null,
   "id": "d3a3217c",
   "metadata": {},
   "outputs": [],
   "source": [
    "df[\"Order Item Product Price\"].value_counts()"
   ]
  },
  {
   "cell_type": "code",
   "execution_count": null,
   "id": "97aa5d96",
   "metadata": {},
   "outputs": [],
   "source": [
    "df[\"Order Item Product Price\"].unique()"
   ]
  },
  {
   "cell_type": "code",
   "execution_count": null,
   "id": "7572cb0a",
   "metadata": {},
   "outputs": [],
   "source": [
    "df[\"Order Item Product Price\"].isna().sum()"
   ]
  },
  {
   "cell_type": "code",
   "execution_count": null,
   "id": "dfbca2ee",
   "metadata": {},
   "outputs": [],
   "source": [
    "sns.boxplot(df[\"Order Item Product Price\"])\n",
    "plt.show()"
   ]
  },
  {
   "cell_type": "markdown",
   "id": "bf32231c",
   "metadata": {},
   "source": [
    "### Order Item Profit Ratio "
   ]
  },
  {
   "cell_type": "code",
   "execution_count": null,
   "id": "fd9d2f58",
   "metadata": {},
   "outputs": [],
   "source": [
    "df[\"Order Item Profit Ratio\"].value_counts()"
   ]
  },
  {
   "cell_type": "code",
   "execution_count": null,
   "id": "3399c1ae",
   "metadata": {},
   "outputs": [],
   "source": [
    "df[\"Order Item Profit Ratio\"].unique()"
   ]
  },
  {
   "cell_type": "code",
   "execution_count": null,
   "id": "0a2419c9",
   "metadata": {},
   "outputs": [],
   "source": [
    "df[\"Order Item Profit Ratio\"].isna().sum()"
   ]
  },
  {
   "cell_type": "code",
   "execution_count": null,
   "id": "2cf27342",
   "metadata": {},
   "outputs": [],
   "source": [
    "sns.boxplot(df[\"Order Item Profit Ratio\"])\n",
    "plt.show()"
   ]
  },
  {
   "cell_type": "markdown",
   "id": "3713a530",
   "metadata": {},
   "source": [
    "### Order Item Quantity "
   ]
  },
  {
   "cell_type": "code",
   "execution_count": null,
   "id": "21e84e38",
   "metadata": {},
   "outputs": [],
   "source": [
    "df[\"Order Item Quantity\"].value_counts()"
   ]
  },
  {
   "cell_type": "code",
   "execution_count": null,
   "id": "0322ecfd",
   "metadata": {},
   "outputs": [],
   "source": [
    "df[\"Order Item Quantity\"].unique()"
   ]
  },
  {
   "cell_type": "code",
   "execution_count": null,
   "id": "c7fdd731",
   "metadata": {},
   "outputs": [],
   "source": [
    "df[\"Order Item Quantity\"].isna().sum()"
   ]
  },
  {
   "cell_type": "code",
   "execution_count": null,
   "id": "6c30d4cf",
   "metadata": {},
   "outputs": [],
   "source": [
    "sns.boxplot(df[\"Order Item Quantity\"])\n",
    "plt.show()"
   ]
  },
  {
   "cell_type": "markdown",
   "id": "73c2efdd",
   "metadata": {},
   "source": [
    "### Sales"
   ]
  },
  {
   "cell_type": "code",
   "execution_count": null,
   "id": "31202645",
   "metadata": {},
   "outputs": [],
   "source": [
    "df[\"Sales\"].value_counts()"
   ]
  },
  {
   "cell_type": "code",
   "execution_count": null,
   "id": "330a37d4",
   "metadata": {},
   "outputs": [],
   "source": [
    "df[\"Sales\"].unique()"
   ]
  },
  {
   "cell_type": "code",
   "execution_count": null,
   "id": "4fd26a05",
   "metadata": {},
   "outputs": [],
   "source": [
    "df[\"Sales\"].isna().sum()"
   ]
  },
  {
   "cell_type": "code",
   "execution_count": null,
   "id": "c3218f75",
   "metadata": {},
   "outputs": [],
   "source": [
    "sns.boxplot(df[\"Sales\"])\n",
    "plt.show()"
   ]
  },
  {
   "cell_type": "markdown",
   "id": "ff498030",
   "metadata": {},
   "source": [
    "### Order Item Total"
   ]
  },
  {
   "cell_type": "code",
   "execution_count": null,
   "id": "47761172",
   "metadata": {},
   "outputs": [],
   "source": [
    "df[\"Order Item Total\"].value_counts()"
   ]
  },
  {
   "cell_type": "code",
   "execution_count": null,
   "id": "80b8dfe3",
   "metadata": {},
   "outputs": [],
   "source": [
    "df[\"Order Item Total\"].unique()"
   ]
  },
  {
   "cell_type": "code",
   "execution_count": null,
   "id": "6c07a9ad",
   "metadata": {},
   "outputs": [],
   "source": [
    "df[\"Order Item Total\"].isna().sum()"
   ]
  },
  {
   "cell_type": "code",
   "execution_count": null,
   "id": "0d4c6ed4",
   "metadata": {},
   "outputs": [],
   "source": [
    "sns.boxplot(df[\"Order Item Total\"])\n",
    "plt.show()"
   ]
  },
  {
   "cell_type": "markdown",
   "id": "568fc96f",
   "metadata": {},
   "source": [
    "### Order Profit Per Order"
   ]
  },
  {
   "cell_type": "code",
   "execution_count": null,
   "id": "1c5e37c5",
   "metadata": {},
   "outputs": [],
   "source": [
    "df[\"Order Profit Per Order\"].value_counts()"
   ]
  },
  {
   "cell_type": "code",
   "execution_count": null,
   "id": "b6798d47",
   "metadata": {},
   "outputs": [],
   "source": [
    "df[\"Order Profit Per Order\"].unique()"
   ]
  },
  {
   "cell_type": "code",
   "execution_count": null,
   "id": "5a02a804",
   "metadata": {},
   "outputs": [],
   "source": [
    "df[\"Order Profit Per Order\"].isna().sum()"
   ]
  },
  {
   "cell_type": "code",
   "execution_count": null,
   "id": "d6fbc549",
   "metadata": {},
   "outputs": [],
   "source": [
    "sns.boxplot(df[\"Order Profit Per Order\"])\n",
    "plt.show()"
   ]
  },
  {
   "cell_type": "markdown",
   "id": "4d2ad83f",
   "metadata": {},
   "source": [
    "### order region"
   ]
  },
  {
   "cell_type": "code",
   "execution_count": null,
   "id": "b7062d32",
   "metadata": {},
   "outputs": [],
   "source": [
    "df['Order Region'].value_counts()"
   ]
  },
  {
   "cell_type": "code",
   "execution_count": null,
   "id": "7e375b1a",
   "metadata": {},
   "outputs": [],
   "source": [
    "df['Order Region'].isna().sum()"
   ]
  },
  {
   "cell_type": "raw",
   "id": "803206a5",
   "metadata": {},
   "source": [
    "No Outliers because of categeorical data "
   ]
  },
  {
   "cell_type": "markdown",
   "id": "76f812a6",
   "metadata": {},
   "source": [
    "### Order State"
   ]
  },
  {
   "cell_type": "code",
   "execution_count": null,
   "id": "38d26cd1",
   "metadata": {},
   "outputs": [],
   "source": [
    "df['Order State'].value_counts()"
   ]
  },
  {
   "cell_type": "code",
   "execution_count": null,
   "id": "edb22e6d",
   "metadata": {},
   "outputs": [],
   "source": [
    "df['Order State'].isna().sum()"
   ]
  },
  {
   "cell_type": "raw",
   "id": "768f6e62",
   "metadata": {},
   "source": [
    "No Outliers because of categeorical data "
   ]
  },
  {
   "cell_type": "markdown",
   "id": "d897fa1d",
   "metadata": {},
   "source": [
    "### Order Status"
   ]
  },
  {
   "cell_type": "code",
   "execution_count": null,
   "id": "69af8ed8",
   "metadata": {},
   "outputs": [],
   "source": [
    "df['Order Status'].value_counts()"
   ]
  },
  {
   "cell_type": "code",
   "execution_count": null,
   "id": "0cf3232d",
   "metadata": {},
   "outputs": [],
   "source": [
    "df['Order Status'].isna().sum()"
   ]
  },
  {
   "cell_type": "raw",
   "id": "fa14b2e4",
   "metadata": {},
   "source": [
    "No Outliers because of categeorical data "
   ]
  },
  {
   "cell_type": "markdown",
   "id": "5bf94711",
   "metadata": {},
   "source": [
    "### Order Zipcode"
   ]
  },
  {
   "cell_type": "code",
   "execution_count": null,
   "id": "29286d05",
   "metadata": {},
   "outputs": [],
   "source": [
    "df['Order Zipcode'].value_counts()"
   ]
  },
  {
   "cell_type": "code",
   "execution_count": null,
   "id": "5b4ce6f7",
   "metadata": {},
   "outputs": [],
   "source": [
    "df['Order Zipcode'].isna().sum()"
   ]
  },
  {
   "cell_type": "code",
   "execution_count": null,
   "id": "5e9e76b3",
   "metadata": {},
   "outputs": [],
   "source": [
    "sns.boxplot(df['Order Zipcode'])"
   ]
  },
  {
   "cell_type": "raw",
   "id": "2a7dca9a",
   "metadata": {},
   "source": [
    "There is no outliers in Order Zipcode"
   ]
  },
  {
   "cell_type": "markdown",
   "id": "9d70f8d3",
   "metadata": {},
   "source": [
    "### Product Card Id"
   ]
  },
  {
   "cell_type": "code",
   "execution_count": null,
   "id": "3e790797",
   "metadata": {},
   "outputs": [],
   "source": [
    "df['Product Card Id'].value_counts()"
   ]
  },
  {
   "cell_type": "code",
   "execution_count": null,
   "id": "2a6ed1ca",
   "metadata": {},
   "outputs": [],
   "source": [
    "df['Product Card Id'].isna().sum()"
   ]
  },
  {
   "cell_type": "code",
   "execution_count": null,
   "id": "54fdeb90",
   "metadata": {},
   "outputs": [],
   "source": [
    "sns.boxplot(df['Product Card Id'])"
   ]
  },
  {
   "cell_type": "raw",
   "id": "9e1f0d27",
   "metadata": {},
   "source": [
    "There is no outliers present"
   ]
  },
  {
   "cell_type": "markdown",
   "id": "5d050fa9",
   "metadata": {},
   "source": [
    "### Product Category Id"
   ]
  },
  {
   "cell_type": "code",
   "execution_count": null,
   "id": "465971cb",
   "metadata": {},
   "outputs": [],
   "source": [
    "df['Product Category Id'].value_counts()"
   ]
  },
  {
   "cell_type": "code",
   "execution_count": null,
   "id": "f0c46426",
   "metadata": {},
   "outputs": [],
   "source": [
    "df['Product Category Id'].isna().sum()"
   ]
  },
  {
   "cell_type": "code",
   "execution_count": null,
   "id": "4e68ced2",
   "metadata": {},
   "outputs": [],
   "source": [
    "sns.boxplot(df['Product Category Id'])"
   ]
  },
  {
   "cell_type": "raw",
   "id": "8d7fc426",
   "metadata": {},
   "source": [
    "There is no outliers present"
   ]
  },
  {
   "cell_type": "markdown",
   "id": "95338458",
   "metadata": {},
   "source": [
    "### Product Description"
   ]
  },
  {
   "cell_type": "raw",
   "id": "65658030",
   "metadata": {},
   "source": [
    "There is not a single value present in Product Description column thats why we are dropping that column"
   ]
  },
  {
   "cell_type": "markdown",
   "id": "1b814d21",
   "metadata": {},
   "source": [
    "### Product Image"
   ]
  },
  {
   "cell_type": "code",
   "execution_count": null,
   "id": "6415ed96",
   "metadata": {},
   "outputs": [],
   "source": [
    "df['Product Image'].value_counts()"
   ]
  },
  {
   "cell_type": "markdown",
   "id": "4b97c4a7",
   "metadata": {},
   "source": [
    "### Product Name"
   ]
  },
  {
   "cell_type": "code",
   "execution_count": null,
   "id": "5190020c",
   "metadata": {},
   "outputs": [],
   "source": [
    "df['Product Name'].value_counts()"
   ]
  },
  {
   "cell_type": "code",
   "execution_count": null,
   "id": "1e838153",
   "metadata": {},
   "outputs": [],
   "source": [
    "df['Product Name'].isna().sum()"
   ]
  },
  {
   "cell_type": "markdown",
   "id": "e13a41e6",
   "metadata": {},
   "source": [
    "### Product Price"
   ]
  },
  {
   "cell_type": "code",
   "execution_count": null,
   "id": "f395c984",
   "metadata": {},
   "outputs": [],
   "source": [
    "df['Product Price'].value_counts()"
   ]
  },
  {
   "cell_type": "code",
   "execution_count": null,
   "id": "b4dccb07",
   "metadata": {},
   "outputs": [],
   "source": [
    "df['Product Price'].isna().sum()"
   ]
  },
  {
   "cell_type": "code",
   "execution_count": null,
   "id": "8f9a2076",
   "metadata": {},
   "outputs": [],
   "source": [
    "sns.boxplot(df['Product Price'])\n",
    "plt.show()"
   ]
  },
  {
   "cell_type": "raw",
   "id": "eaeb34c2",
   "metadata": {},
   "source": [
    "Outliers present"
   ]
  },
  {
   "cell_type": "markdown",
   "id": "cbd60aa6",
   "metadata": {},
   "source": [
    "### Product Status"
   ]
  },
  {
   "cell_type": "code",
   "execution_count": null,
   "id": "ec2555f4",
   "metadata": {},
   "outputs": [],
   "source": [
    "df['Product Status'].value_counts()"
   ]
  },
  {
   "cell_type": "code",
   "execution_count": null,
   "id": "cf3a4ad2",
   "metadata": {},
   "outputs": [],
   "source": [
    "df['Product Status'].isna().sum()"
   ]
  },
  {
   "cell_type": "code",
   "execution_count": null,
   "id": "d68b5abf",
   "metadata": {},
   "outputs": [],
   "source": [
    "sns.boxplot(df['Product Status'])"
   ]
  },
  {
   "cell_type": "raw",
   "id": "27f6c3fb",
   "metadata": {},
   "source": [
    "All the products are available"
   ]
  },
  {
   "cell_type": "markdown",
   "id": "6a44dc8a",
   "metadata": {},
   "source": [
    "### shipping date (DateOrders)"
   ]
  },
  {
   "cell_type": "code",
   "execution_count": null,
   "id": "18425089",
   "metadata": {},
   "outputs": [],
   "source": [
    "df['shipping date (DateOrders)'].value_counts()"
   ]
  },
  {
   "cell_type": "code",
   "execution_count": null,
   "id": "bf9484aa",
   "metadata": {},
   "outputs": [],
   "source": [
    "df['shipping date (DateOrders)'].isna().sum()"
   ]
  },
  {
   "cell_type": "raw",
   "id": "409d6e4c",
   "metadata": {},
   "source": [
    "No Outliers "
   ]
  },
  {
   "cell_type": "markdown",
   "id": "8c7ba3c0",
   "metadata": {},
   "source": [
    "### Shipping Mode"
   ]
  },
  {
   "cell_type": "code",
   "execution_count": null,
   "id": "80c29611",
   "metadata": {},
   "outputs": [],
   "source": [
    "df['Shipping Mode'].value_counts()"
   ]
  },
  {
   "cell_type": "code",
   "execution_count": null,
   "id": "eed9ad1d",
   "metadata": {},
   "outputs": [],
   "source": [
    "df['Shipping Mode'].isna().sum()"
   ]
  },
  {
   "cell_type": "raw",
   "id": "054fe26d",
   "metadata": {},
   "source": [
    "No Outliers because of categeorical data "
   ]
  },
  {
   "cell_type": "markdown",
   "id": "f02d1d09",
   "metadata": {},
   "source": [
    "# Feature Engineering"
   ]
  },
  {
   "cell_type": "markdown",
   "id": "6ec61868",
   "metadata": {},
   "source": [
    "### Dropping column"
   ]
  },
  {
   "cell_type": "code",
   "execution_count": null,
   "id": "55bc9d45",
   "metadata": {},
   "outputs": [],
   "source": [
    "df = df.drop([\"Customer Email\", \"Order Zipcode\", \"Product Image\", \"Customer Password\", \"Product Description\"], axis=1)"
   ]
  },
  {
   "cell_type": "markdown",
   "id": "4fbea87d",
   "metadata": {},
   "source": [
    "### Missing Value Imputation"
   ]
  },
  {
   "cell_type": "code",
   "execution_count": null,
   "id": "deac393f",
   "metadata": {},
   "outputs": [],
   "source": [
    "df[\"Customer Zipcode\"]"
   ]
  },
  {
   "cell_type": "code",
   "execution_count": null,
   "id": "c1a6d757",
   "metadata": {
    "scrolled": true
   },
   "outputs": [],
   "source": [
    "df[\"Customer Zipcode\"].isna().sum()"
   ]
  },
  {
   "cell_type": "code",
   "execution_count": null,
   "id": "7db6ec7e",
   "metadata": {},
   "outputs": [],
   "source": [
    "df[\"Customer Zipcode\"].fillna(df[\"Customer Zipcode\"].median(), inplace=True)"
   ]
  },
  {
   "cell_type": "markdown",
   "id": "9e935f06",
   "metadata": {},
   "source": [
    "# Encoding "
   ]
  },
  {
   "cell_type": "markdown",
   "id": "52a92607",
   "metadata": {},
   "source": [
    "### Type"
   ]
  },
  {
   "cell_type": "code",
   "execution_count": null,
   "id": "20f12d7d",
   "metadata": {},
   "outputs": [],
   "source": [
    "df[\"Type\"].unique()"
   ]
  },
  {
   "cell_type": "code",
   "execution_count": null,
   "id": "32bef608",
   "metadata": {},
   "outputs": [],
   "source": [
    "df[\"Type\"].replace({'DEBIT':0, 'TRANSFER':1, 'CASH':2, 'PAYMENT':3}, inplace=True)"
   ]
  },
  {
   "cell_type": "code",
   "execution_count": null,
   "id": "b3a90675",
   "metadata": {},
   "outputs": [],
   "source": [
    "Type_value = {'DEBIT':0, 'TRANSFER':1, 'CASH':2, 'PAYMENT':3}\n",
    "Type_value"
   ]
  },
  {
   "cell_type": "markdown",
   "id": "4d468a3e",
   "metadata": {},
   "source": [
    "### Delivery Status"
   ]
  },
  {
   "cell_type": "code",
   "execution_count": null,
   "id": "017d7668",
   "metadata": {
    "scrolled": true
   },
   "outputs": [],
   "source": [
    "df[\"Delivery Status\"].unique()"
   ]
  },
  {
   "cell_type": "code",
   "execution_count": null,
   "id": "13ac52c1",
   "metadata": {
    "scrolled": false
   },
   "outputs": [],
   "source": [
    "df[\"Delivery Status\"].replace({'Advance shipping':0, 'Late delivery':1, 'Shipping on time':2,'Shipping canceled':3}, inplace=True)"
   ]
  },
  {
   "cell_type": "code",
   "execution_count": null,
   "id": "87fb5d98",
   "metadata": {},
   "outputs": [],
   "source": [
    "Delivery_Status_value = {'Advance shipping':0, 'Late delivery':1, 'Shipping on time':2,'Shipping canceled':3}\n",
    "Delivery_Status_value"
   ]
  },
  {
   "cell_type": "markdown",
   "id": "fa802fdf",
   "metadata": {},
   "source": [
    "### Category Name"
   ]
  },
  {
   "cell_type": "code",
   "execution_count": null,
   "id": "529c5d4b",
   "metadata": {
    "scrolled": true
   },
   "outputs": [],
   "source": [
    "df[\"Category Name\"].unique()"
   ]
  },
  {
   "cell_type": "code",
   "execution_count": null,
   "id": "870c2815",
   "metadata": {},
   "outputs": [],
   "source": [
    "# encoder = LabelEncoder()"
   ]
  },
  {
   "cell_type": "code",
   "execution_count": null,
   "id": "a7820d02",
   "metadata": {
    "scrolled": false
   },
   "outputs": [],
   "source": [
    "# encoded_catagory_name = encoder.fit_transform(df['Category Name'])\n",
    "# df['Category Name'] = encoded_catagory_name\n",
    "# df[['Category Name']]"
   ]
  },
  {
   "cell_type": "code",
   "execution_count": null,
   "id": "a9e23531",
   "metadata": {
    "scrolled": true
   },
   "outputs": [],
   "source": [
    "Category_Name_list = df['Category Name'].unique()\n",
    "Category_Name_list\n",
    "Category_Name_value = {}\n",
    "for i in range(len(Category_Name_list)):\n",
    "    #print(i)\n",
    "    Category_Name_value.update({Category_Name_list[i]:i})\n",
    "    \n",
    "print(Category_Name_value)"
   ]
  },
  {
   "cell_type": "code",
   "execution_count": null,
   "id": "16a9733d",
   "metadata": {},
   "outputs": [],
   "source": [
    "df['Category Name']= df['Category Name'].replace({'Sporting Goods': 0, 'Cleats': 1, 'Shop By Sport': 2, \"Women's Apparel\": 3, 'Electronics': 4, 'Boxing & MMA': 5, 'Cardio Equipment': 6, 'Trade-In': 7, \"Kids' Golf Clubs\": 8, 'Hunting & Shooting': 9, 'Baseball & Softball': 10, \"Men's Footwear\": 11, 'Camping & Hiking': 12, 'Consumer Electronics': 13, 'Cameras ': 14, 'Computers': 15, 'Basketball': 16, 'Soccer': 17, \"Girls' Apparel\": 18, 'Accessories': 19, \"Women's Clothing\": 20, 'Crafts': 21, \"Men's Clothing\": 22, 'Tennis & Racquet': 23, 'Fitness Accessories': 24, 'As Seen on  TV!': 25, 'Golf Balls': 26, 'Strength Training': 27, \"Children's Clothing\": 28, 'Lacrosse': 29, 'Baby ': 30, 'Fishing': 31, 'Books ': 32, 'DVDs': 33, 'CDs ': 34, 'Garden': 35, 'Hockey': 36, 'Pet Supplies': 37, 'Health and Beauty': 38, 'Music': 39, 'Video Games': 40, 'Golf Gloves': 41, 'Golf Bags & Carts': 42, 'Golf Shoes': 43, 'Golf Apparel': 44, \"Women's Golf Clubs\": 45, \"Men's Golf Clubs\": 46, 'Toys': 47, 'Water Sports': 48, 'Indoor/Outdoor Games': 49})\n",
    "df['Category Name']"
   ]
  },
  {
   "cell_type": "markdown",
   "id": "13d264ca",
   "metadata": {},
   "source": [
    "### Customer City"
   ]
  },
  {
   "cell_type": "code",
   "execution_count": null,
   "id": "93636585",
   "metadata": {
    "scrolled": false
   },
   "outputs": [],
   "source": [
    "df[\"Customer City\"].unique()"
   ]
  },
  {
   "cell_type": "code",
   "execution_count": null,
   "id": "f62159b2",
   "metadata": {
    "scrolled": false
   },
   "outputs": [],
   "source": [
    "# encoded_customer_city = encoder.fit_transform(df['Customer City'])\n",
    "# df['Customer City'] = encoded_customer_city\n",
    "# df[['Customer City']]"
   ]
  },
  {
   "cell_type": "code",
   "execution_count": null,
   "id": "4681d832",
   "metadata": {
    "scrolled": true
   },
   "outputs": [],
   "source": [
    "Customer_City_list = df['Customer City'].unique()\n",
    "Customer_City_list\n",
    "Customer_City_value = {}\n",
    "for i in range(len(Customer_City_list)):\n",
    "    #print(i)\n",
    "    Customer_City_value.update({Customer_City_list[i]:i})\n",
    "    \n",
    "print(Customer_City_value)"
   ]
  },
  {
   "cell_type": "code",
   "execution_count": null,
   "id": "25bb3f46",
   "metadata": {},
   "outputs": [],
   "source": [
    "df['Customer City'] = df['Customer City'].replace({'Caguas': 0, 'San Jose': 1, 'Los Angeles': 2, 'Tonawanda': 3, 'Miami': 4, 'San Ramon': 5, 'Freeport': 6, 'Salinas': 7, 'Peabody': 8, 'Canovanas': 9, 'Paramount': 10, 'Mount Prospect': 11, 'Long Beach': 12, 'Rancho Cordova': 13, 'Billings': 14, 'Wilkes Barre': 15, 'Roseville': 16, 'Bellflower': 17, 'Wheaton': 18, 'Detroit': 19, 'Dallas': 20, 'Carlisle': 21, 'Newark': 22, 'Panorama City': 23, 'Atlanta': 24, 'Fremont': 25, 'Rochester': 26, 'Bayamon': 27, 'Guayama': 28, 'Juana Diaz': 29, 'Fort Washington': 30, 'Bakersfield': 31, 'Corona': 32, 'Cincinnati': 33, 'Germantown': 34, 'Carrollton': 35, 'Houston': 36, 'Ewa Beach': 37, 'Lakewood': 38, 'Rome': 39, 'Vista': 40, 'Fort Worth': 41, 'Fond Du Lac': 42, 'Philadelphia': 43, 'Ontario': 44, 'Oviedo': 45, 'Buffalo': 46, 'Honolulu': 47, 'Oceanside': 48, 'North Tonawanda': 49, 'Clovis': 50, 'Jamaica': 51, 'Granite City': 52, 'Medford': 53, 'Pomona': 54, 'Tempe': 55, 'Santa Ana': 56, 'York': 57, 'Aurora': 58, 'Simi Valley': 59, 'Silver Spring': 60, 'Saint Paul': 61, 'San Antonio': 62, 'Bronx': 63, 'Greenville': 64, 'Morristown': 65, 'San Diego': 66, 'Oxnard': 67, 'Albuquerque': 68, 'Amarillo': 69, 'Lutz': 70, 'Bend': 71, 'East Brunswick': 72, 'Lancaster': 73, 'Hampton': 74, 'New York': 75, 'Porterville': 76, 'Portland': 77, 'Strongsville': 78, 'El Paso': 79, 'Del Rio': 80, 'Bountiful': 81, 'Kent': 82, 'Chicago': 83, 'Plymouth': 84, 'Far Rockaway': 85, 'Garden Grove': 86, 'Placentia': 87, 'Mentor': 88, 'Santa Clara': 89, 'Union': 90, 'Westminster': 91, 'Pompano Beach': 92, 'Azusa': 93, 'Fort Lauderdale': 94, 'Princeton': 95, 'Perth Amboy': 96, 'Loveland': 97, 'Virginia Beach': 98, 'Louisville': 99, 'Lockport': 100, 'Staten Island': 101, 'Tucson': 102, 'Cleveland': 103, 'Webster': 104, 'Stockton': 105, 'Martinsburg': 106, 'Cumberland': 107, 'Pekin': 108, 'Tallahassee': 109, 'Jacksonville': 110, 'Woonsocket': 111, 'Lithonia': 112, 'Oak Lawn': 113, 'Alhambra': 114, 'New Haven': 115, 'Phoenix': 116, 'Kenner': 117, 'Washington': 118, 'Holland': 119, 'Morrisville': 120, 'Memphis': 121, 'Federal Way': 122, 'West Covina': 123, 'Ventura': 124, 'Valrico': 125, 'Kaneohe': 126, 'Brooklyn': 127, 'Lodi': 128, 'Murfreesboro': 129, 'Carlsbad': 130, 'Hamilton': 131, 'Hayward': 132, 'Bridgeton': 133, 'Bay Shore': 134, 'Palatine': 135, 'Smyrna': 136, 'Van Nuys': 137, 'Opa Locka': 138, 'Edison': 139, 'Baytown': 140, 'Sylmar': 141, 'Burnsville': 142, 'Huntington Station': 143, 'Sunnyvale': 144, 'Sugar Land': 145, 'Brighton': 146, 'Bismarck': 147, 'Gaithersburg': 148, 'Lilburn': 149, 'Provo': 150, 'Columbia': 151, 'Marietta': 152, 'Rio Grande': 153, 'Denver': 154, 'Taylor': 155, 'Saint Charles': 156, 'Cupertino': 157, 'Springfield': 158, 'Mission Viejo': 159, 'Roswell': 160, 'Ypsilanti': 161, 'Peoria': 162, 'Clementon': 163, 'Antioch': 164, 'Salt Lake City': 165, 'Granada Hills': 166, 'Hempstead': 167, 'Astoria': 168, 'Gilroy': 169, 'Lenoir': 170, 'Columbus': 171, 'Albany': 172, 'Humacao': 173, 'Lindenhurst': 174, 'Elyria': 175, 'Riverside': 176, 'Carson': 177, 'Mesa': 178, 'San Juan': 179, 'Vega Baja': 180, 'Mayaguez': 181, 'Arecibo': 182, 'San Sebastian': 183, 'Eugene': 184, 'Algonquin': 185, 'Indianapolis': 186, 'Buena Park': 187, 'Catonsville': 188, 'Jersey City': 189, 'Lombard': 190, 'New Bedford': 191, 'Newburgh': 192, 'Lansdale': 193, 'Baltimore': 194, 'Fullerton': 195, 'Sacramento': 196, 'Greensboro': 197, 'Roseburg': 198, 'Modesto': 199, 'Encinitas': 200, 'Watsonville': 201, 'Meridian': 202, 'Endicott': 203, 'Katy': 204, 'Visalia': 205, 'Lompoc': 206, 'Ogden': 207, 'Raleigh': 208, 'Hacienda Heights': 209, 'Union City': 210, 'Hollywood': 211, 'Bolingbrook': 212, 'West Lafayette': 213, 'Woodbridge': 214, 'Weslaco': 215, 'Bell Gardens': 216, 'La Mirada': 217, 'North Bergen': 218, 'Madison': 219, 'South San Francisco': 220, 'North Las Vegas': 221, 'Methuen': 222, 'Costa Mesa': 223, 'Glen Burnie': 224, 'Fairfield': 225, 'Winnetka': 226, 'Mcallen': 227, 'Joliet': 228, 'Brownsville': 229, 'Pawtucket': 230, 'Colorado Springs': 231, 'Quincy': 232, 'Pittsfield': 233, 'Chino': 234, 'Marion': 235, 'North Hills': 236, 'Salina': 237, 'Hyattsville': 238, 'North Richland Hills': 239, 'Spring Valley': 240, 'Lawrence': 241, 'Milpitas': 242, 'Rowland Heights': 243, 'Gardena': 244, 'Cicero': 245, 'Asheboro': 246, 'La Crosse': 247, 'Florissant': 248, 'Canyon Country': 249, 'Ithaca': 250, 'Allentown': 251, 'Escondido': 252, 'Martinez': 253, 'Troy': 254, 'Arlington': 255, 'Davis': 256, 'Chandler': 257, 'Elgin': 258, 'Palmdale': 259, 'Massapequa': 260, 'Pittsburg': 261, 'West New York': 262, 'Orlando': 263, 'Hanover': 264, 'Glendale': 265, 'Enfield': 266, 'Baldwin Park': 267, 'Chino Hills': 268, 'Toms River': 269, 'Wyandotte': 270, 'Mililani': 271, 'Harvey': 272, 'Mechanicsburg': 273, 'Opelousas': 274, 'Kailua': 275, 'Norfolk': 276, 'Elmhurst': 277, 'Chillicothe': 278, 'Canoga Park': 279, 'Jackson': 280, 'Moreno Valley': 281, 'New Orleans': 282, 'San Benito': 283, 'New Castle': 284, 'Bloomfield': 285, 'Cypress': 286, 'Marrero': 287, 'Grand Prairie': 288, 'Greeley': 289, 'Littleton': 290, 'Longmont': 291, 'Chesapeake': 292, 'Englewood': 293, 'Arlington Heights': 294, 'Tampa': 295, 'Irvington': 296, 'Forest Hills': 297, 'Dearborn': 298, 'Compton': 299, 'Garland': 300, 'Waipahu': 301, 'Carmichael': 302, 'Tustin': 303, 'Anaheim': 304, 'Canton': 305, 'Stafford': 306, 'South Richmond Hill': 307, 'Middletown': 308, 'West Orange': 309, 'Daly City': 310, 'Powder Springs': 311, 'Parkville': 312, 'Hialeah': 313, 'Beloit': 314, 'Aguadilla': 315, 'Carolina': 316, 'Yauco': 317, 'Saint Peters': 318, 'Augusta': 319, 'Chapel Hill': 320, 'East Lansing': 321, 'Stamford': 322, 'Diamond Bar': 323, 'Milwaukee': 324, 'Lawrenceville': 325, 'Manchester': 326, 'La Puente': 327, 'Victorville': 328, 'Richmond': 329, 'Eagle Pass': 330, 'Fontana': 331, 'Ballwin': 332, 'New Braunfels': 333, 'Las Vegas': 334, 'Goose Creek': 335, 'Pharr': 336, 'Yonkers': 337, 'El Monte': 338, 'Reynoldsburg': 339, 'Hamtramck': 340, 'Medina': 341, 'Highland': 342, 'Jonesboro': 343, 'Elk Grove': 344, 'Montebello': 345, 'San Francisco': 346, 'Glenview': 347, 'Rock Hill': 348, 'Austin': 349, 'Scottsdale': 350, 'Santa Cruz': 351, 'Oregon City': 352, 'Annandale': 353, 'Plano': 354, 'Piscataway': 355, 'El Cajon': 356, 'Hilliard': 357, 'Orange Park': 358, 'Decatur': 359, 'San Pablo': 360, 'Douglasville': 361, 'Henderson': 362, 'College Station': 363, 'Round Rock': 364, 'Mesquite': 365, 'Broken Arrow': 366, 'Redmond': 367, 'Findlay': 368, 'La Habra': 369, 'Laguna Hills': 370, 'San Bernardino': 371, 'Apex': 372, 'South El Monte': 373, 'Irving': 374, 'Blacksburg': 375, 'Dorchester Center': 376, 'Potomac': 377, 'Winter Park': 378, 'Stone Mountain': 379, 'Goleta': 380, 'Hagerstown': 381, 'Alameda': 382, 'Saint Louis': 383, 'Pico Rivera': 384, 'Chula Vista': 385, 'Hollister': 386, 'North Hollywood': 387, 'New Brunswick': 388, 'Beaverton': 389, 'Chicago Heights': 390, 'Hesperia': 391, 'Cary': 392, 'Sanford': 393, 'Laredo': 394, 'Westland': 395, 'Stockbridge': 396, 'Carol Stream': 397, 'Wichita': 398, 'Olathe': 399, 'Flushing': 400, 'Lynwood': 401, 'Revere': 402, 'Westerville': 403, 'Cordova': 404, 'Hanford': 405, 'Rialto': 406, 'Mchenry': 407, 'Mission': 408, 'Salem': 409, 'Duluth': 410, 'Danbury': 411, 'Frankfort': 412, 'Upland': 413, 'Rosemead': 414, 'Mount Pleasant': 415, 'Lake Forest': 416, 'West Chester': 417, 'Woodside': 418, 'Norcross': 419, 'Fresno': 420, 'Zanesville': 421, 'Painesville': 422, 'Lynnwood': 423, 'Massillon': 424, 'Crystal Lake': 425, 'Rego Park': 426, 'Ann Arbor': 427, 'Wyoming': 428, 'La Mesa': 429, 'Edinburg': 430, 'Howell': 431, 'Michigan City': 432, 'Sheboygan': 433, 'Moline': 434, 'Yuma': 435, 'Campbell': 436, 'Charlotte': 437, 'Oakland': 438, 'San Marcos': 439, 'Walnut': 440, 'Harlingen': 441, 'Rio Rancho': 442, 'Nashville': 443, 'Annapolis': 444, 'Laguna Niguel': 445, 'Santee': 446, 'West Jordan': 447, 'Hickory': 448, 'Manati': 449, 'Trujillo Alto': 450, 'Ponce': 451, 'Toa Alta': 452, 'Irwin': 453, 'South Ozone Park': 454, 'Ridgewood': 455, 'Bowling Green': 456, 'Richardson': 457, 'Sun Valley': 458, 'Huntington Beach': 459, 'Fargo': 460, 'Waukegan': 461, 'Highland Park': 462, 'Cerritos': 463, 'Lewisville': 464, 'Alpharetta': 465, 'New Albany': 466, 'Denton': 467, 'Temecula': 468, 'Tinley Park': 469, 'Dundalk': 470, 'Crown Point': 471, 'Lawton': 472, 'Fayetteville': 473, 'Milford': 474, 'Bartlett': 475, 'Reno': 476, 'Passaic': 477, 'Reseda': 478, 'Levittown': 479, 'Wayne': 480, 'Metairie': 481, 'Wheeling': 482, 'Hawthorne': 483, 'Napa': 484, 'Berwyn': 485, 'Fountain Valley': 486, 'Las Cruces': 487, 'Apopka': 488, 'Folsom': 489, 'El Centro': 490, 'Jackson Heights': 491, 'Pacoima': 492, 'Hendersonville': 493, 'Clearfield': 494, 'Seattle': 495, 'Saginaw': 496, 'Conway': 497, 'Sandusky': 498, 'San Pedro': 499, 'Grove City': 500, 'Knoxville': 501, 'Huntington Park': 502, 'Greensburg': 503, 'Poway': 504, 'O Fallon': 505, 'Chambersburg': 506, 'Normal': 507, 'Lynn': 508, 'Bensalem': 509, 'Bristol': 510, 'Williamsport': 511, 'Longview': 512, 'Norwalk': 513, 'Bayonne': 514, 'Tulare': 515, 'National City': 516, 'Dayton': 517, 'Tracy': 518, 'Summerville': 519, 'Merced': 520, 'Brockton': 521, 'Vallejo': 522, 'West Haven': 523, 'Pasadena': 524, 'South Gate': 525, 'Warren': 526, 'Clarksville': 527, 'Muskegon': 528, 'Brandon': 529, 'Rancho Cucamonga': 530, 'Santa Maria': 531, 'Doylestown': 532, 'Colton': 533, 'Indio': 534, 'Plainfield': 535, 'Bellingham': 536, 'Spring': 537, 'Livermore': 538, 'Santa Fe': 539, 'Palo Alto': 540, 'Henrico': 541, 'Des Plaines': 542, 'Birmingham': 543, 'Broomfield': 544, 'Guaynabo': 545, 'Cayey': 546, 'Citrus Heights': 547, 'Spokane': 548, 'Dubuque': 549, 'Madera': 550, 'Everett': 551, 'Brentwood': 552, 'Morganton': 553, 'Vacaville': 554, 'Malden': 555, 'Gwynn Oak': 556, 'Toa Baja': 557, 'Taunton': 558, 'Freehold': 559, 'Sumner': 560, 'Wilmington': 561, 'CA': 562})\n",
    "df['Customer City']"
   ]
  },
  {
   "cell_type": "markdown",
   "id": "6d986d86",
   "metadata": {},
   "source": [
    "### Customer Country"
   ]
  },
  {
   "cell_type": "code",
   "execution_count": null,
   "id": "e2720c8e",
   "metadata": {
    "scrolled": true
   },
   "outputs": [],
   "source": [
    "df[\"Customer Country\"].unique()"
   ]
  },
  {
   "cell_type": "code",
   "execution_count": null,
   "id": "39c58f0a",
   "metadata": {},
   "outputs": [],
   "source": [
    "df[\"Customer Country\"].replace({'Puerto Rico':0, 'EE. UU.':1}, inplace=True)"
   ]
  },
  {
   "cell_type": "code",
   "execution_count": null,
   "id": "6906d476",
   "metadata": {
    "scrolled": true
   },
   "outputs": [],
   "source": [
    "Customer_Country_value = {'Puerto Rico':0, 'EE. UU.':1}\n",
    "Customer_Country_value"
   ]
  },
  {
   "cell_type": "markdown",
   "id": "a7568dec",
   "metadata": {},
   "source": [
    "### Customer Fname"
   ]
  },
  {
   "cell_type": "code",
   "execution_count": null,
   "id": "b44d70eb",
   "metadata": {
    "scrolled": true
   },
   "outputs": [],
   "source": [
    "df[\"Customer Fname\"].unique()"
   ]
  },
  {
   "cell_type": "code",
   "execution_count": null,
   "id": "2eba2b6e",
   "metadata": {
    "scrolled": false
   },
   "outputs": [],
   "source": [
    "# encoded_customer_fname = encoder.fit_transform(df['Customer Fname'])\n",
    "# df['Customer Fname'] = encoded_customer_fname\n",
    "# df[['Customer Fname']]"
   ]
  },
  {
   "cell_type": "code",
   "execution_count": null,
   "id": "67b367ea",
   "metadata": {
    "scrolled": true
   },
   "outputs": [],
   "source": [
    "Customer_Fname_list = df['Customer Fname'].unique()\n",
    "Customer_Fname_list\n",
    "Customer_Fname_value = {}\n",
    "for i in range(len(Customer_Fname_list)):\n",
    "    #print(i)\n",
    "    Customer_Fname_value.update({Customer_Fname_list[i]:i})\n",
    "    \n",
    "print(Customer_Fname_value)"
   ]
  },
  {
   "cell_type": "code",
   "execution_count": null,
   "id": "c410406c",
   "metadata": {},
   "outputs": [],
   "source": [
    "df['Customer Fname'] = df['Customer Fname'].replace({'Cally': 0, 'Irene': 1, 'Gillian': 2, 'Tana': 3, 'Orli': 4, 'Kimberly': 5, 'Constance': 6, 'Erica': 7, 'Nichole': 8, 'Oprah': 9, 'Germane': 10, 'Freya': 11, 'Cassandra': 12, 'Natalie': 13, 'Kimberley': 14, 'Sade': 15, 'Brynne': 16, 'Ciara': 17, 'Bo': 18, 'Kim': 19, 'Kellie': 20, 'Alma': 21, 'Yeo': 22, 'Lucy': 23, 'Simone': 24, 'Roary': 25, 'Quail': 26, 'Hannah': 27, 'Evelyn': 28, 'Jael': 29, 'Teagan': 30, 'Joan': 31, 'Basia': 32, 'Dominique': 33, 'Ainsley': 34, 'Aurora': 35, 'Libby': 36, 'Amy': 37, 'Ivory': 38, 'Karina': 39, 'Deanna': 40, 'Dacey': 41, 'Adele': 42, 'Sybill': 43, 'Kay': 44, 'Stacy': 45, 'Marah': 46, 'Taylor': 47, 'Mary': 48, 'Elizabeth': 49, 'Katherine': 50, 'Dennis': 51, 'Frances': 52, 'Alice': 53, 'Kyle': 54, 'Brenda': 55, 'Frank': 56, 'Johnny': 57, 'Austin': 58, 'Michael': 59, 'Vincent': 60, 'Gregory': 61, 'Lisa': 62, 'Megan': 63, 'Grace': 64, 'Douglas': 65, 'Wayne': 66, 'Ronald': 67, 'Tammy': 68, 'Christina': 69, 'Alexander': 70, 'Sandra': 71, 'Ruth': 72, 'Lauren': 73, 'Melissa': 74, 'Maria': 75, 'Eugene': 76, 'James': 77, 'John': 78, 'Roy': 79, 'Janet': 80, 'Nicole': 81, 'Sharon': 82, 'Matthew': 83, 'Anthony': 84, 'Jerry': 85, 'Laura': 86, 'Jack': 87, 'Kirestin': 88, 'Nora': 89, 'Jennifer': 90, 'Madonna': 91, 'Noelani': 92, 'Sydnee': 93, 'Willa': 94, 'Ila': 95, 'Belle': 96, 'Alyssa': 97, 'Lani': 98, 'Demetria': 99, 'Gay': 100, 'Audrey': 101, 'Riley': 102, 'Imani': 103, 'Mechelle': 104, 'Whitney': 105, 'Roanna': 106, 'Vivian': 107, 'Xantha': 108, 'Zia': 109, 'Mara': 110, 'Sloane': 111, 'Winifred': 112, 'Giselle': 113, 'Nancy': 114, 'David': 115, 'Patricia': 116, 'Julie': 117, 'Tyler': 118, 'Karen': 119, 'Shawn': 120, 'Willie': 121, 'Bruce': 122, 'Mark': 123, 'Paul': 124, 'Walter': 125, 'Joyce': 126, 'Daniel': 127, 'Pamela': 128, 'Betty': 129, 'Christian': 130, 'Tiffany': 131, 'Stephen': 132, 'George': 133, 'Samuel': 134, 'Larry': 135, 'Peter': 136, 'Diana': 137, 'Theresa': 138, 'Cynthia': 139, 'Sean': 140, 'Jonathan': 141, 'Christopher': 142, 'Donald': 143, 'Rana': 144, 'William': 145, 'Rachel': 146, 'Dorothy': 147, 'Robert': 148, 'Andrea': 149, 'Martha': 150, 'Carolyn': 151, 'Lynn': 152, 'Julia': 153, 'Patience': 154, 'Cheryl': 155, 'Timothy': 156, 'Aimee': 157, 'Virginia': 158, 'Jessica': 159, 'Margaret': 160, 'Richard': 161, 'Deborah': 162, 'Emma': 163, 'Adam': 164, 'Sarah': 165, 'Edward': 166, 'Harry': 167, 'Charles': 168, 'Debra': 169, 'Doris': 170, 'Benjamin': 171, 'Stephanie': 172, 'Nicholas': 173, 'Joseph': 174, 'Diane': 175, 'Andrew': 176, 'Roger': 177, 'Danielle': 178, 'Patrick': 179, 'Brandon': 180, 'Jacqueline': 181, 'Kathy': 182, 'Rebecca': 183, 'Jeremy': 184, 'Amanda': 185, 'Felicia': 186, 'Wanda': 187, 'Hayfa': 188, 'Lavinia': 189, 'Yetta': 190, 'Cleo': 191, 'Wynter': 192, 'Hyacinth': 193, 'Xerxes': 194, 'Noel': 195, 'Maryam': 196, 'Naida': 197, 'Lana': 198, 'Rylee': 199, 'Dakota': 200, 'Fallon': 201, 'Kylynn': 202, 'Inez': 203, 'Miriam': 204, 'Chloe': 205, 'Beverly': 206, 'Madeline': 207, 'Yoshi': 208, 'Hadley': 209, 'Renee': 210, 'Iola': 211, 'Tamekah': 212, 'Cherokee': 213, 'Odessa': 214, 'Rose': 215, 'Linda': 216, 'May': 217, 'Lilah': 218, 'Emi': 219, 'Myra': 220, 'Medge': 221, 'Beatrice': 222, 'Ria': 223, 'Charity': 224, 'Nell': 225, 'Tamara': 226, 'Phyllis': 227, 'Nelle': 228, 'Blossom': 229, 'Breanna': 230, 'Katelyn': 231, 'Karly': 232, 'Olga': 233, 'Brenna': 234, 'Tatyana': 235, 'Ifeoma': 236, 'Kitra': 237, 'Summer': 238, 'Sopoline': 239, 'Eliana': 240, 'Denise': 241, 'Hermione': 242, 'Lara': 243, 'Hedy': 244, 'Violet': 245, 'Clare': 246, 'Rhonda': 247, 'Morgan': 248, 'Illiana': 249, 'Amity': 250, 'Jayme': 251, 'Geraldine': 252, 'Anika': 253, 'Dana': 254, 'Sybil': 255, 'Genevieve': 256, 'Tara': 257, 'Ella': 258, 'Heather': 259, 'Brittany': 260, 'Lori': 261, 'Billy': 262, 'Terry': 263, 'Lawrence': 264, 'Aaron': 265, 'Madison': 266, 'Jane': 267, 'Jordan': 268, 'Kevin': 269, 'Octavia': 270, 'Emily': 271, 'Kelsie': 272, 'Marie': 273, 'Judy': 274, 'Kenneth': 275, 'Jaime': 276, 'Justin': 277, 'Harold': 278, 'Ryan': 279, 'Kelly': 280, 'Carl': 281, 'Teresa': 282, 'Nathan': 283, 'Jason': 284, 'Steven': 285, 'Judith': 286, 'Sara': 287, 'Marilyn': 288, 'Kathryn': 289, 'Ralph': 290, 'Amber': 291, 'Donna': 292, 'Scott': 293, 'Thomas': 294, 'Catherine': 295, 'Barbara': 296, 'Joshua': 297, 'Susan': 298, 'Zachary': 299, 'Janice': 300, 'Crystal': 301, 'Michelle': 302, 'Henry': 303, 'Anna': 304, 'Ann': 305, 'Jesse': 306, 'Raymond': 307, 'Audra': 308, 'Cora': 309, 'Hillary': 310, 'Bryan': 311, 'Gloria': 312, 'Louis': 313, 'Shirley': 314, 'Martina': 315, 'Delilah': 316, 'Jacob': 317, 'Brian': 318, 'Victoria': 319, 'Jeffrey': 320, 'Helen': 321, 'Gary': 322, 'Ethan': 323, 'Philip': 324, 'Christine': 325, 'Ashley': 326, 'Jean': 327, 'Eric': 328, 'Hope': 329, 'Unity': 330, 'Blythe': 331, 'Cara': 332, 'Jorden': 333, 'Heidi': 334, 'Lenore': 335, 'Aiko': 336, 'Kylie': 337, 'Moana': 338, 'Imelda': 339, 'Mariam': 340, 'Rae': 341, 'Jamalia': 342, 'Reagan': 343, 'Amena': 344, 'Mercedes': 345, 'Brianna': 346, 'Xyla': 347, 'Daria': 348, 'Yvette': 349, 'Ina': 350, 'Fay': 351, 'Destiny': 352, 'Petra': 353, 'Farrah': 354, 'Clio': 355, 'Leigh': 356, 'Tallulah': 357, 'Pearl': 358, 'Maya': 359, 'Kiayada': 360, 'Shannon': 361, 'Nayda': 362, 'Charissa': 363, 'Fatima': 364, 'Shelley': 365, 'Yoko': 366, 'Olympia': 367, 'Raya': 368, 'Quyn': 369, 'Hilary': 370, 'Karyn': 371, 'Germaine': 372, 'Maile': 373, 'Vivien': 374, 'Raven': 375, 'Charlotte': 376, 'Zelda': 377, 'Isabella': 378, 'Carla': 379, 'Aspen': 380, 'Janna': 381, 'Xena': 382, 'Ocean': 383, 'Hedwig': 384, 'Alea': 385, 'Aileen': 386, 'Cameron': 387, 'Cailin': 388, 'Jeanette': 389, 'Suki': 390, 'Maxine': 391, 'Sophia': 392, 'Skyler': 393, 'Yvonne': 394, 'Penelope': 395, 'Tatum': 396, 'Sylvia': 397, 'Amela': 398, 'Keiko': 399, 'Shana': 400, 'Whoopi': 401, 'Mira': 402, 'Jaden': 403, 'Pascale': 404, 'Maris': 405, 'Cassady': 406, 'Quynn': 407, 'Sage': 408, 'Calista': 409, 'Sacha': 410, 'Daryl': 411, 'Aphrodite': 412, 'Olivia': 413, 'Mallory': 414, 'Veronica': 415, 'Yuri': 416, 'Joelle': 417, 'Hiroko': 418, 'Kameko': 419, 'Hollee': 420, 'Eden': 421, 'Lydia': 422, 'Azalia': 423, 'Alika': 424, 'Dahlia': 425, 'Jenette': 426, 'Paloma': 427, 'Xandra': 428, 'Mariko': 429, 'Darryl': 430, 'Fiona': 431, 'Zephr': 432, 'Uta': 433, 'Wendy': 434, 'Sierra': 435, 'Kelsey': 436, 'Alexis': 437, 'September': 438, 'McKenzie': 439, 'Eleanor': 440, 'Chastity': 441, 'Cheyenne': 442, 'Hanna': 443, 'Mona': 444, 'Mari': 445, 'Robin': 446, 'Samantha': 447, 'Gerald': 448, 'Kyla': 449, 'Xaviera': 450, 'Macy': 451, 'Briar': 452, 'Athena': 453, 'Desirae': 454, 'Maia': 455, 'Carol': 456, 'Angela': 457, 'Carissa': 458, 'Zena': 459, 'Phillip': 460, 'Bobby': 461, 'Blair': 462, 'Melodie': 463, 'Keith': 464, 'India': 465, 'Nadine': 466, 'Miranda': 467, 'Piper': 468, 'Charde': 469, 'Russell': 470, 'Isabelle': 471, 'Mildred': 472, 'Dylan': 473, 'Albert': 474, 'Arthur': 475, 'Kathleen': 476, 'Juan': 477, 'Cathleen': 478, 'Jose': 479, 'Holly': 480, 'Zenaida': 481, 'Ramona': 482, 'Zorita': 483, 'Jocelyn': 484, 'Alan': 485, 'Mia': 486, 'Justina': 487, 'Rosalyn': 488, 'Rinah': 489, 'Remedios': 490, 'Shay': 491, 'Aubrey': 492, 'Neve': 493, 'Lacy': 494, 'Leilani': 495, 'Shelby': 496, 'Stella': 497, 'Camille': 498, 'Carly': 499, 'Teegan': 500, 'Lareina': 501, 'Kirby': 502, 'Kevyn': 503, 'Gisela': 504, 'Randy': 505, 'Willow': 506, 'Jolie': 507, 'Jade': 508, 'Gwendolyn': 509, 'Lee': 510, 'Celeste': 511, 'Noelle': 512, 'Brynn': 513, 'Desiree': 514, 'Christen': 515, 'Gemma': 516, 'Kendall': 517, 'Bethany': 518, 'Callie': 519, 'Ayanna': 520, 'Zoe': 521, 'Brooke': 522, 'Bree': 523, 'Adrienne': 524, 'Nomlanga': 525, 'Sig': 526, 'Stela': 527, 'Ulla': 528, 'Lesley': 529, 'TaShya': 530, 'Illana': 531, 'Courtney': 532, 'Larissa': 533, 'Juliet': 534, 'Melyssa': 535, 'Latifah': 536, 'Angelica': 537, 'Eve': 538, 'Melanie': 539, 'Montana': 540, 'Nevada': 541, 'Abigail': 542, 'Ivy': 543, 'Lacota': 544, 'Stacey': 545, 'Meghan': 546, 'Joe': 547, 'Howard': 548, 'Winter': 549, 'Jolene': 550, 'Ursa': 551, 'Camilla': 552, 'Iris': 553, 'Bell': 554, 'Chanda': 555, 'Rhiannon': 556, 'Candice': 557, 'Regan': 558, 'Avye': 559, 'Whilemina': 560, 'Lisandra': 561, 'Guinevere': 562, 'Ivana': 563, 'Velma': 564, 'Rhea': 565, 'Dora': 566, 'Lael': 567, 'Echo': 568, 'Kyra': 569, 'Rhoda': 570, 'Jana': 571, 'Minerva': 572, 'Jenna': 573, 'Inga': 574, 'Quemby': 575, 'Abra': 576, 'Quincy': 577, 'Maisie': 578, 'Leila': 579, 'Rossy': 580, 'Charly': 581, 'Iona': 582, 'Ignacia': 583, 'Marcia': 584, 'Florence': 585, 'Ariel': 586, 'Yen': 587, 'Rowan': 588, 'Halee': 589, 'Nita': 590, 'Signe': 591, 'Kessie': 592, 'Maggy': 593, 'Aretha': 594, 'Dawn': 595, 'Elaine': 596, 'Meredith': 597, 'Josephine': 598, 'Maite': 599, 'Anjolie': 600, 'Melinda': 601, 'Kirsten': 602, 'Chelsea': 603, 'Lois': 604, 'Britanney': 605, 'Jillian': 606, 'Shoshana': 607, 'Bertha': 608, 'Katell': 609, 'Isadora': 610, 'Serina': 611, 'Scarlett': 612, 'Selma': 613, 'Eugenia': 614, 'Alexa': 615, 'Quintessa': 616, 'Shellie': 617, 'Maggie': 618, 'Caryn': 619, 'Evangeline': 620, 'Darrel': 621, 'Idola': 622, 'Vielka': 623, 'Clementine': 624, 'Jescie': 625, 'Sydney': 626, 'Quin': 627, 'Fredericka': 628, 'Chantale': 629, 'Buffy': 630, 'Yael': 631, 'Kai': 632, 'Galena': 633, 'Haviva': 634, 'Halla': 635, 'April': 636, 'Alfreda': 637, 'Paula': 638, 'Gail': 639, 'Zenia': 640, 'Jessamine': 641, 'Mikayla': 642, 'Irma': 643, 'Ingrid': 644, 'Chava': 645, 'Laurel': 646, 'Chiquita': 647, 'Marny': 648, 'Faith': 649, 'Amelia': 650, 'Tashya': 651, 'Tatiana': 652, 'Wynne': 653, 'Karleigh': 654, 'Phoebe': 655, 'Rebekah': 656, 'Regina': 657, 'Robina': 658, 'Yolanda': 659, 'Glenna': 660, 'Nyssa': 661, 'Kaitlin': 662, 'Vera': 663, 'Sheila': 664, 'Bryar': 665, 'Ima': 666, 'Haley': 667, 'Kamy': 668, 'Emerald': 669, 'Portia': 670, 'Adara': 671, 'Nerea': 672, 'Harriet': 673, 'Shea': 674, 'Jemima': 675, 'Lacey': 676, 'Ora': 677, 'Odette': 678, 'Kaye': 679, 'Joanha': 680, 'Leandra': 681, 'Indira': 682, 'Lunea': 683, 'Keelie': 684, 'Astra': 685, 'Claire': 686, 'Jaquelyn': 687, 'Sonia': 688, 'Kalia': 689, 'Liberty': 690, 'Anastasia': 691, 'Kiara': 692, 'Ursula': 693, 'Karla': 694, 'Venus': 695, 'Shaine': 696, 'Kerry': 697, 'Susy': 698, 'Rina': 699, 'Ginger': 700, 'Mike': 701, 'Claudia': 702, 'Pandora': 703, 'Veda': 704, 'Jena': 705, 'Lillian': 706, 'Deirdre': 707, 'Indigo': 708, 'Lila': 709, 'Hanae': 710, 'Adena': 711, 'Sonya': 712, 'Anne': 713, 'Oliver': 714, 'Imogene': 715, 'Alexandra': 716, 'Ori': 717, 'Cecilia': 718, 'Lillith': 719, 'Rama': 720, 'Francesca': 721, 'Hadassah': 722, 'Nola': 723, 'Idona': 724, 'Allegra': 725, 'Shafira': 726, 'Shaeleigh': 727, 'Deme': 728, 'Blaine': 729, 'Gretchen': 730, 'Madeson': 731, 'Molly': 732, 'Martena': 733, 'Hedda': 734, 'Heidy': 735, 'Filipe': 736, 'Deysi': 737, 'Brie': 738, 'Alisa': 739, 'Contreras': 740, 'Quon': 741, 'Tasha': 742, 'Lynna': 743, 'Lysandra': 744, 'Priscilla': 745, 'Britanni': 746, 'Lina': 747, 'Autumn': 748, 'Risa': 749, 'Cami': 750, 'Ana': 751, 'Leslie': 752, 'Nadin': 753, 'Naomi': 754, 'Ray': 755, 'Larisa': 756, 'Rebeca': 757, 'Jordana': 758, 'Blanca': 759, 'Sybi': 760, 'Mollie': 761, 'BlueOneal': 762, 'Flora': 763, 'Ariana': 764, 'Anita': 765, 'York': 766, 'Mally': 767, 'Rosa': 768, 'Caro': 769, 'Farley': 770, 'Jenny': 771, 'Danna': 772, 'Fiora': 773, 'Jay': 774, 'Asley': 775, 'Clau': 776, 'Le': 777, 'Huff': 778, 'Beatty': 779, 'Paola': 780, 'Brees': 781})"
   ]
  },
  {
   "cell_type": "markdown",
   "id": "fcd60436",
   "metadata": {},
   "source": [
    "### 14 Customer Id"
   ]
  },
  {
   "cell_type": "code",
   "execution_count": null,
   "id": "a33f1482",
   "metadata": {},
   "outputs": [],
   "source": [
    "q1 = df['Customer Id'].quantile(0.25)\n",
    "q2 = df['Customer Id'].quantile(0.50)\n",
    "q3 = df['Customer Id'].quantile(0.75)\n",
    "\n",
    "iqr =  q3 - q1\n",
    "\n",
    "upper_tail = q3 + 1.5 * iqr\n",
    "lower_tail = q1 - 1.5 * iqr\n",
    "\n",
    "print(\"Q1 :\",q1)\n",
    "print(\"Q2 :\",q2)\n",
    "print(\"Q3 :\",q3)\n",
    "\n",
    "print(\"upper_tail ---->\",upper_tail)\n",
    "print(\"lower_tail ----->\",lower_tail)\n",
    "print(\"Median --->\",df['Customer Id'].median())\n",
    "print(\"Mean --->\",df['Customer Id'].mean())"
   ]
  },
  {
   "cell_type": "code",
   "execution_count": null,
   "id": "eb800432",
   "metadata": {},
   "outputs": [],
   "source": [
    "df['Customer Id'].loc[df['Customer Id'] > upper_tail]"
   ]
  },
  {
   "cell_type": "code",
   "execution_count": null,
   "id": "4708420b",
   "metadata": {},
   "outputs": [],
   "source": [
    "df['Customer Id'].loc[df['Customer Id'] > upper_tail] = upper_tail"
   ]
  },
  {
   "cell_type": "code",
   "execution_count": null,
   "id": "2f5fe4a6",
   "metadata": {},
   "outputs": [],
   "source": [
    "df['Customer Id'].loc[df['Customer Id'] > upper_tail]"
   ]
  },
  {
   "cell_type": "code",
   "execution_count": null,
   "id": "1dd19a46",
   "metadata": {},
   "outputs": [],
   "source": [
    "df[['Customer Id']].boxplot()"
   ]
  },
  {
   "cell_type": "markdown",
   "id": "2696f023",
   "metadata": {},
   "source": [
    "### 15 Customer Lname"
   ]
  },
  {
   "cell_type": "code",
   "execution_count": null,
   "id": "da10a9da",
   "metadata": {},
   "outputs": [],
   "source": [
    "df['Customer Lname'].isna().sum()"
   ]
  },
  {
   "cell_type": "code",
   "execution_count": null,
   "id": "acb04d20",
   "metadata": {},
   "outputs": [],
   "source": [
    "df['Customer Lname'].mode()[0]"
   ]
  },
  {
   "cell_type": "code",
   "execution_count": null,
   "id": "45cd12aa",
   "metadata": {},
   "outputs": [],
   "source": [
    "df['Customer Lname'].fillna(df['Customer Lname'].mode()[0],inplace = True)"
   ]
  },
  {
   "cell_type": "code",
   "execution_count": null,
   "id": "d22b08fa",
   "metadata": {},
   "outputs": [],
   "source": [
    "df['Customer Lname'].isna().sum()"
   ]
  },
  {
   "cell_type": "code",
   "execution_count": null,
   "id": "c4e19a07",
   "metadata": {
    "scrolled": false
   },
   "outputs": [],
   "source": [
    "# encoded_customer_lname = encoder.fit_transform(df['Customer Lname'])\n",
    "# df['Customer Lname'] = encoded_customer_lname\n",
    "# df[['Customer Lname']]"
   ]
  },
  {
   "cell_type": "code",
   "execution_count": null,
   "id": "2a8dffb2",
   "metadata": {
    "scrolled": true
   },
   "outputs": [],
   "source": [
    "Customer_Lname_list = df['Customer Lname'].unique()\n",
    "Customer_Lname_list\n",
    "Customer_Lname_value = {}\n",
    "for i in range(len(Customer_Fname_list)):\n",
    "    #print(i)\n",
    "    Customer_Lname_value.update({Customer_Lname_list[i]:i})\n",
    "    \n",
    "print(Customer_Lname_value)"
   ]
  },
  {
   "cell_type": "code",
   "execution_count": null,
   "id": "775796be",
   "metadata": {},
   "outputs": [],
   "source": [
    "df['Customer Lname'] = df['Customer Lname'].replace({'Holloway': 0, 'Luna': 1, 'Maldonado': 2, 'Tate': 3, 'Hendricks': 4, 'Flowers': 5, 'Terrell': 6, 'Stevens': 7, 'Olsen': 8, 'Delacruz': 9, 'Short': 10, 'Robbins': 11, 'Jensen': 12, 'Mcfadden': 13, 'Sharpe': 14, 'Lancaster': 15, 'Giles': 16, 'Bird': 17, 'Griffin': 18, 'Simon': 19, 'Farmer': 20, 'Conley': 21, 'Mcknight': 22, 'Vance': 23, 'Wheeler': 24, 'Ashley': 25, 'Velez': 26, 'Kelly': 27, 'Mcfarland': 28, 'Romero': 29, 'Wilder': 30, 'Watts': 31, 'Rogers': 32, 'Mathis': 33, 'Sharp': 34, 'Bray': 35, 'Lindsay': 36, 'Parks': 37, 'Prince': 38, 'Goff': 39, 'Walters': 40, 'Pennington': 41, 'Spencer': 42, 'Sandoval': 43, 'Mckinney': 44, 'Lara': 45, 'Wood': 46, 'Frank': 47, 'Smith': 48, 'Pittman': 49, 'Tyler': 50, 'Hill': 51, 'Thomas': 52, 'Jordan': 53, 'Livingston': 54, 'Nelson': 55, 'Sexton': 56, 'Scott': 57, 'Olson': 58, 'Krueger': 59, 'Rodriguez': 60, 'Todd': 61, 'Sanchez': 62, 'Meyer': 63, 'Vega': 64, 'Hodges': 65, 'Mccormick': 66, 'Blackwell': 67, 'Rios': 68, 'Harvey': 69, 'Farrell': 70, 'Harris': 71, 'Coleman': 72, 'Hayes': 73, 'Day': 74, 'Dawson': 75, 'Phillips': 76, 'Mack': 77, 'Evans': 78, 'Lawson': 79, 'Stokes': 80, 'Flores': 81, 'Austin': 82, 'Oconnell': 83, 'Carlson': 84, 'Navarro': 85, 'Bush': 86, 'Young': 87, 'Freeman': 88, 'Bennett': 89, 'Sanders': 90, 'Black': 91, 'Hatfield': 92, 'Barr': 93, 'Downs': 94, 'Ingram': 95, 'Hyde': 96, 'Nolan': 97, 'Potter': 98, 'Delgado': 99, 'Knight': 100, 'Booker': 101, 'Contreras': 102, 'Nash': 103, 'Jarvis': 104, 'Nixon': 105, 'Harper': 106, 'Acosta': 107, 'Jones': 108, 'Parker': 109, 'Castaneda': 110, 'Henderson': 111, 'Martin': 112, 'Hays': 113, 'Brock': 114, 'Davis': 115, 'Duffy': 116, 'Long': 117, 'Alexander': 118, 'Buckley': 119, 'Curry': 120, 'Crawford': 121, 'Guerra': 122, 'Padilla': 123, 'Petersen': 124, 'Silva': 125, 'Chan': 126, 'Brooks': 127, 'Williams': 128, 'Ramirez': 129, 'Patton': 130, 'Chavez': 131, 'Lynn': 132, 'Michael': 133, 'Ortega': 134, 'Grimes': 135, 'Summers': 136, 'Caldwell': 137, 'Garcia': 138, 'Lee': 139, 'Middleton': 140, 'King': 141, 'Richards': 142, 'Castillo': 143, 'Camacho': 144, 'Leach': 145, 'Pearson': 146, 'Chung': 147, 'Richmond': 148, 'Price': 149, 'Moreno': 150, 'Cochran': 151, 'Frye': 152, 'Gilmore': 153, 'Webster': 154, 'Johnson': 155, 'Pierce': 156, 'Riddle': 157, 'Golden': 158, 'Lawrence': 159, 'Shea': 160, 'Gilbert': 161, 'Sweeney': 162, 'Robinson': 163, 'Ward': 164, 'Koch': 165, 'Collins': 166, 'Curtis': 167, 'Moses': 168, 'Ramos': 169, 'Yoder': 170, 'Chapman': 171, 'Rose': 172, 'Lang': 173, 'Anthony': 174, 'Russell': 175, 'Carey': 176, 'Reynolds': 177, 'Decker': 178, 'Butler': 179, 'Case': 180, 'Murray': 181, 'Matthews': 182, 'Roach': 183, 'Whitehead': 184, 'Burns': 185, 'Palmer': 186, 'Mullins': 187, 'Browning': 188, 'Kim': 189, 'Rivera': 190, 'Pope': 191, 'Wilson': 192, 'Walker': 193, 'Stout': 194, 'Morrow': 195, 'Carter': 196, 'Rodgers': 197, 'Murphy': 198, 'Brown': 199, 'James': 200, 'Wu': 201, 'Weaver': 202, 'Hunter': 203, 'Foster': 204, 'Huffman': 205, 'Reid': 206, 'Holmes': 207, 'Marquez': 208, 'Dorsey': 209, 'Mann': 210, 'Erickson': 211, 'Williamson': 212, 'Gallegos': 213, 'Clark': 214, 'Sanford': 215, 'Boyle': 216, 'Houston': 217, 'Mcneil': 218, 'Woodward': 219, 'Dunn': 220, 'Gay': 221, 'Mayo': 222, 'Grant': 223, 'Small': 224, 'Green': 225, 'Garrett': 226, 'Donovan': 227, 'Zimmerman': 228, 'Fleming': 229, 'Davenport': 230, 'Rush': 231, 'Pickett': 232, 'Fisher': 233, 'Wooten': 234, 'Shelton': 235, 'Morales': 236, 'Blair': 237, 'Cherry': 238, 'Haley': 239, 'Kennedy': 240, 'Franklin': 241, 'Mitchell': 242, 'Albert': 243, 'Manning': 244, 'Nichols': 245, 'Holt': 246, 'Garrison': 247, 'Larson': 248, 'Higgins': 249, 'Shaffer': 250, 'Daugherty': 251, 'Morrison': 252, 'Key': 253, 'Porter': 254, 'Stein': 255, 'Wyatt': 256, 'Tyson': 257, 'Howard': 258, 'Hester': 259, 'Hood': 260, 'Suarez': 261, 'Santos': 262, 'Melton': 263, 'Aguilar': 264, 'Jenkins': 265, 'Marsh': 266, 'Bruce': 267, 'Jimenez': 268, 'Mcpherson': 269, 'Hickman': 270, 'Weber': 271, 'Hoffman': 272, 'Noel': 273, 'Joyce': 274, 'Gordon': 275, 'Armstrong': 276, 'Barlow': 277, 'Huff': 278, 'Mcmahon': 279, 'Glass': 280, 'Fowler': 281, 'Rocha': 282, 'Gardner': 283, 'Perez': 284, 'West': 285, 'Macdonald': 286, 'Saunders': 287, 'Fuller': 288, 'Anderson': 289, 'Trujillo': 290, 'Mclaughlin': 291, 'Blackburn': 292, 'Bowman': 293, 'Garza': 294, 'Cruz': 295, 'Montoya': 296, 'Simmons': 297, 'Morgan': 298, 'Hughes': 299, 'Carroll': 300, 'Deleon': 301, 'Bryan': 302, 'Tanner': 303, 'Medina': 304, 'Myers': 305, 'French': 306, 'Frazier': 307, 'Jacobs': 308, 'Webb': 309, 'Martinez': 310, 'Pena': 311, 'Horton': 312, 'Coffey': 313, 'Stone': 314, 'Calderon': 315, 'Levy': 316, 'Clay': 317, 'Warren': 318, 'Chang': 319, 'Hammond': 320, 'Mahoney': 321, 'Maddox': 322, 'Haas': 323, 'Johnston': 324, 'Miller': 325, 'Osborne': 326, 'Mejia': 327, 'Soto': 328, 'Singh': 329, 'Peters': 330, 'Nielsen': 331, 'Sims': 332, 'Colon': 333, 'Bates': 334, 'Mccoy': 335, 'Lopez': 336, 'Pham': 337, 'Mcgrath': 338, 'Mcdonald': 339, 'Juarez': 340, 'Copeland': 341, 'Berg': 342, 'Wolf': 343, 'Riley': 344, 'Benjamin': 345, 'Vincent': 346, 'Beard': 347, 'Warner': 348, 'Brady': 349, 'Moore': 350, 'Jennings': 351, 'Campos': 352, 'Pugh': 353, 'Taylor': 354, 'Villa': 355, 'Gallagher': 356, 'Goodwin': 357, 'Douglas': 358, 'Blake': 359, 'Roy': 360, 'Hurst': 361, 'Townsend': 362, 'Shah': 363, 'Strong': 364, 'Wallace': 365, 'Adams': 366, 'Atkinson': 367, 'Meadows': 368, 'Sampson': 369, 'Fuentes': 370, 'Franco': 371, 'Bailey': 372, 'Arnold': 373, 'Whitney': 374, 'Rangel': 375, 'Shepherd': 376, 'Diaz': 377, 'Barnett': 378, 'Beck': 379, 'Dalton': 380, 'Buchanan': 381, 'Henry': 382, 'Wilkins': 383, 'Alvarado': 384, 'Bolton': 385, 'Cotton': 386, 'Atkins': 387, 'Mcdaniel': 388, 'Roman': 389, 'Stevenson': 390, 'Schroeder': 391, 'Callahan': 392, 'Justice': 393, 'Cunningham': 394, 'Dyer': 395, 'Hernandez': 396, 'Poole': 397, 'Bauer': 398, 'Bridges': 399, 'Church': 400, 'Schmidt': 401, 'Valenzuela': 402, 'Salas': 403, 'Vasquez': 404, 'Combs': 405, 'Figueroa': 406, 'Mercer': 407, 'Pitts': 408, 'Kramer': 409, 'Garner': 410, 'Guerrero': 411, 'Roberts': 412, 'Cole': 413, 'Friedman': 414, 'Hancock': 415, 'Ryan': 416, 'Shannon': 417, 'Powell': 418, 'Andrews': 419, 'Roth': 420, 'Fischer': 421, 'Ortiz': 422, 'Kent': 423, 'Moody': 424, 'Rivas': 425, 'Patterson': 426, 'Kidd': 427, 'Rhodes': 428, 'Harrison': 429, 'Ellis': 430, 'Cooper': 431, 'Estes': 432, 'Jackson': 433, 'Mcdowell': 434, 'Keller': 435, 'Choi': 436, 'Fletcher': 437, 'Cross': 438, 'Mendoza': 439, 'Branch': 440, 'Humphrey': 441, 'Gates': 442, 'Campbell': 443, 'Sloan': 444, 'Sullivan': 445, 'Perkins': 446, 'Stanley': 447, 'Villegas': 448, 'Hess': 449, 'Whitaker': 450, 'Payne': 451, 'Hansen': 452, 'Avila': 453, 'Oneal': 454, 'Lyons': 455, 'Hale': 456, 'Cantu': 457, 'Witt': 458, 'Moran': 459, 'Gaines': 460, 'Owen': 461, 'Christian': 462, 'Hopkins': 463, 'Randall': 464, 'Abbott': 465, 'Cote': 466, 'Gonzalez': 467, 'Cohen': 468, 'Massey': 469, 'Peck': 470, 'Burris': 471, 'Potts': 472, 'Gibbs': 473, 'Carver': 474, 'Burgess': 475, 'Chambers': 476, 'Mccullough': 477, 'Pratt': 478, 'Santana': 479, 'Greene': 480, 'Hart': 481, 'Thompson': 482, 'Galloway': 483, 'Terry': 484, 'Burt': 485, 'Mason': 486, 'Wynn': 487, 'Leblanc': 488, 'Beach': 489, 'Durham': 490, 'Hudson': 491, 'Cummings': 492, 'Hobbs': 493, 'Parrish': 494, 'Byrd': 495, 'Cain': 496, 'Sears': 497, 'Knowles': 498, 'Trevino': 499, 'Cervantes': 500, 'Lott': 501, 'Ballard': 502, 'Lynch': 503, 'Lowe': 504, 'Langley': 505, 'Walsh': 506, 'Francis': 507, 'Allen': 508, 'Harding': 509, 'Weeks': 510, 'Greer': 511, 'Clemons': 512, 'Good': 513, 'Sherman': 514, 'David': 515, 'Banks': 516, 'Hull': 517, 'Sweet': 518, 'Leon': 519, 'Blankenship': 520, 'Kelley': 521, 'Cooley': 522, 'Bright': 523, 'Bayes': 524, 'Hall': 525, 'Horn': 526, 'Rutledge': 527, 'Rowland': 528, 'Hogan': 529, 'Herring': 530, 'Mcintosh': 531, 'Robles': 532, 'Cabrera': 533, 'Morin': 534, 'Duncan': 535, 'Moss': 536, 'George': 537, 'Hodge': 538, 'Gray': 539, 'Nieves': 540, 'Mccarthy': 541, 'Roberson': 542, 'Raymond': 543, 'Bond': 544, 'Montgomery': 545, 'Pruitt': 546, 'Wiley': 547, 'Rosa': 548, 'Hewitt': 549, 'Faulkner': 550, 'Oneil': 551, 'Phelps': 552, 'Park': 553, 'Graves': 554, 'Ayers': 555, 'Maxwell': 556, 'Russo': 557, 'Vargas': 558, 'Finch': 559, 'Hebert': 560, 'Newton': 561, 'Mercado': 562, 'Baker': 563, 'Robertson': 564, 'Bishop': 565, 'Paul': 566, 'Valencia': 567, 'Kirby': 568, 'Cannon': 569, 'Dickson': 570, 'Foreman': 571, 'Landry': 572, 'Barnes': 573, 'Forbes': 574, 'Fields': 575, 'White': 576, 'Stark': 577, 'Irwin': 578, 'Rowe': 579, 'Benton': 580, 'Watkins': 581, 'Dillard': 582, 'Clements': 583, 'Steele': 584, 'Reeves': 585, 'Riggs': 586, 'Wade': 587, 'Boyd': 588, 'Duran': 589, 'Elliott': 590, 'Mclaughli': 591, 'Wolfe': 592, 'Casey': 593, 'Wong': 594, 'Schultz': 595, 'Andrade': 596, 'Ray': 597, 'Patrick': 598, 'Marshall': 599, 'Cline': 600, 'Ewing': 601, 'Hunt': 602, 'Mosley': 603, 'Sosa': 604, 'Dixon': 605, 'Torres': 606, 'Sparks': 607, 'Ross': 608, 'Burton': 609, 'Daniel': 610, 'Rojas': 611, 'Sheppard': 612, 'Stanton': 613, 'York': 614, 'Parsons': 615, 'Merritt': 616, 'Leonard': 617, 'Gomez': 618, 'Ali': 619, 'Lewis': 620, 'Lozano': 621, 'Hoover': 622, 'Ellison': 623, 'Li': 624, 'Hanson': 625, 'Le': 626, 'Wright': 627, 'Carr': 628, 'Fitzpatrick': 629, 'Hensley': 630, 'Nunez': 631, 'Kerr': 632, 'Gillespie': 633, 'Tran': 634, 'Haynes': 635, 'Stephens': 636, 'Wagner': 637, 'Molina': 638, 'Edwards': 639, 'Harmon': 640, 'Turner': 641, 'Kane': 642, 'Holder': 643, 'Allison': 644, 'Gonzales': 645, 'Rosales': 646, 'Gutierrez': 647, 'Burnett': 648, 'Burke': 649, 'Hutchinson': 650, 'Sutton': 651, 'Skinner': 652, 'Ayala': 653, 'Willis': 654, 'Howell': 655, 'Carpenter': 656, 'Estrada': 657, 'Salazar': 658, 'Duke': 659, 'Waller': 660, 'Neal': 661, 'Conrad': 662, 'Bryant': 663, 'Santiago': 664, 'Valdez': 665, 'Stafford': 666, 'Wang': 667, 'Benson': 668, 'Eaton': 669, 'Daniels': 670, 'Charles': 671, 'Cameron': 672, 'Newman': 673, 'Reyes': 674, 'Dickerson': 675, 'Lam': 676, 'Bautista': 677, 'Hardy': 678, 'Wilkinson': 679, 'Lutz': 680, 'Owens': 681, 'Mills': 682, 'Lamb': 683, 'Keith': 684, 'Bell': 685, 'Hendrix': 686, 'Barber': 687, 'Odom': 688, 'Zamora': 689, 'Richardson': 690, 'Barker': 691, 'Morris': 692, 'Woodard': 693, 'Shaw': 694, 'Ramsey': 695, 'Hardin': 696, 'Snow': 697, 'Monroe': 698, 'Savage': 699, 'Little': 700, 'Mcleod': 701, 'Gould': 702, 'Drake': 703, 'Underwood': 704, 'Berry': 705, 'Goodman': 706, 'Peterson': 707, 'Nguyen': 708, 'Knapp': 709, 'Clarke': 710, 'Brewer': 711, 'Ruiz': 712, 'Alvarez': 713, 'Foley': 714, 'Esparza': 715, 'Morton': 716, 'Snider': 717, 'Cooke': 718, 'Best': 719, 'Merrill': 720, 'Hooper': 721, 'Barrett': 722, 'Welch': 723, 'Bowen': 724, 'Mullen': 725, 'Mckenzie': 726, 'Norman': 727, 'Guzman': 728, 'Davidson': 729, 'Costa': 730, 'Lloyd': 731, 'Holland': 732, 'Donaldson': 733, 'Reed': 734, 'Frederick': 735, 'Perry': 736, 'Beasley': 737, 'Liu': 738, 'Woods': 739, 'Chaney': 740, 'Schwartz': 741, 'Krause': 742, 'Mora': 743, 'Ferrell': 744, 'Dunlap': 745, 'Watson': 746, 'Orozco': 747, 'Floyd': 748, 'Page': 749, 'Bradley': 750, 'Meza': 751, 'Werner': 752, 'Briggs': 753, 'Gregory': 754, 'Frost': 755, 'Wells': 756, 'Spears': 757, 'Mccann': 758, 'Henson': 759, 'Carrillo': 760, 'Mendez': 761, 'Lambert': 762, 'Huynh': 763, 'Love': 764, 'Ware': 765, 'Mcgee': 766, 'Marks': 767, 'Boyer': 768, 'Patel': 769, 'Dean': 770, 'Bentley': 771, 'Craig': 772, 'Cox': 773, 'Heath': 774, 'Fox': 775, 'Gill': 776, 'Cantrell': 777, 'Rice': 778, 'Frey': 779, 'Morse': 780, 'Farley': 781})"
   ]
  },
  {
   "cell_type": "markdown",
   "id": "d2bb3c9d",
   "metadata": {},
   "source": [
    "### 16 Customer Segment"
   ]
  },
  {
   "cell_type": "code",
   "execution_count": null,
   "id": "c0807df5",
   "metadata": {},
   "outputs": [],
   "source": [
    "df['Customer Segment'].unique()"
   ]
  },
  {
   "cell_type": "code",
   "execution_count": null,
   "id": "b2e75fb7",
   "metadata": {},
   "outputs": [],
   "source": [
    "df['Customer Segment'].replace({'Consumer':0, 'Home Office':1, 'Corporate':2},inplace = True)"
   ]
  },
  {
   "cell_type": "code",
   "execution_count": null,
   "id": "a228e3cb",
   "metadata": {},
   "outputs": [],
   "source": [
    "df['Customer Segment'].unique()"
   ]
  },
  {
   "cell_type": "code",
   "execution_count": null,
   "id": "e03b61b8",
   "metadata": {},
   "outputs": [],
   "source": [
    "Customer_Segment_values = {'Consumer':0, 'Home Office':1, 'Corporate':2}\n",
    "Customer_Segment_values"
   ]
  },
  {
   "cell_type": "markdown",
   "id": "ae875b29",
   "metadata": {},
   "source": [
    "### 17 Customer State"
   ]
  },
  {
   "cell_type": "code",
   "execution_count": null,
   "id": "5ffd67b5",
   "metadata": {},
   "outputs": [],
   "source": [
    "df['Customer State'].unique()"
   ]
  },
  {
   "cell_type": "code",
   "execution_count": null,
   "id": "ec5deec8",
   "metadata": {},
   "outputs": [],
   "source": [
    "df['Customer State'].replace({'PR':0, 'CA':1, 'NY':2, 'FL':3, 'MA':4, 'IL':5, 'MT':6, 'PA':7,\n",
    "                'MI':8, 'TX':9, 'DE':10, 'GA':11, 'MD':12, 'OH':13, 'HI':14, 'NJ':15,\n",
    "                'WI':16, 'AZ':17, 'CO':18, 'MN':19, 'NC':20, 'NM':21,'OR':22, 'SC':23, 'VA':24, \n",
    "                'UT':25, 'WA':26, 'KY':27, 'WV':28, 'RI':29, 'CT':30, 'LA':31,'TN':32,'DC':33, \n",
    "                'ND':34, 'MO':35, 'IN':36, 'ID':37, 'NV':38, 'KS':39, 'AR':40, 'OK':41, 'AL':42,\n",
    "                              'IA':43,'95758':44, '91732':45},inplace = True)"
   ]
  },
  {
   "cell_type": "code",
   "execution_count": null,
   "id": "4f997015",
   "metadata": {},
   "outputs": [],
   "source": [
    "Customer_State_values = {'PR':0, 'CA':1, 'NY':2, 'FL':3, 'MA':4, 'IL':5, 'MT':6, 'PA':7,\n",
    "                'MI':8, 'TX':9, 'DE':10, 'GA':11, 'MD':12, 'OH':13, 'HI':14, 'NJ':15,\n",
    "                'WI':16, 'AZ':17, 'CO':18, 'MN':19, 'NC':20, 'NM':21,'OR':22, 'SC':23, 'VA':24, \n",
    "                'UT':25, 'WA':26, 'KY':27, 'WV':28, 'RI':29, 'CT':30, 'LA':31,'TN':32,'DC':33, \n",
    "                'ND':34, 'MO':35, 'IN':36, 'ID':37, 'NV':38, 'KS':39, 'AR':40, 'OK':41, 'AL':42,\n",
    "                              'IA':43,'95758':44, '91732':45}\n",
    "\n",
    "Customer_State_values"
   ]
  },
  {
   "cell_type": "markdown",
   "id": "018e5995",
   "metadata": {},
   "source": [
    "### Customer Street"
   ]
  },
  {
   "cell_type": "code",
   "execution_count": null,
   "id": "a8f04f94",
   "metadata": {},
   "outputs": [],
   "source": [
    "df['Customer Street']"
   ]
  },
  {
   "cell_type": "code",
   "execution_count": null,
   "id": "424b7959",
   "metadata": {
    "scrolled": false
   },
   "outputs": [],
   "source": [
    "# encoded_customer_street = encoder.fit_transform(df['Customer Street'])\n",
    "# df['Customer Street'] = encoded_customer_street\n",
    "# df[['Customer Street']]"
   ]
  },
  {
   "cell_type": "code",
   "execution_count": null,
   "id": "c5386e33",
   "metadata": {
    "scrolled": true
   },
   "outputs": [],
   "source": [
    "Customer_Street_list = df['Customer Street'].unique()\n",
    "Customer_Street_list\n",
    "Customer_Street_value = {}\n",
    "for i in range(len(Customer_Street_list)):\n",
    "    #print(i)\n",
    "    Customer_Street_value.update({Customer_Street_list[i]:i})\n",
    "    \n",
    "print(Customer_Street_value)"
   ]
  },
  {
   "cell_type": "code",
   "execution_count": null,
   "id": "ae56d223",
   "metadata": {},
   "outputs": [],
   "source": [
    "df['Customer Street'] = df['Customer Street'].replace({'5365 Noble Nectar Island': 0, '2679 Rustic Loop': 1, '8510 Round Bear Gate': 2, '3200 Amber Bend': 3, '8671 Iron Anchor Corners': 4, '2122 Hazy Corner': 5, '1879 Green Pine Bank': 6, '7595 Cotton Log Row': 7, '2051 Dusty Route': 8, '9139 Blue Blossom Court': 9, '4058 Quiet Heights': 10, '3243 Shady Corner': 11, '131 Sunny Treasure Green': 12, '2531 Wishing Square': 13, '6417 Silver Towers': 14, '257 Harvest Close': 15, '7342 Hazy Beacon Park': 16, '7787 Lazy Corners': 17, '5136 Rustic Pioneer Estates': 18, '1723 Tawny Via': 19, '7111 Silent Fox Gardens': 20, '3732 Old Mountain Bank': 21, '6217 Rustic Lake Forest': 22, '1082 Quiet Treasure Link': 23, '3176 Round Gate': 24, '1426 Fallen Line': 25, '9814 Emerald Prairie Limits': 26, '8271 Tawny Elk Abbey': 27, '3931 Gentle Ramp': 28, '9699 Honey Rise': 29, '1564 Rocky Terrace': 30, '4294 High Passage': 31, '5918 Golden Beacon Freeway': 32, '3915 Broad Lookout': 33, '7190 Silver Horse Glade': 34, '830 Broad Beacon Maze': 35, '6127 Dewy Goose Downs': 36, '1188 Old Abbey': 37, '7004 Hazy Lake Townline': 38, '2556 Umber Autoroute': 39, '3722 Thunder Cape': 40, '2676 Velvet Common': 41, '833 Amber Anchor Glen': 42, '830 Quaking Bear Grounds': 43, '1509 Middle Oak Isle': 44, '9712 Fallen Robin Diversion': 45, '8665 Sunny Deer Woods': 46, '9879 Harvest Deer Farms': 47, '75 Sunny Grounds': 48, '9731 Honey Fox Towers': 49, '7573 Golden Treasure Centre': 50, '8369 Sunny Crossing': 51, '1425 Fallen Fox Arbor': 52, '2290 Crystal Pathway': 53, '6179 Noble Panda Moor': 54, '8205 Silver Grove Row': 55, '7786 Middle Private': 56, '5274 Easy Beach': 57, '4692 Jagged Thicket': 58, '5161 Crystal Quail Jetty': 59, '1465 Round Fawn Passage': 60, '5723 Cinder Loop': 61, '2991 Silent Deer Landing': 62, '5086 Emerald Fox Farms': 63, '3909 Hidden Treasure Beach': 64, '4691 Cinder Crest': 65, '5703 Tawny Creek Townline': 66, '7333 Cinder Way': 67, '9404 Heather Bluff Dale': 68, '1632 Green Fawn Corners': 69, '8344 Noble Mountain Gate': 70, '7208 Bright Landing': 71, '1393 Umber Sky Estates': 72, '8165 Red Lane': 73, '331 Grand Orchard': 74, '2264 Thunder Abbey': 75, '9082 Merry Lookout': 76, '6468 Fallen Close': 77, '7342 Hidden Walk': 78, '577 Rustic Nectar Row': 79, '5700 Little Circle': 80, '7840 Umber Sky Villas': 81, '7509 Iron Concession': 82, '2199 Silver Autumn Key': 83, '9470 Shady View Bend': 84, '9366 Silent Nectar Highway': 85, '4167 Stony Extension': 86, '7370 Sleepy Way': 87, '1613 Broad Beach': 88, '4992 Jagged Forest Subdivision': 89, '3216 Red Glade': 90, '3481 Crystal Campus': 91, '5424 Rustic Anchor Boulevard': 92, '3567 Heather Knoll': 93, '7958 Thunder Apple Street': 94, '6496 Harvest Highlands': 95, '1453 Lazy Cider Hill': 96, '8713 Quaking Abbey': 97, '1285 Noble Pointe': 98, '6314 Honey Canyon': 99, '1388 Blue Turnabout': 100, '1122 Old Fox Lookout': 101, '257 Iron Elk Maze': 102, '9544 Noble Spring Route': 103, '7094 Misty Wynd': 104, '1025 Colonial Plaza': 105, '2839 Grand Timber Canyon': 106, '6174 Wishing Front': 107, '9447 Dusty Gate Centre': 108, '6401 Shady Embers Farms': 109, '595 Indian Path': 110, '1820 Noble Elk Harbour': 111, '1577 Green Vista': 112, '9920 Little Lane': 113, '3089 Gentle Horse Chase': 114, '4090 Colonial End': 115, '4601 Amber Grove Hollow': 116, '2127 Middle Goose Mews': 117, '8840 Harvest Towers': 118, '8617 Cinder Mountain Forest': 119, '5087 Crystal Hills Manor': 120, '1548 Lazy Place': 121, '9009 Merry Nectar Heights': 122, '4316 Misty Way': 123, '6324 Lazy Lane': 124, '9198 Rocky Run': 125, '5736 Heather Byway': 126, '7334 Umber Expressway': 127, '427 Grand Branch Hill': 128, '2035 Lazy Diversion': 129, '4520 Grand Port': 130, '7489 Green End': 131, '620 Thunder Creek Towers': 132, '555 Lazy Robin Freeway': 133, '4722 Round Embers Falls': 134, '1836 Cozy View Orchard': 135, '5257 Umber Field': 136, '9079 Dewy Deer Harbour': 137, '1284 High Apple Highlands': 138, '9816 Grand Hills Knoll': 139, '5301 Blue Street': 140, '7274 Middle Wynd': 141, '2668 Velvet Row ': 142, '567 Fallen Pines ': 143, '9870 Little Hickory Loop': 144, '5763 Green Crossing ': 145, '4854 Tawny Cove': 146, '8297 Golden Green ': 147, '7293 Lazy Hill': 148, '8967 Sleepy Lane': 149, '6370 Emerald Row ': 150, '3065 Foggy Horse Port': 151, '5493 Burning Horse Heath': 152, '529 Blue Grove Rise': 153, '4462 Little Lagoon Route': 154, '9854 Jagged Impasse': 155, '5336 Sleepy Sky Common': 156, '3836 Blue Brook Stead': 157, '4896 Honey Wood ': 158, '4592 Grand Timber Ramp': 159, '146 Middle Terrace': 160, '3710 Little Nook ': 161, '9598 Cinder Close': 162, '6998 Old Treasure Crossing': 163, '100 Jagged Cloud Pathway': 164, '8110 Old Place': 165, '9221 Cotton Butterfly Terrace': 166, '4110 Quaking Abbey': 167, '6574 Shady Horse Wood': 168, '4555 Amber Apple Cape': 169, '3675 Emerald Goose Bank': 170, '9375 Harvest Circuit': 171, '3993 Thunder Hills Port': 172, '9414 Thunder Island Court': 173, '7573 Cozy Goose Road': 174, '5985 Silent Leaf Vale': 175, '1230 Crystal Lookout': 176, '6350 Lost Hollow': 177, '4898 Red Butterfly Autoroute': 178, '7312 Crystal Willow Villas': 179, '9595 Blue Promenade': 180, '1790 Noble Brook Run': 181, '2459 Round Spring Towers': 182, '690 Colonial Pine Passage': 183, '739 Jagged Goose Street': 184, '29 Gentle Spring Mews': 185, '5532 Tawny Pines': 186, '4502 Hazy Run': 187, '6026 Stony Elk Hill': 188, '4903 Lazy Parkway': 189, '3902 Foggy Swale': 190, '990 Dewy Crest': 191, '9899 Hazy Falls': 192, '7449 Merry Chase': 193, '7694 Velvet Turnabout': 194, '1585 Stony Rabbit Hollow': 195, '2289 Cozy Promenade': 196, '830 Clear Sky Vale': 197, '2833 Clear Valley': 198, '4682 Cozy Freeway': 199, '4196 Noble Beacon Mews': 200, '231 Bright Alley': 201, '3926 Stony Gardens': 202, '3632 Fallen Pioneer Isle': 203, '1070 Dusty Beacon Maze': 204, '469 Crystal Anchor Mountain': 205, '3601 Cozy Creek Trail': 206, '7007 Quiet Via': 207, '2515 Burning Boulevard': 208, '2127 Cozy Deer Bank': 209, '3593 Easy Embers Field': 210, '9900 Hidden Rise Downs': 211, '1055 Crystal Woods': 212, '5365 Tawny Apple Limits': 213, '4845 Thunder Embers Hollow': 214, '5154 Honey Bend': 215, '6715 Gentle Horse Row': 216, '6412 Crystal View Townline': 217, '263 Harvest Wood': 218, '7111 Cotton Blossom Estates': 219, '3005 Bright Maze': 220, '5657 Lost Expressway': 221, '183 Velvet Grove Towers': 222, '2275 Rustic Impasse': 223, '8279 Bright Fox Highway': 224, '2792 Middle Mount': 225, '6414 Jagged Sky Gardens': 226, '4849 Clear Blossom Turnabout': 227, '8248 Clear Glade': 228, '4606 Umber Range': 229, '2058 Quaking Oak Common': 230, '5131 Gentle Limits': 231, '9595 Iron Orchard': 232, '6797 Quiet Mountain Rise': 233, '340 Velvet Barn Gate': 234, '569 Hazy Wynd': 235, '5768 Jagged Zephyr Port': 236, '1021 Silver Log Cape': 237, '2002 Noble Crescent': 238, '7262 Emerald Boulevard': 239, '9176 Shady Barn Jetty': 240, '3670 Broad Mountain Link': 241, '7126 Hazy Berry Mount': 242, '1134 Misty River Woods': 243, '5808 Silver Rise Circuit': 244, '3180 Golden Cider Circle': 245, '5593 Indian Trail': 246, '1987 Grand Alley': 247, '4463 Cotton Quail Forest': 248, '5875 Grand Campus': 249, '1010 Rustic Fox View': 250, '1430 Easy Spring Key': 251, '3050 Crystal Fawn Green': 252, '3139 Golden Autumn Byway': 253, '3356 Crystal Farm': 254, '8473 Crystal Hickory Path': 255, '874 Thunder Front': 256, '9627 Little Terrace': 257, '9295 Emerald Downs': 258, '8400 Clear Wagon  Row': 259, '5420 Crystal Hill': 260, '4047 Grand Port': 261, '6575 Quiet Loop': 262, '4317 Emerald Bay': 263, '5325 Amber Blossom Way': 264, '3867 Middle Leaf By-pass': 265, '6332 Round Range': 266, '6826 Quiet Lane': 267, '3882 Golden Maze': 268, '1102 Misty Rabbit Alley': 269, '8581 Blue Crescent': 270, '2749 Emerald Glen': 271, '7320 Wishing Rise Mall ': 272, '3087 Hazy Glen': 273, '125 Easy Lake Close': 274, '4263 Cozy Embers Ledge': 275, '9725 Cotton Forest': 276, '1915 Thunder Hickory Freeway': 277, '1098 Fallen By-pass': 278, '8271 Foggy Horse Inlet': 279, '3046 Broad Sky Dale': 280, '1200 Silent Bend': 281, '8768 Shady Arbor': 282, '3361 Little Ledge': 283, '2088 Emerald Downs': 284, '5263 Middle Road': 285, '9419 Cinder Hickory Towers': 286, '4212 Cozy Corners': 287, '3614 Misty Mall ': 288, '8706 Harvest Green': 289, '3193 Gentle Circuit': 290, '7358 Rocky Villas': 291, '112 Green Fawn Estates': 292, '7094 Round Carrefour': 293, '3367 Easy Pines': 294, '4776 Crystal River Stead': 295, '7312 Umber Prairie Wynd': 296, '1221 Cinder Pines': 297, '8824 Noble View Valley': 298, '2720 Stony Field': 299, '698 Colonial Way': 300, '7409 Cotton Manor': 301, '5731 Cinder Horse Court': 302, '72 Noble Path': 303, '923 Amber Grounds': 304, '3901 Iron Parade': 305, '4915 Lazy Pine Bay': 306, '654 Gentle Acres': 307, '7581 Cinder Link': 308, '6001 Iron Diversion': 309, '9198 Blue Swale': 310, '3358 Middle Ridge': 311, '9785 Silver Hickory Walk': 312, '9391 Little Leaf Ramp': 313, '3810 Honey Swale': 314, '5166 Middle Circuit': 315, '2269 High Limits': 316, '6901 Lazy Plaza': 317, '67 Cotton Mountain Terrace': 318, '4291 Sunny Fox Mews': 319, '7790 Green Berry Gate': 320, '9922 Misty Oak Inlet': 321, '9128 Little Cloud Bay': 322, '1819 Noble Ramp': 323, '9539 Velvet Trace': 324, '125 Colonial Butterfly Stead': 325, '9084 Middle Embers Passage': 326, '1994 Lost Berry Promenade': 327, '7676 Colonial Towers': 328, '2422 High River Corners': 329, '398 Pleasant Mountain': 330, '2070 Indian Leaf Edge': 331, '9135 Green Island Moor': 332, '1800 Quiet Creek Stead': 333, '1165 Quiet Inlet': 334, '432 Rocky Link': 335, '2607 Clear Branch Cape': 336, '9780 Misty Pike': 337, '4135 Golden Shadow Front': 338, '8307 Merry Pointe': 339, '9299 Grand Branch Route': 340, '2210 Merry Leaf Row': 341, '3309 Harvest Thicket': 342, '5953 Lost Plaza': 343, '7094 Sleepy End': 344, '9393 Golden View Pike': 345, '7735 Gentle Terrace': 346, '45 Merry Bear View': 347, '3741 Bright Extension': 348, '3408 Tawny Spring Glen': 349, '4105 Fallen Goose Port': 350, '7121 Foggy Woods': 351, '482 High Quay': 352, '7177 Old Nectar Ridge': 353, '6750 Stony Fawn Wood': 354, '2636 Indian Expressway': 355, '9891 Foggy Hills Acres': 356, '7500 Wishing Brook Grove': 357, '1497 Sleepy Thicket': 358, '5012 Honey Wagon Stead': 359, '8832 Old Quay': 360, '8707 Foggy View': 361, '4148 Indian Landing': 362, '4690 Quiet Hickory Campus': 363, '8659 Foggy Deer Port': 364, '8284 Colonial Gate Path': 365, '7701 Rustic Carrefour': 366, '406 Shady Cider Corner': 367, '4542 Sunny Parade': 368, '2070 Rocky Apple Front': 369, '3761 Foggy Hickory Extension': 370, '9767 Amber Valley': 371, '3538 Rustic Dale Run': 372, '1946 Jagged Trail': 373, '5434 Middle Range': 374, '7108 Cinder Road': 375, '1557 High Spring Cove': 376, '183 Crystal Lake Drive': 377, '1870 Crystal Blossom Towers': 378, '8932 High Row': 379, '6449 Merry Lagoon Drive': 380, '3505 High Mall': 381, '7320 Lazy Forest Falls': 382, '851 Green Prairie Park': 383, '5674 Merry Nectar Pines': 384, '8651 Heather Drive': 385, '3068 Indian Quail Cove': 386, '427 Clear Leaf Loop': 387, '5136 Red Prairie Park': 388, '5722 Easy Heath': 389, '8895 Shady Cider Moor': 390, '4776 Pleasant Pioneer Cape': 391, '1853 Umber Field': 392, '1142 Round Via': 393, '2027 Thunder Creek Thicket': 394, '2059 Cozy Field': 395, '4436 Tawny Private': 396, '3914 Silver Horse Cape': 397, '5002 High Bank': 398, '1982 Burning Forest': 399, '8776 Green Ridge': 400, '2568 Rustic Valley': 401, '3071 Tawny Canyon': 402, '9666 Colonial Hickory Thicket': 403, '9739 Round Spring Expressway': 404, '3847 Blue Place': 405, '3567 Rocky Grove': 406, '8324 Little Common': 407, '7802 Gentle Creek Square': 408, '7176 Bright Timber Passage': 409, '6888 Wishing Mountain Run': 410, '4791 Harvest Quail Limits': 411, '4482 Velvet Farm': 412, '425 Noble Lane': 413, '9666 Gentle Shadow Thicket': 414, '7550 Sleepy View Court': 415, '777 Sleepy Quail Key': 416, '6718 High Panda Dell': 417, '9871 Cotton Lagoon End': 418, '1066 Hidden Green': 419, '7192 Green Arbor': 420, '4232 Wishing Creek Campus': 421, '1112 Cinder Woods': 422, '4694 Burning Front': 423, '482 Easy Avenue': 424, '3709 Green Cider Court': 425, '19 Clear Autumn Estates': 426, '9138 Indian Nook': 427, '7971 Foggy Highway': 428, '357 Noble Lane': 429, '9234 Green Farm': 430, '1088 Jagged Hills Nook': 431, '7046 Sleepy Berry Estates': 432, '6982 Cinder Fawn Cape': 433, '5763 Green Crossing': 434, '5913 Easy Quail Wynd': 435, '7910 Cotton Branch Highway': 436, '7291 Shady Nectar Cape': 437, '9825 Colonial Freeway': 438, '2534 Easy Carrefour': 439, '1914 Iron Berry Edge': 440, '3200 Amber Pine Vale': 441, '4210 Dewy Round': 442, '8570 Hazy Forest End': 443, '9885 Hazy Forest Path': 444, '3332 Heather Road': 445, '4114 Lost Blossom Farms': 446, '403 Tawny Hills By-pass': 447, '5346 Clear Hills Way': 448, '4551 Jagged Bay': 449, '3169 Little Subdivision': 450, '3282 Silent Autoroute': 451, '9505 Broad Timber Highlands': 452, '8736 Merry Extension': 453, '1358 Quiet Gate Moor': 454, '3108 Middle Wharf': 455, '6481 Wishing Anchor Centre': 456, '8013 Harvest Close': 457, '9005 Old Robin Plaza': 458, '7962 Thunder Zephyr Bend': 459, '5958 Emerald Nook': 460, '907 Merry Forest Way': 461, '5105 Tawny Park': 462, '7173 Fallen Vista': 463, '2915 Quaking Pathway': 464, '772 Rustic Lagoon Crossing': 465, '285 Crystal Circuit': 466, '8172 Gentle Elk Beach': 467, '5959 Harvest Forest Boulevard': 468, '5274 Hidden Mall ': 469, '9494 Bright Stead': 470, '5943 Dewy Autoroute': 471, '4103 Rocky View Harbour': 472, '6036 Noble Blossom Wynd': 473, '2519 Cinder Orchard': 474, '164 Stony Field': 475, '9126 Wishing Expressway': 476, '190 Heather View': 477, '3980 High Line': 478, '5953 Broad Close': 479, '8370 Golden Goose Place': 480, '4369 Bright Log Estates': 481, '1794 High Diversion': 482, '2861 Velvet Pointe': 483, '9026 Little Avenue': 484, '6183 Little Passage': 485, '6232 Red Rise Rise': 486, '1395 Cozy River Carrefour': 487, '1655 Sleepy Pine Common': 488, '7869 Round Cider Square': 489, '911 Rustic Round': 490, '4780 Cinder Treasure Highway': 491, '4393 Pleasant Pioneer Avenue': 492, '5131 Hazy Dale Parade': 493, '1116 Silent Crest': 494, '4485 Noble Fawn Highway': 495, '9022 Foggy Dell': 496, '3796 Rustic Autoroute': 497, '8497 Emerald Grove Pines': 498, '6567 High Lagoon Heath': 499, '7885 Misty Knoll': 500, '1612 Golden Willow Crest': 501, '9460 Hidden Landing': 502, '9297 Burning Extension': 503, '1591 Foggy Meadow': 504, '555 Colonial Butterfly Highway': 505, '139 Little Bear Chase': 506, '1132 Harvest Front': 507, '7774 Dewy Line': 508, '3684 Old River Crossing': 509, '2762 Umber Cloud Glen': 510, '7258 Burning Dale Mountain': 511, '3593 Blue Brook Acres': 512, '1475 Red Creek Stead': 513, '7761 Silent Hickory Drive': 514, '4703 Old Route': 515, '9420 Velvet Lagoon Trail': 516, '2337 Indian Inlet': 517, '3760 Stony Promenade': 518, '5434 Grand Common': 519, '4097 Middle Spring Centre': 520, '8924 Easy Treasure Nook': 521, '3506 Heather Berry Round': 522, '7800 Hazy Lake Acres': 523, '4520 Quiet Grounds': 524, '1155 Cotton Inlet': 525, '896 Thunder Knoll': 526, '472 Cinder Sky Farm': 527, '6080 Old Bay': 528, '4251 Sleepy View Alley': 529, '432 Dusty Glen': 530, '6774 Noble Branch Knoll': 531, '1812 Sunny River Wharf': 532, '6639 Clear Fawn Grounds': 533, '3440 Clear Moor': 534, '8569 Umber Fox Common': 535, '3412 Golden Orchard': 536, '3413 Silver Lake Carrefour': 537, '2681 Cinder By-pass': 538, '3289 Thunder Prairie Inlet': 539, '8094 Broad Dale': 540, '6292 Velvet Wagon  Plaza': 541, '8828 Red Farms': 542, '6336 Thunder Dale': 543, '1974 Fallen Place': 544, '2553 Golden Dale': 545, '2568 Bright Lookout': 546, '382 Rocky Pond By-pass': 547, '4692 Gentle Turnabout': 548, '5138 Green Boulevard': 549, '4689 Lost Spring Key': 550, '1018 Colonial Nectar Subdivision': 551, '8696 Bright Dale Pointe': 552, '914 Round Pony Canyon': 553, '135 Burning Ridge': 554, '1905 Broad Apple Highway': 555, '2291 Velvet Berry Freeway': 556, '8718 High Front': 557, '1809 Lost Pine Ledge': 558, '1235 Honey Mews': 559, '4746 Quaking Bear Valley': 560, '5735 Round Beacon Terrace': 561, '2387 Silver Freeway': 562, '6567 Red Sky Gate': 563, '7969 Umber Forest': 564, '1538 Sunny Lagoon Mews': 565, '3450 Round Gate Close': 566, '9709 Dewy Pointe': 567, '4429 Lost Elk Front': 568, '2721 Dewy Panda Manor': 569, '4545 Quaking Hickory Ledge': 570, '6289 Rocky Way': 571, '2585 Silent Autumn Landing': 572, '1411 Little Log Boulevard': 573, '1768 Sleepy Zephyr Place': 574, '1811 Hazy Oak Subdivision': 575, '2972 Pleasant Branch Road': 576, '6502 Heather Nook': 577, '3050 Shady Mews': 578, '8263 Indian Crossing': 579, '3562 Round Edge': 580, '8663 Crystal Bluff Walk': 581, '5687 Clear Maze': 582, '4293 Rustic Island': 583, '4958 Heather Panda Bank': 584, '1019 Grand Shadow Wynd': 585, '7969 Thunder Butterfly Mall ': 586, '3662 Middle Willow Promenade': 587, '5407 Sunny Wagon  Valley': 588, '6534 Cinder Campus': 589, '2383 Crystal Panda Mount': 590, '4606 Tawny Autoroute': 591, '1948 Round Nectar Via': 592, '3385 Cotton Wharf': 593, '1063 Fallen Subdivision': 594, '2220 Quaking Lookout': 595, '6449 Lazy Robin Drive': 596, '6229 Clear Oak Lookout': 597, '870 Amber Quail Circuit': 598, '1726 Velvet Thicket': 599, '6163 Lazy Pointe': 600, '5530 Emerald Elk Mews': 601, '3740 Velvet Rise': 602, '3204 Cinder Line': 603, '2476 Grand Leaf Townline': 604, '1111 Cotton Vista': 605, '6764 Tawny Link': 606, '858 Emerald Key': 607, '6292 Wishing Branch Via': 608, '7697 Easy Butterfly Centre': 609, '4352 Heather Timber Quay': 610, '1490 Amber Forest Forest': 611, '9044 Round Private': 612, '2557 Gentle Hills Wynd': 613, '9831 Sunny Cloud Valley': 614, '6269 Harvest Shadow Meadow': 615, '6412 Quiet Swale': 616, '2459 Velvet Brook Woods': 617, '5078 Foggy Panda Highlands': 618, '5571 Rocky Knoll': 619, '8773 Colonial Shadow Maze': 620, '1606 Rocky Shadow Ledge': 621, '5803 Umber Meadow': 622, '1221 High Crest': 623, '5098 Lazy Pathway': 624, '3957 Emerald Spring Nook': 625, '3977 Colonial Towers': 626, '5835 Harvest Vista': 627, '1449 Red Cove': 628, '2056 Misty Grove Rise': 629, '5430 Burning Rise Route': 630, '6324 Golden Line': 631, '5659 Shady Cloud Port': 632, '1214 Dusty Crescent': 633, '1795 Fallen Corners': 634, '9761 Quaking Acres': 635, '6115 Clear River Key': 636, '1985 Sunny Manor': 637, '4834 Easy Terrace': 638, '6058 Fallen Walk': 639, '1773 Amber Walk': 640, '8775 Wishing Pony Byway': 641, '906 Green Treasure Limits': 642, '7191 Jagged Avenue': 643, '2395 Misty Carrefour': 644, '516 Dewy Bluff Swale': 645, '2225 Crystal Beach': 646, '18 Golden Point': 647, '9540 Little Vista': 648, '7814 Colonial Autumn Line': 649, '2538 Quaking Hills Ramp': 650, '6174 Bright Vista': 651, '141 Dewy Plaza': 652, '3922 Grand Crescent': 653, '8093 Old Autumn Green': 654, '7658 Hazy Mountain Plaza': 655, '8153 Golden Timber Parkway': 656, '1040 Quaking Mountain Heath': 657, '4770 Hidden Heath': 658, '4110 Hidden Private': 659, '8212 Broad Circle': 660, '9188 Red Highway': 661, '4599 Grand Route': 662, '9699 Cotton Autoroute': 663, '672 Umber Vista': 664, '6502 Hazy Promenade': 665, '5588 Merry Panda Park': 666, '5707 Indian Barn Road': 667, '2205 Red Arbor': 668, '3294 Hazy Creek Farm': 669, '6867 Honey Heights': 670, '1303 Dewy Square': 671, '3233 Silent Dale Manor': 672, '3796 Lost Hollow': 673, '7262 Cotton Arbor': 674, '8344 Colonial Maze': 675, '6651 Quaking Highlands': 676, '6580 Iron Wagon  Inlet': 677, '4675 Sleepy Rise': 678, '3815 Tawny Swale': 679, '1982 Rocky Parkway': 680, '5406 Round Bear Parkway': 681, '3841 Dewy Subdivision': 682, '5234 Clear Horse Townline': 683, '9234 Lost Bay': 684, '9761 Broad Crossing': 685, '5292 Misty Goose Street': 686, '3719 Silver Key': 687, '5372 Heather Anchor Canyon': 688, '1202 Quaking Embers Link': 689, '3586 Clear Key': 690, '7975 Honey Valley': 691, '252 Honey Embers Canyon': 692, '6682 Hidden Estates': 693, '4788 Gentle Wynd': 694, '1792 Thunder Pines': 695, '3557 Grand Expressway': 696, '4135 Broad Blossom Crossing': 697, '5553 Gentle Link': 698, '3339 Noble Dale': 699, '7596 Quaking Quay': 700, '3944 Hidden Round': 701, '8426 Umber Gardens': 702, '7864 Lazy Deer Jetty': 703, '5463 Heather Abbey': 704, '3510 Dusty Zephyr Range': 705, '4543 Cinder Link': 706, '5652 Merry Gate Pathway': 707, '8610 Sunny Rise Wynd': 708, '1832 Indian Branch Beach': 709, '1108 Lost Campus': 710, '872 Bright Leaf Vista': 711, '3238 Pleasant Leaf Thicket': 712, '214 Lost Apple Close': 713, '7829 Easy Estates': 714, '3047 Foggy Forest Plaza': 715, '7383 Broad Parkway': 716, '4571 Rustic Highlands': 717, '8399 Cotton Crossing': 718, '4609 High Townline': 719, '4720 Colonial Blossom Run': 720, '5931 Foggy Shadow Beach': 721, '8503 Shady Autumn Drive': 722, '4791 Heather Cider Orchard': 723, '9882 Cotton Abbey': 724, '9439 Pleasant Rise Falls': 725, '3202 Dewy Route': 726, '1991 Indian Horse Range': 727, '7980 Little Rise Village': 728, '8297 Easy Thicket': 729, '8550 Emerald Apple Alley': 730, '3909 Clear Mount': 731, '2893 Shady Drive': 732, '1548 Lazy Circuit': 733, '7430 Clear Beacon Vista': 734, '7231 Silent Square': 735, '4466 Little Grove': 736, '5393 Shady Passage': 737, '5714 Fallen Prairie Woods': 738, '4101 Crystal Range': 739, '2329 Sunny View Corner': 740, '8988 Thunder Circle': 741, '6779 Iron Woods': 742, '1761 Sleepy River Canyon': 743, '3309 Grand Circuit': 744, '5763 Grand Maze': 745, '4293 Misty Route': 746, '5926 Emerald Elk Diversion': 747, '1831 Honey Hickory Mount': 748, '681 Tawny Range': 749, '8237 Silent Pioneer Heights': 750, '4968 Honey Pine Island': 751, '3938 Old Field': 752, '4927 Dewy Farms': 753, '1465 Quaking Ledge': 754, '3216 Rocky Centre': 755, '2541 Merry Fawn Via': 756, '1112 Sunny Pond Wood': 757, '8927 Broad Embers Corners': 758, '1632 Honey Abbey': 759, '8584 Golden By-pass': 760, '8824 Jagged Cape': 761, '5407 Rustic Forest Pines': 762, '3601 Foggy Timber Gate': 763, '8249 Cotton Wood': 764, '3470 Clear Estates': 765, '454 Old Glade': 766, '4839 Lazy View': 767, '9553 Jagged Limits': 768, '6081 Burning Grounds': 769, '325 Misty Forest': 770, '7302 Cinder Autoroute': 771, '3570 Stony View': 772, '4863 Indian Lane': 773, '9761 Grand Shadow Extension': 774, '5406 Misty Timber End': 775, '2269 Rocky Swale': 776, '8598 Harvest Beacon Plaza': 777, '4485 Hidden Timber Alley': 778, '3422 Jagged Willow Way': 779, '3482 Indian Pony Towers': 780, '2704 Silent Pine Corner': 781, '245 Green Range': 782, '8688 Amber Creek Round': 783, '2186 Easy Creek Key': 784, '2525 Thunder Loop': 785, '9706 Honey Alley': 786, '7368 Blue Road': 787, '7628 Rustic Anchor Point': 788, '1674 Lost Diversion': 789, '4423 Little Mews': 790, '1120 Clear Crossing': 791, '1756 Quiet Estates': 792, '7312 Wishing Forest Highway': 793, '1247 Tawny Berry Court': 794, '7957 Merry Common': 795, '5042 Cozy Acres': 796, '9254 Thunder Meadow': 797, '7760 Golden Limits': 798, '7824 Cinder Fawn Manor': 799, '8908 Golden Thicket': 800, '8916 Quaking Creek Trail': 801, '1491 Little Robin Way': 802, '5292 Heather Zephyr Forest': 803, '6997 Amber Common': 804, '398 Emerald Grove': 805, '1039 Red Towers': 806, '654 Foggy Point': 807, '4772 Indian Alley': 808, '2926 Red Park': 809, '9133 Cotton Robin Vale': 810, '3193 Crystal Centre': 811, '9406 Fallen Grove Pathway': 812, '355 Wishing Rise Ledge': 813, '2839 Red Robin Lookout': 814, '9673 Broad View Key': 815, '1866 Velvet Forest Field': 816, '7016 Grand Link': 817, '7559 Quiet Nectar Grounds': 818, '4767 Wishing Round': 819, '1621 Quaking Oak Run': 820, '1043 Wishing Bear Ramp': 821, '9022 Lazy Bend': 822, '1327 Pleasant Berry Park': 823, '753 Emerald Pine Glen': 824, '2745 Heather Quail Parkway': 825, '8183 Umber Link': 826, '3644 Dewy Lake Subdivision': 827, '7420 Old Embers Hill': 828, '8460 Dewy Nook': 829, '7179 Fallen Creek Link': 830, '523 Wishing Mountain Extension': 831, '9720 Colonial Trail': 832, '1096 Cozy Point': 833, '9871 Cotton Highway': 834, '7041 Rustic Pathway': 835, '2589 Iron Pines': 836, '661 Lost Ridge': 837, '3465 Little Anchor Place': 838, '37 Lost Hills Maze': 839, '9776 Emerald End': 840, '4776 Indian Deer Downs': 841, '437 Heather Quail Concession': 842, '3032 Dusty Loop': 843, '762 Misty Farm': 844, '1269 Rocky Brook Hollow': 845, '4343 Wishing River Subdivision': 846, '9695 Misty Court': 847, '395 Quiet Pony Loop': 848, '3543 Crystal Bear Forest': 849, '3582 Quiet Cider Lane': 850, '6692 Lazy Route': 851, '372 Misty Vale': 852, '633 Shady Blossom Edge': 853, '760 Sleepy Key': 854, '4212 Honey Trail': 855, '9684 Middle Forest Autoroute': 856, '7767 Hidden Place': 857, '4581 Emerald Gate Park': 858, '8839 Quiet Leaf Range': 859, '5865 Tawny Downs': 860, '6317 Golden Bear Dell': 861, '7595 Quiet Nectar Circuit': 862, '5010 Emerald Hollow': 863, '6471 Gentle Bank': 864, '4439 Tawny Mall': 865, '9089 Round Willow Route': 866, '5723 Stony Valley': 867, '9729 Stony Dale Range': 868, '4021 Rocky Prairie Gardens': 869, '4062 Clear Pond Circuit': 870, '4388 Burning Goose Ridge': 871, '3141 Misty Lookout': 872, '5263 Hidden Bay': 873, '9650 Foggy Nectar Heath': 874, '3178 Fallen Robin Road': 875, '2407 Thunder Mountain': 876, '7136 Cozy Bear Mountain': 877, '5436 Hazy Creek Edge': 878, '5860 Hidden Parkway': 879, '7861 Grand Point': 880, '7681 Quaking Pines': 881, '6030 Honey Pond Thicket': 882, '3488 Grand River Townline': 883, '3587 Blue Mall': 884, '3737 Blue Path': 885, '9686 Stony Zephyr Ledge': 886, '4186 Wishing Pine Subdivision': 887, '250 Easy Jetty': 888, '8445 Noble Timber Subdivision': 889, '3309 Merry Falls': 890, '8094 Noble Heights': 891, '4629 Dusty Pony Highway': 892, '1816 Sunny Forest Parkway': 893, '9741 Dewy Bluff Maze': 894, '805 Rustic Prairie Carrefour': 895, '2355 Velvet Hickory Crest': 896, '2035 Crystal Campus': 897, '2556 Broad Wharf': 898, '8913 Pleasant Rabbit Quay': 899, '9843 Grand Circle': 900, '9008 Old Lane': 901, '7871 Quiet Abbey': 902, '5032 Little Branch Stead': 903, '4839 Red Apple Arbor': 904, '2199 Dewy Leaf Orchard': 905, '2407 Foggy Acres': 906, '6175 Golden Glade': 907, '2674 Quaking Wagon Range': 908, '5477 Velvet Falls': 909, '2770 Hazy Dale': 910, '5768 Gentle Nectar Chase': 911, '3880 Dusty Place': 912, '6447 Easy Close': 913, '2584 Lost Square': 914, '3750 Green Anchor Orchard': 915, '6772 Broad Fawn Park': 916, '465 Rustic Horse Heath': 917, '2650 Rocky Stead': 918, '2749 Green Cider Green': 919, '6724 Crystal Dale': 920, '7420 Crystal View Acres': 921, '1996 Crystal Via': 922, '5824 Honey Glade': 923, '9714 Quaking Elk Green': 924, '5198 Colonial Loop': 925, '2877 Foggy Hickory Mews': 926, '9753 Little Willow Estates': 927, '9879 Foggy View Mountain': 928, '7802 Wishing Wood': 929, '3544 Gentle Concession': 930, '5408 Hidden Cider Forest': 931, '8461 Wishing Mountain Walk': 932, '3051 Lost Spring Ledge': 933, '4949 Easy Beacon Crest': 934, '3271 Amber Downs': 935, '8646 Colonial Hills Freeway': 936, '9706 Rustic Route': 937, '6415 Harvest Vista': 938, '720 Harvest Harbour': 939, '2805 Crystal Moor': 940, '444 Pleasant Abbey': 941, '8055 Fallen Parkway': 942, '8988 Shady Park': 943, '7301 Shady Autumn Trail': 944, '1020 Shady Green': 945, '5010 Dusty Gate': 946, '4715 Round Lake Link': 947, '7096 Foggy Court': 948, '7713 Colonial Estates': 949, '2923 Quiet Pathway': 950, '3033 Old Pioneer Loop': 951, '1927 Harvest Lane': 952, '1525 Golden Nectar Edge': 953, '8544 Silent Treasure Thicket': 954, '1607 Hazy Butterfly Swale': 955, '5016 Silent Diversion': 956, '9731 Round Horse Villas': 957, '8667 Iron Arbor': 958, '9420 Honey Grove Mews': 959, '14 Dusty Lake Beach': 960, '9809 Indian Berry Hollow': 961, '3663 Thunder Blossom Bank': 962, '3440 Emerald Knoll': 963, '6692 Round Hill': 964, '9514 Old Branch Highway': 965, '5292 Shady Pony Cape': 966, '5085 Iron Vale': 967, '7775 Sleepy Farm': 968, '7381 Green Autoroute': 969, '5192 Foggy Elk Village': 970, '4210 Silver Heights': 971, '8852 Shady Glade': 972, '414 Colonial Carrefour': 973, '9183 Velvet Deer Circuit': 974, '9279 Quaking Key': 975, '8039 Grand Trail': 976, '5509 Golden Sky Towers': 977, '1795 Thunder Ramp': 978, '7302 Cotton Freeway': 979, '8310 Broad Centre': 980, '4788 Quaking Stead': 981, '8400 Harvest Blossom Gardens': 982, '3178 Golden Villas': 983, '7868 Iron Fawn Mall ': 984, '7628 Foggy Brook Passage': 985, '1987 Gentle Passage': 986, '5961 Clear Willow Farms': 987, '4970 Silent River Parade': 988, '5193 Crystal Anchor Path': 989, '720 Cozy Street': 990, '2060 Cotton Quail Heights': 991, '4320 Iron Highlands ': 992, '6081 Stony Arbor': 993, '2246 Sunny Lake Via': 994, '6724 High Chase ': 995, '3450 Quiet Hickory Harbour': 996, '1761 Noble Barn Heath': 997, '9226 Emerald Pony Farm': 998, '3278 Cotton Crest ': 999, '3914 Crystal Barn Cove': 1000, '5198 Rustic Route': 1001, '797 Heather Thicket ': 1002, '6370 Emerald Row': 1003, '6997 Middle Acres ': 1004, '1777 High Alley ': 1005, '8547 Misty Carrefour': 1006, '7130 Cotton Avenue': 1007, '8762 Shady Cloud Thicket': 1008, '8689 Merry Farm': 1009, '2878 Hazy Wagon  Thicket': 1010, '8284 Clear Dell': 1011, '2977 Emerald Swale': 1012, '3671 Sunny Cove': 1013, '6332 Clear Square': 1014, '8675 Stony Moor': 1015, '4490 Amber Rise': 1016, '866 Burning Street': 1017, '6967 Blue River Island': 1018, '437 Cozy Log Range': 1019, '6228 Cozy Treasure Round': 1020, '2915 Round Byway': 1021, '5995 Hazy Avenue': 1022, '1525 Jagged Barn Highlands': 1023, '6459 Red Alley': 1024, '4379 Rocky Diversion': 1025, '245 Lost Way': 1026, '6104 Rocky Sky Vale': 1027, '7349 Quaking Vista': 1028, '3499 Golden Ridge': 1029, '1293 Pleasant Bank': 1030, '1492 Emerald Terrace': 1031, '3543 Red Treasure Bay': 1032, '3332 High Wharf': 1033, '7247 Honey Prairie Field': 1034, '6391 Golden Promenade': 1035, '7940 Shady Blossom Lane': 1036, '2789 Honey Cove': 1037, '5486 Broad Autumn Boulevard': 1038, '7107 Blue Rise Place': 1039, '7580 Sleepy Boulevard': 1040, '6231 Silver Lookout': 1041, '8804 Fallen Cider Ridge': 1042, '866 Cinder Cape': 1043, '2676 Jagged Key': 1044, '9667 Cinder Bend': 1045, '2704 High Leaf Glen': 1046, '8679 Colonial Isle': 1047, '4210 Dewy Hill': 1048, '9003 Easy Gate Drive': 1049, '2898 Quaking Orchard': 1050, '8492 Round Path': 1051, '2225 Quiet Woods': 1052, '4543 Red Private': 1053, '7111 Indian Island Glade': 1054, '1777 Cozy Island': 1055, '6580 High Circle': 1056, '6471 Dusty Limits': 1057, '1071 Cotton Lane': 1058, '9598 Iron Park': 1059, '9393 Easy Towers': 1060, '4232 Harvest Creek Swale': 1061, '852 Green Private': 1062, '5079 Velvet Hickory By-pass': 1063, '8182 Broad Port': 1064, '6095 Misty Cloud Rise': 1065, '5234 Grand Pioneer Link': 1066, '4601 Golden Anchor Valley': 1067, '6025 Cotton Pond Farm': 1068, '1674 Amber Loop': 1069, '2391 Cinder Passage': 1070, '6888 Dewy Nectar Inlet': 1071, '9404 Misty Robin Abbey': 1072, '5364 Blue Blossom Jetty': 1073, '7533 Thunder Wagon  Beach': 1074, '4543 Emerald Lake Grounds': 1075, '8580 Jagged Autoroute': 1076, '3616 Quaking Street': 1077, '5193 Foggy Apple Jetty': 1078, '7592 Heather Circuit': 1079, '2205 Broad Square': 1080, '8615 Velvet River Knoll': 1081, '2407 Bright Blossom Mall ': 1082, '6924 Lazy Embers Pathway': 1083, '6718 Stony Gate Vale': 1084, '4079 Green Swale': 1085, '1082 Clear Rise': 1086, '5104 Rustic Downs': 1087, '2330 Green Concession': 1088, '8791 Blue Arbor': 1089, '8335 Little Rise Downs': 1090, '8777 Old Arbor': 1091, '1764 Thunder View Quay': 1092, '4863 Cinder Pointe': 1093, '5676 Wishing Hill': 1094, '7851 Clear Rise Edge': 1095, '4922 Middle Hills Promenade': 1096, '2749 Bright Falls': 1097, '9781 Tawny Nectar Park': 1098, '5913 Umber Orchard': 1099, '6332 Round Range ': 1100, '2457 Blue Hills Heights': 1101, '921 Broad Chase ': 1102, '3939 Easy Fawn Nook': 1103, '417 Hidden Rabbit Crossing': 1104, '7621 Fallen Hollow': 1105, '5319 Grand Dale Street': 1106, '1497 Little Walk': 1107, '6076 Sleepy Manor ': 1108, '9918 Lazy Cape': 1109, '2858 Cinder Path': 1110, '3327 Indian Centre': 1111, '7072 Blue Sky Island': 1112, '1555 Crystal Rise Forest': 1113, '8533 High Rabbit Cape': 1114, '7814 Old Glen': 1115, '4182 Indian Pond Freeway': 1116, '2805 Silver Glade': 1117, '852 Hazy Gate Circuit': 1118, '690 Cozy Meadow': 1119, '4189 Bright Rise By-pass': 1120, '2136 Silver Canyon': 1121, '3980 Cozy Bay': 1122, '9602 Cotton River Manor': 1123, '2737 Pleasant Parade': 1124, '3867 Bright Zephyr Ledge': 1125, '4355 Gentle Abbey': 1126, '2455 Cotton Limits': 1127, '1223 Cozy Mountain Stead': 1128, '1865 Bright Dale Walk': 1129, '1632 Dewy Lane': 1130, '5546 Gentle Point': 1131, '2963 Indian Elk Pathway': 1132, '3253 Colonial Embers Vista': 1133, '2857 Honey Terrace': 1134, '2889 Sleepy Freeway': 1135, '6340 Merry Blossom Boulevard': 1136, '7168 Indian Circuit': 1137, '9099 Shady Round': 1138, '9891 Golden Panda Highlands': 1139, '6715 Blue Run': 1140, '4291 Dewy Hickory Ramp': 1141, '7257 Thunder Quail Maze': 1142, '7002 Blue Place': 1143, '3247 Shady Timber Loop': 1144, '3245 Cotton Bear Villas': 1145, '7732 Honey Dale': 1146, '2287 Foggy Apple Dell': 1147, '9296 Hazy Goose Bend': 1148, '6476 Green Pony Manor': 1149, '2649 Bright Ledge': 1150, '6007 Wishing Common': 1151, '5834 Cotton Robin Village': 1152, '6460 Iron Wynd': 1153, '628 Misty Street': 1154, '8977 Sunny Dale Run': 1155, '961 Crystal Farm': 1156, '1632 Fallen Robin Quay': 1157, '5795 Lazy View Concession': 1158, '3810 Crystal Plaza': 1159, '3724 High Circuit': 1160, '6640 Golden Avenue': 1161, '8055 Iron Ridge': 1162, '8361 Misty Subdivision': 1163, '7373 Heather Nook': 1164, '119 Round Vale': 1165, '1690 Cinder Deer Chase': 1166, '7810 Round Corners': 1167, '18 Amber Orchard': 1168, '5995 Dusty Highway': 1169, '5284 Quiet Field': 1170, '9889 Blue Treasure Circuit': 1171, '5676 Gentle Square': 1172, '760 Lazy Pines': 1173, '4554 Indian Point': 1174, '6310 Shady View Square': 1175, '889 Blue Ridge': 1176, '7717 Amber Woods': 1177, '9255 Thunder Butterfly Parkway': 1178, '2433 Noble Bear Beach': 1179, '197 Quaking Trail': 1180, '1315 Honey Rabbit Link': 1181, '8063 Golden Street': 1182, '5041 Honey Round': 1183, '4255 Dusty Gate Walk': 1184, '9790 Cinder Autumn Expressway': 1185, '4720 Noble Hills Wynd': 1186, '9986 Wishing Stead': 1187, '6425 Thunder Impasse': 1188, '2845 Jagged Oak Vale': 1189, '6925 Sunny Horse Impasse': 1190, '7271 Rustic End': 1191, '9890 Pleasant Highway': 1192, '4171 Stony Fawn Pike': 1193, '8621 Broad Forest': 1194, '872 Quaking Bluff Freeway': 1195, '5076 Amber Blossom Hollow': 1196, '1454 Blue Circuit': 1197, '5593 Blue Anchor Avenue': 1198, '8908 Lazy By-pass': 1199, '771 Noble Parkway': 1200, '3549 Middle Gate Towers': 1201, '3133 Rocky Campus': 1202, '1550 Rustic Grove Farms': 1203, '1440 Wishing Point': 1204, '3856 Heather Island Ridge': 1205, '777 Blue Hills Court': 1206, '633 Blue Bear Edge': 1207, '9077 Honey Route': 1208, '9674 Shady Gardens': 1209, '5593 Merry Pine Dell': 1210, '7585 Fallen Berry Green': 1211, '8263 Harvest Estates': 1212, '599 Sleepy Townline': 1213, '7392 Pleasant Horse Orchard': 1214, '8056 Golden Log Bend': 1215, '1531 Jagged Dale Heath': 1216, '9447 Dusty Beacon Turnabout': 1217, '287 Round Thicket': 1218, '4546 Golden Hills Ridge': 1219, '8340 Misty Anchor Private': 1220, '6630 Sleepy Mews': 1221, '6281 Round Farm': 1222, '2280 High Hill': 1223, '2122 Red Hollow': 1224, '9524 Rocky Loop': 1225, '475 Colonial Autoroute': 1226, '805 Amber Hills Crossing': 1227, '6629 Iron Embers View': 1228, '5335 Foggy Jetty': 1229, '9696 Lost Parade': 1230, '2089 Old Avenue': 1231, '2199 Hazy Creek Farms': 1232, '4616 Red Anchor Gardens': 1233, '8943 Thunder Close': 1234, '229 Dewy Road': 1235, '4906 Umber Lookout': 1236, '8546 Thunder Goose Inlet': 1237, '2469 Blue Brook Crossing': 1238, '8684 Golden Point': 1239, '5995 Shady Anchor Canyon': 1240, '3261 Little Meadow': 1241, '7494 Emerald Terrace': 1242, '5721 Rocky Pond Glade': 1243, '1191 Merry Rabbit Acres': 1244, '7732 Lazy View Crest': 1245, '4948 Stony Close': 1246, '4494 Harvest Bay': 1247, '6847 Broad Orchard': 1248, '7798 Dusty Path': 1249, '2311 Green Zephyr Rise': 1250, '3899 Blue Nook': 1251, '6159 Amber Place': 1252, '5382 Cinder Mountain': 1253, '8510 Harvest Lake Parade': 1254, '710 Rustic Inlet': 1255, '6734 Grand Leaf Pathway': 1256, '7331 Velvet Fox Walk': 1257, '1534 Cinder View Thicket': 1258, '223 Sleepy Trace': 1259, '9503 Hazy Pine Edge': 1260, '7087 Middle Loop': 1261, '2743 Velvet Timber Carrefour': 1262, '2577 Dewy Apple Abbey': 1263, '1509 Burning Spring Vista': 1264, '5131 Honey Spring Farm': 1265, '3051 Dewy Creek Harbour': 1266, '5387 Amber Campus': 1267, '7175 Pleasant View': 1268, '7509 Dewy Key': 1269, '8549 Dusty View Mountain': 1270, '6231 Fallen Range': 1271, '5399 Velvet Terrace': 1272, '8172 Jagged Pond Vale': 1273, '4462 Burning Fox Mall ': 1274, '8963 Hidden Panda Meadow': 1275, '423 Quaking Plaza': 1276, '8382 Rustic Branch Dale': 1277, '1070 Wishing Panda Ramp': 1278, '6759 Clear Maze': 1279, '6829 Umber Isle': 1280, '3886 Silent View Range': 1281, '3913 Old Link': 1282, '3460 Misty Elk Diversion': 1283, '7274 Blue Wagon  Villas': 1284, '852 Rocky Brook Mountain': 1285, '1936 Hazy Goose Mount': 1286, '4062 Dusty Quail Ridge': 1287, '4972 Rocky Street': 1288, '7762 Rocky Carrefour': 1289, '3261 Heather Estates': 1290, '1321 Honey Embers Mount': 1291, '100 Clear Forest Highway': 1292, '6072 Heather Landing': 1293, '1655 Foggy Rise Swale': 1294, '7668 Rustic Route': 1295, '1777 High Alley': 1296, '3611 Crystal Pony Park': 1297, '4352 Quiet Horse Via': 1298, '3006 Sleepy Leaf Farm': 1299, '4197 Emerald Hollow': 1300, '7130 Velvet Jetty': 1301, '8321 Little Stead': 1302, '4729 Quiet Dale Limits': 1303, '9889 Little Blossom Wood': 1304, '7449 Sleepy Edge': 1305, '8688 Fallen Anchor Lookout': 1306, '9393 Honey Autoroute': 1307, '6716 Wishing Pioneer Thicket': 1308, '9299 Heather Deer Pathway': 1309, '3019 Old Mews': 1310, '7370 Sunny Mountain': 1311, '1467 Wishing Anchor Centre': 1312, '4113 Merry Barn Expressway': 1313, '9666 Middle Oak Bank': 1314, '5224 Sleepy Townline': 1315, '5482 Amber Park': 1316, '1475 Red Berry Village': 1317, '4563 Silver Rabbit Island': 1318, '7464 Quaking Stead': 1319, '3033 Tawny Zephyr Cape': 1320, '5860 Grand Limits': 1321, '2557 Gentle Treasure Extension': 1322, '9749 Red Barn Harbour': 1323, '2845 Misty Mountain Freeway': 1324, '3257 Sleepy View Downs': 1325, '7780 Cozy Pond Court': 1326, '436 Noble Shadow Estates': 1327, '521 Fallen Lagoon Glade': 1328, '8093 Green Leaf Vista': 1329, '952 Misty Brook Highlands': 1330, '3888 Rustic Line': 1331, '1800 Tawny Zephyr Terrace': 1332, '2104 Green Landing': 1333, '4352 Hazy Hickory Road': 1334, '4712 Quiet Sky Close': 1335, '1116 Hazy Path': 1336, '4849 Foggy Zephyr Cape': 1337, '5645 Sunny Spring Gate': 1338, '826 Tawny Embers Expressway': 1339, '8560 Rustic Pond Promenade': 1340, '5892 Emerald Shadow Boulevard': 1341, '7620 Thunder Gate': 1342, '7763 Emerald Route': 1343, '8613 Merry Lagoon Freeway': 1344, '2104 Burning Mount': 1345, '1133 Cozy Embers Plaza': 1346, '8407 Colonial Cloud Mall ': 1347, '595 Sunny Line': 1348, '7588 High Way': 1349, '8428 Blue Prairie Farm': 1350, '5193 Jagged Island Place': 1351, '6997 Middle Acres': 1352, '9986 Lost Ridge': 1353, '3393 Tawny Extension': 1354, '4900 Colonial Beacon Village': 1355, '805 Colonial Prairie Turnabout': 1356, '8609 Grand Harbour': 1357, '9181 Colonial Bear Lookout': 1358, '4560 Hidden Ridge': 1359, '6132 Wishing Island Avenue': 1360, '4851 Green Rise': 1361, '7601 Pleasant Barn Run': 1362, '5731 Golden Cider Pike': 1363, '8813 Cozy Gate Hill': 1364, '1595 Velvet Gate Island': 1365, '2125 Gentle Cove': 1366, '5717 Quiet Dell': 1367, '7381 Cozy Horse Path': 1368, '6581 Lazy Forest Centre': 1369, '2797 Golden Ramp': 1370, '9235 Red Crossing': 1371, '3758 Sunny Mall ': 1372, '5578 Hazy River End': 1373, '6324 Jagged Orchard': 1374, '6317 Stony Fawn Glade': 1375, '8666 Hidden Robin Farms': 1376, '109 Hazy Heath': 1377, '8018 Cozy Deer Port': 1378, '2803 Hidden Willow Estates': 1379, '4600 Fallen Range': 1380, '2499 Heather Highlands': 1381, '3495 Wishing Landing': 1382, '4691 Broad Arbor': 1383, '1507 Hazy Elk Path': 1384, '5737 Honey Panda Trail': 1385, '7832 Wishing Court': 1386, '7740 Emerald Shadow Swale': 1387, '1333 Merry Townline': 1388, '1513 Sunny Plaza': 1389, '2934 Merry Impasse': 1390, '5138 Quiet Via': 1391, '1825 Quiet By-pass': 1392, '1966 Broad Run': 1393, '9317 Emerald Route': 1394, '5283 Golden Edge': 1395, '3601 Hazy Blossom Farm': 1396, '4132 Broad Gate Lane': 1397, '182 Bright Embers Cove': 1398, '5328 Lazy Landing': 1399, '3493 High Apple Walk': 1400, '5759 Little Timber By-pass': 1401, '6608 Bright Creek Limits': 1402, '733 Tawny Nectar Link': 1403, '7923 Rustic Elk Heights': 1404, '2071 Shady Wagon  Park': 1405, '6146 Dewy Jetty': 1406, '8368 Golden Alley': 1407, '1449 High Carrefour': 1408, '1286 Sunny Link': 1409, '5365 Rocky Panda Vista': 1410, '5319 Fallen Wagon  Pike': 1411, '9493 Harvest Prairie Corner': 1412, '5864 Crystal Cloud Bend': 1413, '3367 Merry Mews': 1414, '6199 Blue Highway': 1415, '2049 Silver Byway': 1416, '9767 Merry Manor': 1417, '9832 Bright Pioneer Lane': 1418, '6767 Shady Chase': 1419, '6234 Honey Grove Expressway': 1420, '1358 Middle Dale Field': 1421, '4251 Iron Robin Falls': 1422, '2585 Dewy Panda Centre': 1423, '8929 Harvest Promenade': 1424, '1396 Pleasant Barn Beach': 1425, '4480 Hidden Rabbit Link': 1426, '5567 Rocky Mountain By-pass': 1427, '902 Little Falls': 1428, '5722 Amber Manor': 1429, '4393 Noble Creek Beach': 1430, '8187 Merry Pony Field': 1431, '2409 Misty Acres': 1432, '6472 Lazy Pine Bank': 1433, '8696 Silent Beacon Landing': 1434, '1250 Quiet Deer Maze': 1435, '5645 Quaking Anchor Path': 1436, '414 Sleepy Alley': 1437, '593 Silent Dale Pointe': 1438, '5443 Hazy Pond Way': 1439, '6188 Lazy Island Mall ': 1440, '7658 Foggy Prairie Maze': 1441, '9854 Wishing Isle': 1442, '5961 Hidden Village': 1443, '3374 Gentle Elk Centre': 1444, '3124 Clear Pony By-pass': 1445, '586 Golden Hickory Valley': 1446, '2104 Fallen Limits': 1447, '2830 Velvet Pathway': 1448, '8707 Shady Route': 1449, '1071 Merry Carrefour': 1450, '6759 Foggy Limits': 1451, '40 Gentle Zephyr Moor': 1452, '8666 High Hickory Route': 1453, '7106 Rustic Brook Byway': 1454, '4725 Noble Rise Ridge': 1455, '8434 Pleasant Forest': 1456, '8548 Dusty Subdivision': 1457, '4877 Little Moor': 1458, '4545 Middle Pine Chase': 1459, '6547 Sunny Isle': 1460, '8494 Rocky Crossing': 1461, '9329 Grand Shadow Canyon': 1462, '9414 Fallen Hickory Wood': 1463, '5842 Emerald Oak Highlands': 1464, '6876 Grand Park': 1465, '4174 Dewy Pioneer Court': 1466, '6764 Quaking Berry Corners': 1467, '7314 Grand Treasure Highway': 1468, '1023 Merry Canyon': 1469, '7274 Bright Leaf Bank': 1470, '4579 Lost Beach': 1471, '9462 Round Island': 1472, '1052 Golden Deer Lookout': 1473, '4672 Easy Alley': 1474, '1711 Sunny Quay': 1475, '4436 Old Villas': 1476, '4105 Silver Quail Mount': 1477, '707 Silent Villas': 1478, '6220 Little Key': 1479, '5666 Hazy Pony Square': 1480, '3440 Noble Grounds': 1481, '930 Misty Brook Corners': 1482, '4167 Shady Passage': 1483, '7479 Hidden Village': 1484, '3760 Middle Hill': 1485, '1557 Harvest Pond Canyon': 1486, '8771 Dewy Blossom Point': 1487, '3601 Rustic Branch Gate': 1488, '6007 Velvet Maze': 1489, '6517 Old Forest Wynd': 1490, '7620 Misty Highlands': 1491, '9397 Little Goose Subdivision': 1492, '923 Little Bend': 1493, '2690 Blue Cloud By-pass': 1494, '905 Blue Cape': 1495, '7362 Jagged Cape': 1496, '8987 Foggy Hill': 1497, '9463 Tawny Place': 1498, '5408 Dusty Cloud Gardens': 1499, '7829 Umber Nook': 1500, '3123 Clear Zephyr End': 1501, '8407 Silent Elk Woods': 1502, '8460 Blue Lane': 1503, '4927 Rocky Jetty': 1504, '7122 Iron Villas': 1505, '1565 Emerald Field': 1506, '2929 Easy Barn Byway': 1507, '7497 Sunny Shadow Walk': 1508, '5352 Silver Acres': 1509, '5271 Noble Brook Common': 1510, '3668 Grand Rise Private': 1511, '3927 Indian Village': 1512, '2331 Amber Parade': 1513, '5271 Quaking Deer Bend': 1514, '7494 Amber Extension': 1515, '3387 Hazy Timber Path': 1516, '3979 Foggy Nectar Meadow': 1517, '9922 Round Forest Knoll': 1518, '2394 Burning Robin Isle': 1519, '6473 Easy Parade': 1520, '2456 Lost Front': 1521, '5418 Bright Knoll': 1522, '8497 Indian Pine Bend': 1523, '9050 Iron Apple Landing': 1524, '905 Little Farms': 1525, '7502 Foggy Lookout': 1526, '7471 Easy Edge': 1527, '3587 Thunder Rise': 1528, '9069 Heather River Pathway': 1529, '6774 Green Bluff Bank': 1530, '1975 Umber Beacon Jetty': 1531, '3313 Silver Expressway': 1532, '1124 Silent Pine Harbour': 1533, '231 Cinder Jetty': 1534, '6580 Thunder Village': 1535, '5401 Hidden Island Hollow': 1536, '5589 Cinder Berry Heights': 1537, '9551 Jagged Pond Round': 1538, '4922 Burning Gate Dell': 1539, '4746 Green Hills Promenade': 1540, '9816 Velvet Deer Canyon': 1541, '4392 Burning Farms': 1542, '7698 Bright Grove Island': 1543, '3922 Easy Manor': 1544, '6150 Gentle Hickory Green': 1545, '3064 Colonial Cove': 1546, '5945 Clear Street': 1547, '5953 Sleepy Heights': 1548, '4221 Merry Highlands': 1549, '4317 Silver Crossing': 1550, '5908 Shady Log Forest': 1551, '9871 Cozy Pioneer Mountain': 1552, '5404 Silent Barn Run': 1553, '7640 Honey Apple Route': 1554, '268 Velvet Close': 1555, '9533 Little Forest': 1556, '1213 Cotton Pike': 1557, '1828 Iron Goose Mount': 1558, '7092 Pleasant Promenade': 1559, '1981 Thunder Zephyr Edge': 1560, '9079 Stony Brook Extension': 1561, '7571 Tawny Gate Cape': 1562, '8944 Red Place': 1563, '9990 Merry Leaf Passage': 1564, '9994 Green Jetty': 1565, '4560 Thunder Rise': 1566, '7086 Misty Rise Expressway': 1567, '5779 Hazy Deer Limits': 1568, '7381 Dusty Beacon Walk': 1569, '6548 Lazy Cove': 1570, '1040 Shady Horse Limits': 1571, '154 Emerald Row': 1572, '4459 Amber Centre': 1573, '3408 Merry River Path': 1574, '2231 Fallen View Beach': 1575, '5567 Shady Forest View': 1576, '1043 Golden Timber Impasse': 1577, '1870 Stony Prairie Bend': 1578, '9080 Blue Rise Drive': 1579, '7971 Broad Villas': 1580, '615 Easy Blossom Vista': 1581, '650 Quiet Spring Autoroute': 1582, '1995 Silent Square': 1583, '9084 Dusty Elk Island': 1584, '8233 Grand Beacon Boulevard': 1585, '2476 Green Leaf Walk': 1586, '6460 Amber Dell': 1587, '2685 Umber Road': 1588, '8548 Heather Gate': 1589, '7538 Red Landing': 1590, '3692 Dewy Butterfly Cape': 1591, '9674 Little Knoll': 1592, '529 Merry Zephyr Heath': 1593, '4741 Red Elk Trail': 1594, '1721 Old Forest Parkway': 1595, '9861 Grand Elk Trace': 1596, '5721 Iron Willow Hollow': 1597, '3137 Old Cider Gardens': 1598, '1804 Shady Maze': 1599, '3178 Silent Rise Square': 1600, '7094 Golden Parade': 1601, '6721 Lost Drive': 1602, '7550 Bright Goose Boulevard': 1603, '6459 Indian Trail': 1604, '9335 Sleepy Meadow': 1605, '4061 Crystal Acres': 1606, '122 Stony Quail Canyon': 1607, '3836 Stony Point': 1608, '4617 Sunny Range': 1609, '2736 Blue Crest': 1610, '7746 Hazy Prairie Drive': 1611, '9650 Easy Autoroute': 1612, '2674 Quaking Wagon  Range': 1613, '9188 Bright Crossing': 1614, '6907 Stony Arbor': 1615, '5810 Sleepy Hill': 1616, '5808 Grand Sky Field': 1617, '6161 Hidden Bluff Trace': 1618, '7518 Noble Parkway': 1619, '4208 High Promenade': 1620, '1744 Little Mews': 1621, '2591 Velvet Log Cape': 1622, '8323 Heather Cape': 1623, '1948 Stony Timber Lookout': 1624, '7422 Noble Thicket': 1625, '3481 Wishing Port': 1626, '1208 Cotton Bluff Carrefour': 1627, '3803 Dusty Edge': 1628, '7760 Fallen Circuit': 1629, '7596 Silent Mews': 1630, '1656 Honey Rise Village': 1631, '1983 Little Falls': 1632, '5351 Old Pine Village': 1633, '141 Honey Way': 1634, '556 Velvet Landing': 1635, '1116 Heather Row': 1636, '183 Cozy Pond Trail': 1637, '8842 Crystal Horse Green': 1638, '3235 Quiet Arbor': 1639, '2122 Clear Rise Common': 1640, '6340 Colonial Branch Park': 1641, '5630 Silent Farms': 1642, '981 Dewy Cove': 1643, '7790 Broad Pond Crossing': 1644, '7591 Colonial Edge': 1645, '7498 Red Willow Subdivision': 1646, '9623 Clear Landing': 1647, '5579 Quiet Nectar Circuit': 1648, '4145 Noble Ridge': 1649, '8414 Wishing Horse Acres': 1650, '9993 Easy Private': 1651, '6528 Round Private': 1652, '4565 Quiet Fox Hill': 1653, '603 Green Sky Promenade': 1654, '6051 Emerald Arbor': 1655, '8205 Silver Treasure Loop': 1656, '8414 Velvet Island Ramp': 1657, '8289 Foggy Meadow': 1658, '4971 Indian Campus': 1659, '1396 Silver Berry Impasse': 1660, '7449 Tawny Glen': 1661, '4575 Middle Crescent': 1662, '5062 Silver Corners': 1663, '363 Green Goose Run': 1664, '1626 Grand Heights': 1665, '1966 Clear Isle': 1666, '1286 Little Stead': 1667, '346 Silver Hickory Village': 1668, '7181 Quiet Log Terrace': 1669, '4702 Hazy Shadow Woods': 1670, '8025 Velvet River Round': 1671, '5824 Bright Key': 1672, '6472 Fallen Pioneer Campus': 1673, '6281 Amber Autumn Hill': 1674, '8696 Gentle Spring Dell': 1675, '7594 Rocky Shadow Vista': 1676, '5767 High Carrefour': 1677, '3412 Blue Beach': 1678, '7362 Lost Circle': 1679, '4263 Old Robin Mount': 1680, '1304 Rustic Isle': 1681, '9676 Silent Centre': 1682, '1820 Iron Zephyr Hill': 1683, '3858 Foggy Autumn Freeway': 1684, '2803 Pleasant Barn Dell': 1685, '6886 Cotton Promenade': 1686, '5709 Quaking Bank': 1687, '3702 Burning Passage': 1688, '6950 Honey Line': 1689, '9218 Round Barn Acres': 1690, '1440 Fallen Private': 1691, '1804 Misty Plaza': 1692, '3752 Silent Gardens': 1693, '3399 Little Dale': 1694, '2127 Cotton Mountain Pointe': 1695, '3880 Gentle Meadow': 1696, '8033 Heather Fox Ridge': 1697, '9095 Amber Pioneer Path': 1698, '5907 Broad Pond Chase': 1699, '8341 Lost Forest': 1700, '5450 Easy Thicket': 1701, '5514 Fallen Round': 1702, '3202 Fallen Point': 1703, '7213 Sleepy Cove': 1704, '1099 Silent Thicket': 1705, '3944 Burning Mall ': 1706, '1859 Sunny Quay': 1707, '3051 Old Bluff Port': 1708, '1491 Merry Lake Grove': 1709, '2171 Amber Fawn Lookout': 1710, '3741 Sunny Lane': 1711, '2544 Broad Brook View': 1712, '5480 Clear Branch Round': 1713, '3836 Shady Island Stead': 1714, '4055 Stony Anchor Forest': 1715, '3312 Harvest Horse Chase': 1716, '1965 Shady Robin Townline': 1717, '9658 Rocky Hill': 1718, '7509 Harvest Highlands': 1719, '2275 Old Grove Heights': 1720, '7538 High Heights': 1721, '3983 Golden By-pass': 1722, '6517 Hazy Wagon  Walk': 1723, '1706 Colonial Plaza': 1724, '9929 Hidden Berry Campus': 1725, '2584 Round Square': 1726, '2905 Quiet River Trail': 1727, '4288 Hazy Alley': 1728, '7516 Hidden Valley': 1729, '6040 Sunny Bay': 1730, '2075 Honey Panda Dell': 1731, '1557 Heather Leaf Plaza': 1732, '5647 Indian Embers Key': 1733, '9853 Foggy Anchor Extension': 1734, '6764 Fallen Log Grove': 1735, '3362 Cozy Rise Parkway': 1736, '8569 Emerald Blossom Concession': 1737, '8548 Sleepy Nectar Gardens': 1738, '6540 Thunder Square': 1739, '5543 Clear Cloud Falls': 1740, '2410 Rustic Parade': 1741, '2262 Tawny Jetty': 1742, '849 Noble Apple Private': 1743, '5493 Rocky Oak Falls': 1744, '2882 Quaking Place': 1745, '2262 Gentle Island Vista': 1746, '3610 Merry Acres': 1747, '2770 Hidden Villas': 1748, '3200 Sunny Grove Jetty': 1749, '6812 Middle Blossom Forest': 1750, '4994 Dusty Bear Village': 1751, '3403 Misty Landing': 1752, '5700 Golden Pathway': 1753, '5387 Clear Inlet': 1754, '4208 Jagged Apple Dale': 1755, '7353 Indian Anchor Line': 1756, '3763 Noble Prairie Heights': 1757, '6587 Stony Nectar Pointe': 1758, '8219 Wishing Creek Close': 1759, '9456 Dewy Gate': 1760, '4895 Lost Swale': 1761, '7732 Lost Vale': 1762, '1744 Shady Dale': 1763, '6032 Jagged Butterfly Canyon': 1764, '2974 Honey Villas': 1765, '5271 Rocky Pathway': 1766, '7628 Silent Bluff Street': 1767, '6398 Indian Brook Valley': 1768, '1284 Burning Hickory Square': 1769, '9776 Clear Rise': 1770, '3150 Noble Walk': 1771, '1381 Rocky Limits': 1772, '9526 Blue Manor': 1773, '4560 Rustic View': 1774, '8189 Clear Isle': 1775, '7502 Cozy View': 1776, '7947 Sunny Pathway': 1777, '8718 Shady Bank': 1778, '7358 Wishing Edge': 1779, '4396 Merry Lagoon Centre': 1780, '1213 Quaking Plaza': 1781, '18 Emerald Port': 1782, '7475 Green Butterfly Way': 1783, '2082 Quiet Wynd': 1784, '4260 Sleepy Island Run': 1785, '5687 Lazy Parade': 1786, '483 Honey River Hill': 1787, '3047 Silent Embers Maze': 1788, '3892 Harvest Avenue': 1789, '182 Cotton Sky Glen': 1790, '5238 Amber Villas': 1791, '4878 Dusty Trail': 1792, '5293 Dewy Range': 1793, '8766 Easy Leaf Knoll': 1794, '8110 Indian Port': 1795, '586 Gentle Anchor Chase': 1796, '7446 Silent Vista': 1797, '9439 Blue Range': 1798, '7924 Wishing Nook': 1799, '3204 Clear Parade': 1800, '5735 Quaking Cider Highway': 1801, '1454 Green Jetty': 1802, '7558 Burning Island Harbour': 1803, '8344 Dewy Fawn Farms': 1804, '7077 Rocky Mews': 1805, '7017 Clear Bay': 1806, '1066 Stony Bay': 1807, '4204 Iron Hollow': 1808, '3446 Hazy Byway': 1809, '4813 Red Wagon  Farms': 1810, '5753 Crystal Campus': 1811, '3360 Fallen Manor': 1812, '1185 Rustic River Thicket': 1813, '9140 Clear Concession': 1814, '909 Sunny Pony Dale': 1815, '5667 Quaking Bear Bay': 1816, '2264 Green Place': 1817, '1531 Foggy Panda Centre': 1818, '8446 Green Wagon  Moor': 1819, '7505 Silent Spring Acres': 1820, '2299 Foggy Shadow Cape': 1821, '1022 Dusty Glen': 1822, '9257 Round Field': 1823, '8736 Old Deer Trail': 1824, '3692 Cotton Horse Common': 1825, '1384 Pleasant Blossom Meadow': 1826, '5234 Foggy Bear Meadow': 1827, '4616 Middle Cloud Corners': 1828, '1490 Silver Canyon': 1829, '6179 Silent View Trail': 1830, '1380 Cinder Campus': 1831, '6501 Blue Green': 1832, '6772 Cotton Wagon  Moor': 1833, '7627 Dusty Hills Lane': 1834, '2308 Rocky Spring Corner': 1835, '2877 Thunder Spring Isle': 1836, '5452 Broad Mall ': 1837, '6887 Rustic Shadow Via': 1838, '4079 Grand Freeway': 1839, '1185 Blue Pioneer Extension': 1840, '5393 Hidden Glade': 1841, '3403 Gentle Road': 1842, '3853 Pleasant Mountain Corners': 1843, '6471 Umber Pathway': 1844, '7004 Dewy Beacon Walk': 1845, '11 Velvet Goose Court': 1846, '3754 Foggy Jetty': 1847, '3520 Hidden Circle': 1848, '9772 Noble Prairie Quay': 1849, '6370 Easy Crest': 1850, '3189 Grand Concession': 1851, '2674 Bright Timber Gardens': 1852, '3112 Easy Turnabout': 1853, '1711 Broad Ledge': 1854, '4592 Silent Field': 1855, '1136 Pleasant Centre': 1856, '2503 Colonial Circuit': 1857, '928 Stony Butterfly Lane': 1858, '8428 Honey Freeway': 1859, '6183 Shady Dale Gate': 1860, '2250 Cinder Knoll': 1861, '4088 Stony Vista': 1862, '9729 Middle Shadow Run': 1863, '7906 Rustic Close': 1864, '8837 Cotton Panda Terrace': 1865, '5509 Red Quail Wood': 1866, '8675 Rocky Road': 1867, '7814 Colonial Bluff Concession': 1868, '9514 Clear Mountain Carrefour': 1869, '1133 Burning Rise Way': 1870, '4806 Sleepy Pike': 1871, '8018 Cinder Prairie Run': 1872, '182 Hazy Village': 1873, '5042 Sleepy Farm': 1874, '3775 Quaking Inlet': 1875, '1577 Honey Jetty': 1876, '1293 Rocky Farm': 1877, '5104 Bright Lake Hollow': 1878, '987 Blue Impasse': 1879, '8400 Sunny Quail Lookout': 1880, '7527 Iron Oak Front': 1881, '7694 Umber Terrace': 1882, '2311 Cotton Willow Range': 1883, '4770 Blue Pines': 1884, '5567 Cotton Timber Impasse': 1885, '1430 Gentle Grove Glade': 1886, '1191 Sleepy Leaf Meadow': 1887, '8081 Cozy Edge': 1888, '2301 Velvet Berry Meadow': 1889, '7463 Clear Branch Thicket': 1890, '1524 Amber Lagoon Subdivision': 1891, '5351 Blue Treasure Square': 1892, '1284 Jagged Butterfly Road': 1893, '8830 Honey Fawn Bend': 1894, '5259 Easy Timber Townline': 1895, '6826 Foggy Close': 1896, '1325 Noble Pike': 1897, '4864 Stony Street': 1898, '415 Clear Highlands': 1899, '9260 Honey Cider Glen': 1900, '6179 Easy Swale': 1901, '2488 Quiet Orchard': 1902, '1829 Crystal Goose Promenade': 1903, '4280 Hazy Cloud Trail': 1904, '523 Sleepy Hills Front': 1905, '8772 Silent Expressway': 1906, '4806 Sunny Forest Heath': 1907, '5676 Bright Parade': 1908, '4097 Little Spring Mall ': 1909, '3729 Cinder Grove Concession': 1910, '2803 Wishing Branch Place': 1911, '2820 Silent Corners': 1912, '2744 Easy Robin Pathway': 1913, '7509 Noble Gate': 1914, '8265 Sleepy Leaf Grounds': 1915, '786 Golden Forest Terrace': 1916, '4365 Dusty Thicket': 1917, '6956 Misty Anchor Close': 1918, '8434 Cinder Private': 1919, '8547 Foggy Pines': 1920, '8172 Quaking Bluff Diversion': 1921, '2592 Colonial Pointe': 1922, '2668 Velvet Row': 1923, '2457 Quiet Autumn Highway': 1924, '8719 Dewy Goose Via': 1925, '3663 Umber Cloud Arbor': 1926, '8010 Velvet Townline': 1927, '3342 Bright Robin Stead': 1928, '6296 Misty Goose Avenue': 1929, '6704 Misty Rabbit Autoroute': 1930, '9880 Middle Glen': 1931, '4711 Grand Pioneer Promenade': 1932, '5599 Grand Pond Chase': 1933, '5356 Dusty Elk Boulevard': 1934, '4148 Stony Swale': 1935, '18 Jagged Willow Beach': 1936, '3313 Golden Ridge': 1937, '9304 Emerald Oak Plaza': 1938, '6077 Golden Gate Road': 1939, '826 High Butterfly Hollow': 1940, '6274 Middle Bluff Valley': 1941, '4898 Heather Mountain Villas': 1942, '2082 Hidden Green ': 1943, '5488 Thunder Fox Extension': 1944, '7637 Silver Lake Passage': 1945, '3616 Quaking Street ': 1946, '9598 Iron Park ': 1947, '4770 Blue Pines ': 1948, '4527 Silent Fawn Wharf': 1949, '4063 Little Creek Court': 1950, '4417 Dusty Elk Cape': 1951, '9695 Bright Path': 1952, '5566 Silver Route': 1953, '2717 Thunder Park': 1954, '7802 Grand Spring Chase': 1955, '5348 Gentle Hickory Concession': 1956, '1706 Pleasant Park': 1957, '9202 Clear Highway': 1958, '3880 Emerald Villas': 1959, '6879 Emerald Way': 1960, '3240 Foggy Hickory Corner': 1961, '6764 Blue Pony Farm': 1962, '9236 High Lake Maze': 1963, '9042 Jagged Elk Private': 1964, '1893 Pleasant Isle': 1965, '469 Middle Berry Abbey': 1966, '8662 Jagged Hickory Extension': 1967, '5737 Rocky Crescent': 1968, '2805 Dewy Impasse': 1969, '1491 Burning Pine Wynd': 1970, '7469 Thunder Bear Drive': 1971, '8170 Dusty Oak Townline': 1972, '8666 Quiet Pointe': 1973, '7780 Broad Leaf Point': 1974, '9036 Bright Brook Route': 1975, '4692 Stony Island': 1976, '9406 Tawny Apple Rise': 1977, '3707 Gentle Chase': 1978, '4728 Lazy Elk Circuit': 1979, '9276 Jagged Towers': 1980, '8861 Hidden Bear Hill': 1981, '23 Old Corners': 1982, '8265 Rocky Rabbit Concession': 1983, '8187 Fallen Embers Mall ': 1984, '9092 Middle Deer Dale': 1985, '4311 Thunder Heath': 1986, '4123 Cinder Acres': 1987, '3698 Sleepy Park': 1988, '6750 Jagged Fox Isle': 1989, '953 Merry Fawn Harbour': 1990, '8478 Foggy Log Nook': 1991, '1438 Round Trail': 1992, '3996 Honey Grove Place': 1993, '3930 Cozy Byway': 1994, '5814 Grand Oak Impasse': 1995, '5546 Indian Expressway': 1996, '8495 Lazy Rabbit Diversion': 1997, '8279 Sleepy Willow Bay': 1998, '9660 Dewy Leaf Freeway': 1999, '5393 Silent Landing': 2000, '4590 Gentle River Wood': 2001, '9440 Emerald Towers': 2002, '6548 Clear Towers': 2003, '9792 Cozy Corners': 2004, '1185 Sleepy Log Street': 2005, '1102 Cozy Wynd': 2006, '2736 Easy Gardens': 2007, '6575 Little Boulevard': 2008, '4480 Pleasant Branch Parkway': 2009, '355 Amber Elk Abbey': 2010, '1655 Little Bear Circle': 2011, '2749 Dusty Orchard': 2012, '3360 Umber Bend': 2013, '2993 Burning Dale Farms': 2014, '3183 Blue Route': 2015, '2616 Tawny Elk Park': 2016, '1802 Wishing Line': 2017, '9653 Stony Campus': 2018, '4938 Crystal Creek Ramp': 2019, '5883 Dusty Drive': 2020, '6481 Golden Island': 2021, '9451 Bright Walk': 2022, '9009 Umber Log Island': 2023, '3656 Silver Cider Byway': 2024, '9074 Rustic Parade': 2025, '3890 Jagged Apple Dell': 2026, '4311 Round Ridge': 2027, '7890 Clear Corner': 2028, '870 Cinder Mountain Avenue': 2029, '8265 Foggy Mountain Isle': 2030, '2513 Sleepy Log Grounds': 2031, '3915 Iron Corner': 2032, '2455 Merry Hollow': 2033, '937 Golden Carrefour': 2034, '1802 Wishing Harbour': 2035, '4775 Old Street': 2036, '5193 Amber Cider Path': 2037, '9394 Clear Corner': 2038, '9768 Silent Island Port': 2039, '7074 Sleepy Heights': 2040, '9524 Amber Terrace': 2041, '4868 Easy Diversion': 2042, '5272 Lazy Campus': 2043, '6711 Blue Passage': 2044, '7056 Hidden Pike': 2045, '6097 Dewy Treasure Farm': 2046, '8172 Easy River Farms': 2047, '3440 Grand Road': 2048, '4905 Umber Corners': 2049, '866 Crystal Path': 2050, '6828 Tawny Ridge': 2051, '3820 Iron Inlet': 2052, '2517 Shady Branch Avenue': 2053, '5744 Cinder Square': 2054, '5025 Sunny Farm': 2055, '8944 Lazy Bluff Maze': 2056, '2905 Rocky Pines': 2057, '6877 Crystal Nectar Circle': 2058, '5322 Indian Walk': 2059, '9375 Round Wood': 2060, '7373 Shady Island': 2061, '9972 Rocky Mall ': 2062, '4569 Jagged Mall ': 2063, '2515 Rocky Turnabout': 2064, '3405 Golden Bear Swale': 2065, '6715 Blue Shadow Square': 2066, '3176 Colonial Quay': 2067, '5004 Gentle Mountain Grove': 2068, '3614 Silver Bend': 2069, '8665 Hidden Sky Concession': 2070, '5517 Harvest Centre': 2071, '7474 Grand Spring Falls': 2072, '1557 Harvest Forest Trace': 2073, '1507 Indian Autumn Jetty': 2074, '1621 Old Limits': 2075, '9702 Cotton Treasure Dale': 2076, '3173 Lost Diversion': 2077, '3691 Gentle Way': 2078, '8361 Jagged By-pass': 2079, '1469 Dewy Berry Road': 2080, '1658 Rustic Elk Lane': 2081, '2455 Wishing Horse Row': 2082, '9761 Little Goose Field': 2083, '6298 Cozy Prairie Wood': 2084, '7551 Merry Panda Square': 2085, '2571 Noble Crescent': 2086, '357 Quiet Rise': 2087, '3775 Bright Harbour': 2088, '690 Hazy Field': 2089, '3544 Velvet Crescent': 2090, '3656 Amber Butterfly Route': 2091, '7760 Sunny Dale': 2092, '4436 Indian Acres': 2093, '7902 Blue Mountain': 2094, '4149 Thunder Goose Wynd': 2095, '5485 Cotton Court': 2096, '2406 Merry Horse Isle': 2097, '7274 Harvest Ledge': 2098, '9203 Red Point': 2099, '6589 Dewy Passage': 2100, '593 Wishing Pony Cove': 2101, '3686 Quaking Carrefour': 2102, '5559 Colonial Prairie Manor': 2103, '650 Thunder Rise Arbor': 2104, '8373 Round Timber Wharf': 2105, '5214 Colonial Square': 2106, '4741 Crystal Lake Pointe': 2107, '3838 Sleepy Mountain Centre': 2108, '1680 Pleasant Berry Court': 2109, '1438 Honey Bay': 2110, '4920 Gentle Autoroute': 2111, '9484 Bright Barn Maze': 2112, '2674 Rocky Apple Orchard': 2113, '1338 Indian Prairie Extension': 2114, '1631 Colonial Dale': 2115, '7656 Cotton Brook Mews': 2116, '5074 Cotton Butterfly Place': 2117, '9393 Velvet Horse Row': 2118, '3283 Fallen Bend': 2119, '4429 Clear Panda Cove': 2120, '1840 Fallen Lane': 2121, '7197 Honey Quail Round': 2122, '6312 Stony Anchor Promenade': 2123, '6155 Rocky Private': 2124, '1112 Quaking Panda Way': 2125, '3640 Easy Shadow Expressway': 2126, '6540 Hidden Dale': 2127, '2472 Noble Butterfly Dell': 2128, '1840 Sleepy Gardens': 2129, '4249 Dewy Sky Path': 2130, '8581 Broad Trace': 2131, '5744 Amber Pointe': 2132, '8631 Lost Beacon Highway': 2133, '1749 Jagged Arbor': 2134, '5817 Green Hills Via': 2135, '1735 Shady Robin Cape': 2136, '4828 Middle Villas': 2137, '5407 Old Willow Townline': 2138, '4462 Blue Drive': 2139, '2407 Cozy Panda Falls': 2140, '6676 Clear Centre': 2141, '5514 Lost Walk': 2142, '1313 Old Hickory Round': 2143, '5180 Bright Fox Trail': 2144, '3504 Dusty View Loop': 2145, '4380 Cotton Barn Falls': 2146, '8213 Rustic Spring Glade': 2147, '2831 Rustic Dale': 2148, '8647 Misty Vista': 2149, '2789 Velvet Carrefour': 2150, '3668 Golden Rise Round': 2151, '4948 Middle Orchard': 2152, '4831 Sleepy Bear Gate': 2153, '1207 Amber Horse Grounds': 2154, '2781 Old Cove': 2155, '5961 Blue Towers': 2156, '5802 Rocky Bluff Gardens': 2157, '404 Red Acres': 2158, '6460 Golden Meadow': 2159, '2744 Round Deer Nook': 2160, '9317 Stony Townline': 2161, '1690 Blue Dale Lane': 2162, '7353 Round Spring Chase': 2163, '5364 Indian Gate Highway': 2164, '4922 Heather Gate Stead': 2165, '7231 Grand Turnabout': 2166, '4110 Silent Pointe': 2167, '8620 Silent Alley': 2168, '9512 Grand Blossom Gate': 2169, '4715 Harvest Creek Mews': 2170, '1173 Iron Terrace': 2171, '6747 Easy Prairie Impasse': 2172, '7577 Quiet Towers': 2173, '5736 Old Cloud Heath': 2174, '1780 Grand View Route': 2175, '14 Broad Pine Pointe': 2176, '3345 Heather Inlet': 2177, '8101 Fallen Parkway': 2178, '2407 Dusty Mount': 2179, '7179 Amber Cider Village': 2180, '3244 Misty Leaf Inlet': 2181, '3915 Cinder Treasure Pike': 2182, '8473 Amber Bluff Manor': 2183, '8736 Wishing Hickory Townline': 2184, '9174 Umber Zephyr Run': 2185, '3819 Easy Knoll ': 2186, '7302 Cotton Freeway ': 2187, '2676 Jagged Key ': 2188, '2743 Hidden Blossom Square': 2189, '3236 Emerald Impasse': 2190, '2262 Dusty Lake Grove': 2191, '7798 Cinder Dale': 2192, '6285 Bright Link': 2193, '6546 Wishing Moor': 2194, '3741 Noble Nook': 2195, '9557 Gentle Inlet': 2196, '8641 Sleepy Mews': 2197, '7810 Quaking Terrace': 2198, '4806 Dusty Bear Avenue': 2199, '2867 Heather Carrefour': 2200, '3627 Cozy Sky Trace': 2201, '7713 Little Terrace': 2202, '9959 Hazy Port': 2203, '4114 Clear Nectar Isle': 2204, '9543 Lost Corners': 2205, '8417 Cinder Key': 2206, '2248 Bright Way': 2207, '1384 Thunder Apple Manor': 2208, '3444 Quiet Bluff Farm': 2209, '1596 Rocky Run': 2210, '6289 Tawny Range': 2211, '5352 Jagged Subdivision': 2212, '4682 Red View': 2213, '2153 Iron Log Downs': 2214, '1384 Hazy Cloud Village': 2215, '2966 Old Pathway': 2216, '9190 Dusty Limits': 2217, '7885 Colonial Mount': 2218, '5594 Jagged Embers By-pass': 2219, '318 Merry Creek Mountain': 2220, '8361 Quiet Wynd': 2221, '1626 Heather Road': 2222, '9393 Fallen Hill': 2223, '2070 Crystal Timber Gardens': 2224, '9539 Rustic Beacon Ramp': 2225, '2175 Hazy Deer Valley': 2226, '8736 Merry Moor': 2227, '6682 Shady Trail': 2228, '4971 Lost Acres': 2229, '5364 Heather Quail Court': 2230, '75 Noble Swale': 2231, '3729 Dewy Line': 2232, '4651 Dewy Village': 2233, '7005 Silver Hills Line': 2234, '1111 Velvet Path': 2235, '4839 Velvet Place': 2236, '1131 Blue Isle': 2237, '911 Lost Zephyr Vista': 2238, '29 Golden Grove Ramp': 2239, '6223 Cotton Forest Estates': 2240, '3996 Misty Vale': 2241, '7509 Little Expressway': 2242, '5202 Old Shadow Rise': 2243, '3902 Umber Valley': 2244, '9166 Golden Nectar Corner': 2245, '9236 Little Pony Wharf': 2246, '3671 Silver Village': 2247, '3278 Middle Cape': 2248, '9890 Clear Knoll': 2249, '381 Dusty Street': 2250, '7996 Tawny Diversion': 2251, '8421 Sunny Butterfly Trace': 2252, '6188 Foggy Beacon Via': 2253, '3539 Gentle Heights': 2254, '9602 Broad Gardens': 2255, '1721 Jagged Embers Autoroute': 2256, '8647 Thunder Trail': 2257, '3813 Grand Dale': 2258, '223 Round Hollow': 2259, '8343 Umber Avenue': 2260, '7601 Pleasant Brook Gate': 2261, '8944 Misty Willow Point': 2262, '5057 Shady Anchor Run': 2263, '4110 Silent Pointe ': 2264, '3410 Grand Elk Trail': 2265, '1734 Old Hickory Corners': 2266, '1534 Wishing Blossom Nook': 2267, '9494 Harvest Turnabout': 2268, '9216 Crystal Lagoon Park': 2269, '2385 Lost Zephyr Green': 2270, '7970 Little Heath': 2271, '259 Sunny Passage': 2272, '9916 Wishing Manor': 2273, '933 Hidden Rabbit Via': 2274, '9856 High Bear Crossing': 2275, '952 Pleasant Bluff Pines': 2276, '3760 Rocky Village': 2277, '1865 Dusty Deer Mountain': 2278, '3858 Shady Rise Place': 2279, '1482 Hazy Wharf': 2280, '3403 Cinder Corner': 2281, '610 Pleasant Shadow Heights': 2282, '4853 Silent Mount': 2283, '2544 Honey Rise Loop': 2284, '1011 Iron Pioneer Autoroute': 2285, '4709 Red Close': 2286, '5512 Hidden Pines': 2287, '2850 Dewy Forest': 2288, '4411 Cotton Wynd': 2289, '8498 High Quay': 2290, '8205 Wishing Pony Cape': 2291, '1077 Grand Lake Stead': 2292, '8427 Broad Robin End': 2293, '6030 Emerald Key': 2294, '472 Foggy Gate Way': 2295, '726 Old Deer Carrefour': 2296, '8663 Green Anchor Ramp': 2297, '6714 Cozy Wynd': 2298, '6214 Little Wharf': 2299, '6336 Fallen Village': 2300, '1467 Hazy Hills By-pass': 2301, '1143 Quaking Brook Alley': 2302, '1795 Little Timber Wood': 2303, '4089 Silver Autumn Crossing': 2304, '6724 High Chase': 2305, '4297 Quiet Shadow Quay': 2306, '9124 Gentle Pike': 2307, '3888 Cotton Corners': 2308, '9672 Umber Fawn Limits': 2309, '1995 Burning Fox Mountain': 2310, '8335 Shady Leaf Rise': 2311, '9794 Fallen Wagon  Front': 2312, '3360 Red Dale': 2313, '6553 Stony Goose Drive': 2314, '4389 Easy Mountain': 2315, '1811 Tawny Embers Moor': 2316, '7596 Bright Pike': 2317, '473 Harvest Row': 2318, '9375 Cozy Nook': 2319, '3737 Foggy Plaza': 2320, '7231 Red Farms': 2321, '436 Round Willow Drive': 2322, '4019 Heather Lagoon Mews': 2323, '7683 Sunny Sky Field': 2324, '2416 Lost Key': 2325, '835 Lost Anchor Meadow': 2326, '3779 Sunny End': 2327, '757 Dewy Apple Bend': 2328, '3060 Middle Road': 2329, '5731 Sleepy Apple Autoroute': 2330, '2231 Foggy Pine Mall ': 2331, '9541 Silent Jetty': 2332, '3142 Grand Beach': 2333, '5803 Pleasant Abbey': 2334, '7577 Easy Mews': 2335, '9720 Colonial Parade': 2336, '7126 Shady Bluff Promenade': 2337, '4583 Heather Blossom Diversion': 2338, '472 Noble Mall ': 2339, '7415 Cotton Fox Corners': 2340, '2199 Dewy Forest Highway': 2341, '3068 Grand Brook Drive': 2342, '864 Iron Spring Stead': 2343, '2395 Thunder Farms': 2344, '8990 Heather Barn Pathway': 2345, '3244 Burning Autumn Acres': 2346, '9217 Heather Thicket': 2347, '11 Foggy Creek Glade': 2348, '5340 Quaking Panda Forest': 2349, '6197 Clear Close': 2350, '4617 Indian Abbey': 2351, '6390 Jagged Townline': 2352, '4166 Iron Pioneer Byway': 2353, '5202 Emerald Island Plaza': 2354, '409 Iron Park': 2355, '1688 Middle Panda Plaza': 2356, '7475 Noble Fawn Parkway': 2357, '3237 Fallen Panda Isle': 2358, '9952 Foggy Berry Wynd': 2359, '2137 Silver Brook Square': 2360, '8898 Shady Private': 2361, '1134 Blue Brook End': 2362, '8713 Thunder Pike': 2363, '3032 Green Glen': 2364, '3919 Clear Cloud Line': 2365, '516 Cozy Fawn Valley': 2366, '4546 Crystal Spring Trail': 2367, '1187 Wishing Oak Avenue': 2368, '1430 Tawny Barn Villas': 2369, '1875 Golden Trail': 2370, '1564 Gentle Jetty': 2371, '6635 Iron Landing': 2372, '3154 Cinder Cider Harbour': 2373, '9918 Rustic Park': 2374, '1050 Grand Forest Towers': 2375, '2264 Silent Freeway': 2376, '6231 Sleepy Chase': 2377, '4435 Silent Bear Road': 2378, '2734 Dusty Blossom Road': 2379, '7213 Cozy Quay': 2380, '9775 Jagged Wagon Drive': 2381, '3901 Old Round': 2382, '2476 Wishing Branch Ledge': 2383, '6470 Round Pioneer Extension': 2384, '9044 Wishing Court': 2385, '4694 Cozy Crescent': 2386, '2503 Easy Path': 2387, '1509 Quiet Log Arbor': 2388, '5951 Broad Crescent': 2389, '4079 Blue End': 2390, '3072 Umber Cape': 2391, '2576 Old Path': 2392, '3369 Clear Fox Landing': 2393, '7629 Rocky Drive': 2394, '6140 Pleasant Dale Farm': 2395, '6589 Wishing Highway': 2396, '5078 Bright Park': 2397, '6953 Lazy Beacon Circuit': 2398, '9992 Easy Front': 2399, '5311 Honey Parkway': 2400, '3403 Jagged Run': 2401, '7706 Foggy Pine Wynd': 2402, '2210 Wishing Dale Meadow': 2403, '2292 Noble Bluff Gate': 2404, '5553 Cinder Harbour': 2405, '6907 Merry Ledge': 2406, '6135 Lazy Prairie Ridge': 2407, '8975 Bright Autoroute': 2408, '5625 Sleepy Fox Pines': 2409, '2792 Stony Range': 2410, '4760 Harvest Crescent': 2411, '6292 Easy Zephyr Pike': 2412, '5795 Amber Bluff Expressway': 2413, '2724 Harvest Point': 2414, '7554 Stony Goose Crossing': 2415, '9439 Gentle Nectar End': 2416, '8612 Red Rabbit Pines': 2417, '5470 Indian Fawn Common': 2418, '1285 Emerald Grounds': 2419, '9589 Broad Spring Extension': 2420, '7441 Cozy Autumn Trace': 2421, '5213 Noble Bluff Grounds': 2422, '698 Blue Deer Farms': 2423, '3795 Dusty Autumn Via': 2424, '7740 Dusty Berry Quay': 2425, '4448 Bright Pike': 2426, '8249 Misty End': 2427, '612 Wishing Grove Field': 2428, '3541 Amber Knoll': 2429, '4699 Cinder Round': 2430, '1605 Fallen Abbey': 2431, '6030 Silver Concession': 2432, '3656 Wishing Butterfly Autoroute': 2433, '2433 Thunder Grove Place': 2434, '9854 Iron Street': 2435, '9077 Little Swale': 2436, '7802 Foggy Robin Link': 2437, '7565 Stony Sky Townline': 2438, '8217 Fallen Panda Walk': 2439, '624 Lost Apple Subdivision': 2440, '6120 Cozy Ledge': 2441, '6943 Round Elk Freeway': 2442, '9293 Tawny Terrace': 2443, '9688 Silent Lagoon Meadow': 2444, '5103 Tawny Panda Dell': 2445, '8416 Foggy Dale': 2446, '6281 Sunny View Cove': 2447, '5561 Quiet Loop': 2448, '3445 Burning Freeway': 2449, '5437 Quaking Pony Heights': 2450, '6115 Lazy Embers Meadow': 2451, '2647 Emerald Mall ': 2452, '2930 Middle Wagon  Cape': 2453, '7887 Hazy Timber Island': 2454, '9696 Green Autoroute': 2455, '4255 Red Dale': 2456, '2000 Stony Abbey': 2457, '5184 Easy Grove Passage': 2458, '8284 Fallen Heath': 2459, '3919 Red Branch Corner': 2460, '5032 Crystal Rabbit Private': 2461, '1914 Blue Autumn Harbour': 2462, '1546 Cinder Autumn Cape': 2463, '1020 Stony Loop': 2464, '7592 Bright Ledge': 2465, '3891 Red Pony Crossing': 2466, '7017 Sunny Falls': 2467, '2002 Noble Park': 2468, '3891 Broad Line': 2469, '4089 Tawny Prairie Thicket': 2470, '2915 Cotton Meadow': 2471, '1028 Shady Panda Manor': 2472, '5989 Misty Timber Concession': 2473, '797 Middle Jetty': 2474, '6748 Stony Bank': 2475, '1550 Broad Pine Place': 2476, '1411 Little Impasse': 2477, '7419 Lost Grove Street': 2478, '16 Golden Robin Mews': 2479, '8688 Broad Shadow Abbey': 2480, '4579 Cotton Walk': 2481, '8927 Merry Elk Centre': 2482, '1381 Cozy Oak Key': 2483, '9375 Honey Gate': 2484, '9397 Quaking Nectar Park': 2485, '8668 Shady Panda Expressway': 2486, '2638 Blue Rise Hollow': 2487, '7333 Silver Port': 2488, '8811 Rustic Butterfly Byway': 2489, '7851 Stony Prairie Highway': 2490, '5292 Emerald Nectar Manor': 2491, '9318 Clear Swale': 2492, '7377 Jagged Nook': 2493, '3544 Velvet Towers': 2494, '762 Clear Harbour': 2495, '153 Lost Estates': 2496, '89 Fallen Mount': 2497, '6842 Clear Brook Jetty': 2498, '5050 Bright Pony Expressway': 2499, '1812 Little Pine Parade': 2500, '3087 Jagged Plaza': 2501, '8626 Silver End': 2502, '4581 Umber Lake Pathway': 2503, '4929 Thunder Estates': 2504, '7002 Golden Wood': 2505, '937 Thunder Carrefour': 2506, '5505 Grand Cloud Farm': 2507, '8193 Grand Court': 2508, '9217 Quiet Acres': 2509, '8598 Dewy Grove Path': 2510, '9451 Iron Beach': 2511, '7801 Lost Key': 2512, '4174 Pleasant Mountain Acres': 2513, '7774 Broad Crossing': 2514, '8344 Jagged Pony Gardens': 2515, '911 Red Wood': 2516, '9117 Rustic Beach': 2517, '550 Easy Close': 2518, '9775 Jagged Wagon  Drive': 2519, '6789 Round Robin By-pass': 2520, '629 Iron Edge': 2521, '9693 Clear Crossing': 2522, '3858 Cozy Shadow Villas': 2523, '547 Harvest Dale Ledge': 2524, '1829 Jagged Gate Forest': 2525, '3200 Honey Range': 2526, '6278 Fallen Vista': 2527, '8231 Lost Cape': 2528, '6789 Broad Zephyr Grounds': 2529, '4271 Hazy Close': 2530, '9539 Rustic River Gardens': 2531, '1613 Quaking Key': 2532, '8057 Grand Log Village': 2533, '3043 Lost Cider Avenue': 2534, '347 Cozy Round': 2535, '6496 Gentle Barn Lookout': 2536, '7605 Tawny Horse Falls': 2537, '7894 Misty Dale': 2538, '5332 Iron Deer Loop': 2539, '6651 Iron Port': 2540, '8212 Sleepy Parkway': 2541, '690 Quaking By-pass': 2542, '8711 Dusty Deer Valley': 2543, '7762 Noble Heath': 2544, '914 Shady Embers Range': 2545, '577 Old Branch Jetty': 2546, '4047 Cozy Falls': 2547, '8797 Burning Leaf Swale': 2548, '4925 Heather Hickory Way': 2549, '8460 Middle Autumn Loop': 2550, '7962 Wishing Fox Harbour': 2551, '7885 Broad Heights': 2552, '6178 Tawny Villas': 2553, '3614 Golden Expressway': 2554, '9391 Old Branch Court': 2555, '4472 Tawny Jetty': 2556, '4805 Iron Blossom Bend': 2557, '1399 Dewy Expressway': 2558, '92 Green Woods': 2559, '4502 Sunny Inlet': 2560, '7489 Crystal Treasure Run': 2561, '3100 Velvet Fox Field': 2562, '2831 Umber Loop': 2563, '3293 Quaking Gate Downs': 2564, '5020 Sunny Nectar Vale': 2565, '403 Grand Beacon Canyon': 2566, '7236 Middle Gardens': 2567, '8689 Colonial Cove': 2568, '3282 Lost Gate': 2569, '7676 Quaking Run': 2570, '8022 Iron Turnabout': 2571, '2586 High Log Autoroute': 2572, '1109 Heather Rise': 2573, '8354 Pleasant Timber Pathway': 2574, '4852 Velvet Campus': 2575, '9304 Dusty Hickory Avenue': 2576, '6453 Velvet Circle': 2577, '2108 Umber Centre': 2578, '5348 Middle Embers Line': 2579, '1065 Gentle Deer Bank': 2580, '3570 Emerald Oak Pike': 2581, '9595 Lazy Link': 2582, '9640 Golden Hill': 2583, '2685 Heather Downs': 2584, '1509 Noble Pine Round': 2585, '1666 Sunny View': 2586, '1801 Jagged Dale Park': 2587, '135 Stony Line': 2588, '9632 Wishing Bend': 2589, '1735 Green Moor': 2590, '1828 Stony Trace': 2591, '8666 Pleasant Quail Canyon': 2592, '1109 Rustic Ridge': 2593, '5913 Cinder Landing': 2594, '6826 Wishing Walk': 2595, '8968 Tawny Forest Estates': 2596, '3225 Dusty Autumn Meadow': 2597, '7651 Round Path': 2598, '5709 Old Vista': 2599, '9847 Old Autumn Chase': 2600, '8383 Lazy Front': 2601, '6075 Harvest Abbey': 2602, '9581 Burning Horse Centre': 2603, '6450 Sleepy Island Path': 2604, '1510 Silent Inlet': 2605, '6908 Rocky Wood': 2606, '9100 Silent Spring Close': 2607, '9099 Foggy Row': 2608, '8012 Burning Nook': 2609, '4984 Dusty Log Parkway': 2610, '8477 Silent Subdivision': 2611, '5496 Cotton Dell': 2612, '3310 Rocky Boulevard': 2613, '3462 Noble Hills Close': 2614, '7418 Tawny Rise Pathway': 2615, '2699 Pleasant Log Gate': 2616, '3491 Hazy Beacon Road': 2617, '5348 Thunder Pioneer Nook': 2618, '8702 Umber Mountain Gate': 2619, '9816 Quaking Hickory Pines': 2620, '8548 Pleasant Timber Corner': 2621, '372 Sunny Arbor': 2622, '415 Golden Meadow': 2623, '6704 Sleepy Quail Port': 2624, '8675 Quaking Nook': 2625, '4316 Hidden Concession': 2626, '8679 Thunder Branch Gardens': 2627, '6481 Velvet Pony Front': 2628, '2486 Silver Carrefour': 2629, '7982 Quiet Lagoon Parkway': 2630, '8864 Harvest Chase': 2631, '5723 Emerald Downs': 2632, '8247 Hidden Apple Island': 2633, '3312 Sleepy Lake Parade': 2634, '5950 Silver Elk Ledge': 2635, '3544 Fallen Mount': 2636, '3582 Bright Pine Estates': 2637, '2863 Honey Willow Harbour': 2638, '6178 Burning Limits': 2639, '5437 Red Berry Canyon': 2640, '5224 Quiet Island': 2641, '5382 Hazy Pathway': 2642, '2912 Lost Edge': 2643, '4900 Cotton Maze': 2644, '1134 Heather Treasure Vale': 2645, '3754 Red Gardens': 2646, '2043 Tawny Shadow Orchard': 2647, '1044 Dusty Beach': 2648, '4336 Emerald Mews': 2649, '3356 Easy Chase': 2650, '9497 Noble Trace': 2651, '8679 Rocky Glen': 2652, '3406 Lazy By-pass': 2653, '4986 Stony By-pass': 2654, '1356 Pleasant Hickory Lane': 2655, '381 Velvet Hickory Beach': 2656, '9559 Merry Road': 2657, '8342 Rocky Row': 2658, '3141 Pleasant Corner': 2659, '6695 Indian Zephyr Limits': 2660, '8929 Bright Key': 2661, '672 Misty Route': 2662, '4055 Fallen Log Village': 2663, '4864 Velvet Chase': 2664, '7565 Clear Deer Port': 2665, '2553 Dusty Downs': 2666, '9381 Clear Glade': 2667, '8153 Indian Beacon Impasse': 2668, '6692 Clear Edge': 2669, '5497 Wishing Bank': 2670, '8598 Red Dale Forest': 2671, '1850 Honey Centre': 2672, '5351 Sleepy Autumn Range': 2673, '421 Fallen Byway': 2674, '3094 Round Forest Terrace': 2675, '5721 Fallen Pony Cove': 2676, '1510 Broad Rise Expressway': 2677, '7181 Honey Quail Byway': 2678, '1063 Lost Concession': 2679, '9611 Thunder Loop': 2680, '4384 Rocky Fox Key': 2681, '9601 Jagged River Bay': 2682, '2310 Hazy Acres': 2683, '5855 Harvest Circuit': 2684, '7129 Fallen Trace': 2685, '2240 Cotton Goose Crossing': 2686, '4569 Indian Walk': 2687, '2638 Clear Log Island': 2688, '4875 Dusty Key': 2689, '2447 Wishing Cider Private': 2690, '8734 Dewy Expressway': 2691, '6415 Little Alley': 2692, '5547 Stony Row': 2693, '2959 Amber Branch Glade': 2694, '8702 Silver Apple Square': 2695, '3440 Foggy Autoroute': 2696, '9008 Red Circuit': 2697, '3729 Umber Autumn Trace': 2698, '4750 Sleepy Gate': 2699, '9040 Indian Corner': 2700, '4647 Umber View Farms': 2701, '3310 Blue Quay': 2702, '3152 Wishing Limits': 2703, '6340 Crystal Mountain': 2704, '7191 Cinder Woods': 2705, '1533 Clear Nectar Concession': 2706, '3095 Silver Lake Manor': 2707, '4291 Jagged Sky Via': 2708, '3151 Sleepy Quail Promenade': 2709, '8059 Old Fawn Woods': 2710, '7810 Harvest Front': 2711, '5593 Red Byway': 2712, '8398 Cinder Brook Cape': 2713, '5147 Middle Park': 2714, '9375 Heather Extension': 2715, '8905 Heather Bluff Place': 2716, '4028 Rustic Point': 2717, '5032 Thunder Quail Path': 2718, '7773 Merry Autoroute': 2719, '1052 Misty Dale Vista': 2720, '2954 Red Pioneer Port': 2721, '6063 Golden Point': 2722, '7973 Colonial Wood': 2723, '4986 Harvest Isle': 2724, '7011 Cozy Beach': 2725, '6819 Sleepy Nectar Way': 2726, '7116 Cotton Log Cape': 2727, '7291 Thunder Hills Knoll': 2728, '8797 Rustic Bear Ramp': 2729, '1846 Clear Bear Falls': 2730, '8022 Hazy Bank': 2731, '4089 Iron Cloud Passage': 2732, '6887 Clear Fawn Byway': 2733, '4311 Old Edge': 2734, '4896 Silver By-pass': 2735, '9406 Old Lagoon Canyon': 2736, '9505 Fallen River Cove': 2737, '4466 Burning Round': 2738, '1828 Clear Barn Cove': 2739, '2088 Misty Woods': 2740, '4286 Misty Swale': 2741, '437 Sleepy Spring Beach': 2742, '9505 Bright Creek Promenade': 2743, '4498 Burning Fawn Crest': 2744, '2714 Old Quay': 2745, '4534 Shady Alley': 2746, '3891 Hidden Farms': 2747, '2514 Wishing Rabbit Grounds': 2748, '5761 Broad Sky Nook': 2749, '4294 Foggy By-pass': 2750, '733 Gentle Bear Circuit': 2751, '3909 Amber Canyon': 2752, '1426 Silent Route': 2753, '538 Cinder Terrace': 2754, '6270 Quaking Townline': 2755, '8675 Lazy Pathway': 2756, '847 Green Creek Bay': 2757, '263 Hazy Wharf': 2758, '19 Gentle Shadow Mall ': 2759, '6829 Cozy River Landing': 2760, '3403 Iron Quay': 2761, '640 Lost Farm': 2762, '252 Golden Goose Loop': 2763, '6889 Velvet Impasse': 2764, '4868 Tawny Park': 2765, '326 Wishing Vista': 2766, '6697 Thunder Dale Downs': 2767, '1548 Cozy Pine Way': 2768, '6229 Heather Butterfly Pathway': 2769, '1612 Quaking Walk': 2770, '2388 Little Corner': 2771, '1491 Red Dale': 2772, '9437 Emerald Butterfly Edge': 2773, '9986 Old Common': 2774, '7786 Quiet Mall ': 2775, '2036 Tawny Branch Crossing': 2776, '8808 Indian Autoroute': 2777, '547 Quaking Cider Bay': 2778, '3612 Silver Autumn Extension': 2779, '4377 Heather Canyon': 2780, '3980 High Vista': 2781, '2525 Umber Street': 2782, '8706 Fallen Court': 2783, '3520 Grand Edge': 2784, '1336 Golden Autoroute': 2785, '3503 Tawny Oak Ridge': 2786, '1538 Green Elk Bank': 2787, '4601 Dewy Creek Concession': 2788, '6734 Velvet Bluff Avenue': 2789, '4823 Tawny Moor': 2790, '3108 Merry Trace': 2791, '8275 Lost View Crest': 2792, '3813 Lost Row': 2793, '1483 Sunny Zephyr Range': 2794, '5226 Wishing Mountain Falls': 2795, '6940 Lost Butterfly Crossing': 2796, '5423 Heather Falls': 2797, '8990 Blue Blossom Nook': 2798, '3907 Rustic Via': 2799, '9768 Indian Lake Pathway': 2800, '1995 Little Brook Thicket': 2801, '6784 Quaking Spring Extension': 2802, '3282 Indian Hollow': 2803, '9672 Green Mountain Pines': 2804, '6115 Burning River Villas': 2805, '9453 Tawny Close': 2806, '6692 Velvet Grove': 2807, '2319 Blue Pathway': 2808, '518 Velvet Loop': 2809, '9767 Tawny Nook': 2810, '9053 Foggy Bear Island': 2811, '8927 Silver Rise Isle': 2812, '3422 Hazy Timber Pointe': 2813, '7576 Lazy Robin Swale': 2814, '8808 Gentle Crossing': 2815, '5707 Sleepy Common': 2816, '6841 Harvest Cloud Edge': 2817, '6580 Tawny Embers Chase': 2818, '6630 Umber View Pathway': 2819, '5648 Colonial Freeway': 2820, '1078 Misty Blossom Meadow': 2821, '6412 Velvet Bank': 2822, '5964 Little Prairie Lookout': 2823, '4712 Stony Oak Beach': 2824, '9188 Rocky Vale': 2825, '3865 Harvest Prairie Mount': 2826, '9193 Heather Beacon Promenade': 2827, '3399 Hazy Impasse': 2828, '9053 Quaking Log Loop': 2829, '9087 Foggy Townline': 2830, '1987 Stony Circle': 2831, '5468 Clear Bend': 2832, '4187 Quiet Butterfly Grove': 2833, '8944 Sleepy Willow Vista': 2834, '3244 Hidden Log Maze': 2835, '6554 Pleasant Lagoon Stead': 2836, '5712 Burning Nook': 2837, '3884 Old Inlet': 2838, '6590 Amber Fawn Meadow': 2839, '7510 Harvest Zephyr By-pass': 2840, '2236 Pleasant Route': 2841, '6943 Tawny Log Road': 2842, '5497 Umber Wynd': 2843, '7191 Sunny Loop': 2844, '9726 Gentle Expressway': 2845, '6468 Quiet Street': 2846, '779 Jagged Branch Highlands': 2847, '8477 Middle Court': 2848, '9136 Dewy Cider Concession': 2849, '7539 Lazy Hills Mount': 2850, '2636 Lazy Terrace': 2851, '79 Misty Goose Townline': 2852, '2301 Tawny Autumn Walk': 2853, '8478 Gentle View Dell': 2854, '8874 Harvest Hills Grove': 2855, '4492 Tawny Bank': 2856, '4173 Misty Valley': 2857, '4148 Round Parkway': 2858, '6330 Amber Grounds': 2859, '4365 Noble Mews': 2860, '6468 Dewy Towers': 2861, '6754 Iron Leaf Line': 2862, '1017 Round Ledge': 2863, '8270 Tawny Butterfly Inlet': 2864, '7651 Honey Passage': 2865, '8666 Gentle Goose Run': 2866, '4709 Lost Orchard': 2867, '37 Lost Terrace': 2868, '7740 Broad Fox Villas': 2869, '4365 Silver Bay': 2870, '5530 Noble Deer Route': 2871, '7864 Broad Hickory Swale': 2872, '5618 Wishing Panda Line': 2873, '97 Burning Landing': 2874, '8081 Rustic Concession': 2875, '5373 Dusty Panda Crest': 2876, '2049 Silver Knoll': 2877, '4742 Heather Edge': 2878, '4320 Iron Highlands': 2879, '1492 Fallen Bank': 2880, '8804 Cinder Dale Carrefour': 2881, '5004 High Grove Lane': 2882, '6843 Dusty Log Edge': 2883, '8837 Blue Hills Harbour': 2884, '8237 Burning Barn Bay': 2885, '1945 Iron Panda Circle': 2886, '8333 Stony Via': 2887, '8996 Rocky Pointe': 2888, '7308 Honey Autumn Range': 2889, '2078 Cozy Brook Village': 2890, '6422 Sleepy Swale': 2891, '3318 Misty Promenade': 2892, '2 Foggy Corners': 2893, '8037 Hazy Blossom Circuit': 2894, '9299 Quiet Pioneer Forest': 2895, '6063 Harvest Boulevard': 2896, '2905 Sleepy Route': 2897, '4129 Wishing Cider Link': 2898, '7774 Fallen Impasse': 2899, '5216 Iron Berry Farm': 2900, '9853 Jagged Wharf': 2901, '7855 Golden Lake Limits': 2902, '9657 Red Willow Hill': 2903, '260 Silver Byway': 2904, '6025 Clear Deer Swale': 2905, '4389 Thunder Byway': 2906, '1399 Cinder Loop': 2907, '9885 Lazy Shadow Concession': 2908, '2641 Noble Point': 2909, '2337 Middle Embers Campus': 2910, '3330 Easy Berry Range': 2911, '8342 Grand Village': 2912, '1453 Lost Oak Green': 2913, '1771 Broad Court': 2914, '7580 Cozy Inlet': 2915, '4152 Round Log Expressway': 2916, '6501 Emerald Crest': 2917, '2459 Old Pine Boulevard': 2918, '8801 Rustic Lagoon Highlands': 2919, '9439 Sleepy Pony Concession': 2920, '5459 Clear Timber Terrace': 2921, '8255 Hidden Terrace': 2922, '5346 Blue Anchor Dale': 2923, '8316 Old Pointe': 2924, '4819 Crystal Private': 2925, '9623 Stony Bay': 2926, '1559 Golden Pony Park': 2927, '7094 Lost Heath': 2928, '7489 Fallen Trace': 2929, '5401 Rocky Rise Manor': 2930, '8255 Quiet Cape': 2931, '7580 Velvet Lagoon Extension': 2932, '3320 Bright Barn Carrefour': 2933, '2002 Lost Way': 2934, '5717 Shady Vista': 2935, '7894 Old Circle': 2936, '7383 Green Run': 2937, '5486 Golden Bluff Field': 2938, '8460 Green Cloud Run': 2939, '2121 Middle Log Jetty': 2940, '6134 Red End': 2941, '4696 Iron Range': 2942, '7486 Cozy End': 2943, '7016 Rocky Path': 2944, '6764 Harvest View Point': 2945, '6312 Noble Apple Woods': 2946, '9757 Cozy Freeway': 2947, '7136 Sunny Grove Freeway': 2948, '7417 Honey Mountain Lookout': 2949, '8559 Velvet Hill': 2950, '5594 Burning Deer Swale': 2951, '6610 Umber Shadow Boulevard': 2952, '588 Rocky Quail Round': 2953, '2757 Tawny View Swale': 2954, '3133 Lost Estates': 2955, '9332 Silent Towers': 2956, '4979 Honey Plaza': 2957, '833 Honey Panda Acres': 2958, '8924 Jagged Leaf Private': 2959, '8548 Sunny Ramp': 2960, '1987 Indian Autumn Swale': 2961, '1329 Cotton Zephyr Highway': 2962, '4436 Emerald Knoll': 2963, '6751 Sunny Square': 2964, '1793 Tawny Limits': 2965, '7422 Silent Loop': 2966, '3931 Green Concession': 2967, '4381 Honey Mount': 2968, '9993 Clear Round': 2969, '657 Gentle Mountain Mall ': 2970, '1674 Colonial Row': 2971, '7489 Silent Beach': 2972, '6127 Pleasant Wagon  Campus': 2973, '8417 Silent Trace': 2974, '7668 Fallen Orchard': 2975, '182 Indian Horse Diversion': 2976, '3283 Heather Circle': 2977, '6361 Jagged Glade': 2978, '1656 Gentle Leaf Ledge': 2979, '3803 Easy Falls': 2980, '1632 Heather Wharf': 2981, '3067 Hazy Autoroute': 2982, '2704 Colonial Barn Nook': 2983, '9087 Colonial Link': 2984, '3651 Rustic Cape': 2985, '4402 Burning Timber Ridge': 2986, '3309 Blue Road': 2987, '3153 Stony Concession': 2988, '9255 Crystal Barn Carrefour': 2989, '2299 Merry Bear Vista': 2990, '3151 Golden Manor': 2991, '6940 Pleasant Zephyr Via': 2992, '2414 Harvest Lake Loop': 2993, '8172 High Branch Canyon': 2994, '8187 Wishing Lagoon Abbey': 2995, '6886 High Place': 2996, '6570 Round Campus': 2997, '4545 Dewy Apple Concession': 2998, '9615 Misty Grove': 2999, '7177 Little Lagoon Parade': 3000, '2897 Cozy Sky Farms': 3001, '5945 Umber Crossing': 3002, '2039 Dewy Rabbit Crescent': 3003, '4730 Cinder Field': 3004, '2924 Velvet Dale Corners': 3005, '7554 Misty Butterfly Via': 3006, '8771 Shady Shadow Heath': 3007, '503 Clear Robin Beach': 3008, '2889 Foggy Drive': 3009, '9413 Misty Harbour': 3010, '425 Burning Route': 3011, '857 Little Prairie Walk': 3012, '4426 Lost Crossing': 3013, '4312 Bright Corner': 3014, '1463 Lazy Creek Farm': 3015, '5166 Umber Run': 3016, '9453 High Concession': 3017, '3693 Dewy Lagoon Range': 3018, '681 High Pike': 3019, '2783 Foggy Mews': 3020, '3772 Dusty Deer Cape': 3021, '4906 Rustic Round': 3022, '8414 Dewy Lagoon Abbey': 3023, '9332 Lazy Crescent': 3024, '65 Silent Inlet': 3025, '479 Round Pine Hollow': 3026, '8772 Dusty Byway': 3027, '7988 Foggy Village': 3028, '7893 Emerald Vista': 3029, '5284 Emerald Abbey': 3030, '3155 Easy Hill': 3031, '2002 Amber Bear Moor': 3032, '7005 Heather Lagoon Diversion': 3033, '8187 Velvet End': 3034, '9950 Bright Lagoon Autoroute': 3035, '1236 Stony Apple Corners': 3036, '9644 Emerald Harbour': 3037, '4155 Bright Deer Line': 3038, '8970 Colonial Oak Glen': 3039, '3762 Amber Estates': 3040, '8957 Old View View': 3041, '5149 Dusty Pony Common': 3042, '7455 High Promenade': 3043, '245 Hazy Dale': 3044, '4411 Cinder Front ': 3045, '8885 Hidden Prairie Trace': 3046, '1155 Cotton Inlet ': 3047, '7871 Quiet Abbey ': 3048, '6179 Easy Swale ': 3049, '2437 Silver Brook Heights': 3050, '4173 Quiet Common': 3051, '2425 Rocky Highlands': 3052, '4906 Emerald Gate Turnabout': 3053, '8237 Cozy Hickory Line': 3054, '5020 Hazy Rise Carrefour': 3055, '1121 Amber Abbey': 3056, '1329 Fallen Pine Harbour': 3057, '7935 Crystal Moor': 3058, '5578 Rocky Butterfly Canyon': 3059, '5621 Lost Via': 3060, '2863 Crystal Barn End': 3061, '2407 Tawny Elk Front': 3062, '7392 Fallen Barn Inlet': 3063, '5057 Fallen Knoll': 3064, '1378 Indian End': 3065, '2197 Hidden Panda Mountain': 3066, '9086 Cinder Meadow': 3067, '4393 Sleepy Sky Bend': 3068, '8368 Colonial Line': 3069, '6398 Lazy Creek Farm': 3070, '3493 Noble Vista': 3071, '4661 Iron Landing': 3072, '6548 Emerald Diversion': 3073, '8355 Lazy Anchor Pines': 3074, '2926 Golden Townline': 3075, '6830 Red Pond Meadow': 3076, '1782 High River Rise': 3077, '5630 Tawny Circuit': 3078, '5723 Stony Valley ': 3079, '9928 Grand Embers Isle': 3080, '6254 Round Corners': 3081, '2704 Misty Dale Row': 3082, '9950 Quiet Spring Wynd': 3083, '5338 Hidden Blossom Edge': 3084, '5767 Gentle Mews': 3085, '1426 High Farm': 3086, '2017 Fallen Sky Row': 3087, '9765 Umber Green': 3088, '7130 Tawny Bay': 3089, '3750 Colonial Dale Ledge': 3090, '454 Misty Corner': 3091, '6613 Sunny Gate Road': 3092, '975 Honey Loop': 3093, '6747 Old Pine Trace': 3094, '7192 Misty Diversion': 3095, '8267 Lazy Embers Line': 3096, '3046 Lost Quail Townline': 3097, '9861 Cinder Sky Estates': 3098, '6322 Cotton Cloud Drive': 3099, '2737 Jagged Byway': 3100, '3493 Middle Fawn Line': 3101, '4868 Wishing Port': 3102, '9938 Noble Woods': 3103, '7812 Colonial Impasse': 3104, '9995 Tawny Embers View': 3105, '75 Umber Forest': 3106, '9814 Blue Anchor Dell': 3107, '6030 Clear Log Close': 3108, '3902 Rustic Valley': 3109, '1661 Gentle Rabbit Turnabout': 3110, '8110 Broad Passage': 3111, '923 Tawny Estates': 3112, '7775 Colonial Highlands': 3113, '6157 Quaking Extension': 3114, '4791 Rocky Front': 3115, '8427 Red Anchor Freeway': 3116, '8161 Misty Port': 3117, '660 Wishing Path': 3118, '3247 Bright Spring Corner': 3119, '5292 Colonial Grounds': 3120, '4660 Wishing Byway': 3121, '9726 Dewy Grounds': 3122, '6214 Green Maze': 3123, '830 Round Dale Centre': 3124, '5292 Umber Timber Extension': 3125, '1906 Cozy Woods': 3126, '4866 Easy Expressway': 3127, '9543 Cinder Impasse': 3128, '1801 Quiet Robin Avenue': 3129, '3281 Honey Woods': 3130, '3444 Jagged Brook Mall': 3131, '9 Silver View': 3132, '6779 Rocky Pathway': 3133, '1209 Amber Extension': 3134, '620 Red River Trail': 3135, '3282 Cotton Parkway': 3136, '6491 Harvest Willow Pike': 3137, '7236 Cotton Cove': 3138, '6544 Hazy Blossom Expressway': 3139, '2714 Dewy Bay': 3140, '2075 Hazy Fox Falls': 3141, '7373 Cinder Edge': 3142, '6639 Green Hills Beach': 3143, '9551 Silent Walk': 3144, '5847 Middle Bend': 3145, '9128 Quaking Dale Acres': 3146, '338 Heather Orchard': 3147, '8426 Iron Shadow Highway': 3148, '8314 Burning Circuit': 3149, '8139 Round Branch Dell': 3150, '1416 Little Robin Manor': 3151, '9216 Tawny Berry Point': 3152, '8143 Dusty Island': 3153, '3772 Cotton Barn Stead': 3154, '2835 Pleasant Cider Loop': 3155, '119 Gentle Wynd': 3156, '1744 Amber View': 3157, '8368 Wishing Mountain': 3158, '2889 Sleepy Square': 3159, '5760 High Circle': 3160, '1188 Amber Alley': 3161, '6964 Colonial Square': 3162, '3192 Dusty Zephyr Promenade': 3163, '7828 Golden Mountain Woods': 3164, '2650 Hidden Common': 3165, '9293 Hidden Vista': 3166, '2122 Green By-pass': 3167, '8612 Merry Horse Campus': 3168, '4411 Dusty Avenue': 3169, '7808 Merry Canyon': 3170, '3587 Blue Mall ': 3171, '9154 Colonial Wynd': 3172, '9658 Fallen Field': 3173, '5468 Pleasant Thicket': 3174, '3421 Harvest Glade': 3175, '2486 Broad Walk': 3176, '186 Iron Pond Byway': 3177, '3576 Green Forest End': 3178, '5516 Lazy Oak Path': 3179, '1407 Cinder Downs': 3180, '4436 Pleasant Glade': 3181, '3050 Silent Cape': 3182, '4709 Burning Arbor': 3183, '3503 Fallen Sky Heath': 3184, '8766 Clear Prairie Line': 3185, '3278 Quiet Hollow': 3186, '9741 Honey Goose Landing': 3187, '8399 Lazy Anchor Boulevard': 3188, '9050 Pleasant Cloud Mountain': 3189, '6176 Old Grove Village': 3190, '9972 Rocky Mall': 3191, '4498 Little Isle': 3192, '4899 Rustic Apple Boulevard': 3193, '787 Heather Trail': 3194, '7840 Quiet Island Limits': 3195, '7868 Shady Log Island': 3196, '5407 Umber Cider Quay': 3197, '8421 Fallen Spring Point': 3198, '7284 Clear Brook Field': 3199, '4149 Gentle Log Cape': 3200, '7983 Amber Robin Trail': 3201, '7004 Grand Hickory Lane': 3202, '7240 Sleepy Goose Path': 3203, '3772 Silent Dale Walk': 3204, '5007 Little Barn Inlet': 3205, '4972 Lost Chase': 3206, '5207 Dewy Butterfly Lane': 3207, '7940 Noble Field': 3208, '8950 Stony Forest Edge': 3209, '6296 Rocky Nectar Square': 3210, '6721 Golden Line': 3211, '5220 Grand Bank': 3212, '378 Cinder View': 3213, '4074 Sleepy Fox Estates': 3214, '7324 Iron Fawn Beach': 3215, '6728 Wishing Parkway': 3216, '3216 Noble Boulevard': 3217, '1077 Jagged Grove Crescent': 3218, '3278 Pleasant Moor': 3219, '7358 Gentle Manor': 3220, '2517 Green Bluff Stead': 3221, '2954 Blue Anchor Port': 3222, '6635 Iron Square': 3223, '4491 High Dell': 3224, '7780 Shady Island Townline': 3225, '6599 Emerald Anchor Mall ': 3226, '7119 Iron Creek Farm': 3227, '8615 Cotton Sky Highlands': 3228, '1510 Red Spring Lane': 3229, '4028 Rustic Valley': 3230, '1469 Cinder Leaf Cape': 3231, '6075 Shady Farms': 3232, '1676 Heather Pointe': 3233, '7127 Quiet Zephyr Nook': 3234, '6943 Misty Quail Link': 3235, '6697 Red Treasure Towers': 3236, '3937 Cinder Circle': 3237, '1389 Dusty Circuit': 3238, '640 Shady Subdivision': 3239, '2659 Merry Fox Point': 3240, '1050 Sunny River Line': 3241, '5299 Indian Treasure Mount': 3242, '4896 Honey Wood': 3243, '6292 Clear Butterfly Turnabout': 3244, '4895 Stony Passage': 3245, '5736 High Limits': 3246, '10 Crystal River Mall ': 3247, '4948 Colonial Village': 3248, '14 Cinder Timber Valley': 3249, '9882 Heather Gate': 3250, '5645 Broad Jetty': 3251, '1607 Dewy Deer Jetty': 3252, '2035 Thunder Corners': 3253, '8263 Fallen Bluff Circuit': 3254, '3281 Velvet Passage': 3255, '2792 Dewy Branch Autoroute': 3256, '9794 Indian Quail Manor': 3257, '6590 Emerald Mountain Subdivision': 3258, '2211 Lazy Wharf': 3259, '151 Red Deer Landing': 3260, '9395 Wishing Thicket': 3261, '9526 Bright Heath': 3262, '7601 Blue Gate': 3263, '2329 Blue Anchor Concession': 3264, '9847 Wishing Ledge': 3265, '7463 Sunny Embers Gate': 3266, '9624 Merry Run': 3267, '3137 Bright Willow Gardens': 3268, '2236 Silent Close': 3269, '1055 Rustic Avenue': 3270, '7798 Lost Front': 3271, '7778 Silver Turnabout': 3272, '3856 Grand Fox Road': 3273, '3881 Blue Mount': 3274, '7136 Indian Bear Farm': 3275, '7206 Middle Pond Downs': 3276, '7975 Umber Freeway': 3277, '5129 Indian Maze': 3278, '6936 Heather Moor': 3279, '712 Fallen Bend': 3280, '9144 Pleasant Pointe': 3281, '7469 Misty Log Estates': 3282, '1637 High Butterfly Bank': 3283, '8589 Red Deer Circuit': 3284, '5105 Cozy Line': 3285, '6065 Sleepy Robin Beach': 3286, '7107 Golden Mews': 3287, '3307 Broad Beacon Wood': 3288, '599 Clear Gardens': 3289, '3996 Silver Wagon  Round': 3290, '5310 Easy Barn Campus': 3291, '5628 Clear Knoll': 3292, '3236 Grand Carrefour': 3293, '4786 Crystal Apple Island': 3294, '436 Pleasant River Diversion': 3295, '1669 Middle Common': 3296, '1017 Quiet Villas': 3297, '660 Indian Chase': 3298, '6234 Quaking Zephyr Corner': 3299, '7962 Lazy Pioneer Estates': 3300, '4436 Merry By-pass': 3301, '7717 Rocky Corner': 3302, '6567 Red Robin Street': 3303, '6395 Colonial Berry Ledge': 3304, '1381 Tawny Trace': 3305, '8267 Silent Lagoon Front': 3306, '8187 Foggy Centre': 3307, '555 Rustic Zephyr Passage': 3308, '431 Merry Log Key': 3309, '5888 Burning Embers Farms': 3310, '7723 Middle Lane': 3311, '3751 Heather Townline': 3312, '7192 Jagged Loop': 3313, '3634 Burning Park': 3314, '2042 Heather Trace': 3315, '1626 Misty Hills Round': 3316, '3159 Dewy Leaf Plaza': 3317, '395 Hazy Branch Mews': 3318, '8050 Velvet Pond Drive': 3319, '797 Heather Thicket': 3320, '2146 Old Trace': 3321, '2358 Cozy Pointe': 3322, '9016 Foggy Robin Expressway': 3323, '7802 Blue Cove': 3324, '9607 Sunny Path': 3325, '6654 Green Crest': 3326, '5647 Easy Pond Jetty': 3327, '7906 Colonial Jetty': 3328, '9847 Dusty Horse Corner': 3329, '9095 Middle Pony Pike': 3330, '8721 Sleepy Passage': 3331, '5755 Thunder Nectar Gate': 3332, '2122 Crystal Mountain': 3333, '7422 Heather Heath': 3334, '7274 Hidden Forest Circle': 3335, '9879 Foggy Hills Freeway': 3336, '5575 Hidden Row': 3337, '1141 Quiet Pathway': 3338, '3594 Thunder Zephyr Bank': 3339, '8957 Stony Pony View': 3340, '1052 Merry Leaf Autoroute': 3341, '9406 Iron Zephyr Wood': 3342, '7840 Heather Pine Impasse': 3343, '5025 Shady Vista': 3344, '469 Cinder Rabbit Mall ': 3345, '4556 Tawny Dale Pathway': 3346, '2905 Quaking Concession': 3347, '6076 Sleepy Manor': 3348, '4880 Colonial Grounds': 3349, '5633 Harvest Turnabout': 3350, '1853 High Common': 3351, '7510 Bright Rise Via': 3352, '9323 Hidden Prairie Way': 3353, '3151 Little Spring Estates': 3354, '2128 Umber Grove Via': 3355, '4590 Silver Anchor Street': 3356, '4675 Cozy Way': 3357, '1819 Hazy Arbor': 3358, '5375 Iron Cloud Mews': 3359, '7542 Rocky Fox Pike': 3360, '1358 Quaking Panda Stead': 3361, '4955 Pleasant Grove Bay': 3362, '5035 Sunny Avenue': 3363, '1551 Fallen Ridge': 3364, '1254 Hazy Trail': 3365, '1185 Easy Rabbit Abbey': 3366, '67 Bright Mountain Pines': 3367, '1320 Cinder Prairie Mountain': 3368, '8840 Rocky Crescent': 3369, '6646 Hazy View Point': 3370, '3076 Indian Mews': 3371, '5339 Burning Pony Heights': 3372, '89 Lost Isle': 3373, '5131 Iron Corner': 3374, '8958 Jagged Ridge': 3375, '8768 Iron End': 3376, '2929 Green Grove Corner': 3377, '6018 Velvet Branch Pike': 3378, '5888 Iron Goose Centre': 3379, '2974 Lazy Hollow': 3380, '355 Cozy Square': 3381, '3760 Tawny Harbour': 3382, '521 Quiet Pioneer Towers': 3383, '4421 Cinder Ramp': 3384, '4920 Green Alley': 3385, '6336 Fallen Village ': 3386, '8811 High Horse Impasse': 3387, '2472 Red Nectar Stead': 3388, '601 Umber Lake Point': 3389, '2757 Noble Lagoon End': 3390, '8685 Thunder Freeway': 3391, '3977 Old Dale Point': 3392, '1744 Umber Manor': 3393, '6933 Honey Turnabout': 3394, '7557 Wishing Falls': 3395, '4669 Blue Barn Front': 3396, '4197 Colonial Prairie Mews': 3397, '3032 Round Gardens': 3398, '5193 Cotton Grove Rise': 3399, '8316 Pleasant Bend': 3400, '3491 Indian Pony Edge': 3401, '5517 Jagged Hollow': 3402, '9279 Indian Way': 3403, '4850 Sunny Willow Passage': 3404, '6396 Honey Prairie Bay': 3405, '2643 Sunny Circle': 3406, '3257 Quiet Anchor Link': 3407, '421 Pleasant Diversion': 3408, '3392 Hazy Point': 3409, '8839 High Butterfly Forest': 3410, '923 Tawny Goose Corners': 3411, '5336 Misty Hickory Quay': 3412, '4506 Golden Branch End': 3413, '2770 Merry Heath': 3414, '9658 Merry Landing': 3415, '2082 Hidden Green': 3416, '3814 Dusty Route': 3417, '6339 Honey Pathway': 3418, '531 Round Fox Route': 3419, '8473 Broad Grove Heights': 3420, '7627 Quaking Quail Acres': 3421, '7983 Velvet Beach': 3422, '5913 Red Robin Corner': 3423, '9036 Easy Embers Point': 3424, '1077 Middle River Heights': 3425, '5630 Easy Field': 3426, '5034 Silver View Island': 3427, '2275 Indian Embers Range': 3428, '8834 Pleasant Pioneer Jetty': 3429, '1065 Iron Lake Island': 3430, '696 Velvet Oak Ledge': 3431, '547 Cinder Oak Glade': 3432, '6667 Harvest Pioneer Downs': 3433, '9615 Round Harbour': 3434, '1987 Burning Rabbit Crescent': 3435, '9612 Gentle Mall ': 3436, '4599 Merry Pointe': 3437, '153 Blue Bay': 3438, '9772 Honey Dale Landing': 3439, '2049 Indian Extension': 3440, '810 Jagged Pointe': 3441, '4691 Cinder Crest ': 3442, '6517 Quiet Spring Hill': 3443, '541 Lost Willow Landing': 3444, '6280 Sleepy Brook Diversion': 3445, '4840 Pleasant Vista': 3446, '2659 Jagged Rabbit View': 3447, '153 Merry Loop': 3448, '495 Grand Extension': 3449, '2787 Quaking Common': 3450, '8817 Golden Run': 3451, '1577 Silver Pathway': 3452, '8570 Lost Barn Expressway': 3453, '2972 Silent Blossom Pointe': 3454, '3838 Bright Creek Vista': 3455, '503 Little Rabbit Campus': 3456, '1159 Silver Robin Falls': 3457, '6473 Bright Expressway': 3458, '567 Fallen Pines': 3459, '8056 Burning River Limits': 3460, '1171 Crystal Butterfly Inlet': 3461, '8802 Dusty Drive': 3462, '3881 Noble Swale': 3463, '3100 Broad Brook Impasse': 3464, '5714 Jagged Leaf Street': 3465, '7580 Bright Willow Street': 3466, '9417 Colonial Mountain': 3467, '4878 Dusty Road': 3468, '4997 Silent Willow Route': 3469, '3541 Foggy Way': 3470, '1956 Silent Crest': 3471, '6036 Grand Log Path': 3472, '9928 High Sky Nook': 3473, '9650 Red Farm': 3474, '8370 Green Berry Boulevard': 3475, '473 High Plaza': 3476, '9160 Cinder Diversion': 3477, '8460 Dewy Nook ': 3478, '7334 Merry Maze': 3479, '5404 Hidden Lake Vale': 3480, '3050 Cinder End': 3481, '2391 Lost Byway': 3482, '930 Burning Island Walk': 3483, '8706 Tawny Centre': 3484, '4204 Jagged Passage': 3485, '8786 Cotton Byway': 3486, '1056 Quiet Turnabout': 3487, '6097 Amber Rabbit Impasse': 3488, '9453 Dewy Promenade': 3489, '5161 Emerald Panda Green': 3490, '5008 Hidden Autoroute': 3491, '6797 Thunder View Lookout': 3492, '4555 Umber Zephyr Inlet': 3493, '754 High Bear Diversion': 3494, '3865 Grand Robin Crossing': 3495, '6015 Indian Key': 3496, '4967 Umber Green': 3497, '2535 Shady Wagon  Edge': 3498, '604 Round Island': 3499, '2387 Harvest Subdivision': 3500, '7795 Golden Sky Carrefour': 3501, '4212 Shady Field': 3502, '2456 Green Nook': 3503, '5760 Hazy Glade': 3504, '4696 Shady Mount': 3505, '5050 Rustic Log Cove': 3506, '8187 Sleepy Beacon Gardens': 3507, '5497 Red Landing': 3508, '1258 Stony Wynd': 3509, '7868 Quiet Brook Range': 3510, '6481 Heather Wagon  Range': 3511, '4687 Stony Goose Crossing': 3512, '3212 Broad Falls': 3513, '9596 Cotton Island Chase': 3514, '4408 Sleepy Spring Byway': 3515, '4590 Red Treasure Loop': 3516, '595 Shady Walk': 3517, '6314 Dusty Nook': 3518, '7811 Quiet Goose Autoroute': 3519, '1757 Grand Blossom Subdivision': 3520, '7190 Silent Timber Mews': 3521, '478 Velvet Robin Passage': 3522, '4379 Heather Parkway': 3523, '2059 Sunny Cape': 3524, '456 Colonial Glen': 3525, '7770 Tawny Fox Circle': 3526, '7290 Rustic Deer Private': 3527, '8933 Sunny Subdivision': 3528, '3304 Heather Pioneer Vista': 3529, '948 Thunder Gate Beach': 3530, '948 Rustic Pine Jetty': 3531, '8906 Cotton Alley': 3532, '72 Quaking Route': 3533, '2457 Easy Nectar Link': 3534, '9761 Quiet Hills Maze': 3535, '2328 Middle Robin Path': 3536, '4379 Honey Private': 3537, '472 Hidden River Plaza': 3538, '4542 Shady Branch Boulevard': 3539, '9775 Middle River Townline': 3540, '9265 Grand Elk Lookout': 3541, '4543 Cotton Path': 3542, '9551 Cotton Island Ridge': 3543, '1187 Hidden Blossom Corner': 3544, '6270 Broad Downs': 3545, '5810 Umber Impasse': 3546, '9589 Shady Fox Grove': 3547, '8004 Colonial River Square': 3548, '864 Green Lagoon Wynd': 3549, '7134 Sunny Autumn Run': 3550, '7282 Wishing Log Boulevard': 3551, '1055 Indian Pointe': 3552, '9128 Green Spring Ramp': 3553, '5074 Grand Rabbit Promenade': 3554, '1964 Round Run': 3555, '5737 Honey Meadow': 3556, '5012 Honey Wagon  Stead': 3557, '2580 Dewy Circle': 3558, '4077 Clear Key': 3559, '9795 Umber Front': 3560, '3859 Round Grounds': 3561, '5453 Lost Goose Downs': 3562, '6889 Merry Autumn Maze': 3563, '9437 Lazy Quay': 3564, '2161 Emerald Beach': 3565, '5434 Bright Square': 3566, '3819 Easy Knoll': 3567, '5656 Jagged Knoll': 3568, '7740 Silent Prairie Circle': 3569, '6122 Easy Oak Extension': 3570, '8445 Noble Quail Downs': 3571, '3104 Thunder Grounds': 3572, '3989 Hidden Dale Subdivision': 3573, '2125 Heather Valley': 3574, '2841 Silent Deer Chase': 3575, '6426 Thunder Corner': 3576, '6315 Heather River Avenue': 3577, '9222 Colonial Thicket': 3578, '1102 Pleasant Maze': 3579, '8627 Honey Lane': 3580, '5668 Silver Leaf Range': 3581, '1081 Little Concession': 3582, '436 Velvet Berry Row': 3583, '8473 Lost Brook Bay': 3584, '2737 Noble Edge': 3585, '9550 Lazy Pine Chase': 3586, '2972 Grand Hills Concession': 3587, '3152 Lazy Close': 3588, '7464 Sunny Grove': 3589, '7342 Rocky Leaf Jetty': 3590, '9136 Emerald Oak Maze': 3591, '690 Pleasant Autumn Mall ': 3592, '7107 Harvest Blossom Abbey': 3593, '1631 Little Hill': 3594, '8906 Rustic Mall ': 3595, '4260 Silent Blossom Isle': 3596, '9084 Noble Horse Crescent': 3597, '1663 Heather Treasure Place': 3598, '2912 Hidden Acres': 3599, '8866 Cotton Timber Meadow': 3600, '1014 Easy Spring Cape': 3601, '6077 Heather Zephyr Estates': 3602, '9765 Merry Farms': 3603, '4551 Blue Quay': 3604, '7519 Quaking Green': 3605, '7639 Pleasant Canyon': 3606, '2887 Gentle Island Highway': 3607, '9144 Gentle Dale': 3608, '8261 Lazy Lookout': 3609, '2699 Jagged Horse Highway': 3610, '8924 Wishing Branch By-pass': 3611, '6292 Hidden Treasure Thicket': 3612, '9800 Honey Oak Mews': 3613, '9229 Jagged Wagon  End': 3614, '8373 Gentle Pond Bay': 3615, '3627 Lost Butterfly Drive': 3616, '1463 Silver Mountain Gate': 3617, '5872 Umber Glade': 3618, '6564 Hazy Forest Estates': 3619, '4805 Lost Berry Forest': 3620, '8632 Bright Route': 3621, '9865 Heather Way': 3622, '6371 Umber Shadow Heights': 3623, '6528 Emerald Expressway': 3624, '8342 Green Orchard': 3625, '8153 Sunny Bluff Grove': 3626, '9203 Dusty Vista': 3627, '5315 Indian Rise Dell': 3628, '6451 Noble Blossom Manor': 3629, '8615 Amber Spring Link': 3630, '8775 Tawny Pony Cape': 3631, '4182 Burning Hills Corners': 3632, '6864 Dusty Island Avenue': 3633, '9551 Blue Pond Downs': 3634, '9394 Umber Abbey': 3635, '595 Jagged Villas': 3636, '558 Dewy Promenade': 3637, '2260 Golden Spring By-pass': 3638, '9865 Blue Edge': 3639, '6631 Tawny Panda Woods': 3640, '2488 Dusty By-pass': 3641, '7792 Lost Grounds': 3642, '8732 Cinder Gate Corners': 3643, '4828 Crystal Island': 3644, '1893 Shady Path': 3645, '2186 Amber Lagoon Mountain': 3646, '4388 Shady Timber Valley': 3647, '555 Honey Pond Inlet': 3648, '57 High Villas': 3649, '4951 Misty Pioneer Mall ': 3650, '1207 Green Anchor Arbor': 3651, '8668 Burning Butterfly Crest': 3652, '7106 Rustic Hickory Front': 3653, '7368 Blue Swale': 3654, '6595 Shady Concession': 3655, '6925 Heather Grove Glen': 3656, '7773 Burning Village': 3657, '6909 Umber Bluff Landing': 3658, '7994 Easy Estates': 3659, '6582 Hidden Grounds': 3660, '7125 Hazy Gate': 3661, '6714 Lazy Manor': 3662, '8470 Amber Street': 3663, '5865 Fallen Bank': 3664, '2050 Rocky Quay': 3665, '786 Emerald Rise Place': 3666, '1983 Quiet Beach': 3667, '8570 Stony Barn Heath': 3668, '4277 Noble Subdivision': 3669, '1214 Red Estates': 3670, '1397 Colonial Point': 3671, '3283 Fallen Goose Run': 3672, '6415 Stony Route': 3673, '4599 Lazy Dale': 3674, '2407 Gentle Woods': 3675, '2036 Dusty Bear Cove': 3676, '1591 Little Cider Park': 3677, '3888 Quaking Via': 3678, '3495 Fallen Gardens': 3679, '1795 Dusty Hills Village': 3680, '8428 Noble Elk Loop': 3681, '9109 Velvet Dale Gate': 3682, '1295 Pleasant Branch Corners': 3683, '4047 Green Stead': 3684, '5599 Umber Cloud Street': 3685, '2977 Velvet Wynd': 3686, '5293 Emerald Concession': 3687, '3040 Cozy Freeway': 3688, '1400 Silent Run': 3689, '3696 Dewy Sky Ledge': 3690, '2649 Pleasant Campus': 3691, '3114 Merry Gate Downs': 3692, '9044 Merry Acres': 3693, '6496 Noble Fawn Heights': 3694, '3702 Noble Plaza': 3695, '6564 Amber Branch Highlands': 3696, '3152 Wishing Pointe': 3697, '6396 Blue Gate Parkway': 3698, '3865 Burning Shadow Acres': 3699, '5755 Heather Apple Row': 3700, '5609 Easy Leaf Expressway': 3701, '7342 Golden Cider Concession': 3702, '5958 Tawny Common': 3703, '4524 Quiet Limits': 3704, '1454 Emerald Hollow': 3705, '454 Cotton Island': 3706, '3499 Blue Subdivision': 3707, '6958 Hazy Gardens': 3708, '2991 Round Hill': 3709, '2251 Bright Glade': 3710, '9335 Old Autoroute': 3711, '8341 Stony Avenue': 3712, '9875 Emerald Berry Grounds': 3713, '7746 Burning Barn Isle': 3714, '1416 Grand Gate Alley': 3715, '8775 Burning Lake Mountain': 3716, '4900 Heather Elk Row': 3717, '8187 Cotton Rise Court': 3718, '59 Heather Shadow Concession': 3719, '4703 Grand Square': 3720, '9832 Stony Lake Alley': 3721, '3493 Dewy Loop': 3722, '7546 Blue Butterfly Arbor': 3723, '9647 Emerald Spring Towers': 3724, '6449 Harvest Apple Freeway': 3725, '9972 Colonial Common': 3726, '1173 Silver Isle': 3727, '7790 Rocky Pine Bank': 3728, '2736 Little Port': 3729, '3890 Indian Robin Extension': 3730, '3151 Bright Cider Jetty': 3731, '7922 Velvet Timber Jetty': 3732, '3251 Iron Horse Autoroute': 3733, '4924 Little Apple Ramp': 3734, '164 Dewy Nook': 3735, '9800 Lazy Fox Isle': 3736, '1096 Green Wood': 3737, '9795 Shady Pond Cove': 3738, '1156 High Lagoon Ledge': 3739, '7007 Emerald Autoroute': 3740, '1865 Lazy Lake Pines': 3741, '8961 Red Deer Wood': 3742, '2990 Bright Vista': 3743, '6141 Clear Fox Vista': 3744, '3874 Cotton Heath': 3745, '2499 Sleepy Diversion': 3746, '2968 Iron Butterfly Close': 3747, '5261 Thunder Valley': 3748, '1343 Noble Bend': 3749, '7253 Old Crescent': 3750, '6760 Grand Cloud Hill': 3751, '1082 Harvest Ledge': 3752, '9671 Little Chase': 3753, '921 Noble Grounds': 3754, '786 Lost Horse Plaza': 3755, '8790 Broad Avenue': 3756, '9526 Noble Embers Ridge': 3757, '2607 Cinder River Expressway': 3758, '9550 Heather Hickory Forest': 3759, '1510 Burning Creek Heath': 3760, '7800 Tawny Creek Trace': 3761, '7864 Jagged Nectar Isle': 3762, '6019 Rustic Ridge': 3763, '9731 Lost Creek Hollow': 3764, '6303 Heather Plaza': 3765, '6797 Stony Elk Pike': 3766, '5057 Lost Arbor': 3767, '6451 Clear Hills Moor': 3768, '2 Middle Mall ': 3769, '7715 Foggy Robin Valley': 3770, '1388 Hazy Swale': 3771, '3060 Emerald Crossing': 3772, '6200 Sunny Hickory Front': 3773, '5841 Grand End': 3774, '2765 Velvet Branch Woods': 3775, '5259 Bright Deer Crossing': 3776, '5656 Noble Lookout': 3777, '9772 Indian Island Moor': 3778, '4742 Gentle Beach': 3779, '6595 Dusty Chase': 3780, '8842 Cotton Berry Mount': 3781, '5486 Jagged Lake Avenue': 3782, '3192 Clear Sky Forest': 3783, '5127 Indian Boulevard': 3784, '3874 Bright Fawn Subdivision': 3785, '2319 Jagged Hickory Falls': 3786, '7360 Dewy Island Bank': 3787, '2943 Stony Lake Pike': 3788, '7810 Stony Stead': 3789, '840 Wishing Vista': 3790, '325 Bright Centre': 3791, '4135 Iron Shadow Link': 3792, '8771 Emerald Glade': 3793, '3752 Red Rise': 3794, '3538 Golden Bluff Court': 3795, '5012 Crystal Spring Glade': 3796, '5079 Umber Cloud Boulevard': 3797, '9634 Lost Common': 3798, '2036 Iron Mountain': 3799, '2089 Dusty Maze': 3800, '2231 High Lagoon Glen': 3801, '5310 Crystal Hills Mount': 3802, '4599 Red Pathway': 3803, '3506 High Brook Swale': 3804, '6174 Honey Lookout': 3805, '9173 Little River Place': 3806, '3959 Shady Pond Village': 3807, '2544 Burning Sky Key': 3808, '5937 Blue Pony Square': 3809, '3777 Misty Gate': 3810, '633 Silent Hollow': 3811, '6417 Stony Dale Villas': 3812, '857 Little Wagon  Concession': 3813, '3915 Old Mountain Downs': 3814, '9015 Round Lagoon Square': 3815, '6231 Fallen Parade': 3816, '6772 Old Shadow Dell': 3817, '7844 Rocky Deer Avenue': 3818, '8383 Jagged Street': 3819, '5849 Dewy Mountain Promenade': 3820, '9605 Red Quay': 3821, '3123 Stony Zephyr Drive': 3822, '3323 Rocky Robin Pointe': 3823, '5865 Colonial Glen': 3824, '2534 Amber View Stead': 3825, '6278 Cotton Edge': 3826, '586 Rocky Branch Ramp': 3827, '7178 Velvet Range': 3828, '8478 Clear Anchor Round': 3829, '3907 Emerald Rise': 3830, '6306 Broad Rise Acres': 3831, '450 Burning Butterfly Moor': 3832, '1356 Shady Villas': 3833, '8370 Burning Lake Carrefour': 3834, '3857 Bright Gate Gate': 3835, '1942 Middle Bluff Crescent': 3836, '248 Cozy Pony Road': 3837, '2293 Sunny Village': 3838, '5186 Middle Plaza': 3839, '629 Grand Inlet': 3840, '4435 Harvest Apple Port': 3841, '5436 Grand Hickory Farm': 3842, '4592 Lost Zephyr Concession': 3843, '8824 Jagged By-pass': 3844, '8877 Thunder Zephyr Orchard': 3845, '3342 Bright Rabbit Wynd': 3846, '9216 Easy Zephyr Farm': 3847, '5514 Honey Grove': 3848, '8696 Fallen Cloud Circle': 3849, '9160 Colonial Passage': 3850, '2406 Rocky Treasure Hollow': 3851, '1816 Sunny Apple Link': 3852, '2455 Stony Fox Crossing': 3853, '529 Noble Oak End': 3854, '8544 Iron Sky Terrace': 3855, '283 Honey Goose Crescent': 3856, '4733 Cozy Fox Acres': 3857, '3710 Little Nook': 3858, '8259 Colonial Heights': 3859, '4566 Clear Willow Pike': 3860, '6502 Red Point': 3861, '9911 Cinder End': 3862, '1156 Shady Hills Highway': 3863, '5835 Hidden Downs': 3864, '4556 Clear Panda Hollow': 3865, '3796 Little Jetty': 3866, '9674 Cinder Heights': 3867, '6936 Jagged Corner': 3868, '5452 Lost Estates': 3869, '3206 Noble Treasure Field': 3870, '2783 Middle End': 3871, '6906 Quiet Rise': 3872, '5744 Honey Pine Key': 3873, '3305 Umber Mews': 3874, '9243 Old Gardens': 3875, '9922 Umber Promenade': 3876, '852 Emerald Glade': 3877, '1546 Hidden Embers Way': 3878, '2121 Harvest Maze': 3879, '4369 Middle Willow Private': 3880, '445 Dusty Branch Byway': 3881, '3884 Golden Landing': 3882, '5338 Cozy Expressway': 3883, '8189 Clear Key': 3884, '6030 Harvest Knoll': 3885, '4515 Golden Manor': 3886, '3169 Tawny Walk': 3887, '1453 Grand Rabbit Park': 3888, '567 Green Jetty': 3889, '2122 Rustic Link': 3890, '436 Honey Willow Knoll': 3891, '1802 Tawny Timber Route': 3892, '252 Green Horse Dale': 3893, '2060 Quaking Nectar Estates': 3894, '3684 Foggy Horse Key': 3895, '6958 Umber Line': 3896, '5633 Honey Point': 3897, '2863 Merry Circle': 3898, '5621 Cinder Maze': 3899, '4155 Cinder Hickory Thicket': 3900, '6077 Clear Mountain Abbey': 3901, '9437 Middle Beacon Place': 3902, '9283 Hidden Elk Terrace': 3903, '8055 Fallen Parkway ': 3904, '1819 Green Autoroute': 3905, '5520 Bright Hills Gardens': 3906, '444 Grand Corner ': 3907, '8627 Honey Lane ': 3908, '2534 Umber Landing': 3909, '4355 Shady Bank ': 3910, '3760 Rocky Village ': 3911, '2930 Cotton Limits': 3912, '4297 Velvet Anchor Pike': 3913, '5292 Cinder Elk Moor': 3914, '3683 Thunder Autoroute': 3915, '2867 Iron Avenue': 3916, '1809 Misty Pine Pines': 3917, '9468 Quaking Green': 3918, '8990 Rocky Lake Freeway': 3919, '6630 Quaking Via': 3920, '5485 Sleepy Hollow': 3921, '4742 Hazy Street': 3922, '851 Silver Elk Farms': 3923, '4144 Quiet Orchard': 3924, '1688 Crystal Leaf Vista': 3925, '4958 Shady Zephyr Gardens': 3926, '8733 Sunny Woods': 3927, '5736 Honey Downs': 3928, '6567 Harvest Hills Crescent': 3929, '1763 Crystal Valley': 3930, '5131 Grand Dale Ramp': 3931, '7471 Easy Edge ': 3932, '6267 Rustic Fox Swale': 3933, '8416 Emerald Dale ': 3934, '5990 Hazy Glade': 3935, '2850 Gentle Link': 3936, '6602 Lazy Point': 3937, '6091 Harvest Bluff View': 3938, '7570 Iron Fawn Square': 3939, '7786 Harvest Bank': 3940, '903 Rustic Knoll': 3941, '9843 Indian Passage': 3942, '7302 Sunny Valley': 3943, '1230 Quaking Common': 3944, '9870 Thunder Mountain Meadow': 3945, '9340 Sleepy Acres': 3946, '5546 Dewy Carrefour': 3947, '9126 Colonial Gardens': 3948, '4388 Lazy Mountain Avenue': 3949, '7596 Emerald Common': 3950, '6764 Cozy Cape': 3951, '2757 Green Spring Concession': 3952, '3569 Rocky Towers': 3953, '376 Jagged Centre': 3954, '10 Pleasant Prairie Link': 3955, '4271 Indian Trail': 3956, '6568 Gentle Landing': 3957, '4750 Lost Jetty': 3958, '123 Broad Chase': 3959, '1595 Tawny Panda Via': 3960, '9195 Crystal Maze': 3961, '8772 Tawny Alley': 3962, '3683 Silent Cove': 3963, '275 Round Brook Dell': 3964, '6270 Golden Estates': 3965, '6594 Sleepy Zephyr Line': 3966, '2167 Dusty Glade': 3967, '2 Jagged Bank': 3968, '8310 Velvet Bay': 3969, '8623 Merry Lookout': 3970, '1463 Silent Expressway': 3971, '8679 Dusty Creek Place': 3972, '5835 Thunder Centre': 3973, '6908 Stony Bluff Point': 3974, '494 Silent Hills Bank': 3975, '9069 Middle Cloud Woods': 3976, '7539 Honey Lagoon Point': 3977, '4196 Rustic Zephyr Dale': 3978, '7129 Harvest Arbor': 3979, '9493 Silver Elk Manor': 3980, '4979 Pleasant Vista': 3981, '6933 Silver Close': 3982, '4525 High Timber Pines': 3983, '2331 Tawny Campus': 3984, '1364 Thunder Mews': 3985, '381 Cozy Timber Walk': 3986, '174 Hazy Pines': 3987, '1898 Gentle Stead': 3988, '3361 Crystal Crescent': 3989, '5841 Clear Centre': 3990, '1454 Iron Row': 3991, '1454 Old Farms': 3992, '1952 Noble Ramp': 3993, '285 Silent Lookout': 3994, '260 Dewy Glen': 3995, '3179 Heather Arbor': 3996, '1304 Clear Field': 3997, '4074 Burning River Corners': 3998, '6909 Sleepy Fawn Path': 3999, '2434 Colonial Farms': 4000, '1229 Sunny Forest Place': 4001, '9174 Umber Robin Knoll': 4002, '3378 Old Drive': 4003, '8421 Pleasant Nectar Route': 4004, '629 Dewy Canyon': 4005, '5902 Silver Embers Diversion': 4006, '9334 Grand Fox Parkway': 4007, '3632 Bright Fawn Stead': 4008, '9203 Tawny Swale': 4009, '8629 Heather Spring Wharf': 4010, '7119 Blue Farm': 4011, '2293 Rocky Park': 4012, '444 Grand Corner': 4013, '8504 Umber Bluff Crest': 4014, '259 Green Link': 4015, '431 Noble Dale Pines': 4016, '3741 Green Parade': 4017, '7206 Old Hills Hill': 4018, '8663 Red Creek Via': 4019, '3006 Dusty Apple Range': 4020, '4166 Golden Willow Circuit': 4021, '1110 Merry Trace': 4022, '3579 Round Dale Woods': 4023, '7947 Misty Arbor': 4024, '8777 Silent View': 4025, '8094 Blue Path': 4026, '9335 Thunder Robin Crescent': 4027, '2535 Noble Blossom Port': 4028, '5497 Old Trace': 4029, '153 Velvet Extension': 4030, '3151 Rocky Gate Limits': 4031, '1490 Sunny Downs': 4032, '1440 Burning Bluff Park': 4033, '6476 Blue Fawn Bay': 4034, '3881 Golden Corners': 4035, '8981 Harvest Hills Path': 4036, '6009 Quiet Impasse': 4037, '3298 Dusty Island Circuit': 4038, '777 Sleepy Creek Walk': 4039, '9848 Lost Embers Crest': 4040, '507 Indian Front': 4041, '8349 Round Road': 4042, '9671 Clear Log Heath': 4043, '7324 Wishing Rise Loop': 4044, '8550 Red Oak Bank': 4045, '8976 Wishing Quail Ramp': 4046, '5104 Jagged Park': 4047, '3185 Tawny Field': 4048, '6121 Silent Street': 4049, '1306 Cozy Abbey': 4050, '9042 Little Barn Mountain': 4051, '1034 Dusty Pine Green': 4052, '7112 Cozy Highway': 4053, '2790 Cinder Bend': 4054, '779 Velvet Blossom Key': 4055, '623 Tawny Creek Line': 4056, '555 Dewy Wagon  Byway': 4057, '5484 Jagged Pioneer Promenade': 4058, '9657 Broad Creek By-pass': 4059, '1585 Misty Lake Terrace': 4060, '989 Cotton Branch Pointe': 4061, '6314 Hidden Private': 4062, '6450 Thunder Log Crossing': 4063, '2415 Misty Rise Dell': 4064, '1156 Silver Sky Line': 4065, '9337 Rustic Inlet': 4066, '593 Iron Mountain Trail': 4067, '9526 Honey Nectar Field': 4068, '7324 Pleasant Lagoon Quay': 4069, '3729 Noble Road': 4070, '3410 Gentle Bluff Key': 4071, '8247 Little Cider Close': 4072, '6657 Rustic Brook Line': 4073, '68 Colonial Rabbit Thicket': 4074, '1320 Dewy Hickory Cove': 4075, '154 Blue Cape': 4076, '7988 Red Boulevard': 4077, '4806 Middle Canyon': 4078, '8818 Easy Oak Point': 4079, '9657 Golden Goose Row': 4080, '5002 Easy Island Carrefour': 4081, '1658 Emerald Pony Green': 4082, '8021 Misty Plaza': 4083, '5737 Misty Alley ': 4084, '8171 Iron Glade': 4085, '6727 Hazy Isle': 4086, '3853 Middle Lagoon Downs': 4087, '5143 Old Walk': 4088, '7929 Red Island Bay': 4089, '2232 Broad Cove': 4090, '6080 Blue Close': 4091, '3570 Crystal Cider Circuit': 4092, '7542 Thunder Anchor Ridge': 4093, '7494 Broad Wagon  Vale': 4094, '1250 Misty Horse Via': 4095, '9393 Sleepy Field': 4096, '9133 Merry Dale': 4097, '3202 Lazy Maze': 4098, '5768 Emerald Blossom Parkway': 4099, '6150 Bright Treasure Path': 4100, '779 Golden View Glade': 4101, '4290 Silent Meadow': 4102, '6574 Jagged Hickory Rise': 4103, '8906 Silver Link': 4104, '3849 Fallen Embers Pointe': 4105, '9089 Pleasant Dale Common': 4106, '2458 Crystal Road': 4107, '9881 Heather Isle': 4108, '4101 Colonial By-pass': 4109, '5985 Jagged Oak Abbey': 4110, '5229 Little Barn Impasse': 4111, '1023 Rocky Hollow': 4112, '2576 Misty By-pass': 4113, '257 Stony Beacon Crescent': 4114, '1721 Grand Horse Hollow': 4115, '6554 Burning Willow Avenue': 4116, '2352 Umber Wagon  Wood': 4117, '1306 Emerald Hills Ramp': 4118, '1469 Iron Rise Circle': 4119, '3151 Rustic River Line': 4120, '7046 Cinder Lagoon Highway': 4121, '4010 Stony Mountain Wood': 4122, '2556 Tawny Villas': 4123, '1491 Foggy Glade': 4124, '8864 Silver Highlands ': 4125, '2983 Burning Townline': 4126, '8365 Thunder Way': 4127, '4524 Honey Carrefour': 4128, '7121 Lost Plaza': 4129, '9847 Cozy Beacon Gardens': 4130, '40 High Willow Front': 4131, '3688 Thunder Prairie Heights': 4132, '4079 Rocky Inlet': 4133, '2223 Rocky Port': 4134, '6412 Noble River Private': 4135, '20 Bright Barn Woods': 4136, '9879 Lazy Horse Mall': 4137, '445 Hazy Lake Hill': 4138, '3996 Indian Lookout': 4139, '9673 Cotton Bluff Bank': 4140, '4645 Colonial Hickory Grounds': 4141, '799 Hidden Horse Trace': 4142, '1777 Wishing Promenade': 4143, '1540 Umber Swale': 4144, '7419 Cinder Cloud Quay': 4145, '1681 High Berry Path': 4146, '7628 Dusty Brook Place': 4147, '6801 Burning Hickory Promenade': 4148, '2863 Rocky Beacon Terrace': 4149, '9533 Easy Port': 4150, '2563 Pleasant Quail Highway': 4151, '9140 Gentle Moor': 4152, '1043 Thunder Spring Mountain': 4153, '2749 Harvest Dale': 4154, '4221 Broad Limits': 4155, '961 Lazy Alley': 4156, '4733 Noble Treasure Run': 4157, '6395 Jagged Quail Grounds': 4158, '6115 Sunny Elk Grove': 4159, '9417 Emerald Towers': 4160, '1635 Round Expressway': 4161, '5784 Blue Wagon  Cove': 4162, '8164 Silver Plaza': 4163, '1223 Heather Horse Turnabout': 4164, '7380 Hazy Timber Expressway': 4165, '5041 Sleepy Lane': 4166, '9627 Sleepy Bend': 4167, '5985 Dusty Oak Byway': 4168, '9757 Harvest Mountain Private': 4169, '6077 Pleasant Cloud Maze': 4170, '6281 Wishing Sky Byway': 4171, '3323 Old Willow Mall ': 4172, '4423 Round Mount': 4173, '8528 Silent Crossing': 4174, '6676 Grand Vista': 4175, '7494 Middle Hollow': 4176, '6058 Stony Walk': 4177, '8252 Indian Pond Estates': 4178, '3139 Gentle Rabbit Parade': 4179, '1338 Silent Fawn Bay': 4180, '186 Easy Berry Boulevard': 4181, '7236 Cinder Bay': 4182, '9117 Harvest Street': 4183, '4321 Stony Thicket': 4184, '6267 Hazy Spring Grove': 4185, '772 Emerald Embers Square': 4186, '8893 Indian Swale': 4187, '1792 High By-pass': 4188, '3709 Middle Forest Downs': 4189, '8732 Broad Wagon  Road': 4190, '7274 Middle Wynd ': 4191, '4979 Stony Chase': 4192, '1100 Amber Turnabout': 4193, '9394 Old Subdivision': 4194, '8977 Round Hickory Ledge': 4195, '5050 Bright Dale Field': 4196, '8298 Round Brook Circuit': 4197, '3339 Bright Dale Crescent': 4198, '4940 Velvet Timber Cape': 4199, '4542 Merry Bay': 4200, '6036 Quaking Gate Bend': 4201, '6950 Velvet Inlet': 4202, '3052 Broad Rabbit Pointe': 4203, '5761 Hidden Spring Cove': 4204, '3761 Foggy Autumn Crossing': 4205, '3915 Stony Pines': 4206, '6015 Dewy Beach': 4207, '3180 Pleasant Bear Heights': 4208, '6195 Broad Deer Townline': 4209, '5430 Iron Mountain Lane': 4210, '7859 Silver Treasure Wynd': 4211, '5016 Quiet Court': 4212, '3930 Sunny Walk': 4213, '9437 Gentle Edge': 4214, '6035 Foggy Link': 4215, '2351 Hidden Pike': 4216, '1082 High Via': 4217, '4179 Burning Valley': 4218, '9069 Honey Forest Glade': 4219, '4715 Harvest Spring Vista': 4220, '5408 Stony Valley': 4221, '5105 Thunder Diversion': 4222, '5149 Rocky Pine Moor': 4223, '6451 Bright Oak Townline': 4224, '1027 Blue Port': 4225, '1802 Broad Carrefour': 4226, '6646 Iron Fox Mews': 4227, '1044 Merry Green': 4228, '153 Velvet Diversion': 4229, '8333 Red Passage': 4230, '1855 Silver Manor': 4231, '1255 Blue Bear Row': 4232, '1969 High Embers Corner': 4233, '6986 Hazy View Dell': 4234, '529 Cotton Branch Grove': 4235, '8623 Shady Subdivision': 4236, '1078 Indian Hickory Road': 4237, '6051 Velvet Abbey': 4238, '5104 Iron Log Limits': 4239, '4075 Silver Hills Heights': 4240, '6734 Iron Panda Lookout': 4241, '7250 Lazy Cider Cove': 4242, '5271 High Timber Canyon': 4243, '4492 Lazy Green': 4244, '4877 Noble View': 4245, '3621 Shady Glade': 4246, '3327 Pleasant Place': 4247, '7922 Iron Oak Gardens': 4248, '8460 Harvest Estates': 4249, '1736 Clear Gate': 4250, '3240 Indian Treasure Beach': 4251, '9394 Merry Towers': 4252, '1761 Easy Lagoon Mountain': 4253, '9359 Burning Hill': 4254, '2514 Green Quail Falls': 4255, '2991 Silver Circuit': 4256, '6292 Grand Rabbit Farms': 4257, '6900 Misty Meadow': 4258, '3567 Misty Circle': 4259, '8668 Emerald Elk Mount': 4260, '65 Middle Farms': 4261, '7796 Thunder Forest Villas': 4262, '3765 Fallen Branch Round': 4263, '6439 Quiet Lagoon Parkway': 4264, '6828 Tawny Ridge ': 4265, '8182 Broad Port ': 4266, '5078 High Rabbit Mount': 4267, '1682 Cozy Trail': 4268, '8255 Hidden Terrace ': 4269, '7258 Grand Pond Acres': 4270, '4796 Lost Fawn Parkway': 4271, '507 Bright Estates ': 4272, '1121 Wishing Jetty': 4273, '5013 Pleasant Fawn Pathway': 4274, '9875 Thunder Lagoon Parade': 4275, '5877 Honey Close': 4276, '3651 Rustic Cape ': 4277, '6141 Burning Prairie Avenue': 4278, '1971 Velvet Oak Road': 4279, '3045 Grand Pony Promenade': 4280, '4490 Dusty Byway': 4281, '1585 Jagged Fawn Heights': 4282, '3580 Sleepy Quail Crest': 4283, '490 Thunder Village': 4284, '363 Middle View Dell': 4285, '5985 Red Cider Corner': 4286, '8510 Green River Acres': 4287, '6468 Harvest Parade': 4288, '9340 Stony Woods': 4289, '3018 Middle Knoll': 4290, '707 Pleasant Concession': 4291, '870 High View Close': 4292, '8261 Hazy Falls': 4293, '8824 Dusty Island': 4294, '449 Shady Extension': 4295, '7422 Dewy Inlet': 4296, '6908 Middle Green': 4297, '4204 Dusty Pathway': 4298, '7119 Foggy Autoroute': 4299, '7086 Wishing View Villas': 4300, '2211 Sunny Wharf': 4301, '732 Honey Harbour': 4302, '4208 Rocky Embers Terrace': 4303, '1285 Green Valley': 4304, '7236 Hidden Parkway': 4305, '7793 Tawny Willow Ridge': 4306, '9010 Hidden Pond Corners': 4307, '4804 Quiet Hickory Woods': 4308, '9611 Lost Parade': 4309, '449 Quaking Court': 4310, '9015 High Hills Field': 4311, '3927 Rustic Mews': 4312, '7274 Hazy Villas': 4313, '6032 Misty Blossom Farm': 4314, '6315 Gentle Creek Ledge': 4315, '632 Colonial Treasure Line': 4316, '6699 Heather Prairie Villas': 4317, '8860 Indian Highway': 4318, '6001 Silver Bear Park': 4319, '6613 Emerald Goose Nook': 4320, '8824 Round Mountain Falls': 4321, '7191 Easy Pony Mews': 4322, '611 Colonial Lake Mall ': 4323, '3853 Golden Rise Island': 4324, '6134 Umber Hollow': 4325, '1430 Gentle Diversion': 4326, '3387 Fallen Pine Walk': 4327, '3481 Burning Manor': 4328, '5012 Rustic Fawn Circuit': 4329, '3399 Pleasant Stead': 4330, '1974 Stony Wharf': 4331, '5622 Bright Fox Mews': 4332, '3927 Rustic Mews ': 4333, '3751 Foggy Cape': 4334, '8259 Sunny Trace': 4335, '151 Colonial Robin Heights': 4336, '6121 Fallen Trace': 4337, '697 Little Meadow': 4338, '5274 Hidden Mall': 4339, '3865 Tawny Beacon Extension': 4340, '5761 Stony Key': 4341, '7717 Umber Route': 4342, '907 Umber Beacon Common': 4343, '442 Clear Stead': 4344, '3305 Foggy Vale': 4345, '7909 Golden Highway': 4346, '7831 Rustic Panda Front': 4347, '1185 Grand Grove Forest': 4348, '285 Round Bend': 4349, '8248 Blue Corners ': 4350, '7074 Cotton Diversion': 4351, '6002 Velvet Deer Downs': 4352, '669 Grand Mountain Boulevard': 4353, '1454 Red Lane': 4354, '5032 Dusty Zephyr Wharf': 4355, '2285 Wishing Boulevard': 4356, '4778 Little Creek Bay': 4357, '1984 Misty Rabbit Boulevard': 4358, '3018 Blue Trail': 4359, '8798 Lost Lookout': 4360, '9518 Old Corner': 4361, '1336 Cotton Mews': 4362, '6566 Lost Fox Carrefour': 4363, '8142 Emerald Cider Jetty': 4364, '6330 Dusty Round': 4365, '7797 Colonial Gate Field': 4366, '9539 Rocky Corner': 4367, '1944 Cinder Pike': 4368, '2240 Emerald Berry Vale': 4369, '6481 Silver Log Glen': 4370, '9696 Rocky Terrace': 4371, '7625 Colonial Branch Row': 4372, '1799 Cotton View': 4373, '8477 Fallen Promenade': 4374, '5319 Blue Leaf Moor': 4375, '9539 Old Diversion': 4376, '3847 Silver Route': 4377, '4651 Dewy Village ': 4378, '9440 Silent Heath': 4379, '858 Red Wynd': 4380, '4579 Sunny Link': 4381, '6183 Tawny Elk Concession': 4382, '2437 Thunder Spring Parkway': 4383, '295 Quaking Timber By-pass': 4384, '4079 Emerald Canyon': 4385, '5002 Cinder Ridge': 4386, '4957 Lost Quail Rise': 4387, '3352 Harvest Zephyr Terrace': 4388, '2643 Gentle Estates': 4389, '8702 Harvest Rise Line': 4390, '4371 Gentle Gate': 4391, '930 Pleasant Island Chase': 4392, '1082 Rustic Rabbit Street': 4393, '325 Burning Circle': 4394, '9086 Iron Ledge': 4395, '5282 Silent Landing': 4396, '2568 Heather Grove': 4397, '5703 Velvet Cider Link': 4398, '9552 Quaking Edge': 4399, '9946 Merry Boulevard': 4400, '3393 Crystal Port': 4401, '4905 Lazy Stead': 4402, '6499 Indian Run': 4403, '9856 Wishing Willow Woods': 4404, '3465 Rocky Nectar Crossing': 4405, '8898 Misty Townline': 4406, '2262 Heather Forest': 4407, '2576 Green Hollow': 4408, '3977 Jagged Creek Edge': 4409, '6040 Sleepy Plaza': 4410, '5002 Velvet Bluff View': 4411, '9668 Burning Glen': 4412, '4464 Rocky Horse Harbour': 4413, '112 Pleasant Butterfly Thicket': 4414, '5344 Lazy Beach': 4415, '3392 Indian Glen': 4416, '9139 Thunder Forest Point': 4417, '6894 Heather Estates': 4418, '5399 Foggy Court': 4419, '7909 Amber View': 4420, '4951 Cozy Gate Ramp': 4421, '9046 Lost Glade': 4422, '3996 Crystal Zephyr Swale': 4423, '5712 Heather Rise ': 4424, '3323 Old Willow Mall': 4425, '7446 Rocky Inlet ': 4426, '8662 Clear Nectar Mall': 4427, '3392 Indian Glen ': 4428, '5016 Sunny Run': 4429, '9624 Merry Run ': 4430, '6316 Quiet Pines': 4431, '9167 Lost End ': 4432, '3810 Crystal Plaza ': 4433, '8620 Silent Alley ': 4434, '9992 Clear Jetty': 4435, '7790 Misty Elk Line': 4436, '2535 Shady Wagon Edge': 4437, '9825 Iron Abbey ': 4438, '1482 Cozy Townline': 4439, '4823 Golden Hollow': 4440, '9938 Sunny Loop': 4441, '2896 Quaking Park': 4442, '3892 Emerald Mountain Corner': 4443, '7011 Burning Park': 4444, '27 Cozy Willow Mountain': 4445, '1108 Harvest Street': 4446, '6001 Middle Island': 4447, '9471 Middle Grove Place': 4448, '143 Clear Pony Byway': 4449, '9700 Iron Island Autoroute': 4450, '8706 Sleepy Via': 4451, '6481 Pleasant Farm': 4452, '6084 Noble Panda Landing': 4453, '4841 Rocky Butterfly Forest': 4454, '2262 Green Wharf': 4455, '5761 Little Corner': 4456, '197 High Mount': 4457, '4715 Lazy Oak Centre': 4458, '1701 Heather Acres': 4459, '4868 Old Wood': 4460, '1809 Shady Willow Swale': 4461, '2042 Hidden Carrefour': 4462, '4293 Dewy Circuit': 4463, '2161 Burning Maze': 4464, '8780 Colonial Orchard': 4465, '295 Dusty Rise Square': 4466, '9672 Stony Log Line': 4467, '9601 Shady Cider Diversion': 4468, '6608 Easy Barn Falls': 4469, '3662 Round Barn Gate': 4470, '6068 Quaking Heath': 4471, '7199 Golden Private': 4472, '4556 Burning Cloud Abbey': 4473, '3846 Blue Limits': 4474, '1081 Heather Boulevard': 4475, '8297 Golden Green': 4476, '5418 Middle Subdivision': 4477, '840 Round Highlands': 4478, '2275 Quaking View': 4479, '2376 Misty Apple Crescent': 4480, '4855 Golden Road': 4481, '6818 Rustic Bear Meadow': 4482, '9552 Fallen Vale': 4483, '9853 Thunder Downs': 4484, '7330 Broad Apple Moor': 4485, '2437 Thunder Oak Highway': 4486, '2534 Fallen Key': 4487, '9768 Noble Horse Heights': 4488, '9080 Lost Branch Wood': 4489, '1996 Easy Parade': 4490, '7116 Amber Butterfly Ramp': 4491, '9724 Indian Trail': 4492, '1453 Amber Deer Farm': 4493, '7864 Silent Horse Extension': 4494, '6594 Hidden Quail Wynd': 4495, '5546 Rocky Cloud Beach': 4496, '6818 Little Treasure Drive': 4497, '7208 Misty By-pass': 4498, '6286 Gentle Rise Common': 4499, '4371 Gentle Townline': 4500, '5012 Tawny Brook Vale': 4501, '2428 Shady Panda Pathway': 4502, '8840 Middle Zephyr Road': 4503, '3669 Harvest Manor': 4504, '4579 Grand Parade': 4505, '5777 Shady Lookout': 4506, '806 Golden Turnabout': 4507, '1790 Dewy Apple Orchard': 4508, '37 Merry Pathway': 4509, '5469 Sunny Oak Bay': 4510, '7601 Colonial Barn Terrace': 4511, '6281 Pleasant Glade': 4512, '5299 Merry Beacon Heath': 4513, '7000 Rocky Pond End': 4514, '3915 Silver Forest Vale': 4515, '588 Jagged Branch Avenue': 4516, '8852 Iron Port': 4517, '1621 Velvet Beacon Range': 4518, '6523 Gentle Prairie Lookout': 4519, '7119 Umber View Mountain': 4520, '5833 Bright Hollow': 4521, '1483 Noble Robin Avenue': 4522, '5707 Burning Manor': 4523, '2734 Golden Pine Lookout': 4524, '3193 Old Parkway': 4525, '8370 Middle Goose Estates': 4526, '252 Cotton Berry Centre': 4527, '1134 Iron Shadow Passage': 4528, '2580 Rustic Bay': 4529, '6229 Indian Robin Parade': 4530, '2385 Grand Pine Gate': 4531, '6819 Clear Branch Estates': 4532, '3570 Noble Cider Walk': 4533, '3909 Stony Falls': 4534, '3421 Thunder Island Extension': 4535, '4421 Stony Valley': 4536, '371 Cozy Prairie Highway': 4537, '7757 Amber Leaf Ledge': 4538, '7096 Hidden Parade': 4539, '6955 Lost Ramp': 4540, '1306 Fallen Mountain Glade': 4541, '2206 Green Fawn Court': 4542, '7094 Pleasant Street': 4543, '1984 Quiet Creek Turnabout': 4544, '690 Amber Moor': 4545, '3579 Cozy Gate Subdivision': 4546, '4135 Old Hickory Bend': 4547, '9920 Cozy Terrace': 4548, '773 Fallen Pioneer Mews': 4549, '4958 Heather Anchor By-pass': 4550, '7417 Stony Barn Heath': 4551, '4079 Iron Gate': 4552, '6595 Easy Loop': 4553, '3999 Indian Wharf': 4554, '92 Hidden Hill': 4555, '1269 Tawny Key': 4556, '6358 Cozy Autumn Lookout': 4557, '7832 Noble Front': 4558, '27 Rustic Pioneer Wharf': 4559, '7763 Umber End': 4560, '8263 Rustic Common': 4561, '8708 Harvest Cider Avenue': 4562, '2112 Misty Island View': 4563, '8881 Indian Dale Townline': 4564, '7309 Velvet Willow Heath': 4565, '1799 Easy Woods': 4566, '1987 Blue Crossing': 4567, '6670 Clear Nook': 4568, '5824 Misty Forest': 4569, '6088 Amber Brook Gardens': 4570, '2423 Indian Brook Valley': 4571, '9456 Lazy Terrace': 4572, '9203 Grand Pike': 4573, '9541 Heather Hills Square': 4574, '62 Velvet Apple Dell': 4575, '9163 Fallen Glen': 4576, '191 Iron Leaf Point': 4577, '6908 Indian Bluff Cape': 4578, '5363 Emerald Path': 4579, '6630 Umber Dale View': 4580, '5951 Gentle Arbor': 4581, '799 Misty Bluff Alley': 4582, '5292 Heather Close': 4583, '2484 Golden Wagon  Pointe': 4584, '7641 Emerald Diversion': 4585, '5918 Easy Mountain Beach': 4586, '331 Fallen Chase': 4587, '5779 Quiet Brook Pines': 4588, '4814 Burning Landing': 4589, '5640 Dewy Wharf': 4590, '3775 Emerald Meadow': 4591, '2499 Clear Dell': 4592, '5779 Heather Pine Wynd': 4593, '941 Thunder Branch Heights': 4594, '1073 Green Leaf Green': 4595, '9497 Merry Road': 4596, '650 Silent Forest Beach': 4597, '3497 Quiet Bear Towers': 4598, '4587 Noble Zephyr Promenade': 4599, '4299 Blue Path': 4600, '9557 Harvest Mews': 4601, '6711 Wishing Mount': 4602, '9995 High Robin Pointe': 4603, '8671 Dusty Bear Autoroute': 4604, '5597 Fallen Island': 4605, '5163 Velvet Private': 4606, '3032 High Run': 4607, '2703 Fallen Butterfly Round': 4608, '2070 Honey Nectar Impasse': 4609, '7119 Lazy Blossom Isle': 4610, '4916 Red Mews': 4611, '4831 Shady Pony Parade': 4612, '7656 Heather Leaf Heath': 4613, '7740 Red Creek Link': 4614, '7894 Colonial Knoll': 4615, '4600 Tawny Expressway': 4616, '2909 Gentle Fawn Round': 4617, '8813 Rustic River Byway': 4618, '6699 Iron Deer Estates': 4619, '1207 Lost Dale End': 4620, '7597 Golden Dale Nook': 4621, '1749 Easy Falls': 4622, '472 Tawny Townline': 4623, '9941 Misty Grove Pointe': 4624, '5076 Easy Rabbit Manor': 4625, '4144 Old Corners': 4626, '7595 Rocky Island Trail': 4627, '6889 Pleasant Mount': 4628, '4711 Lazy Grove Square': 4629, '7761 Sunny Creek Meadow': 4630, '7074 Crystal Parade': 4631, '9918 Amber Autumn Swale': 4632, '1040 Hazy Timber Lookout': 4633, '1744 Clear Way': 4634, '2024 Heather Village': 4635, '6114 Sleepy Anchor Concession': 4636, '4775 Wishing Nook': 4637, '2543 Foggy Pond Crescent': 4638, '8289 Stony Thicket': 4639, '6499 Lost Promenade': 4640, '9673 Sunny Way': 4641, '4542 Stony Nook': 4642, '4898 Misty Wagon  Line': 4643, '5387 Iron Nook': 4644, '4197 Lazy Diversion': 4645, '3493 Rocky Trail': 4646, '852 Pleasant Field': 4647, '3142 Jagged Wynd': 4648, '9814 High Timber Circuit': 4649, '3890 Sunny Cider Route': 4650, '9676 Velvet Hill': 4651, '414 Crystal Plaza': 4652, '4226 High Row': 4653, '8711 Middle Mountain Maze': 4654, '4063 Thunder Wharf': 4655, '2117 Dusty Spring Chase': 4656, '586 Indian Rise Grounds': 4657, '3176 Red Stead': 4658, '7975 Hazy Mountain': 4659, '620 Green Cider Forest': 4660, '8352 Pleasant Rise Valley': 4661, '7422 Silver Carrefour': 4662, '9939 Quaking Chase': 4663, '9627 Old Wood': 4664, '4839 Golden Extension': 4665, '7475 Easy Hollow': 4666, '4381 Silver Manor': 4667, '1674 Hidden Field': 4668, '8620 Noble Farm': 4669, '5783 Silent Apple Impasse': 4670, '1465 Clear Elk Diversion': 4671, '7958 Harvest Grove Pike': 4672, '403 Cozy Spring Farms': 4673, '3520 Hazy Inlet': 4674, '9113 Grand Hills Parade': 4675, '3698 Dusty Diversion': 4676, '7426 Middle Beacon Glade': 4677, '7489 Stony End': 4678, '5583 Burning Zephyr Mall ': 4679, '9163 Blue Pike': 4680, '5876 Fallen Willow Court': 4681, '5953 Middle Row': 4682, '4353 Velvet Treasure Island': 4683, '4746 Misty Sky Campus': 4684, '2703 Silver Goose Lane': 4685, '5864 Iron Spring Route': 4686, '4255 Silver Gate Vale': 4687, '3815 Gentle Vale': 4688, '4968 Misty Horse Cove': 4689, '5344 Silver Alley': 4690, '3982 Middle Horse Line': 4691, '7585 Colonial Robin Beach': 4692, '1555 Cozy Spring Circuit': 4693, '5593 Round Lane': 4694, '7293 Harvest Valley': 4695, '2328 Rustic Elk Abbey': 4696, '3428 Hidden Moor': 4697, '9700 Broad Bear Island': 4698, '6630 Harvest Nectar Circuit': 4699, '5809 Foggy Treasure Grounds': 4700, '5652 Thunder Crossing': 4701, '3453 Honey Woods': 4702, '9417 Crystal Fox Terrace': 4703, '6716 Indian Cider Promenade': 4704, '5443 Old Timber Expressway': 4705, '5659 Colonial Rise Pathway': 4706, '9959 Hidden Trace': 4707, '5995 Hazy Boulevard': 4708, '5783 Umber Goose Grove': 4709, '3909 Middle Passage': 4710, '3909 High Stead': 4711, '4701 Velvet Hollow': 4712, '384 Dewy Nectar Trace': 4713, '676 Fallen Swale': 4714, '6417 Silent Hickory Private': 4715, '1832 Dusty Oak Harbour': 4716, '2749 Cotton Circle': 4717, '5961 Velvet Creek Cape': 4718, '7121 Crystal Common': 4719, '5299 Velvet Grove Bend': 4720, '8864 Silver Highlands': 4721, '5407 Hazy Hills Point': 4722, '6940 Hidden Apple Terrace': 4723, '6336 Iron Front': 4724, '3587 Pleasant Autoroute': 4725, '398 Harvest Mews': 4726, '623 Round Bluff Cape': 4727, '3412 Merry Quail Inlet': 4728, '153 Hidden Range ': 4729, '2681 Thunder Campus': 4730, '6996 Velvet Diversion': 4731, '1840 Stony Campus': 4732, '9612 Cozy Line': 4733, '8898 Shady Private ': 4734, '1525 Quiet Leaf Corner': 4735, '3587 Thunder Rise ': 4736, '5182 Noble Prairie Heath': 4737, '5438 Rustic Arbor': 4738, '6715 Indian Walk': 4739, '450 Harvest Gate Lookout': 4740, '7388 Dusty Fox Acres': 4741, '8005 Crystal Wood': 4742, '5841 Heather Pond Plaza': 4743, '6587 Crystal Horse Gate': 4744, '8428 Gentle Rise Canyon': 4745, '7829 Hidden Promenade': 4746, '191 Broad Via': 4747, '4647 Misty Branch Gardens': 4748, '7971 Cozy Goose Glen': 4749, '1204 Rustic Creek Quay': 4750, '8407 Umber Leaf Pointe': 4751, '4286 Stony Turnabout': 4752, '2484 High Embers Pines': 4753, '2430 Shady Byway': 4754, '4804 Silent Butterfly Way': 4755, '3829 Gentle Beacon Meadow': 4756, '6159 Harvest Heights': 4757, '9803 Stony Lake Grove': 4758, '651 Broad Autoroute': 4759, '1621 Silver Valley': 4760, '2108 Tawny Expressway': 4761, '6165 Lazy Plaza': 4762, '3959 Silent Leaf Highway': 4763, '7457 Middle Gate Trace': 4764, '8382 Stony Pond Crescent': 4765, '5261 Amber Avenue': 4766, '8172 Emerald Nectar Diversion': 4767, '4034 Emerald Heights': 4768, '4429 Velvet Robin Centre': 4769, '3271 Sunny Green': 4770, '4855 Golden Road ': 4771, '9607 Merry Grove': 4772, '9503 Harvest Pony Ridge': 4773, '6274 Indian Island Wharf': 4774, '669 Velvet Branch Ramp': 4775, '1143 Golden Quail Gardens': 4776, '1174 Merry Zephyr Impasse': 4777, '1393 Golden Rabbit Path': 4778, '7778 Misty Link': 4779, '6115 Indian Beacon Close': 4780, '2197 Misty Island Grounds': 4781, '3610 Indian Beach': 4782, '1764 Round Oak Towers': 4783, '2128 Amber Embers Thicket': 4784, '7250 Emerald Barn Campus': 4785, '9843 Wishing Grove': 4786, '7775 Misty Place': 4787, '9293 Umber Alley': 4788, '8631 Crystal Wagon  Byway': 4789, '3993 Pleasant Beach': 4790, '8680 Heather Autoroute': 4791, '1439 Silent Pathway': 4792, '9383 Jagged Front': 4793, '6566 Iron Anchor Circle': 4794, '2924 Grand Elk Corners': 4795, '9030 Clear Glade': 4796, '4994 Cozy Branch Passage': 4797, '6095 Bright View Glade': 4798, '8410 Golden Range': 4799, '8342 Amber Autoroute': 4800, '4895 Green Jetty': 4801, '1134 Shady Robin Avenue': 4802, '3235 Merry Way': 4803, '4152 Burning Prairie Square': 4804, '8546 Middle Gate Quay': 4805, '9516 Amber Spring Edge': 4806, '5717 Harvest Front': 4807, '2052 Clear Close': 4808, '7479 Colonial Ramp': 4809, '914 Cinder Beacon Mews': 4810, '8750 Grand Pony Byway': 4811, '4900 Crystal Fawn Isle': 4812, '7339 Cozy Ledge': 4813, '2306 Fallen Trace': 4814, '3562 Clear Glen': 4815, '2073 Burning Trail': 4816, '2878 Hazy Wagon Thicket': 4817, '5192 Misty Anchor Port': 4818, '2726 Blue Diversion': 4819, '2423 Tawny Rabbit Trace': 4820, '1014 Colonial Cider Terrace': 4821, '3779 Dewy Villas': 4822, '9070 Quaking Gate': 4823, '2433 Misty Berry Close': 4824, '7293 Lazy Orchard': 4825, '1513 Merry Heath': 4826, '3460 Middle Shadow Corner': 4827, '7639 Silent Valley': 4828, '9015 Little Sky Avenue': 4829, '6682 Harvest Orchard': 4830, '5763 Crystal Alley': 4831, '5505 Cinder Wagon  Maze': 4832, '9175 Hidden Falls': 4833, '7127 Gentle Barn Alley': 4834, '9193 Golden Autumn Diversion': 4835, '3983 Wishing Path': 4836, '4145 Lost Treasure Pointe': 4837, '2206 Old Timber Highlands': 4838, '636 Jagged Apple Trace': 4839, '29 Red Oak Valley': 4840, '588 Silent Ledge': 4841, '9440 Green Highlands': 4842, '8791 Cozy Passage': 4843, '8734 Lost Corner': 4844, '3557 Crystal Key': 4845, '4675 Rocky Field': 4846, '3293 Indian Cloud Circle': 4847, '599 Stony Pike': 4848, '2104 Cotton Dale': 4849, '4771 Dewy Timber Lane': 4850, '6312 Quaking Panda Wood': 4851, '3654 Clear Green': 4852, '6378 Lost Zephyr Bend': 4853, '1964 Lazy End': 4854, '4294 Golden Bank': 4855, '5403 Sunny Island Row': 4856, '4791 Sunny Downs': 4857, '9627 Bright Berry Loop': 4858, '4669 Rustic Apple Grounds': 4859, '9937 Round Panda Hill': 4860, '4096 Amber Bend': 4861, '1637 Cozy Fawn Extension': 4862, '7239 Crystal Pony Crest': 4863, '7681 Broad Trace': 4864, '409 Middle Grove': 4865, '4900 Dusty Line ': 4866, '9095 Indian Quail Extension': 4867, '2469 Dewy Panda Court': 4868, '4951 Shady Spring Path': 4869, '4579 Sunny Link ': 4870, '6728 Broad Dell': 4871, '6590 Dewy Apple Gate': 4872, '7897 Foggy Estates': 4873, '6904 Umber Berry Village': 4874, '5120 Indian Pine Passage': 4875, '3236 Umber Corners': 4876, '2036 High Creek Nook': 4877, '3144 Easy Cider Cove': 4878, '814 Jagged Cape': 4879, '1691 Easy Spring Swale': 4880, '8771 Middle Quail Heath': 4881, '4645 Fallen Timber By-pass': 4882, '7073 Merry Highway': 4883, '4384 Silver Pond Mountain': 4884, '3587 Little Moor': 4885, '8344 Misty Gate Acres': 4886, '4761 Silent Wood': 4887, '3977 Broad Freeway': 4888, '4896 Easy Landing': 4889, '4743 Grand Court': 4890, '6588 Burning Pike': 4891, '3261 Green Circle': 4892, '1507 Dewy Quail Wharf': 4893, '4355 Shady Bank': 4894, '4696 Red Wharf': 4895, '3431 Gentle Field': 4896, '6098 Shady Parade': 4897, '5274 Noble Isle': 4898, '3283 Gentle Lake Landing': 4899, '8259 Foggy Edge': 4900, '9183 Emerald Cider Cove': 4901, '6245 Iron Cloud Farms': 4902, '3499 Golden Street': 4903, '3580 Colonial Panda Turnabout': 4904, '2765 Middle Blossom Harbour': 4905, '3931 Silent Boulevard': 4906, '2571 Easy Valley': 4907, '6512 Easy Trail': 4908, '5593 Blue Grounds': 4909, '8627 Sunny Grounds': 4910, '9297 Easy Wood': 4911, '2452 Merry Beacon Point': 4912, '9127 Sleepy Orchard': 4913, '2137 Rustic Dale Crest': 4914, '3173 Cotton Estates ': 4915, '1906 Cozy Woods ': 4916, '9922 Broad Valley': 4917, '1706 Dewy Mall ': 4918, '9768 Merry Cloud Court': 4919, '2777 Golden Bear Chase': 4920, '4182 Easy Ledge': 4921, '8906 Rustic Mall': 4922, '2088 Cinder By-pass': 4923, '3497 Merry Bear Thicket': 4924, '2865 Blue Rise Way': 4925, '1875 Jagged Moor': 4926, '5876 Burning Mall': 4927, '5875 Broad Autoroute': 4928, '3782 Shady Oak Point': 4929, '5571 Noble Passage': 4930, '9255 Cotton Rabbit Promenade': 4931, '636 Middle Mountain Farms': 4932, '1286 Middle Inlet': 4933, '9952 Sleepy Treasure Vale': 4934, '4362 Emerald Private': 4935, '9758 Quiet Nook': 4936, '5206 Foggy Pathway': 4937, '9662 Foggy Anchor Pathway': 4938, '8443 Silent Glade': 4939, '8767 Silent Range': 4940, '9044 Easy Road': 4941, '2993 Cinder Creek Private': 4942, '9905 Round Bluff Estates': 4943, '5379 High By-pass': 4944, '6523 Rustic Beacon Landing': 4945, '8263 Rustic Common ': 4946, '2262 Grand Estates': 4947, '2082 Quiet Wynd ': 4948, '8509 Velvet Butterfly Manor': 4949, '3289 Cozy Deer Range': 4950, '5561 Easy Turnabout': 4951, '8365 Jagged Arbor': 4952, '7500 Quaking Deer Impasse': 4953, '7613 Thunder Deer Campus': 4954, '1411 Umber View': 4955, '9117 Tawny Mall ': 4956, '9095 Broad Wagon Villas': 4957, '9758 Quiet Nook ': 4958, '3202 Dewy Route ': 4959, '3616 Jagged Circuit': 4960, '191 Dusty Point': 4961, '273 Velvet Anchor Pines': 4962, '3971 Bright Glen': 4963, '7613 Amber Willow Manor': 4964, '2328 Pleasant Embers Park': 4965, '8434 Emerald Lane': 4966, '107 Lazy Court': 4967, '9 Silver View ': 4968, '3680 Silent Crossing': 4969, '7573 Silver Fawn Hill': 4970, '7398 Little Row': 4971, '6118 Indian Woods': 4972, '5817 Broad Pine Village': 4973, '9126 Merry Leaf Round': 4974, '4021 Cozy Bluff Boulevard': 4975, '1913 Tawny Park': 4976, '8212 Grand Autoroute': 4977, '5105 Middle Green': 4978, '8617 Sunny Hills Lookout': 4979, '6967 Foggy Treasure Farms': 4980, '3148 Lazy Wagon  Pike': 4981, '8324 Gentle By-pass': 4982, '2456 Bright Farms': 4983, '1112 Rustic Range': 4984, '151 Jagged Rise Stead': 4985, '4463 Dewy Bear Point': 4986, '8667 Stony Range': 4987, '2997 Silver Pointe': 4988, '149 High Autumn Harbour': 4989, '691 Sleepy Lane': 4990, '3569 Red Dell': 4991, '5438 Misty Valley': 4992, '3428 Broad Corners': 4993, '1268 Colonial Stead': 4994, '1711 Harvest Path': 4995, '2737 Jagged Byway ': 4996, '4312 Bright Corner ': 4997, '19 Gentle Shadow Mall': 4998, '7706 Foggy Branch Plaza': 4999, '1220 Broad Trail': 5000, '3212 Umber Thicket': 5001, '8613 Merry Blossom Canyon': 5002, '659 Iron Manor': 5003, '9842 Foggy Range': 5004, '2934 Dusty Autoroute': 5005, '2816 Bright Acres': 5006, '1669 Bright Isle': 5007, '2455 Fallen Common': 5008, '7516 Quiet Village': 5009, '2036 Quiet Dale': 5010, '8284 Pleasant Pine Villas': 5011, '5616 Little Lagoon Street': 5012, '7236 Hidden Hollow': 5013, '586 Silver Zephyr Pike': 5014, '5803 Silver Plaza': 5015, '8818 Middle Pine Impasse': 5016, '2239 Lazy Thicket': 5017, '4823 Broad Route': 5018, '5961 Grand Forest Alley': 5019, '4114 Round Way': 5020, '68 Foggy Timber Walk': 5021, '4728 Amber Lake Terrace': 5022, '8247 Green Forest Mews': 5023, '9530 Little Fox Towers': 5024, '3886 Blue Zephyr Villas': 5025, '3869 Colonial Robin Cape': 5026, '6361 Broad Acres': 5027, '3253 Stony Trace': 5028, '5872 Pleasant Alley': 5029, '2002 Crystal Deer Concession': 5030, '5270 Quaking Autoroute': 5031, '6417 Silver Corners': 5032, '2657 Little Arbor': 5033, '4482 Jagged Inlet': 5034, '6818 Middle Zephyr Forest': 5035, '9036 Lazy Fawn Alley': 5036, '2589 Silver Ridge': 5037, '9918 Cinder Fawn Estates': 5038, '2731 Gentle Dale Pointe': 5039, '3482 Fallen Deer Isle': 5040, '8905 Thunder Berry Wood': 5041, '4166 Stony Berry Alley': 5042, '181 Velvet Highway': 5043, '1320 Quiet Downs': 5044, '4015 Honey Fawn Chase': 5045, '3155 Burning Grove': 5046, '3892 Fallen Timber Square': 5047, '5338 Little Wood': 5048, '340 Little Lagoon Avenue': 5049, '5841 Noble Loop': 5050, '7589 Silent Grove Woods': 5051, '887 Tawny Campus': 5052, '5282 Burning Port': 5053, '2897 Rustic Mountain Crest': 5054, '8877 Little Anchor Maze': 5055, '4522 Silver Road': 5056, '1056 Cotton Run': 5057, '9905 Fallen Butterfly Valley': 5058, '2211 Misty Road': 5059, '1230 Gentle Isle': 5060, '7353 Colonial Embers Lane': 5061, '6595 Old Private': 5062, '9809 Amber Hills Farms': 5063, '8811 Foggy Anchor Limits': 5064, '3446 Hazy Plaza': 5065, '5161 Old Grove Common': 5066, '5325 Lost Horse Mews': 5067, '2291 Thunder Leaf Corners': 5068, '5926 Blue Rabbit Wharf': 5069, '4546 Silver Goose Highlands': 5070, '4362 Quaking Manor': 5071, '2734 Hazy Butterfly Circle': 5072, '4712 Burning Pioneer Point': 5073, '3908 Gentle End': 5074, '8443 Merry Hickory Loop': 5075, '6396 Iron Pony Passage': 5076, '8609 Golden Pathway': 5077, '3427 Iron Willow Villas': 5078, '9430 Heather Mountain Farms': 5079, '9404 Crystal Island Acres': 5080, '7887 Misty Grove Trail': 5081, '2452 Hazy Cloud Beach': 5082, '7727 Indian Orchard': 5083, '6552 Noble Downs': 5084, '6754 Iron Elk Road': 5085, '4569 Thunder Park': 5086, '6876 Misty Treasure Village': 5087, '6534 Red Carrefour': 5088, '4761 Indian Mountain Plaza': 5089, '503 Foggy Wagon  Place': 5090, '4062 Rocky Fox Limits': 5091, '8314 Crystal Rise Townline': 5092, '5259 Pleasant Goose Orchard': 5093, '8057 Little Mountain Front': 5094, '556 Cozy Maze': 5095, '4498 Merry Oak Place': 5096, '4498 Velvet Treasure Link': 5097, '1336 Fallen Landing': 5098, '3087 Blue Harbour': 5099, '18 Rustic Cider Pointe': 5100, '9226 Golden Treasure Corner': 5101, '6540 Emerald Turnabout': 5102, '3064 Thunder Centre': 5103, '2210 High Beacon Highlands': 5104, '1023 Little Townline': 5105, '4501 Cinder Dell ': 5106, '923 Little Bend ': 5107, '6520 Quaking Quail Plaza': 5108, '8495 Jagged Cider Boulevard': 5109, '1914 Foggy Timber Swale': 5110, '5344 Wishing Acres': 5111, '7885 Sleepy Cove': 5112, '5147 High Parkway': 5113, '3621 Indian Centre': 5114, '3576 Fallen Fox Avenue': 5115, '1019 Crystal Fox Maze': 5116, '8101 Sleepy Run': 5117, '5500 Noble Brook Circuit': 5118, '1223 Iron Goose Bend': 5119, '3169 Shady Close': 5120, '2717 Fallen Corner': 5121, '7732 Merry Quail Manor': 5122, '5490 Middle Bend': 5123, '8916 Hidden View Diversion': 5124, '7106 Silent Anchor Promenade': 5125, '826 Gentle Prairie Plaza': 5126, '8559 High Elk Via': 5127, '4992 Jagged Barn Close': 5128, '8213 Dusty Blossom Landing': 5129, '8779 Shady Parkway': 5130, '5424 Wishing Wagon  Bank': 5131, '3169 Stony Woods': 5132, '7694 Burning Towers': 5133, '6283 Fallen Bend': 5134, '107 Wishing Gate': 5135, '9265 High Freeway': 5136, '9526 Foggy Cove': 5137, '5098 Wishing Bend': 5138, '7906 Gentle Close': 5139, '5656 Burning By-pass': 5140, '9938 Rustic Link': 5141, '8044 Merry Landing': 5142, '4542 Clear Autumn Canyon': 5143, '3587 Pleasant Inlet': 5144, '4703 Round Hill': 5145, '1966 Easy Trace': 5146, '4396 Green Mews': 5147, '3040 Easy Port': 5148, '9080 Misty Cider Road': 5149, '762 Old Estates': 5150, '8874 High Blossom View': 5151, '4635 Shady Pine Boulevard': 5152, '7106 Emerald Pony Mountain': 5153, '7477 Foggy Alley': 5154, '5105 Middle Bay': 5155, '3594 Burning River Bay': 5156, '3262 Sunny Nook': 5157, '2703 Dusty Lagoon Inlet': 5158, '2075 Round Barn Path': 5159, '724 Broad Trace': 5160, '4661 Green Freeway': 5161, '5288 Indian View Farm': 5162, '3450 Colonial Hickory Corners': 5163, '9684 Sunny Quail Villas': 5164, '7539 Tawny Timber Concession': 5165, '3505 Emerald Vista': 5166, '8546 Foggy Forest Stead': 5167, '4896 Sleepy Leaf Court': 5168, '2650 Dewy Dell': 5169, '9848 Rustic Embers Port': 5170, '9163 Quiet Abbey': 5171, '2744 Quiet Cider Lane': 5172, '5840 Pleasant Link': 5173, '9556 Bright Hickory Avenue': 5174, '7787 Round Ramp': 5175, '6159 Middle Vale': 5176, '9966 Cinder Loop': 5177, '92 Heather Cloud Circle': 5178, '6724 Golden Quay': 5179, '5013 Tawny Cider Meadow': 5180, '7432 Golden Estates': 5181, '4417 High Pioneer Orchard': 5182, '62 Cozy Rabbit Villas': 5183, '8832 Round Cape': 5184, '3151 Quaking Grove': 5185, '8460 Golden Drive': 5186, '697 Rustic Gate': 5187, '2017 Lazy Gate Downs': 5188, '139 Honey Leaf Expressway': 5189, '6967 Cinder Pond Gate': 5190, '1220 Tawny Glade': 5191, '7950 Misty Maze': 5192, '454 Cozy Bluff Hill': 5193, '9163 Clear Gate': 5194, '3021 Umber Mountain Turnabout': 5195, '1513 Thunder Boulevard': 5196, '231 Gentle Villas': 5197, '2308 Stony Mountain Extension': 5198, '3919 Heather Autumn Beach': 5199, '4927 Hidden Limits': 5200, '119 High Loop': 5201, '1233 Honey Village': 5202, '6138 Harvest Woods': 5203, '9501 Red Island': 5204, '5455 Hidden Cloud Carrefour': 5205, '8391 Easy Corners': 5206, '3446 Cozy Centre': 5207, '8492 Easy Alley': 5208, '9627 Honey Trail': 5209, '6580 Wishing Orchard': 5210, '1658 Silent Beacon Avenue': 5211, '6191 Old Drive': 5212, '1771 Green Way': 5213, '9556 Sleepy Branch Arbor': 5214, '4385 Round Place': 5215, '9959 Dewy Gate Inlet': 5216, '5373 Easy Zephyr Expressway': 5217, '7627 High Bluff End': 5218, '2556 Wishing Zephyr Turnabout': 5219, '8426 Dusty Fox Passage': 5220, '6496 Old Leaf Quay': 5221, '3579 Bright Fox Villas': 5222, '9332 Round Limits': 5223, '9383 Dewy Hollow': 5224, '5237 Dewy Diversion': 5225, '2434 Sleepy Wynd': 5226, '318 Blue Log Loop': 5227, '2071 Noble Lagoon Farms': 5228, '7190 Dewy Mountain Lookout': 5229, '6049 Amber Deer Orchard': 5230, '9318 Umber Centre': 5231, '1173 Thunder Circle': 5232, '4908 Old Lake Orchard': 5233, '9634 Bright Robin Circle': 5234, '1540 Round Way': 5235, '7923 High Pioneer Walk': 5236, '363 Indian Berry Abbey': 5237, '3510 Red Deer Link': 5238, '6270 Stony Campus': 5239, '3561 Wishing Subdivision': 5240, '3857 Lazy Pine Bank': 5241, '381 Easy Parade': 5242, '6292 Noble Dale Falls': 5243, '7314 Foggy Wagon Acres': 5244, '4063 Hidden Forest Way': 5245, '1831 Dewy Forest Manor': 5246, '5452 Jagged Green': 5247, '9493 Colonial Spring Byway': 5248, '3422 Blue Pioneer Bend': 5249, '6695 Quaking Lagoon Grove': 5250, '7284 Hidden Elk Forest': 5251, '6764 Pleasant Island': 5252, '5913 Little Apple Ridge': 5253, '7100 Burning Wharf': 5254, '6200 Blue Timber End': 5255, '4767 Red Thicket': 5256, '1663 Easy Autumn Centre': 5257, '4569 Jagged Mall': 5258, '2033 Thunder Ledge': 5259, '633 Silver Ramp': 5260, '6770 Cotton Pony Stead': 5261, '3233 Round Anchor Subdivision': 5262, '2447 Wishing View Pathway': 5263, '4772 Rustic Way': 5264, '1837 Foggy Impasse': 5265, '1691 Jagged Nectar Corner': 5266, '4841 Merry Leaf Terrace': 5267, '7373 Pleasant Estates': 5268, '507 Bright Estates': 5269, '9221 Foggy Wagon  Wynd': 5270, '1942 Grand Oak Lane': 5271, '3099 Silver Horse Autoroute': 5272, '4807 Burning Trace': 5273, '8732 Harvest Dale Boulevard': 5274, '8460 Fallen Bear Gate': 5275, '7649 Noble Wynd': 5276, '357 Umber Alley': 5277, '4984 Heather Robin Circle': 5278, '1526 Tawny Barn Square': 5279, '2248 Heather Mews': 5280, '5700 Hazy Vale': 5281, '9733 Wishing Quail Isle': 5282, '6269 Silver Bluff Alley': 5283, '1810 Cinder Ledge': 5284, '442 Rustic Field': 5285, '9792 Green Pioneer Extension': 5286, '9602 Indian Heath': 5287, '6132 Harvest Log Impasse': 5288, '8078 Foggy Butterfly Drive': 5289, '3696 Rustic Abbey': 5290, '9568 Rustic Pioneer Heights': 5291, '1533 Sleepy Cider Acres': 5292, '6980 Amber Terrace': 5293, '2966 Round Ridge': 5294, '8274 Bright Canyon': 5295, '9183 Indian Pond Park': 5296, '7661 High Grove Rise': 5297, '4152 Thunder Embers Pike': 5298, '378 Hidden View': 5299, '5338 Emerald Lagoon Manor': 5300, '779 Old Anchor View': 5301, '1836 Hazy Log Street': 5302, '4273 Quiet Vale': 5303, '4896 Heather Pond Rise': 5304, '5322 Stony Via': 5305, '7996 Burning Orchard': 5306, '8396 Pleasant Extension': 5307, '5737 Misty Alley': 5308, '3865 Little Lagoon Link': 5309, '7802 Dusty Fawn Maze': 5310, '6076 Shady Bay': 5311, '7950 Heather Trail': 5312, '5707 Iron Brook Harbour': 5313, '9079 Lost Lake Terrace': 5314, '1397 Quiet Terrace': 5315, '5674 Crystal Branch Orchard': 5316, '1948 Dusty Fox Lane': 5317, '8289 Emerald Pike': 5318, '4389 Colonial Mall ': 5319, '7168 Amber Row': 5320, '2414 Rocky Island Parade': 5321, '7910 Bright Grove Stead': 5322, '3043 Jagged Log Freeway': 5323, '5420 Crystal Crossing': 5324, '690 Rocky Lake Villas': 5325, '7861 Honey Acres': 5326, '3750 Harvest Berry Valley': 5327, '8344 Hazy Bear Diversion': 5328, '8849 Shady Embers Villas': 5329, '1258 Misty Bend': 5330, '6135 Silver Oak Gate': 5331, '6098 Shady Pointe': 5332, '2059 Tawny View': 5333, '2089 Easy Heath': 5334, '911 Sleepy Cloud Carrefour': 5335, '771 Easy Falls': 5336, '8066 Rustic Pony Road': 5337, '7464 Lazy Circle': 5338, '5578 Quaking Butterfly Highlands': 5339, '7133 Hidden Butterfly Turnabout': 5340, '5759 Cotton Creek Crossing': 5341, '2111 Colonial Parade': 5342, '3941 Blue By-pass': 5343, '3826 Umber Branch View': 5344, '6158 Silver Apple Field': 5345, '6316 Wishing Rise': 5346, '5937 High Pony Village': 5347, '5877 Little Orchard': 5348, '5779 Gentle Treasure Farm': 5349, '7713 Hazy Boulevard': 5350, '2971 Velvet Autumn Run': 5351, '884 Blue Fox Crest': 5352, '2968 Stony Butterfly Turnabout': 5353, '5919 Thunder Lagoon Vale': 5354, '281 Sleepy Hickory Subdivision': 5355, '5656 High Subdivision': 5356, '2002 Grand Hickory Line': 5357, '2991 Iron Impasse': 5358, '379 Honey Maze': 5359, '3179 Hazy Pointe': 5360, '849 Middle Blossom View': 5361, '7017 Dewy Road': 5362, '5546 Old Rabbit Towers': 5363, '2905 Umber Crest': 5364, '5182 Little Freeway': 5365, '3948 Tawny Crest': 5366, '158 Golden Nook': 5367, '5235 Thunder Wharf': 5368, '3654 Foggy Byway': 5369, '5809 Heather Panda Street': 5370, '3309 Silver Field': 5371, '9163 Round Forest': 5372, '2876 Lazy Spring Corners': 5373, '1023 Honey Grove': 5374, '851 Green Cider Concession': 5375, '1202 Clear Leaf Swale': 5376, '252 Sleepy Butterfly Line': 5377, '9599 Silent Zephyr Circle': 5378, '3050 Rustic Pine Expressway': 5379, '5369 Silver Moor': 5380, '7538 Sunny Lookout': 5381, '3369 Round Rabbit Bay': 5382, '3567 Broad Mall ': 5383, '8410 Amber Dell': 5384, '2484 Stony Lagoon Corners': 5385, '119 Sunny Ridge': 5386, '7184 Broad Hickory Dell': 5387, '5480 Emerald Branch Trace': 5388, '1599 Bright River Valley': 5389, '6876 Heather Lake Bend': 5390, '6613 Sleepy Horse Quay': 5391, '2881 Harvest Chase': 5392, '1082 Grand Treasure Row': 5393, '4905 Silent Isle': 5394, '1087 Crystal Horse Beach': 5395, '6888 Crystal Wagon  Wynd': 5396, '1853 Little Autoroute': 5397, '182 Hidden Circle': 5398, '6379 Red Towers': 5399, '5270 Emerald Corner': 5400, '6425 Thunder Island': 5401, '4046 Round Wharf': 5402, '4167 Little Thicket': 5403, '938 Rustic Pine Ridge': 5404, '7658 Blue Bear Extension': 5405, '1613 Broad Beach ': 5406, '9315 Shady Grove Row': 5407, '4906 Umber Lookout ': 5408, '9403 Amber Key ': 5409, '7016 Grand Link ': 5410, '6610 Foggy Nectar Front': 5411, '1792 Thunder Pines ': 5412, '9758 Foggy Range': 5413, '4388 Crystal Canyon': 5414, '7392 Hidden River Woods': 5415, '3186 Heather Rise Terrace': 5416, '7046 Clear Creek Wharf': 5417, '3567 Merry Trace': 5418, '9836 Silver Fox Private': 5419, '6176 Lazy Log Subdivision': 5420, '7897 Stony Thicket': 5421, '8963 Cinder Sky Carrefour': 5422, '5340 Merry Village': 5423, '8622 Dusty Route': 5424, '7620 Wishing Wagon  Cove': 5425, '8279 Dusty Beacon Vale': 5426, '4566 Burning Deer Meadow': 5427, '8400 Clear Wagon Row': 5428, '5492 Blue View': 5429, '2901 Easy Pond Arbor': 5430, '5776 Hidden Cider Subdivision': 5431, '92 Sunny Bear Villas': 5432, '9673 Burning Cider Green': 5433, '6909 Shady Sky Park': 5434, '89 Velvet Woods': 5435, '40 Pleasant Brook Trace': 5436, '4930 Stony Branch Townline': 5437, '7957 Iron Hollow': 5438, '6496 Colonial Leaf Orchard': 5439, '4699 Quiet Mall ': 5440, '6315 Quiet Willow Vale': 5441, '8876 Misty Valley': 5442, '2578 Amber Barn Turnabout': 5443, '466 Stony Arbor': 5444, '5530 Dewy Pioneer By-pass': 5445, '6391 Sleepy Gardens': 5446, '9130 Hidden Court': 5447, '3445 Harvest Campus': 5448, '4715 Cotton Anchor Towers': 5449, '2863 Umber Downs': 5450, '2171 Stony Willow Turnabout': 5451, '2659 High Treasure Village': 5452, '1108 Sunny Avenue': 5453, '4384 Lazy Pony Trace': 5454, '8478 Wishing Blossom Gate': 5455, '4778 Misty Bear Port': 5456, '6819 Dewy View Crest': 5457, '9363 Dusty Butterfly Extension': 5458, '9234 Broad Private': 5459, '475 Silver Highlands': 5460, '1757 Hidden Beacon Highway': 5461, '3265 Velvet Fawn Bend': 5462, '1217 Clear Beacon Bay': 5463, '1991 Jagged Creek Highway': 5464, '9166 Dusty Cape': 5465, '8666 Dewy Valley': 5466, '9717 Fallen Ramp': 5467, '3329 Green Butterfly Pines': 5468, '7027 High Passage ': 5469, '8975 Bright Autoroute ': 5470, '9453 High Concession ': 5471, '4106 Burning Oak Carrefour': 5472, '6146 Dewy Jetty ': 5473, '5003 Cozy Leaf Alley': 5474, '6540 Cinder Trail': 5475, '7446 Rocky Lookout': 5476, '3185 Old Corners': 5477, '4028 Jagged Quay': 5478, '8324 Little Common ': 5479, '57 High Villas ': 5480, '3032 Green Glen ': 5481, '4927 Dewy Farms ': 5482, '7073 Burning Rise': 5483, '586 Silver Branch Ledge': 5484, '157 Sunny Highlands': 5485, '961 Honey Plaza': 5486, '8773 Dewy Blossom Line': 5487, '2616 Green View Gate': 5488, '5372 Silent Treasure Byway': 5489, '430 Little Beach': 5490, '9765 Quaking Turnabout': 5491, '7589 Honey Fawn Crossing': 5492, '3948 Shady Campus': 5493, '7731 Heather Mall': 5494, '5103 Burning Embers Green': 5495, '1356 Bright Lagoon Trail': 5496, '7007 Golden Edge': 5497, '454 Velvet Gate Park': 5498, '7811 Red Embers Road': 5499, '8832 Quiet Manor': 5500, '3758 Sunny Mall': 5501, '3847 Wishing Front': 5502, '2319 Fallen Impasse': 5503, '2638 Amber Oak Grounds': 5504, '4616 Thunder View Link': 5505, '1777 Old Willow Stead': 5506, '9670 Indian Rabbit Glade': 5507, '6461 Blue Pines': 5508, '2643 Tawny By-pass': 5509, '2293 Thunder Vale': 5510, '1 Crystal Gate': 5511, '4534 Silver Limits': 5512, '830 Hidden Lake Quay': 5513, '568 Broad Brook Common': 5514, '8842 Indian View Corners': 5515, '3076 Iron By-pass': 5516, '7945 Wishing Bear Drive': 5517, '712 Noble Road': 5518, '379 Dusty Autoroute': 5519, '2692 Cozy Autumn Extension': 5520, '9780 Crystal Chase': 5521, '9832 Umber Beacon Vale': 5522, '9879 Lazy Horse Mall ': 5523, '7614 Middle Wood': 5524, '8792 Crystal Sky Hollow': 5525, '5736 Silver Mountain Passage': 5526, '2943 Grand Embers Landing': 5527, '3137 Harvest Branch Road': 5528, '660 Harvest Bay': 5529, '4136 Emerald Key': 5530, '3099 Blue Spring Glen': 5531, '3444 Jagged Brook Mall ': 5532, '8428 Easy Townline': 5533, '4868 High Diversion': 5534, '7368 Colonial Range': 5535, '8950 Broad Rabbit Valley': 5536, '6884 Honey Byway': 5537, '4761 Amber Rabbit Path': 5538, '8435 Green Route': 5539, '5406 Rocky Cloud Common': 5540, '8860 Old Road': 5541, '3632 Emerald Robin Glen': 5542, '7122 Pleasant Port': 5543, '9089 Green Berry Key': 5544, '3032 Stony Front': 5545, '1875 Bright Ledge': 5546, '5603 Silver Beacon Cove': 5547, '2649 Harvest Drive': 5548, '3874 Broad Byway': 5549, '7732 Rustic Thicket': 5550, '1439 Lazy Stead': 5551, '9795 Indian Wagon  Mall ': 5552, '8799 Quaking Arbor': 5553, '7072 Noble Bear Gate': 5554, '2704 Shady Willow Villas': 5555, '4096 Green Cove': 5556, '7797 Rustic Shadow Abbey': 5557, '3865 Wishing Hill': 5558, '7919 Golden Berry Point': 5559, '3849 Umber Forest End': 5560, '8662 Clear Nectar Mall ': 5561, '2934 Silent Highlands': 5562, '8906 Silver Link ': 5563, '9627 Honey Trail ': 5564, '2136 Silver Canyon ': 5565, '1898 Velvet Villas': 5566, '8161 Clear Maze': 5567, '5284 Little Quay': 5568, '7394 Colonial Centre': 5569, '9044 High Port': 5570, '151 Bright Anchor Passage': 5571, '5662 Tawny Concession': 5572, '2729 Broad By-pass': 5573, '6530 High Highway': 5574, '6404 Golden Log Vale': 5575, '9274 Foggy Edge': 5576, '6068 Umber Orchard': 5577, '7487 Colonial Byway': 5578, '2726 Middle Route': 5579, '2357 Cinder Anchor Route': 5580, '5087 Foggy Nectar Campus': 5581, '8446 Green Wagon Moor': 5582, '4462 Emerald Corner': 5583, '236 Hidden Round': 5584, '4136 Colonial Pathway': 5585, '9870 Merry Zephyr Hollow': 5586, '2674 Honey Mountain Private': 5587, '9881 Golden Concession': 5588, '3649 Fallen Street': 5589, '3510 Umber Wagon  Towers': 5590, '3826 Merry Lake Plaza': 5591, '4940 Silver Autumn Terrace': 5592, '7598 Little Maze': 5593, '384 Cinder Bear Orchard': 5594, '5315 Pleasant Spring Crossing': 5595, '3293 Golden Forest Orchard': 5596, '9518 Stony Canyon': 5597, '6058 Rustic Vista': 5598, '9602 Shady Oak Bay': 5599, '5913 Cinder Row': 5600, '8719 Easy Leaf Gate': 5601, '5182 Cotton Heath': 5602, '6595 Dusty Turnabout': 5603, '8707 Harvest Knoll': 5604, '9 Golden Court': 5605, '1793 Rustic Expressway': 5606, '7107 Burning River Promenade': 5607, '9174 Heather Grove Port': 5608, '1297 Lazy Gardens': 5609, '6097 Dusty Horse Diversion': 5610, '2331 Dusty Highway': 5611, '9609 Broad Rabbit Common': 5612, '346 Rocky Embers Maze': 5613, '5840 Indian Walk': 5614, '1799 Cinder Estates': 5615, '6286 Sunny Brook By-pass': 5616, '9660 Grand Forest Circle': 5617, '1726 Easy Highway': 5618, '112 Dewy Apple Plaza': 5619, '8566 Harvest Heath': 5620, '7314 Foggy Wagon  Acres': 5621, '1191 Golden Butterfly Woods': 5622, '4743 Rustic Glade': 5623, '4945 Velvet Prairie Village': 5624, '595 Hidden Parade': 5625, '6245 Amber Cloud Gate': 5626, '3611 Lost Butterfly Farm': 5627, '2557 Burning Log Wharf': 5628, '3557 Rocky Vale': 5629, '7855 Jagged Crescent': 5630, '3657 Harvest Crest': 5631, '9167 Lost End': 5632, '4293 Amber Pioneer Alley': 5633, '1025 Green Row': 5634, '4672 Fallen Pointe': 5635, '4929 Red Road': 5636, '786 Velvet Lake Heath': 5637, '9468 Red Corner': 5638, '9133 Bright Hills Townline': 5639, '2210 Cotton Spring Plaza': 5640, '8824 Lazy Sky Grove': 5641, '1315 Colonial Lake Quay': 5642, '4421 Cozy Mountain': 5643, '8808 Quaking Front': 5644, '3937 Sunny Common': 5645, '2260 Cinder Island Lookout': 5646, '7814 Old Glen ': 5647, '236 Dusty Bay': 5648, '7701 Jagged Hill': 5649, '5919 Hidden Anchor Port': 5650, '4029 Burning Lagoon Wharf': 5651, '8566 Shady Bay': 5652, '7253 Sunny Acres': 5653, '2287 Thunder Pony Nook': 5654, '9596 Silver Pond Mount': 5655, '7072 Thunder Apple Wood': 5656, '6084 Silent Barn View': 5657, '1987 Silver Harbour': 5658, '2360 Fallen Village ': 5659, '8284 Fallen Heath ': 5660, '2083 Sleepy Berry Landing': 5661, '8497 Easy Log Parade': 5662, '1155 Misty Common': 5663, '3245 Old Shadow Avenue': 5664, '1320 Silver Embers Villas': 5665, '1793 Green Freeway': 5666, '1356 Easy Plaza': 5667, '2930 Wishing Beacon Beach': 5668, '6141 Quiet Lane': 5669, '2355 Lost Elk Gate': 5670, '9831 Middle River Dell': 5671, '4938 Harvest Rise Range': 5672, '7436 Rustic Leaf Cape': 5673, '7869 Wishing Anchor Court': 5674, '4501 Cinder Dell': 5675, '4955 Heather River Dale': 5676, '4981 Thunder Point': 5677, '190 Indian Woods': 5678, '2816 Grand Passage': 5679, '2553 Merry Chase': 5680, '1221 Rustic Dale': 5681, '6891 Rocky Route': 5682, '7871 Silver Walk': 5683, '7308 Round Anchor Path': 5684, '3216 Rocky Centre ': 5685, '409 Iron Park ': 5686, '1111 Cotton Vista ': 5687, '8584 Lazy Via': 5688, '9941 Rustic Cloud Harbour': 5689, '4271 Noble Island': 5690, '8572 Silent Crest': 5691, '2541 Round Bear Orchard': 5692, '4047 Indian Range': 5693, '6214 Green Maze ': 5694, '1847 Middle Bluff Link': 5695, '3193 Rocky Ramp': 5696, '2578 Iron Pioneer Centre': 5697, '1235 Amber Wood': 5698, '5616 Wishing Hills Freeway': 5699, '63 Heather Extension': 5700, '384 Easy Embers Trace': 5701, '3271 Amber Downs ': 5702, '8014 Iron Walk': 5703, '5016 Quaking Run': 5704, '5597 Silent Grove': 5705, '7349 Silent Isle': 5706, '9394 Foggy Path': 5707, '618 Red Villas': 5708, '8010 Sunny Pointe': 5709, '8109 Tawny Woods': 5710, '8600 Red Goose Abbey': 5711, '1575 Foggy Cape': 5712, '3185 Quaking Route': 5713, '9533 High Mountain': 5714, '1538 Old Autumn Island': 5715, '5149 Old Pioneer Mount': 5716, '7551 Old Prairie Grounds': 5717, '2916 Velvet Trace': 5718, '2002 Broad Falls': 5719, '3233 Quaking Bear Square': 5720, '6257 Round Panda Towers': 5721, '1906 Amber Dale': 5722, '8776 Heather Green': 5723, '8013 Wishing Freeway': 5724, '8428 Blue Prairie Farm ': 5725, '4000 Little Barn Bay': 5726, '2211 Lazy Wharf ': 5727, '805 Pleasant Panda Cove': 5728, '3668 Sunny Wharf': 5729, '6470 Dusty Fox Green': 5730, '2673 Cinder Rise Lookout': 5731, '9089 Grand Branch Meadow': 5732, '5548 Tawny Embers Nook': 5733, '5207 Broad Elk Run': 5734, '2056 Misty Manor': 5735, '4852 Colonial Cape': 5736, '3724 Cinder Estates': 5737, '757 Misty Goose Impasse': 5738, '2517 Harvest Autumn Forest': 5739, '6341 Green Panda Impasse': 5740, '5621 Hazy Wood': 5741, '5271 Quaking Wood': 5742, '2439 Quaking Cove': 5743, '8428 Thunder Private': 5744, '8860 Thunder Link': 5745, '5087 Emerald Panda Run': 5746, '3310 Lazy Green': 5747, '2044 Wishing Oak Acres': 5748, '9712 Bright Nectar Byway': 5749, '9335 Hidden Crescent': 5750, '5193 Round Mountain': 5751, '4463 Indian Anchor By-pass': 5752, '9317 Wishing Wood': 5753, '2246 Hidden Wagon  Route': 5754, '92 Sleepy Nook': 5755, '9359 Merry Boulevard': 5756, '3282 Bright Cider Byway': 5757, '7262 Silent Forest': 5758, '9420 Lazy Horse Drive': 5759, '2351 Misty Crest': 5760, '523 Crystal Log Square': 5761, '2878 Quaking Cider Nook': 5762, '2983 Stony Townline': 5763, '5945 Dusty Falls': 5764, '3072 Green Mount': 5765, '3722 Green Alley': 5766, '9 Fallen Hill': 5767, '4804 Golden Nectar View': 5768, '3240 Sleepy Beacon Bend': 5769, '229 Lost Canyon': 5770, '8767 Thunder Corners': 5771, '6815 Fallen Field': 5772, '7536 Jagged Elk Grove': 5773, '3178 Round Front': 5774, '8161 Crystal Towers': 5775, '6814 Golden Pike': 5776, '3538 Umber Robin Manor': 5777, '8231 Thunder Walk': 5778, '3719 Burning Edge': 5779, '3412 Indian Timber Field': 5780, '8396 High Corners': 5781, '3453 Thunder Robin Pines': 5782, '8606 Tawny Fox Plaza': 5783, '6298 Foggy Pony Village': 5784, '7802 Green Willow Extension': 5785, '4171 Colonial Lagoon Close': 5786, '7723 Lazy Mount': 5787, '9406 Middle Cider Crest': 5788, '4477 Quaking Court': 5789, '8830 Lost View Circle': 5790, '847 Dewy Berry Acres': 5791, '6197 Sunny Cove': 5792, '6379 Lazy Arbor': 5793, '8627 Velvet Walk': 5794, '4280 Lost Pony Wood': 5795, '5193 Middle Robin Valley': 5796, '3504 Sunny Embers Way': 5797, '2442 Tawny Loop': 5798, '1980 Wishing Vale': 5799, '3866 Cotton Quail Circuit': 5800, '2409 Burning Boulevard': 5801, '6141 Quaking Maze': 5802, '8736 Hazy River Manor': 5803, '6467 Stony Manor': 5804, '4114 Indian Thicket': 5805, '560 Sleepy Gate': 5806, '6424 Cinder Oak Island': 5807, '1187 Foggy Island Impasse': 5808, '4105 Round Log Loop': 5809, '9653 Noble Parade': 5810, '1294 Lost Elk Trail': 5811, '4806 Gentle Willow Loop': 5812, '4905 Velvet Canyon': 5813, '4647 Old Pony By-pass': 5814, '1991 Crystal Gate Boulevard': 5815, '1780 Fallen Pine Field': 5816, '851 Blue Elk Walk': 5817, '797 Golden Harbour': 5818, '454 Lazy Branch Falls': 5819, '1134 Sunny Willow Round': 5820, '7836 Middle Gardens': 5821, '4321 Fallen Loop': 5822, '25 Silver Cove': 5823, '1690 Tawny Moor': 5824, '4516 Dewy Sky Turnabout': 5825, '733 Thunder Log Bend': 5826, '7652 Cozy Island Common': 5827, '8033 Grand Blossom Ledge': 5828, '2361 Sleepy Circle': 5829, '5012 Stony Quail Drive': 5830, '5782 Dewy Ridge': 5831, '8771 Honey Orchard': 5832, '8667 Jagged Trail': 5833, '7571 Clear Apple Corner': 5834, '7133 Clear Hickory Pathway': 5835, '417 Quiet Grove Ramp': 5836, '5375 Blue Gate Path': 5837, '5814 Merry Prairie Stead': 5838, '6114 Bright Rabbit Wynd': 5839, '5328 Velvet Grove': 5840, '237 Burning Blossom Village': 5841, '4690 Amber Fawn Mews': 5842, '8248 Blue Corners': 5843, '2453 Old Panda Moor': 5844, '4472 Dewy Campus': 5845, '3684 Silent Hickory Route': 5846, '4485 Noble Lake Place': 5847, '7792 Rustic Park': 5848, '902 Lazy Port': 5849, '5559 Tawny Pond By-pass': 5850, '4318 Stony Oak Ramp': 5851, '1607 Noble Prairie Place': 5852, '5226 Dusty Wagon  Towers': 5853, '9741 Lost Cider Campus': 5854, '909 Honey Nectar Heights': 5855, '5261 Harvest Round': 5856, '6481 Hazy River Corner': 5857, '5463 Rocky Autoroute': 5858, '8158 Honey Impasse': 5859, '9959 Iron Anchor Ramp': 5860, '8279 Shady Apple Farms': 5861, '8033 Velvet Pine Swale': 5862, '8307 Silent Park': 5863, '1321 Cotton Horse Concession': 5864, '4182 Rustic Lake Campus': 5865, '8399 Hidden Goose By-pass': 5866, '226 Rustic Highlands': 5867, '1690 Dusty Mount': 5868, '8298 Crystal Autumn Drive': 5869, '3173 Cotton Estates': 5870, '724 Silver Vale': 5871, '8416 Silent Ledge': 5872, '2717 Little Ledge': 5873, '6801 Honey Horse Village': 5874, '4411 Cinder Front': 5875, '4657 Rocky Beacon Via': 5876, '4388 Burning Mall ': 5877, '9439 Lazy Crossing': 5878, '7291 Middle Elk Abbey': 5879, '5616 Foggy Hickory Highlands': 5880, '6134 Hidden Field': 5881, '4229 Iron Elk Turnabout': 5882, '6303 Lazy Campus': 5883, '4145 Easy Via': 5884, '2923 Hazy Autoroute': 5885, '9393 Old Wagon  Village': 5886, '2668 Foggy Road': 5887, '6588 Umber Grove': 5888, '7497 Cozy Beacon Dale': 5889, '1564 Iron Front': 5890, '8944 Blue Wynd': 5891, '5032 Sunny Barn Quay': 5892, '3814 Cinder Route': 5893, '2553 Bright Way': 5894, '3760 Velvet Highlands': 5895, '937 Amber Ledge': 5896, '236 Harvest Diversion': 5897, '9702 Shady Pond Village': 5898, '938 Crystal Leaf Beach': 5899, '1663 Hidden Brook Island': 5900, '1131 Cotton Grounds': 5901, '6574 Clear Spring Mountain': 5902, '4592 Amber Orchard': 5903, '6599 Grand Island Hill': 5904, '5953 Honey Concession': 5905, '4554 Silver Bank': 5906, '6631 Pleasant Zephyr Route': 5907, '6426 Dusty Valley': 5908, '6009 Dewy Cove': 5909, '6512 Middle Parade': 5910, '7027 High Passage': 5911, '5950 Misty Branch Dale': 5912, '2830 Bright Wood': 5913, '2486 Pleasant Field': 5914, '2071 Shady Wagon Park': 5915, '6231 Green Meadow': 5916, '2722 Lost Glen': 5917, '3567 Broad Mall': 5918, '1551 Quaking Bend': 5919, '8679 Middle Avenue': 5920, '8352 Green Island Byway': 5921, '7678 Lazy Farms': 5922, '4104 Emerald Extension': 5923, '5243 Little Lagoon Expressway': 5924, '712 Thunder Mall ': 5925, '3867 Cinder Leaf Campus': 5926, '2828 Cozy Pines': 5927, '8416 Emerald Dale': 5928, '6608 Silver Goose Point': 5929, '2099 Honey Anchor Terrace': 5930, '1185 High View By-pass': 5931, '4232 Rustic Pine Canyon': 5932, '7487 Silver Square': 5933, '4609 Green Avenue': 5934, '5777 Pleasant Common': 5935, '603 High Blossom Meadow': 5936, '3971 Velvet Nook': 5937, '5148 Sleepy Timber Grove': 5938, '7601 Blue Gate ': 5939, '8780 Colonial Orchard ': 5940, '8632 Bright Route ': 5941, '9557 Harvest Mews ': 5942, '1325 Noble Pike ': 5943, '4761 Red Timber Bank': 5944, '5532 Tawny Pines ': 5945, '1427 Burning Goose Island': 5946, '7096 Lazy Pathway': 5947, '8025 Bright Embers Glen': 5948, '8183 Noble Villas': 5949, '1804 Iron Quay': 5950, '1260 Velvet Highway': 5951, '7983 Iron Grounds': 5952, '8547 Old Drive': 5953, '4271 Honey Beach': 5954, '5892 Little Barn Round': 5955, '2331 Velvet Private': 5956, '4725 Dewy Apple Farms': 5957, '5407 Silver Rise Villas': 5958, '7969 Dewy Forest': 5959, '9228 Honey Branch Green': 5960, '720 Iron Plaza': 5961, '1987 Grand Concession': 5962, '1411 Clear Beacon Extension': 5963, '9897 Sunny Via': 5964, '1800 Cotton Oak Beach': 5965, '923 Bright Forest Trail': 5966, '9381 Cozy Swale': 5967, '8708 Indian Horse Highway': 5968, '7494 Golden Horse Dale': 5969, '8497 Cozy Shadow Highway': 5970, '9916 Misty Downs': 5971, '4113 Clear Lagoon Private': 5972, '771 Misty Alley': 5973, '4248 Crystal Rise Wharf': 5974, '7894 Heather Gardens': 5975, '1905 Merry Cloud Plaza': 5976, '6988 Easy Quail Swale': 5977, '1229 Bright Robin Corners': 5978, '9380 Sleepy Valley': 5979, '4629 Blue Cloud Passage': 5980, '2959 Old Blossom Farms': 5981, '6611 Colonial Wharf': 5982, '773 Heather Sky Mount': 5983, '9366 Colonial Horse Close': 5984, '1407 Crystal Campus': 5985, '9095 Broad Wagon  Villas': 5986, '5842 Thunder Zephyr Pointe': 5987, '6442 Emerald Rise Extension': 5988, '9576 Middle Hills Round': 5989, '633 Crystal Range': 5990, '8279 Crystal Panda Mall ': 5991, '9279 Little Beach': 5992, '2410 Umber Woods': 5993, '6132 Jagged Mountain Downs': 5994, '8967 Grand Highway': 5995, '1846 Cotton Oak Parkway': 5996, '5301 Broad Bend': 5997, '2797 Colonial Nook': 5998, '550 Fallen Trace': 5999, '4145 Lazy Wood': 6000, '8620 Burning Isle': 6001, '9190 Crystal Thicket': 6002, '1828 Middle Barn Crest': 6003, '6828 Heather Dell': 6004, '1098 Silent Mall ': 6005, '8828 Little Nook': 6006, '2857 Cozy Mews': 6007, '9175 Blue Lookout': 6008, '2099 Dusty Grove Crest': 6009, '4908 Cotton Oak Grove': 6010, '3068 Foggy Deer Trail': 6011, '4534 Cinder Concession': 6012, '2805 Indian Passage': 6013, '6009 Quiet Corner': 6014, '2122 Round Pike': 6015, '8849 Gentle Forest Hollow': 6016, '8059 Cozy Anchor Ramp': 6017, '4968 Colonial Forest Round': 6018, '6254 Silent Heath': 6019, '975 Green Canyon': 6020, '3262 High Trail': 6021, '2355 Amber Panda Vista': 6022, '266 Misty Pine Mountain': 6023, '2289 Burning Hollow': 6024, '6842 Middle Apple Row': 6025, '9553 Thunder Villas': 6026, '3778 Clear View Woods': 6027, '6876 Heather Canyon': 6028, '2205 Velvet Plaza': 6029, '1834 Cozy Island By-pass': 6030, '4945 Thunder Quail Downs': 6031, '610 Clear Apple Highway': 6032, '4208 Harvest Grounds': 6033, '9117 Rustic Beach ': 6034, '9293 Umber Alley ': 6035, '7894 Heather Gardens ': 6036, '8550 Tawny Bear Wynd': 6037, '3006 Tawny Timber Orchard': 6038, '2264 Red Route': 6039, '6314 Hidden Private ': 6040, '8933 Dewy Quay ': 6041, '7538 High Heights ': 6042, 'Elk Grove': 6043, '9905 Green Elk Court': 6044, '3973 Colonial Manor': 6045, '264 Tawny Landing': 6046, '9495 Grand Diversion': 6047, '9393 Iron Impasse': 6048, '8076 Amber View': 6049, '6051 Middle Jetty': 6050, '1980 Thunder Edge': 6051, '4694 Dusty Pathway': 6052, '7558 Cotton Log Stead': 6053, '786 Heather River Swale': 6054, '1552 Burning Dale Highlands': 6055, '5274 Noble Isle ': 6056, '6714 Cozy Wynd ': 6057, '7971 Broad Villas ': 6058, '4981 Fallen Place': 6059, '7596 Bright Pike ': 6060, '1621 Old Limits ': 6061, '5385 Burning Pony Cove': 6062, '7112 Golden Circuit': 6063, '2407 Cozy Square': 6064, '1066 Hidden Ridge': 6065, '326 Crystal Parade': 6066, '432 Indian Green': 6067, '4906 Rustic Round ': 6068, '18 Emerald Port ': 6069, '556 Velvet Landing ': 6070, '5332 Heather Hills Isle': 6071, '2923 Shady Drive': 6072, '5163 Merry Line': 6073, '6860 Foggy Pathway': 6074, '1587 Emerald Landing': 6075, '7639 Grand Grove': 6076, '1389 Noble Centre': 6077, '9879 Indian Panda Square': 6078, '6889 Pleasant Mount ': 6079, '1221 Cinder Pines ': 6080, '6121 Silent Street ': 6081, '6150 Clear Bluff Carrefour': 6082, '6283 Dusty Rise': 6083, '7902 Rocky Thicket': 6084, '7334 Sleepy Ridge': 6085, '9792 Quaking Robin Grounds': 6086, '4702 Velvet Mountain Villas': 6087, '7502 Dewy Square': 6088, '6306 Merry Deer Autoroute': 6089, '5127 Sleepy Via': 6090, '4786 Bright Dale Downs': 6091, '7795 Tawny Prairie Ramp': 6092, '3697 Fallen Run': 6093, '4997 Gentle Robin View': 6094, '9010 Honey Cloud Green': 6095, '7869 Crystal View Villas': 6096, '1952 Pleasant Branch Alley': 6097, '6447 Tawny Cloud Port': 6098, '1387 Lazy Hickory Bank': 6099, '24 Merry Oak Loop': 6100, '8874 Wishing Deer Vista': 6101, '1258 Quaking Avenue': 6102, '2407 Bright Blossom Mall': 6103, '2306 Green Lane': 6104, '59 Wishing Prairie Private': 6105, '3099 Easy Embers Parade': 6106, '5913 Amber Berry Passage': 6107, '7112 Foggy Circle': 6108, '6864 Tawny Bluff Forest': 6109, '6447 Indian Alley': 6110, '131 Colonial Pioneer Run': 6111, '4170 Rocky Island Route': 6112, '4565 Honey Leaf Estates': 6113, '1991 Stony Log Run': 6114, '4063 Cinder Cloud Farm': 6115, '5165 Little Common': 6116, '6304 Quaking Meadow': 6117, '3665 Tawny Knoll': 6118, '7533 Clear Goose Lane': 6119, '8059 Indian Embers Stead': 6120, '4725 Colonial Hickory Chase': 6121, '8834 Lost Rabbit Ramp': 6122, '6481 Clear Cider Falls': 6123, '6791 Colonial Nook': 6124, '6439 Tawny Leaf Range': 6125, '4381 Burning Concession': 6126, '541 Emerald Shadow Glen': 6127, '257 Thunder Lane': 6128, '9918 Rustic Park ': 6129, '3064 Colonial Cove ': 6130, '1666 Sunny View ': 6131, '3737 Blue Path ': 6132, '3907 Rustic Via ': 6133, '903 Green Island': 6134, '5512 Misty Plaza ': 6135, '7002 Blue Place ': 6136, '9865 Blue Edge ': 6137, '7953 Bright Pioneer Crescent': 6138, '7074 Crystal Parade ': 6139, '9276 Dusty Isle': 6140, '5263 Stony View ': 6141, '3139 Little Berry Close': 6142, '9297 Burning Extension ': 6143, '599 Clear Gardens ': 6144, '123 Wishing River Green': 6145, '2839 Round Berry Swale': 6146, '7773 Cinder Timber Island': 6147, '2997 Jagged Townline': 6148, '4916 Honey Highlands': 6149, '4900 Dusty Line': 6150, '5497 Quiet Landing': 6151, '4599 Crystal Avenue': 6152, '1102 Pleasant Maze ': 6153, '8005 Umber Crossing': 6154, '6316 Quiet Pines ': 6155, '911 Middle Fawn Townline': 6156, '8675 Little Arbor': 6157, '3339 Cinder Rise': 6158, '3470 Gentle Place': 6159, '2261 Harvest Gate': 6160, '9959 Old Walk': 6161, '2428 Green Prairie Path': 6162, '3298 Round Creek Expressway': 6163, '9757 Dusty Diversion': 6164, '10 Tawny Brook Canyon': 6165, '6889 Gentle Pike': 6166, '2083 Harvest Horse Mount': 6167, '1118 Pleasant Bluff Heights': 6168, '9494 Thunder Inlet': 6169, '2571 Bright Forest': 6170, '1847 Quiet Leaf View': 6171, '4776 Heather Creek Road': 6172, '7770 Gentle Quail Downs': 6173, '8344 Dewy Path': 6174, '2415 Grand Spring Place': 6175, '65 Stony Concession': 6176, '921 Broad Chase': 6177, '8984 Dewy Arbor': 6178, '10 Crystal River Mall': 6179, '1490 Silver Canyon ': 6180, '5452 Jagged Green ': 6181, '7857 Broad Glade': 6182, '372 Noble Park': 6183, '4010 Tawny Embers Rise': 6184, '2439 Old Grove': 6185, '5148 Tawny Cider Landing': 6186, '2143 Colonial Cloud Dale': 6187, '5117 Red Wynd': 6188, '4255 Stony Island Crescent': 6189, '6502 Misty Forest': 6190, '1810 Round Lookout': 6191, '6234 Jagged Bluff Expressway': 6192, '4277 Golden Road': 6193, '5258 Umber Dale Woods': 6194, '3610 Cozy Acres': 6195, '6179 Silver Alley': 6196, '1440 Fallen Fox Dell': 6197, '7767 Crystal Concession': 6198, '5184 Amber Cider Towers': 6199, '5712 Heather Rise': 6200, '9671 Hidden Glade': 6201, '7928 Easy Hollow': 6202, '275 Heather Rabbit Parkway': 6203, '4870 Broad Berry Circuit': 6204, '4353 Sunny Gate Avenue': 6205, '1682 Amber Parade': 6206, '742 High Lake Farm': 6207, '3810 Sunny Turnabout': 6208, '3316 High Oak Extension': 6209, '4852 Cozy Dale': 6210, '4575 Thunder Dale': 6211, '6390 Harvest Crest': 6212, '5784 Silent Island Extension': 6213, '8314 Cotton Harbour': 6214, '4909 Noble Road': 6215, '6197 Jagged Estates': 6216, '2841 Broad Pony Grove': 6217, '8434 Rocky Knoll': 6218, '8508 Merry Crest': 6219, '8314 Sleepy Fawn Heath': 6220, '4396 Round Mews': 6221, '3114 Grand Quail Pointe': 6222, '7957 Iron Hollow ': 6223, '1669 Middle Common ': 6224, '7971 Wishing Corners': 6225, '6481 Heather Wagon Range': 6226, '7112 Cozy Highway ': 6227, '8893 Indian Swale ': 6228, '4189 Amber Leaf Close': 6229, '2073 Round Maze': 6230, '2592 Colonial Pointe ': 6231, '753 Iron Deer Grounds': 6232, '1731 Pleasant Fox Campus': 6233, '2690 Cozy Autumn Parade': 6234, '7500 Crystal Beacon Way': 6235, '6657 Merry Treasure Vista': 6236, '2672 Colonial Robin Glade': 6237, '9174 Cotton Treasure Landing': 6238, '4906 Wishing Bluff Pike': 6239, '6138 Rustic Walk': 6240, '6801 Clear Fox View': 6241, '6547 Golden Crescent': 6242, '1073 Pleasant Cloud Centre': 6243, '7851 Pleasant Horse By-pass': 6244, '5382 Heather Key': 6245, '9814 Middle Autumn Grounds': 6246, '1035 Hidden Glade': 6247, '8610 Fallen Lake Line': 6248, '6651 Iron Port ': 6249, '7509 Harvest Highlands ': 6250, '8344 Colonial Maze ': 6251, '6316 Wishing Rise ': 6252, '379 Honey Maze ': 6253, '9439 Blue Range ': 6254, '2966 Round Ridge ': 6255, '4896 Green Cider Park': 6256, '6398 Silent Wagon  Common': 6257, '9214 Cotton Place': 6258, '6355 Grand Horse Port': 6259, '9100 Golden Panda Key': 6260, '6391 Tawny Key': 6261, '3880 Rustic Port': 6262, '5202 Shady Bear Lane': 6263, '5755 Crystal Pine Via': 6264, '6280 Cozy Embers Island': 6265, '1 Bright Manor': 6266, '7591 Cinder Crest': 6267, '9193 High Log Boulevard': 6268, '2966 Gentle Ramp': 6269, '5553 Wishing Grove': 6270, '9188 Silver Anchor Woods': 6271, '4955 Round Rabbit Hill': 6272, '9980 Red Crossing': 6273, '2867 Burning Forest Grove': 6274, '4834 Lost Farm': 6275, '9416 Easy Freeway': 6276, '153 Hidden Range': 6277, '1296 High Dale Bend': 6278, '8275 Broad Nectar Pointe': 6279, '2225 Clear Gardens': 6280, '5035 Sleepy Trail': 6281, '5841 Quaking Cloud Village': 6282, '191 Quaking Embers Bay': 6283, '6828 Cotton Landing': 6284, '1099 High Green': 6285, '4182 Shady Farms': 6286, '6610 Umber Pine Jetty': 6287, '1250 Foggy Cloud Canyon': 6288, '9400 Grand Trail': 6289, '7868 Iron Fawn Mall': 6290, '5247 Cotton Cider Trace': 6291, '4439 Tawny Mall ': 6292, '7763 Round Walk': 6293, '1681 Foggy Leaf Pointe': 6294, '7546 Gentle Branch Heights': 6295, '2394 Sunny Rabbit By-pass': 6296, '3939 Noble Fox Parade': 6297, '9166 Pleasant Canyon': 6298, '122 Merry Grove Mews': 6299, '4651 Grand Way': 6300, '9891 Velvet Pony Trace': 6301, '7427 Bright Robin Landing': 6302, '8916 Round Zephyr Ridge': 6303, '9295 Noble Acres': 6304, '6924 Pleasant Anchor Maze': 6305, '2657 Hidden Dale': 6306, '1526 Broad Mountain Plaza': 6307, '3369 Hazy Beacon By-pass': 6308, '7620 Old Spring Square': 6309, '4186 Umber Fawn Grounds': 6310, '229 Shady Forest': 6311, '8600 Stony Gate Terrace': 6312, '4408 Lazy Oak Pines': 6313, '5008 Merry Highlands': 6314, '2236 Sunny Front': 6315, '6187 Sunny Meadow': 6316, '8381 Old Berry Jetty': 6317, '5072 High Alley': 6318, '4285 Rocky Round': 6319, '4320 Little Acres': 6320, '6943 Umber Butterfly Port': 6321, '3278 Cotton Crest': 6322, '1898 Noble Valley': 6323, '2538 Red Island Corner': 6324, '3088 Red Vista': 6325, '9083 Hidden Leaf Glen': 6326, '921 Thunder Byway': 6327, '5270 Bright Manor': 6328, '2422 Indian Autumn Arbor': 6329, '3914 Foggy Sky Manor': 6330, '376 Silver Terrace': 6331, '1321 Easy Embers Lane': 6332, '9403 Amber Key': 6333, '9761 Green Jetty': 6334, '4992 Amber Island Row': 6335, '6876 Wishing Beach': 6336, '8566 Cozy End': 6337, '1840 Fallen Lane ': 6338, '4091 Cotton Nectar Pointe': 6339, '1322 Broad Glade': 6340, '2056 Misty Lookout': 6341, '6292 Little Deer Wood': 6342, '2783 Foggy Mews ': 6343, '8263 Harvest Estates ': 6344, '3310 Blue Quay ': 6345, '2499 Sleepy Diversion ': 6346, '191 Bright Gardens': 6347, '5593 Indian Trail ': 6348, '5420 Rocky Port': 6349, '2262 High Quail Island': 6350, '4145 Jagged Downs': 6351, '538 Iron Crossing': 6352, '3006 Misty Log Hill': 6353, '2376 Burning Creek Mews': 6354, '3006 Merry Timber Pointe': 6355, '8171 Indian Ramp': 6356, '4551 Crystal Fox Highway': 6357, '4703 Grand Avenue': 6358, '443 Foggy Ledge': 6359, '9615 Jagged Downs': 6360, '7105 Pleasant Street': 6361, '789 Umber Butterfly Round': 6362, '3278 Misty Port': 6363, '6538 Quaking Subdivision': 6364, '909 Sunny Pony Terrace': 6365, '4106 Green Deer Way': 6366, '2486 Silver Carrefour ': 6367, '4145 Noble Ridge ': 6368, '9847 Wishing Ledge ': 6369, '9022 Lazy Swale ': 6370, '3880 Green Edge ': 6371, '2556 Bright Butterfly Circuit': 6372, '9222 Green Round': 6373, '4271 Hazy Close ': 6374, '3233 Quiet Timber Ridge': 6375, '6611 Colonial Wharf ': 6376, '2360 Fallen Village': 6377, '673 Burning Glen ': 6378, '1494 Indian Range ': 6379, '7213 Cozy Quay ': 6380, '5463 Rocky Autoroute ': 6381, '8434 Honey Pines ': 6382, '97 Burning Landing ': 6383, '2409 Burning Boulevard ': 6384, '8626 Silent Boulevard ': 6385, '7125 Silent Expressway': 6386, '2197 Velvet Pine Range': 6387, '4703 Sleepy Front': 6388, '989 Emerald Grove Dale': 6389, '4951 Misty Pioneer Mall': 6390, '409 Tawny Range': 6391, '789 Old Deer Acres': 6392, '2049 Quaking Mews': 6393, '9315 Iron Gate Run': 6394, '3570 Burning Pony Front': 6395, '5452 Broad Mall': 6396, '3586 Velvet Pointe': 6397, '6791 Misty Pike': 6398, '833 Middle Fox Orchard': 6399, '1165 Merry Way': 6400, '1915 Old Prairie Corner': 6401, '5703 Hazy View Edge': 6402, '3614 Misty Mall': 6403, '9916 Silent Mall': 6404, '3880 Green Edge': 6405, '8950 Thunder Fawn Farm': 6406, '550 Amber Port': 6407, '6414 Colonial Robin Trail': 6408, '3856 Noble Zephyr By-pass': 6409, '7597 Iron River Green': 6410, '4770 Quiet Heights': 6411, '1872 Silent View': 6412, '8342 Crystal Drive ': 6413, '7887 Foggy Bluff Autoroute': 6414, '3043 Silent Fawn Thicket': 6415, '281 Middle Blossom Ledge': 6416, '5953 Sleepy Heights ': 6417, '3185 Quaking Route ': 6418, '9726 Dewy Grounds ': 6419, '8370 Gentle Branch Subdivision': 6420, '133 Heather Route': 6421, '2262 Tawny Jetty ': 6422, '5002 High Bank ': 6423, '4114 Round Way ': 6424, '5208 Cinder Zephyr Front': 6425, '3470 Amber Townline': 6426, '673 Burning Glen': 6427, '2070 Velvet Quail Port': 6428, '8802 Foggy Link': 6429, '4502 Crystal Turnabout': 6430, '5104 Indian Square': 6431, '3656 Wishing Butterfly Autorout': 6432, '1208 Dewy Pine Pathway': 6433, '5543 Golden Pioneer Front': 6434, '7121 Red Pines': 6435, '1763 Dusty Trace': 6436, '3296 Indian Rise Carrefour': 6437, '5237 Rustic Village': 6438, '8933 Dewy Quay': 6439, '5855 Rocky Forest Place': 6440, '4362 Quaking Manor ': 6441, '4285 Rocky Round ': 6442, '4212 Honey Trail ': 6443, '5468 Clear Bend ': 6444, '5864 Tawny Lake Freeway': 6445, '5208 Bright Pioneer Crescent': 6446, '987 Blue Impasse ': 6447, '8718 Sunny Centre ': 6448, '9853 Jagged Wharf ': 6449, '5507 Little Rise Link': 6450, '9462 Round Island        ': 6451, '9217 Old Street': 6452, '9518 Old Corner ': 6453, '1790 Indian Treasure Pines': 6454, '6940 Easy Forest Walk': 6455, '1217 Indian Embers Corner': 6456, '6718 Emerald Horse Key': 6457, '4128 Emerald Deer Thicket': 6458, '5393 Lost Towers': 6459, '6830 Wishing Bluff Nook': 6460, '4965 Velvet Hills Mall ': 6461, '7588 Dewy Parade': 6462, '1 Foggy Freeway': 6463, '4132 Broad Branch Route': 6464, '3944 Round Highlands': 6465, '3722 Red Hickory Path': 6466, '1731 Silver Lake Wood': 6467, '5840 Old Campus': 6468, '6417 Foggy Forest Swale': 6469, '9380 Blue Ledge': 6470, '3882 Honey Parkway': 6471, '2777 Crystal Blossom Dale': 6472, '9274 Misty Hollow': 6473, '4232 Pleasant Bear Park': 6474, '9040 Silent Row': 6475, '62 Amber Hills Way': 6476, '3993 Silver Apple Circle': 6477, '2893 Cotton Promenade': 6478, '5892 Grand Cloud Parade': 6479, '1676 Red Drive': 6480, '6843 Blue Beacon Wynd': 6481, '1865 Honey Willow Thicket': 6482, '490 Sleepy Circuit': 6483, '2394 Gentle Treasure Farms': 6484, '6982 Old Pony Field': 6485, '3655 Bright Bear Via': 6486, '3307 Dusty Log Court': 6487, '5652 Tawny Anchor Plaza': 6488, '9437 Quiet Deer Parade': 6489, '2762 Broad Panda Terrace': 6490, '4802 Umber Village': 6491, '9916 Silent Mall ': 6492, '3751 Shady Pike': 6493, '6564 Tawny Elk View': 6494, '4249 Silver Goose Maze': 6495, '2292 Gentle Brook Ramp': 6496, '7591 Easy Inlet': 6497, '3151 Burning Beacon Boulevard': 6498, '4522 Crystal Trail': 6499, '3042 Rustic Line': 6500, '5803 Burning Abbey': 6501, '5926 Grand Pony Farms': 6502, '3610 Quiet Highlands': 6503, '8849 Middle Pond Corners': 6504, '4644 Honey Pond Quay': 6505, '2538 Rustic Zephyr Village': 6506, '7240 Gentle Lake View': 6507, '6317 Cinder River Centre': 6508, '1985 Cotton Terrace': 6509, '4806 Umber Square': 6510, '123 Misty Grove Range': 6511, '6940 Easy Brook Extension': 6512, '4863 Fallen Campus': 6513, '1804 Noble Place': 6514, '100 Pleasant Rabbit Hill': 6515, '5512 Thunder Diversion': 6516, '3836 Quaking Round': 6517, '7168 Emerald Field': 6518, '7510 Cinder Island Heath': 6519, '7239 Emerald Bluff Downs': 6520, '654 Fallen Via': 6521, '7731 Lazy Bluff Forest': 6522, '3453 Lost Concession': 6523, '3083 Merry Downs': 6524, '8093 Sleepy Robin Drive': 6525, '1822 Rustic Lane': 6526, '5078 Green Street': 6527, '4179 Merry Wood': 6528, '1494 Indian Range': 6529, '8311 Round Lookout': 6530, '7446 Rocky Inlet': 6531, '7581 Round Island': 6532, '7027 Sleepy Farm': 6533, '9729 Emerald Pony Mount': 6534, '443 Jagged Lane': 6535, '7793 Round Oak Key': 6536, '9624 Hidden Villas': 6537, '1449 Amber Island': 6538, '8342 Crystal Drive': 6539, '6640 Sunny Via': 6540, '8434 Honey Pines': 6541, '2265 Foggy Lagoon Bend': 6542, '7533 Thunder Wagon Beach': 6543, '7274 Blue Wagon Villas': 6544, '9456 Sleepy Jetty': 6545, '1564 Grand Bear Green': 6546, '3680 Velvet Plaza': 6547, '2360 Noble Pines': 6548, '5455 Red Lagoon Maze': 6549, '7502 Hidden Glen': 6550, '9260 Burning Horse Subdivision': 6551, '2673 Rocky Quail Way': 6552, '3867 Velvet Hills Diversion': 6553, '8435 Iron Landing': 6554, '8435 Round Drive': 6555, '9772 Silver River Parade': 6556, '4760 Grand Nook': 6557, '473 Silent Ledge': 6558, '7486 Merry Mall ': 6559, '3680 Emerald Alley': 6560, '6980 Lost Parade': 6561, '2781 Emerald Thicket': 6562, '1526 Foggy Treasure Subdivision': 6563, '9040 Green Farms': 6564, '6340 Quiet Turnabout': 6565, '8610 Burning Cider Heath': 6566, '3088 Cinder Ridge': 6567, '9612 Clear Extension': 6568, '5599 Cotton Creek Trail': 6569, '2186 Sleepy Autumn Carrefour': 6570, '1820 Dusty Island Isle': 6571, '1879 Round Dale Stead': 6572, '3360 Merry Swale': 6573, '9489 Noble Harbour': 6574, '5712 Quiet Hill': 6575, '7924 Blue Parade': 6576, '4839 Merry Log Glen': 6577, '8804 High Dale Cove': 6578, '953 Iron Blossom Manor': 6579, '8055 Thunder Farm': 6580, '2128 Wishing Grove Route': 6581, '7000 Merry Nectar Parkway': 6582, '8417 Noble Expressway': 6583, '7577 Merry Expressway': 6584, '7573 Sunny Pond Island': 6585, '8344 Sunny Embers Point': 6586, '8626 Silent Boulevard': 6587, '7988 High Jetty': 6588, '7770 Green Log Run': 6589, '5293 Hidden Lane': 6590, '8533 Little Berry Diversion': 6591, '3408 Bright Cloud Pathway': 6592, '4505 Grand Bear Swale': 6593, '123 Clear Park': 6594, '5385 Old Hills Expressway': 6595, '6657 High Mountain Highlands': 6596, '8340 Lazy Grove Downs': 6597, '1109 Wishing Crest': 6598, '7301 Lost Horse Downs': 6599, '3253 Shady Pioneer End': 6600, '795 Easy Mountain Edge': 6601, '7027 Hidden Point': 6602, '9611 Middle Dale': 6603, '5072 Old Downs': 6604, '1735 Clear Landing': 6605, '6461 Silver Heath': 6606, '1088 Umber Zephyr Trail': 6607, '3151 Silver Point': 6608, '6876 Lazy Wharf': 6609, '1643 Clear Jetty': 6610, '1914 Cotton Fox Pointe': 6611, '9792 Misty Trace': 6612, '3871 Umber Blossom Place': 6613, '6122 Blue Quail Thicket': 6614, '1599 Old Goose Square': 6615, '6751 Cozy Freeway': 6616, '5964 Heather Apple Heath': 6617, '9044 Bright Pointe': 6618, '1027 Green Autoroute': 6619, '5949 Honey Brook Wood': 6620, '8109 Amber Inlet': 6621, '4385 Dusty Drive': 6622, '3826 Old Island': 6623, '9089 Misty Pioneer Knoll': 6624, '1811 Harvest Deer Cove': 6625, '4271 Lazy Promenade': 6626, '5622 Indian Dale Bend': 6627, '8316 Fallen Arbor': 6628, '7810 Cinder Harbour': 6629, '2472 Rocky Barn Subdivision': 6630, '1296 Quiet Forest Glen': 6631, '3487 Green Rise': 6632, '1643 Honey Acres': 6633, '8318 Noble Timber Key': 6634, '620 Cozy Pond Expressway': 6635, '4778 Cozy Anchor Manor': 6636, '5961 Little Field': 6637, '2437 Iron View': 6638, '1366 Golden Crescent': 6639, '3957 Bright Zephyr Cove': 6640, '3586 Merry Grounds': 6641, '7536 Misty Leaf Grove': 6642, '2721 Silent Barn Subdivision': 6643, '2861 Dusty Island': 6644, '1322 Cinder Hollow': 6645, '1011 Heather Lagoon Falls': 6646, '9335 Dewy Brook Ramp': 6647, '3505 High Mall ': 6648, '3005 Burning Corner': 6649, '4924 Hazy Fawn Villas': 6650, '6877 Emerald Leaf Run': 6651, '376 Golden Orchard': 6652, '5674 Burning Willow Extension': 6653, '5622 Sunny Rabbit Front': 6654, '8328 Sleepy Court': 6655, '4396 Little Pond Crescent': 6656, '676 Cotton Nook': 6657, '5226 Cozy Elk Crossing': 6658, '1975 Crystal Leaf Autoroute': 6659, '7637 Dusty Line': 6660, '2406 Broad Embers Parade': 6661, '8470 Tawny Parkway': 6662, '8217 Sunny Berry Mount': 6663, '6857 Sleepy Gate Bend': 6664, '4725 Harvest Heights': 6665, '2553 Harvest Dell': 6666, '4508 Fallen Mountain Dale': 6667, '1356 Blue Rabbit Campus': 6668, '6611 Green Woods': 6669, '7666 High Dale Bank': 6670, '659 Umber Island': 6671, '7177 Clear Robin Limits': 6672, '6566 Stony Zephyr Green': 6673, '2901 Sunny Cloud Line': 6674, '3814 Thunder Rise': 6675, '6671 Cozy Dale': 6676, '3233 Sleepy View Link': 6677, '3892 Dusty Berry Farm': 6678, '79 Round Gate Vale': 6679, '3495 Round Mount': 6680, '5186 Velvet Pointe': 6681, '2236 Fallen Meadow': 6682, '628 Hidden Private': 6683, '9409 Amber Forest Highway': 6684, '4411 Dusty Avenue ': 6685, '6517 Hazy Wagon Walk': 6686, '1981 Honey Nectar Line': 6687, '6847 Broad Orchard ': 6688, '5224 Thunder Pines': 6689, '3926 Cinder Crest': 6690, '4103 Heather Barn Heath': 6691, '9736 Emerald Goose Highlands': 6692, '7864 Rustic Creek Trace': 6693, '624 Jagged Anchor Concession': 6694, '897 Shady Landing': 6695, '3910 Colonial Road': 6696, '1020 Silent Diversion': 6697, '3570 Broad Cloud Impasse': 6698, '4293 Honey Barn Stead': 6699, '5393 Umber Wynd': 6700, '8528 Green Corner': 6701, '7676 Colonial Towers ': 6702, '3440 Emerald Knoll ': 6703, '7897 Stony Thicket ': 6704, '7885 Sleepy Cove ': 6705, '6063 Golden Point ': 6706, '8777 Silent View ': 6707, '4515 Golden Manor ': 6708, '2000 Stony Abbey ': 6709, '9854 Iron Street ': 6710, '6231 Fallen Range ': 6711, '9843 Grand Circle ': 6712, '2236 Shady Hill': 6713, '5078 Green Street ': 6714, '7430 Blue Pioneer Circuit': 6715, '8036 Lazy Autumn Park': 6716, '8799 Cozy Pike': 6717, '5953 Thunder Manor': 6718, '5783 Fallen Willow Ledge': 6719, '5480 Sleepy Mall ': 6720, '8713 Easy Circuit': 6721, '8718 Sunny Centre': 6722, '1972 Burning Extension': 6723, '3189 Grand Cape': 6724, '9932 Fallen Branch Downs': 6725, '1296 Sleepy Creek Terrace': 6726, '5838 Blue Autoroute': 6727, '8776 Amber Pines': 6728, '8934 Silent Stead': 6729, '3329 Wishing Lake Cove': 6730, '266 Hazy Sky Bank': 6731, '4705 Easy Pathway': 6732, '5547 Old Pines': 6733, '9124 Crystal Manor': 6734, '8732 Sunny Grove': 6735, '1531 Hazy Forest Plaza': 6736, '7016 Clear Turnabout': 6737, '1912 Broad Deer Green': 6738, '2341 Merry Nectar Centre': 6739, '4905 Broad Ledge': 6740, '8012 Hidden Plaza': 6741, '5485 Tawny Crescent': 6742, '4530 Quiet Forest Link': 6743, '9734 Stony Farms': 6744, '4459 Amber Close': 6745, '4491 Silver Via': 6746, '7391 Cotton Hollow': 6747, '6045 Green Valley': 6748, '4498 Fallen Cove': 6749, '6286 Bright Anchor Green': 6750, '5046 Shady Sky Circle': 6751, '7247 Gentle Beacon Byway': 6752, '5480 Honey Stead': 6753, '2027 Heather Hickory Crescent': 6754, '415 Red Glade': 6755, '7557 Gentle Range': 6756, '325 Misty Forest ': 6757, '305 Quaking Walk': 6758, '7497 Umber Robin Bend': 6759, '3884 Foggy Dale': 6760, '3836 Stony Point ': 6761, '7391 Fallen Centre': 6762, '4029 Lazy Hickory Impasse': 6763, '4750 Quaking Townline': 6764, '2714 Lazy Swale': 6765, '6296 Misty Zephyr Villas': 6766, '2797 Wishing Vista': 6767, '2828 Fallen Field': 6768, '5477 Thunder Campus': 6769, '46 Heather Nook': 6770, '5662 Shady Harbour': 6771, '1221 Easy Corners': 6772, '4492 Lazy Grounds': 6773, '8598 Cotton Hickory End': 6774, '4678 Fallen Townline': 6775, '4036 Quiet Lagoon Corner': 6776, '9871 Cotton Highway ': 6777, '1680 Pleasant Quail Square': 6778, '3707 Misty Hollow': 6779, '136 Dewy Hickory Dell': 6780, '248 Rustic Beacon Forest': 6781, '5050 Lost Branch Glen': 6782, '1870 Lost Berry Bank': 6783, '7489 Harvest Cider Glade': 6784, '3657 Broad Meadow': 6785, '9557 Jagged Village': 6786, '2541 Velvet Forest Wynd': 6787, '6183 Little Passage ': 6788, '5763 Crystal Alley ': 6789, '1819 Gentle Branch Meadow': 6790, '2221 Lazy Sky Trail': 6791, '8734 Wishing Range': 6792, '9198 Rustic Terrace': 6793, '3585 Green Rabbit Orchard': 6794, '1306 Rustic Towers': 6795, '4408 Tawny Horse Crescent': 6796, '9403 Quaking Valley': 6797, '4502 Crystal Turnabout ': 6798, '9126 Wishing Expressway ': 6799, '6779 Iron Woods ': 6800, '7274 Grand Hickory Trail': 6801, '2538 Sunny Beacon Vale': 6802, '6980 Gentle Bend': 6803, '3296 High Lane': 6804, '6582 Red Heights': 6805, '9911 Silent Drive': 6806, '5463 Rocky Ridge': 6807, '4103 Hidden Pioneer Gate': 6808, '5609 Pleasant Panda Crescent': 6809, '3886 Thunder Hill': 6810, '4706 Misty Manor': 6811, '981 Blue Round': 6812, '655 Honey Embers Ridge': 6813, '9895 Hidden Prairie Meadow': 6814, '8364 High Road': 6815, '5263 Stony View': 6816, '9559 Green Mountain': 6817, '8182 Stony Villas': 6818, '9005 Hazy Branch Private': 6819, '6727 Silver Farms': 6820, '2647 Middle Court': 6821, '6001 Merry Street': 6822, '9899 Silent Court': 6823, '4635 Merry Nectar Pike': 6824, '6140 Quiet Treasure Farm': 6825, '7364 Fallen Circle': 6826, '1516 Crystal Mountain': 6827, '9160 Rustic Link': 6828, '9605 Little Grove': 6829, '2792 Round Oak Downs': 6830, '9297 Misty Rabbit Orchard': 6831, '3356 Easy Chase ': 6832, '4277 Noble Subdivision ': 6833, '6759 Foggy Limits ': 6834, '9795 Heather Wynd': 6835, '9175 Hidden Falls ': 6836, '4696 Red Wharf ': 6837, '23 Indian Manor': 6838, '3251 Grand Quail Nook': 6839, '2 Fallen Arbor': 6840, '7681 Bright Nook': 6841, '4864 Velvet Chase ': 6842, '835 Cinder Treasure Edge': 6843, '5459 Noble Brook Landing': 6844, '7828 Heather Blossom Byway': 6845, '3881 Golden Corners ': 6846, '1356 Easy Plaza ': 6847, '4531 Indian Dell': 6848, '3089 Cotton Panda Bend': 6849, '5235 Umber Grounds': 6850, '2928 Shady Inlet': 6851, '8623 Merry Highway': 6852, '6956 Sleepy Wagon  Centre': 6853, '712 Thunder Mall': 6854, '5368 Green Front': 6855, '1846 Wishing Gate Green': 6856, '4720 Little Sky Trail': 6857, '1293 Cozy Bend': 6858, '3702 Broad Path': 6859, '9922 Harvest Pond Acres': 6860, '5668 Thunder Wagon  Alley': 6861, '7518 Burning Terrace': 6862, '8267 Burning Branch Way': 6863, '7731 Heather Mall ': 6864, '4377 Hazy Hollow': 6865, '8172 Jagged Timber Chase': 6866, '3148 Amber Sky Byway': 6867, '6818 Noble Pioneer Pines': 6868, '4675 Misty Parade': 6869, '3410 Lazy Shadow Pathway': 6870, '8811 Honey Deer Pines': 6871, '7155 Cozy Valley': 6872, '5103 Broad Autumn Quay': 6873, '9879 Pleasant Rise Vale': 6874, '4527 Blue Nectar Wynd': 6875, '9590 Dewy Hills Wharf': 6876, '9847 Cozy Private': 6877, '3200 Honey Limits': 6878, '5076 Little Square': 6879, '1734 Indian Hickory Trace': 6880, '2643 Sunny Circle ': 6881, '595 Hidden Parade ': 6882, '5784 Blue Wagon Cove': 6883, '1912 Umber Pond Circuit': 6884, '6245 Silent Heath': 6885, '5721 Sleepy Oak Via': 6886, '6629 Old Dale Route': 6887, '5424 Wishing Wagon Bank': 6888, '1221 Easy Campus': 6889, '5656 Burning By-pass ': 6890, '4385 High Crescent': 6891, '6942 Amber Cloud Farms': 6892, '2341 Misty Pathway': 6893, '1847 Jagged Willow Cove': 6894, '3775 Quaking Inlet ': 6895, '1596 Rocky Run ': 6896, '4896 Silver By-pass ': 6897, '6501 Blue Green ': 6898, '3305 Foggy Vale ': 6899, '9393 Old Wagon Village': 6900, '2484 Golden Wagon Pointe': 6901, '9761 Green Jetty ': 6902, '7108 Shady Parade': 6903, '3901 Bright Terrace': 6904, '9986 Old Common ': 6905, '257 Thunder Lane ': 6906, '4814 Burning Landing ': 6907, '3505 Middle Glen': 6908, '4254 Fallen Cider Place': 6909, '9133 Quiet Passage': 6910, '7436 Quaking Nectar Mall ': 6911, '38 Heather Embers Ledge': 6912, '9768 Round Goose Mall ': 6913, '9825 Iron Abbey': 6914, '4037 Golden Bear Landing': 6915, '2513 Round Butterfly Grove': 6916, '903 Foggy Turnabout': 6917, '3580 Harvest Beacon Subdivision': 6918, '7923 Little Anchor By-pass': 6919, '2024 Merry Vale': 6920, '8314 Rocky Pines': 6921, '9470 Fallen Nectar Pike': 6922, '5578 Old Brook Pike': 6923, '9420 Gentle Timber Crossing': 6924, '1795 Dusty Blossom Swale': 6925, '9650 High Beacon Valley': 6926, '5559 Old Robin Acres': 6927, '6686 Rustic Treasure Arbor': 6928, '8853 Pleasant Spring Isle': 6929, '2578 High Lagoon Crescent': 6930, '1247 Gentle Grove Valley': 6931, '5509 Dewy Hickory Centre': 6932, '3741 Tawny Knoll': 6933, '3176 Rocky Freeway': 6934, '2749 Quiet Willow Lane': 6935, '7879 Fallen Pike': 6936, '7580 Velvet Anchor Path': 6937, '9986 Misty Pathway': 6938, '7105 Crystal Acres': 6939, '5474 Rustic Rabbit Trail': 6940, '8111 Lazy Wagon  Swale': 6941, '6727 Blue Round': 6942, '7817 Stony Lake Plaza': 6943, '2831 Amber Oak Pathway': 6944, '1800 Thunder Treasure Nook': 6945, '9600 Velvet Horse Freeway': 6946, '381 Dewy Village': 6947, '9854 Umber Trail': 6948, '4927 Lazy Ramp': 6949, '7071 Amber Highway': 6950, '7199 Tawny Close': 6951, '8609 Rustic Grounds': 6952, '8050 Green Cider Island': 6953, '9533 Burning Limits': 6954, '2668 Hidden Village': 6955, '651 Lazy Cape': 6956, '7797 Merry Fox Edge': 6957, '5180 Iron Brook Promenade': 6958, '9862 Umber Horse Townline': 6959, '1985 Golden Limits': 6960, '153 Harvest Port': 6961, '49 Lazy Panda Landing': 6962, '9243 Round Extension': 6963, '2358 Cozy Ledge': 6964, '7479 Red Parade': 6965, '1828 Velvet Edge': 6966, '8109 Clear Beach': 6967, '2567 Colonial Place': 6968, '268 Pleasant Abbey': 6969, '5687 Heather Key': 6970, '3832 Lazy Pond Inlet': 6971, '8143 Old Place': 6972, '1831 Silent Butterfly Inlet': 6973, '2592 Honey Campus': 6974, '6864 High Gate Canyon': 6975, '2614 Round Branch Arbor': 6976, '5771 Blue Shadow Limits': 6977, '6424 Easy Forest Gate': 6978, '1249 Dewy Mountain Bay': 6979, '7971 Velvet Thicket': 6980, '9552 Golden Hill': 6981, '190 Bright Heath': 6982, '1297 Thunder Beach': 6983, '941 Umber Pond Autoroute': 6984, '8398 Clear Pine Harbour': 6985, '9430 Merry Leaf Harbour': 6986, '266 Foggy Anchor Via': 6987, '8311 Iron Expressway': 6988, '5982 Round Ledge': 6989, '8314 Fallen Leaf Diversion': 6990, '8073 Honey Pond Row': 6991, '7105 Tawny Rise': 6992, '5484 Merry Lagoon Front': 6993, '7342 Hazy Mews': 6994, '3663 Misty Pioneer Arbor': 6995, '9658 Quaking Meadow': 6996, '6257 Indian Sky Round': 6997, '2078 Little Forest Corner': 6998, '5423 Cozy Vale': 6999, '8990 Iron Sky Link': 7000, '9130 Emerald Plaza': 7001, '2887 Little Forest Gardens': 7002, '6496 Noble Promenade': 7003, '4377 Little Road': 7004, '9082 Pleasant Island': 7005, '355 Dusty Grounds': 7006, '6750 Noble Pony Village': 7007, '4343 Burning Brook Parkway': 7008, '9086 Noble Port': 7009, '5838 Cozy Grove': 7010, '214 Harvest Pony Mews': 7011, '9022 Lazy Swale': 7012, '3779 Dewy Villas ': 7013, '1306 Cozy Abbey ': 7014, '9854 Foggy Island': 7015, '5382 Hazy Pathway ': 7016, '4079 Blue End ': 7017, '4466 Little Grove ': 7018, '7002 Golden Wood ': 7019, '5154 Honey Bend ': 7020, '8771 Honey Orchard ': 7021, '7007 Golden Edge ': 7022, '5328 Velvet Grove ': 7023, '5104 Indian Square ': 7024, '6009 Dewy Cove ': 7025, '331 Fallen Chase ': 7026, '4381 Silver Manor ': 7027, '8109 Amber Inlet ': 7028, '2220 Quaking Lookout ': 7029, '3087 Jagged Plaza ': 7030, '4554 Indian Point ': 7031, '9611 Thunder Loop ': 7032, '9552 Fallen Vale ': 7033, '6289 Tawny Range ': 7034, '6415 Little Alley ': 7035, '9460 Hidden Landing ': 7036, '5990 Bright Path': 7037, '3067 Colonial Nook': 7038, 'El Monte': 7039, '2108 Umber Centre ': 7040, '5945 Dusty Falls ': 7041, '1285 Green Valley ': 7042, '3688 Colonial Pioneer Landing': 7043, '603 Hazy Elk Avenue': 7044, '814 Jagged Cape ': 7045, '2857 Cozy Mews ': 7046, '6391 Sleepy Gardens ': 7047, '9295 Emerald Downs ': 7048, '4197 Lazy Diversion ': 7049, '6512 Middle Parade ': 7050, '8314 Burning Circuit ': 7051, '4813 Red Wagon Farms': 7052, '1449 Red Cove ': 7053, '7349 Silent Isle ': 7054, '3910 Clear Walk': 7055, '404 Red Acres ': 7056, '7168 Indian Circuit ': 7057, '9274 Misty Hollow ': 7058, '1690 Dusty Mount ': 7059, '3983 Golden By-pass ': 7060, '4791 Rocky Front ': 7061, '3665 Tawny Knoll ': 7062, '141 Dewy Plaza ': 7063, '3707 Amber Trace': 7064, '7262 Cotton Arbor ': 7065, '6120 Cozy Ledge ': 7066, '8289 Stony Thicket ': 7067, '5588 Heather Oak Bank': 7068, '3021 Red Robin Nook': 7069, '3431 Iron Range': 7070, '3154 Fallen Grove Freeway': 7071, '5482 Amber Court': 7072, '8702 Emerald Hickory Via': 7073, '1236 Burning Butterfly Circuit': 7074, '9293 Thunder Orchard': 7075, '657 Gentle Mountain Mall': 7076, '9413 Misty Harbour ': 7077, '9022 Foggy Dell ': 7078, '6886 Cotton Promenade ': 7079, '690 Amber Moor ': 7080, '1773 Hazy Bay': 7081, '7125 Silent Expressway ': 7082, '6540 Emerald Turnabout ': 7083, '7370 Sleepy Way ': 7084, '45 Misty Brook Bend': 7085, '7262 Emerald Boulevard ': 7086, '9188 Bright Crossing ': 7087, '5652 Thunder Crossing ': 7088, '2262 Green Wharf ': 7089, '7487 Silver Square ': 7090, '5505 Cinder Wagon Maze': 7091, '4179 Merry Wood ': 7092, '9897 Sunny Via ': 7093, '5420 Rocky Port ': 7094, '376 Silver Terrace ': 7095, '6425 Thunder Impasse ': 7096, '1787 Wishing Path': 7097, '5582 Hazy Prairie Knoll': 7098, '4089 Shady Goose Mountain': 7099, '9468 Red Corner ': 7100, '2306 Green Lane ': 7101, '1822 Rustic Lane ': 7102, '5803 Silver Plaza ': 7103, '4903 Jagged Crossing': 7104, '5721 Noble Oak Crescent': 7105, '2824 Burning Quail Corners': 7106, '3649 Fallen Bay': 7107, '6915 Blue Mountain Quay': 7108, '8762 Burning Dale Pike': 7109, '2039 Red View Link': 7110, '7597 Crystal Branch Private': 7111, '9124 Sunny Pike': 7112, '5512 Misty Plaza': 7113, '8976 Old Hickory Landing': 7114, '1944 Gentle Canyon': 7115, '830 Colonial View Row': 7116, '9733 Grand Branch Ledge': 7117, '9453 Dewy Promenade ': 7118, '5193 Round Mountain ': 7119, '7364 Fallen Circle ': 7120, '4167 Stony Extension ': 7121, '1056 Cotton Run ': 7122, '9463 Tawny Place ': 7123, '4780 Honey Bluff Circuit': 7124, '4905 Lazy Stead ': 7125, '623 Shady Freeway': 7126, '5517 Jagged Hollow ': 7127, '7422 Heather Heath ': 7128, '3236 Emerald Impasse ': 7129, '3872 Golden Shadow Rise': 7130, '3155 Cotton Circuit': 7131, '5283 Dewy Mall ': 7132, '7652 Jagged Nectar Valley': 7133, '3112 Easy Turnabout ': 7134, '8906 Cotton Alley ': 7135, '1927 Indian Impasse': 7136, '8274 Middle Pike': 7137, '4462 Rocky Harbour': 7138, '9512 Old Pony Canyon': 7139, '9693 Shady Private': 7140, '6453 Dewy Route': 7141, '690 Pleasant Autumn Mall': 7142, '6889 Harvest Deer Harbour': 7143, '2647 Emerald Mall': 7144, '2881 Velvet Drive': 7145, '9814 Silver Barn Route': 7146, '8773 Iron Forest Front': 7147, '7512 Jagged Hills Trail': 7148, '7909 Amber View ': 7149, '8055 Iron Ridge ': 7150, '6588 Burning Pike ': 7151, '7557 Wishing Falls ': 7152, '3112 Silver Mount': 7153, '1381 Lost Dale Estates': 7154, '8158 Fallen Boulevard': 7155, '3412 Lazy Pony Circle': 7156, '7678 Green Range': 7157, '478 Wishing Berry Ridge': 7158, '1850 Cotton Farm': 7159, '6654 Velvet Mountain': 7160, '3385 Merry Falls': 7161, '2656 Noble Canyon': 7162, '6884 Foggy Parkway': 7163, '4938 Silent Bluff Circle': 7164, '2526 Blue Farms': 7165, '3872 Colonial Pioneer Estates': 7166, '7477 Easy Falls': 7167, '1996 Easy Parade ': 7168, '75 Sunny Grounds ': 7169, '1819 Middle Oak Corners': 7170, '212 Umber View Ramp': 7171, '6217 Merry View Beach': 7172, '7339 Hidden Bank': 7173, '9022 Lazy Bend ': 7174, '2358 Noble Subdivision': 7175, '8383 Merry Lane': 7176, '4061 Rocky Circle': 7177, '7953 Sunny Panda Place': 7178, '1122 Amber Spring Pointe': 7179, '7581 Round Island ': 7180, '2407 Gentle Woods ': 7181, '6324 Golden Line ': 7182, '1915 Cinder Island Heath': 7183, '7787 Dusty Mountain': 7184, '7192 Lost Bank': 7185, '3815 Burning Way': 7186, '9124 Grand Terrace': 7187, '1063 Fallen Subdivision ': 7188, '2720 Stony Field ': 7189, '9439 Lazy Crossing ': 7190, '3142 Jagged Wynd ': 7191, '5147 High Parkway ': 7192, '628 Hidden Private ': 7193, '2709 Quaking Dell': 7194, '3826 Crystal Boulevard': 7195, '7605 Hidden Cider Mall ': 7196, '5951 Golden Court': 7197, '9644 Gentle End': 7198, '8217 Silver Goose Cape': 7199, '7252 Cinder Shadow Mountain': 7200, '2330 Noble Glen': 7201, '3042 Rustic Nook': 7202, '4318 Silver Deer Grove': 7203, '6829 Easy Autumn Line': 7204, '9483 Old Bank': 7205, '4922 Red Apple Parade': 7206, '1984 Colonial Elk Close': 7207, '6010 Red Line': 7208, '8189 Golden Wood': 7209, '3931 Green Acres': 7210, '9741 Green Road': 7211, '342 Dusty Island': 7212, '9359 Hidden Landing': 7213, '1966 Iron Gardens': 7214, '5073 Sunny Shadow End': 7215, '1482 Indian Valley': 7216, '1565 Silver Place': 7217, '5238 Sunny Walk': 7218, '1982 Heather Edge': 7219, '6876 Sunny Barn Gardens': 7220, '4392 Merry Circuit': 7221, '7282 Merry Fawn Corner': 7222, '6002 Emerald Cloud Mountain': 7223, '5012 Golden Leaf Cove': 7224, '8598 Jagged Treasure Circuit': 7225, '2993 Quaking Fawn Stead': 7226, '2499 Clear Dell ': 7227, '2553 Merry Chase ': 7228, '6547 Sunny Isle ': 7229, '6075 Shady Farms ': 7230, '5292 Velvet Pine Port': 7231, '9383 Jagged Front ': 7232, '4788 Gentle Wynd ': 7233, '4981 Fallen Place ': 7234, '9899 Silent Court ': 7235, '229 Lost Canyon ': 7236, '1793 Green Freeway ': 7237, '5876 Burning Mall ': 7238, '7474 Sunny Quail Gardens': 7239, '4236 Bright Extension': 7240, '2177 Green Alley': 7241, '1381 Cinder Treasure Farms': 7242, '4743 Amber Terrace': 7243, '1260 Stony Village': 7244, '4525 Honey Creek Subdivision': 7245, '4505 Broad Shadow Maze': 7246, '3640 Jagged Lake Beach': 7247, '4439 Colonial Vale': 7248, '1063 Green Estates': 7249, '8860 Rustic Townline': 7250, '7107 Old Highlands': 7251, '9765 Quaking Turnabout ': 7252, '443 Jagged Lane ': 7253, '2991 Round Hill ': 7254, '5098 Amber Range': 7255, '9099 Shady Round ': 7256, '7988 High Jetty ': 7257, '6894 Heather Estates ': 7258, '2331 Tawny Campus ': 7259, '1320 Quiet Downs ': 7260, '9456 Sleepy Jetty ': 7261, '550 Fallen Trace ': 7262, '182 Hidden Circle ': 7263, '4854 Middle Cove': 7264, '1914 Grand Berry Cove': 7265, '456 Colonial Glen ': 7266, '139 Jagged Island Lane': 7267, '8383 Lazy Front ': 7268, '4898 Misty Wagon Line': 7269, '4703 Old Route ': 7270, '6538 Quaking Subdivision ': 7271, '9077 Little Swale ': 7272, '2934 Dusty Autoroute ': 7273, '690 Cozy Meadow ': 7274, '2456 Bright Farms ': 7275, '6009 Quiet Corner ': 7276, '4195 Broad Mount': 7277, '4896 Gentle Parade': 7278, '4389 Colonial Mall': 7279, '1966 Broad Run ': 7280, '3393 Crystal Port ': 7281, '3493 Shady Gate Rise': 7282, '7449 Merry Chase ': 7283, '5208 Wishing Sky Mews': 7284, '6080 Blue Close ': 7285, '7333 Cinder Way ': 7286, '1191 Burning Zephyr Loop': 7287, '3403 Cinder Corner ': 7288, '6468 Fallen Close ': 7289, '4356 Cotton Grove Woods': 7290, '4320 Jagged Hollow': 7291, '357 Noble Lane ': 7292, '3891 Broad Line ': 7293, '1893 Shady Path ': 7294, '9749 Bright Cloud Extension': 7295, '7436 Quaking Nectar Mall': 7296, '8961 Hidden Embers Bay': 7297, '414 Colonial Carrefour ': 7298, '9847 Cozy Private ': 7299, '2805 Dewy Impasse ': 7300, '1399 Cozy Place': 7301, '7254 Bright Pines': 7302, '1463 Rocky Parkway': 7303, '7580 Cozy Inlet ': 7304, '6245 Silent Heath ': 7305, '9163 Clear Gate ': 7306, '9598 Cinder Close ': 7307, '4379 Rocky Diversion ': 7308, '6908 Middle Green ': 7309, '4609 High Townline ': 7310, '6336 Shady Turnabout': 7311, '4417 Hazy Creek Pike': 7312, '9 Sleepy Green': 7313, '4570 Red View Chase': 7314, '4929 Red Road ': 7315, '732 Honey Harbour ': 7316, '9624 Hidden Villas ': 7317, '3926 Indian Ridge': 7318, '8772 Silent Expressway ': 7319, '3179 Heather Arbor ': 7320, '3913 Old Link ': 7321, '9297 Clear Berry Acres': 7322, '1034 Easy Brook Bank': 7323, '4900 Quaking Gate': 7324, '8133 Dewy Ramp': 7325, '6772 Cotton Wagon Moor': 7326, '8767 Round Crescent': 7327, '8823 Quiet Brook Port': 7328, '884 Lazy Elk Downs': 7329, '6088 Hazy Grove Valley': 7330, '7885 Tawny Turnabout': 7331, '2990 Red Drive': 7332, '431 Clear Rabbit Avenue': 7333, '733 Cozy Mountain Walk': 7334, '9337 Fallen Pathway': 7335, '852 Green Private ': 7336, '9235 Golden Dell': 7337, '9533 Easy Port ': 7338, '1099 High Green ': 7339, '9218 Cozy Forest Mountain': 7340, '2 Jagged Bank ': 7341, '4459 Amber Close ': 7342, '7027 Sleepy Farm ': 7343, '9552 Little Wagon  Passage': 7344, '2672 Emerald Rise Grove': 7345, '6998 Heather Panda Concession': 7346, '1729 Wishing Rabbit Ridge': 7347, '398 Emerald Grove ': 7348, '7767 Hidden Place ': 7349, '7320 Wishing Rise Mall': 7350, '2225 Clear Gardens ': 7351, '6283 Fallen Bend ': 7352, '3709 Colonial Hills Parade': 7353, '3176 Colonial Quay ': 7354, '7760 Golden Limits ': 7355, '6640 Sunny Via ': 7356, '3243 Lost Bank': 7357, '6888 Crystal Wagon Wynd': 7358, '7017 Clear Bay ': 7359, '7629 Silent Close': 7360, '1494 Easy Crossing': 7361, '8854 Round Spring Gate': 7362, '6722 Wishing Byway': 7363, '8781 Stony Horse Nook': 7364, '9456 Dewy Gate ': 7365, '4377 Little Road ': 7366, '9611 Lost Parade ': 7367, '23 Old Corners ': 7368, '4575 Thunder Dale ': 7369, '1591 Foggy Meadow ': 7370, '7798 Cinder Dale ': 7371, '6386 Colonial Bear Centre': 7372, '5393 Hidden Glade ': 7373, '7894 Colonial Knoll ': 7374, '92 Wishing Hill': 7375, '760 Lazy Pines ': 7376, '4436 Emerald Knoll ': 7377, '5995 Dusty Highway ': 7378, '6007 Velvet Maze ': 7379, '3050 Silent Cape ': 7380, '2486 Broad Walk ': 7381, '1449 Amber Island ': 7382, '6523 Middle Leaf Range': 7383, '4501 Emerald Corners': 7384, '4967 Cinder Gardens': 7385, '3614 Silver Bend ': 7386, '9318 Umber Centre ': 7387, '8261 Lazy Lookout ': 7388, '3378 Quaking Inlet': 7389, '6779 Rocky Pathway ': 7390, '2171 Clear Lake Isle': 7391, '7373 Shady Island ': 7392, '7130 Cotton Avenue ': 7393, '6471 Umber Pathway ': 7394, '8584 Lazy Via ': 7395, '3937 Sunny Common ': 7396, '65 Silent Inlet ': 7397, '1329 Lazy Treasure Green': 7398, '6535 Merry Hills Orchard': 7399, '5553 Cinder Harbour ': 7400, '8259 Foggy Edge ': 7401, '1723 Tawny Via ': 7402, '2792 Middle Mount ': 7403, '3881 Blue Mount ': 7404, '1359 Velvet Rabbit Road': 7405, '905 Indian Green': 7406, '9317 Emerald Route ': 7407, '8818 Crystal Prairie Manor': 7408, '1555 Burning Berry Bank': 7409, '9394 Foggy Path ': 7410, '7358 Rocky Villas ': 7411, '6791 Misty Pike ': 7412, '7588 Dewy Parade ': 7413, '2647 Middle Court ': 7414, '2088 Emerald Downs ': 7415, '7694 Umber Terrace ': 7416, '2714 Dewy Bay ': 7417, '3282 Indian Hollow ': 7418, '975 Honey Loop ': 7419, '2934 Merry Impasse ': 7420, '1293 Cozy Bend ': 7421, '2805 Crystal Moor ': 7422, '9673 Sunny Way ': 7423, '8706 Harvest Green ': 7424, '771 Noble Parkway ': 7425, '5477 Thunder Campus ': 7426, '2805 Indian Passage ': 7427, '4834 Easy Terrace ': 7428, '3760 Tawny Harbour ': 7429, '6950 Honey Line ': 7430, '3892 Harvest Avenue ': 7431, '3820 Iron Inlet ': 7432, '8311 Round Lookout ': 7433, '599 Stony Pike ': 7434, '7129 Fallen Trace ': 7435, '2704 Old Barn Highlands': 7436, '9417 Emerald Towers ': 7437, '5630 Silent Farms ': 7438, '8768 Iron End ': 7439, '3178 Golden Villas ': 7440, '432 Rocky Link ': 7441, '3169 Stony Woods ': 7442, '1131 Cotton Grounds ': 7443, '1974 Stony Wharf ': 7444, '3403 Gentle Road ': 7445, '5761 Little Corner ': 7446, '3278 Quiet Hollow ': 7447, '5835 Harvest Vista ': 7448, '7798 Lost Front ': 7449, '2236 Silent Close ': 7450, '7598 Little Maze ': 7451, '8044 Merry Landing ': 7452, '1799 Cinder Estates ': 7453, '8333 Red Passage ': 7454, '245 Lost Way ': 7455, '2455 Merry Hollow ': 7456, '8621 Broad Forest ': 7457})"
   ]
  },
  {
   "cell_type": "markdown",
   "id": "c72543b5",
   "metadata": {},
   "source": [
    "### Department Name"
   ]
  },
  {
   "cell_type": "code",
   "execution_count": null,
   "id": "4f7be216",
   "metadata": {
    "scrolled": false
   },
   "outputs": [],
   "source": [
    "df['Department Name'].unique()"
   ]
  },
  {
   "cell_type": "code",
   "execution_count": null,
   "id": "784cea1b",
   "metadata": {},
   "outputs": [],
   "source": [
    "df['Department Name'].replace({'Fitness':0, 'Apparel':1, 'Golf':2, 'Footwear':3, 'Outdoors':4,\n",
    "                               'Fan Shop':5,'Technology':6, 'Book Shop':7, 'Discs Shop':8, \n",
    "                               'Pet Shop':9,'Health and Beauty ':10},inplace = True)"
   ]
  },
  {
   "cell_type": "code",
   "execution_count": null,
   "id": "ea87127e",
   "metadata": {},
   "outputs": [],
   "source": [
    "Department_Name_values = {'Fitness':0, 'Apparel':1, 'Golf':2, 'Footwear':3, 'Outdoors':4,\n",
    "                               'Fan Shop':5,'Technology':6, 'Book Shop':7, 'Discs Shop':8, \n",
    "                               'Pet Shop':9,'Health and Beauty ':10}\n",
    "Department_Name_values"
   ]
  },
  {
   "cell_type": "code",
   "execution_count": null,
   "id": "0539a53e",
   "metadata": {},
   "outputs": [],
   "source": [
    "df['Department Name'].unique()"
   ]
  },
  {
   "cell_type": "markdown",
   "id": "0da15227",
   "metadata": {},
   "source": [
    "### Market"
   ]
  },
  {
   "cell_type": "code",
   "execution_count": null,
   "id": "27faa850",
   "metadata": {},
   "outputs": [],
   "source": [
    "df['Market'].unique()"
   ]
  },
  {
   "cell_type": "code",
   "execution_count": null,
   "id": "f9bdc954",
   "metadata": {},
   "outputs": [],
   "source": [
    "df['Market'].replace({'Pacific Asia':0, 'USCA':1, 'Africa':2, 'Europe':3, 'LATAM':4},inplace = True)"
   ]
  },
  {
   "cell_type": "code",
   "execution_count": null,
   "id": "862c5b63",
   "metadata": {},
   "outputs": [],
   "source": [
    "Market_values = {'Pacific Asia':0, 'USCA':1, 'Africa':2, 'Europe':3, 'LATAM':4}\n",
    "Market_values"
   ]
  },
  {
   "cell_type": "code",
   "execution_count": null,
   "id": "f1c49847",
   "metadata": {},
   "outputs": [],
   "source": [
    "df['Market']"
   ]
  },
  {
   "cell_type": "markdown",
   "id": "ab2f6fb6",
   "metadata": {},
   "source": [
    "### Order City"
   ]
  },
  {
   "cell_type": "code",
   "execution_count": null,
   "id": "fe3e52ff",
   "metadata": {},
   "outputs": [],
   "source": [
    "df[\"Order City\"].value_counts()"
   ]
  },
  {
   "cell_type": "code",
   "execution_count": null,
   "id": "71fa6ac5",
   "metadata": {
    "scrolled": false
   },
   "outputs": [],
   "source": [
    "# encoded_order_city = encoder.fit_transform(df['Order City'])\n",
    "# df['Order City'] = encoded_order_city\n",
    "# df[['Order City']]"
   ]
  },
  {
   "cell_type": "code",
   "execution_count": null,
   "id": "90faac1a",
   "metadata": {
    "scrolled": true
   },
   "outputs": [],
   "source": [
    "Order_City_list = df['Order City'].unique()\n",
    "Order_City_list\n",
    "Order_City_value = {}\n",
    "for i in range(len(Order_City_list)):\n",
    "    #print(i)\n",
    "    Order_City_value.update({Order_City_list[i]:i})\n",
    "    \n",
    "print(Order_City_value)"
   ]
  },
  {
   "cell_type": "code",
   "execution_count": null,
   "id": "260f3ac5",
   "metadata": {},
   "outputs": [],
   "source": [
    "df['Order City'] = df['Order City'].replace({'Bekasi': 0, 'Bikaner': 1, 'Townsville': 2, 'Toowoomba': 3, 'Guangzhou': 4, 'Tokio': 5, 'Manado': 6, 'Sangli': 7, 'Seúl': 8, 'Jabalpur': 9, 'Geelong': 10, 'Brisbane': 11, 'Mandurah': 12, 'Guilin': 13, 'Delhi': 14, 'Suzhou': 15, 'Singapur': 16, 'Hubli': 17, 'Wollongong': 18, 'Medan': 19, 'Canberra': 20, 'Bangalore': 21, 'Yiwu': 22, 'Mirzapur': 23, 'Bursa': 24, 'Murray Bridge': 25, 'Kartal': 26, 'Ulan Bator': 27, 'Estambul': 28, 'Raipur': 29, 'Pasco': 30, 'Los Angeles': 31, 'San Francisco': 32, 'Overland Park': 33, 'Ugep': 34, 'Kinshasa': 35, 'Dakar': 36, 'Casablanca': 37, 'Dortmund': 38, 'Drancy': 39, 'Nantes': 40, 'Groningen': 41, 'Gateshead': 42, 'Eastbourne': 43, 'Hayange': 44, 'Portsmouth': 45, 'Gelsenkirchen': 46, 'Nice': 47, 'Petapa': 48, 'Mejicanos': 49, 'David': 50, 'Santo Domingo': 51, 'Cabimas': 52, 'Dos Quebradas': 53, 'Ilopango': 54, 'Tegucigalpa': 55, 'Juazeiro': 56, 'Mexico City': 57, 'Tlaquepaque': 58, 'Puebla': 59, 'São Paulo': 60, 'Montevideo': 61, 'Buenos Aires': 62, 'Barueri': 63, 'Arapongas': 64, 'Camagüey': 65, 'Las Tunas': 66, 'Tepic': 67, 'San Miguelito': 68, 'Ixtapaluca': 69, 'Maceió': 70, 'Belo Horizonte': 71, 'Santiago de Cuba': 72, 'San Pedro Sula': 73, 'Lima': 74, 'Holguín': 75, 'Orizaba': 76, 'Managua': 77, 'Villahermosa': 78, 'Quixadá': 79, 'Mixco': 80, 'Nueva Gerona': 81, 'Chimaltenango': 82, 'Villa Nueva': 83, 'Quito': 84, 'Valle de La Pascua': 85, 'Cotia': 86, 'Itapecuru Mirim': 87, 'León': 88, 'Tlalpan': 89, 'Apopa': 90, 'Cipolletti': 91, 'La Ceiba': 92, 'Córdoba': 93, 'Kuito': 94, 'Jartum': 95, 'Hargeysa': 96, 'Kenitra': 97, 'Abidjan': 98, 'Abu Kabir': 99, 'Perugia': 100, 'Nuremberg': 101, 'Reims': 102, 'Halle': 103, 'Bremerhaven': 104, 'Portici': 105, 'Bielefeld': 106, 'London': 107, 'Duisburg': 108, 'Bradford': 109, 'Agrigento': 110, 'Oldham': 111, 'Palermo': 112, 'Madrid': 113, 'Nancy': 114, 'Girona': 115, 'Laon': 116, 'Hartlepool': 117, 'Pontault-Combault': 118, 'La Rochelle': 119, 'Edinburgh': 120, 'Acerra': 121, 'Hanover': 122, 'Manchester': 123, 'Messina': 124, 'Wilhelmshaven': 125, 'Letchworth': 126, 'Kilwinning': 127, 'Villeneuve-le-Roi': 128, 'Barakaldo': 129, 'Estocolmo': 130, 'Aylesbury': 131, 'Langenhagen': 132, 'Birmingham': 133, 'Amsterdam': 134, 'Viena': 135, 'Houston': 136, 'Gilbert': 137, 'San Jose': 138, 'Fresno': 139, 'Peoria': 140, 'Cincinnati': 141, 'Columbus': 142, 'Ottawa': 143, 'Kitchener': 144, 'Philadelphia': 145, 'Des Plaines': 146, 'Elmhurst': 147, 'Antananarivo': 148, 'Algiers': 149, 'Monrovia': 150, 'Gagnoa': 151, 'Livingstone': 152, 'Fes': 153, 'Cairo': 154, 'Hurghada': 155, 'Niamey': 156, 'Sale': 157, 'Pretoria': 158, 'Marrakech': 159, 'Bur Sudan': 160, 'Lagos': 161, 'Quelimane': 162, 'Port Elizabeth': 163, 'Shinyanga': 164, 'Kismaayo': 165, 'Butare': 166, 'Newcastle': 167, 'Jerusalén': 168, 'Gold Coast': 169, 'Porirua': 170, 'Mildura': 171, 'Daca': 172, 'Kanpur': 173, 'Bangkok': 174, 'Bagdad': 175, 'Adana': 176, 'Riyadh': 177, 'Shenzhen': 178, 'Tianjin': 179, 'Perth': 180, 'Dunedin': 181, 'Melbourne': 182, 'Ulhasnagar': 183, 'Manila': 184, 'Mersin': 185, 'Temirtau': 186, 'Tengzhou': 187, 'Nantong': 188, 'Dalian': 189, 'Lianyuan': 190, 'Caloundra': 191, 'Bendigo': 192, 'Adelaide': 193, 'Ajmer': 194, 'Kerman': 195, 'Vadodara': 196, 'Semarang': 197, 'Cirebon': 198, 'Rangún': 199, 'Kütahya': 200, 'Namangán': 201, 'Xinzhou': 202, 'Mudanjiang': 203, 'Lokossa': 204, 'Ikot Ekpene': 205, 'Warri': 206, 'Bandundu': 207, 'Foumban': 208, 'Luanda': 209, 'Maiduguri': 210, 'Nairobi': 211, 'Kitwe': 212, 'Nkongsamba': 213, 'Mbuji-mayi': 214, 'Lome': 215, 'Mahajanga': 216, 'Kano': 217, 'Annaba': 218, 'Cotonou': 219, 'Dar es Salaam': 220, 'Cape Town': 221, 'Montpellier': 222, 'Khmelnytskyi': 223, 'Vannes': 224, 'Fuenlabrada': 225, 'Villemomble': 226, 'Gien': 227, 'Neuilly-sur-Seine': 228, 'Viersen': 229, 'Verona': 230, 'Fano': 231, 'Gdynia': 232, 'Talavera de la Reina': 233, 'Montreuil': 234, 'Marseille': 235, 'Lisbon': 236, 'Wolverhampton': 237, 'Satu Mare': 238, 'Guadalajara': 239, 'Cúcuta': 240, 'Zacatecas': 241, 'Chihuahua': 242, 'Brasília': 243, 'Santarém': 244, 'Joinville': 245, 'Monterrey': 246, 'Pitalito': 247, 'Querétaro': 248, 'Chaguanas': 249, 'Hermosillo': 250, 'Coacalco': 251, 'Balneário Camboriú': 252, 'Maturín': 253, 'Parintins': 254, 'Huehuetenango': 255, 'Chinautla': 256, 'Sorocaba': 257, 'San Justo': 258, 'Colombo': 259, 'Itu': 260, 'Cuernavaca': 261, 'Águas Lindas de Goiás': 262, 'Vespasiano': 263, 'Bogotá': 264, 'Bhilai': 265, 'Qingdao': 266, 'Herat': 267, 'Sydney': 268, 'Bandung': 269, 'Tongchuan': 270, 'Ujjain': 271, 'Balikpapan': 272, 'Pune': 273, 'Weifang': 274, 'Yogyakarta': 275, 'Rockhampton': 276, 'Siping': 277, 'Shanghái': 278, 'Depok': 279, 'Kawasaki': 280, 'Lahore': 281, 'Malang': 282, 'Ho Chi Minh City': 283, 'Shenyang': 284, 'Daegu': 285, 'Rajkot': 286, 'Gorakhpur': 287, 'Surabaya': 288, 'Nagpur': 289, 'Nakhon Ratchasima': 290, 'Kota Kinabalu': 291, 'Jiutai': 292, 'Shantou': 293, 'Cairns': 294, 'Jaipur': 295, 'Loudi': 296, 'Tipitapa': 297, 'Tabuk': 298, 'Manukau City': 299, 'Yakarta': 300, 'Tangerang': 301, 'Aurangabad': 302, 'Seattle': 303, 'Oakland': 304, 'New York City': 305, 'Monroe': 306, 'Potchefstroom': 307, 'Wiesbaden': 308, 'Munich': 309, 'Bobigny': 310, 'Lille': 311, 'Giurgiu': 312, 'Tamworth': 313, 'Lviv': 314, 'Hidalgo': 315, 'Irapuato': 316, 'Zapopan': 317, 'Mauá': 318, 'Qom': 319, 'Denver': 320, 'Jacksonville': 321, 'Brindisi': 322, 'Hamburgo': 323, 'The Hague': 324, 'Halifax': 325, 'Ratingen': 326, 'Galati': 327, 'Lázaro Cárdenas': 328, 'Arnhem': 329, 'Parma': 330, 'Vantaa': 331, 'Rome': 332, 'Vicenza': 333, 'Wattrelos': 334, 'Yaroslavl': 335, 'Hastings': 336, 'Sheffield': 337, 'Lowestoft': 338, 'Turku': 339, 'San Sebastian': 340, 'Remscheid': 341, 'Sterlitamak': 342, 'Exeter': 343, 'Pamiers': 344, 'Dordrecht': 345, 'Strasbourg': 346, 'Alphen aan den Rijn': 347, 'Lublin': 348, 'Dublín': 349, 'Six-Fours-les-Plages': 350, 'Rennes': 351, 'Capannori': 352, 'Reutlingen': 353, 'Palaiseau': 354, 'Redditch': 355, 'Leeds': 356, 'Plymouth': 357, 'Barcelona': 358, 'Castelldefels': 359, 'Oslo': 360, 'Hautmont': 361, 'Banska Bystrica': 362, 'Nacka': 363, 'West Bromwich': 364, 'Milan': 365, 'Basingstoke': 366, 'Littlehampton': 367, 'Seville': 368, 'Moncalieri': 369, 'Seraing': 370, \"Kramators'k\": 371, 'Kiel': 372, 'Sunderland': 373, 'Augsburg': 374, 'Cognac': 375, 'Castrop-Rauxel': 376, 'Bytom': 377, 'Durango': 378, 'Serra': 379, 'Santiago de los Caballeros': 380, 'San Salvador': 381, 'Pinar del Río': 382, 'Araranguá': 383, 'Juárez': 384, 'Puno': 385, 'Navegantes': 386, 'Tampico': 387, 'La Paz': 388, 'Matagalpa': 389, 'Cuscatancingo': 390, 'Americana': 391, 'Indaial': 392, 'Tijuana': 393, 'Ciudad del Carmen': 394, 'Santana de Parnaíba': 395, 'Limeira': 396, 'Valencia': 397, 'Santiago de Chile': 398, 'Macapá': 399, 'Portmore': 400, 'Saltillo': 401, 'Guantánamo': 402, 'Cartago': 403, 'Arequipa': 404, 'Atlixco': 405, 'Rio Branco': 406, 'Ayacucho': 407, 'Vassouras': 408, 'Hyderabad': 409, 'Jiangyan': 410, 'Christchurch': 411, 'Masterton': 412, 'Daqing': 413, 'Albury': 414, 'Valenzuela': 415, 'Antipolo': 416, 'Borujerd': 417, 'Izmir': 418, 'Shulan': 419, 'Antalya': 420, 'Taizz': 421, 'Yangzhou': 422, 'Asahikawa': 423, 'Khouribga': 424, 'Accra': 425, 'Boghni': 426, 'Meknes': 427, 'Thika': 428, 'Ad Diwem': 429, 'Alexandria': 430, 'Kalemie': 431, 'Wad Madani': 432, 'Mogadishu': 433, 'Kindia': 434, 'Taza': 435, 'Dire Dawa': 436, 'Turin': 437, 'Cologne': 438, 'Uvarovo': 439, 'Southend-on-Sea': 440, 'Widnes': 441, 'Carpentras': 442, 'Utrecht': 443, 'Genk': 444, 'Gloucester': 445, 'Helsinki': 446, 'Miramas': 447, 'Sofia': 448, 'Granada': 449, 'Mont-Saint-Aignan': 450, 'Berlín': 451, 'Cagliari': 452, 'Erftstadt': 453, 'Harrow': 454, 'Pescara': 455, 'Tourcoing': 456, 'Afragola': 457, 'Lugansk': 458, 'Doncaster': 459, 'Bry-sur-Marne': 460, 'Charleroi': 461, 'Niort': 462, 'Venice': 463, 'Ulm': 464, 'Cambridge': 465, 'Siegen': 466, 'Las Rozas de Madrid': 467, 'Luton': 468, 'Verdun': 469, 'Conflans-Sainte-Honorine': 470, 'Sesto San Giovanni': 471, 'Bondy': 472, 'Noisy-le-Grand': 473, 'Elx': 474, 'Gronau': 475, 'Frankfurt': 476, 'Rotherham': 477, 'Savigny-le-Temple': 478, 'La Seyne-sur-Mer': 479, 'Fuji': 480, 'Changwon': 481, 'Baoding': 482, 'Port Macquarie': 483, 'Vijayawada': 484, 'Termez': 485, 'Bishkek': 486, 'Pekín': 487, 'Thane': 488, 'Mumbai': 489, 'Durgapur': 490, 'Samarinda': 491, 'Bacolod City': 492, 'Lismore': 493, 'Bhavnagar': 494, 'Angeles City': 495, 'Corlu': 496, 'Jeddah': 497, \"K'ut'aisi\": 498, 'Hirakata': 499, 'Neijiang': 500, 'Shanwei': 501, 'Waitakere': 502, 'Mangalore': 503, 'Kathmandu': 504, 'Kendari': 505, 'Probolinggo': 506, 'Jixi': 507, 'Darwin': 508, 'Rasht': 509, 'Ahvaz': 510, 'Arnsberg': 511, 'Genoa': 512, 'Toulouse': 513, 'Waterlooville': 514, 'Leipzig': 515, 'Vanves': 516, 'Meyzieu': 517, 'Mulhouse': 518, 'Leicester': 519, 'Chelles': 520, 'Marbella': 521, 'Florence': 522, 'Kashira': 523, 'Cholet': 524, 'Bochum': 525, 'Annecy': 526, 'Magdeburg': 527, 'Amberes': 528, 'Makhachkala': 529, 'Cheliábinsk': 530, 'Brandenburgo': 531, 'Wetzlar': 532, 'Pertuis': 533, 'Torrevieja': 534, 'Cagnes-sur-Mer': 535, 'Nanterre': 536, 'Vichy': 537, 'Lohne': 538, 'Le Mans': 539, 'Bordeaux': 540, 'Astracán': 541, 'Rouen': 542, 'Stuttgart': 543, 'Peterborough': 544, 'Montecatini Terme': 545, 'Warsaw': 546, 'Huelva': 547, \"Reggio nell'Emilia\": 548, 'Le Bouscat': 549, 'Derbent': 550, 'Crewe': 551, 'Paris': 552, 'Bognor Regis': 553, 'Biarritz': 554, 'Aix-en-Provence': 555, 'Registro': 556, 'Presidente Dutra': 557, 'Villa Canales': 558, 'Jiutepec': 559, 'Brumado': 560, 'Teresópolis': 561, 'Guarulhos': 562, 'Bornova': 563, 'Salihli': 564, 'Tel Aviv': 565, 'Astaná': 566, 'Launceston': 567, 'Ranchi': 568, 'New Plymouth': 569, 'Heyuan': 570, 'Saveh': 571, 'Durg': 572, 'Makati': 573, 'Xinyi': 574, 'Lianzhou': 575, 'Eskisehir': 576, 'Armidale': 577, 'Jambi': 578, 'Xuzhou': 579, 'Wuhan': 580, 'Hobart': 581, 'Sincan': 582, 'Mackay': 583, 'Yuci': 584, 'Fukui': 585, 'Caloocan': 586, 'Basra': 587, 'Belgaum': 588, 'Cainta': 589, 'Auckland': 590, 'Taupo': 591, 'Gujranwala': 592, 'Sarkand': 593, 'Ajman': 594, 'Zhuhai': 595, 'Bucheon': 596, 'Nelson': 597, 'Yichun': 598, 'Solapur': 599, 'Chongqing': 600, 'Zhaoqing': 601, 'Tegal': 602, 'Bihar Sharif': 603, 'Taixing': 604, 'Mardan': 605, 'Nanchong': 606, 'Nom Pen': 607, 'Patna': 608, 'Faridabad': 609, 'Maryborough': 610, 'Huangshan': 611, 'Kwinana': 612, 'Madurai': 613, 'Wenzhou': 614, 'Chengdu': 615, 'Huadian': 616, 'Fatehpur': 617, 'Yancheng': 618, 'Kediri': 619, 'Coffs Harbour': 620, 'Surakarta': 621, 'Bacoor': 622, 'Bundaberg': 623, 'Ipoh': 624, 'Goyang': 625, 'Pasig': 626, 'Ichalkaranji': 627, 'Palembang': 628, 'Kota': 629, 'São Bernardo do Campo': 630, 'San Martín': 631, 'Ocotlán': 632, 'Kabul': 633, 'Tulsa': 634, 'Moreno Valley': 635, 'Zaria': 636, 'Kampala': 637, 'Port Harcourt': 638, 'Johannesburg': 639, 'Minna': 640, 'Constantina': 641, 'Abakaliki': 642, 'Stellenbosch': 643, 'Tangier': 644, 'Maseru': 645, 'Soweto': 646, 'Fontenay-aux-Roses': 647, 'Badalona': 648, 'Gothenburg': 649, 'Glasgow': 650, 'Monza': 651, 'Swindon': 652, 'Brest': 653, 'Le Chesnay': 654, 'Malakoff': 655, 'Valladolid': 656, 'Sevran': 657, 'Vincennes': 658, 'Caen': 659, 'Nieuwegein': 660, 'Darton': 661, 'Northampton': 662, \"Dniprodzerzhyns'k\": 663, 'Roissy-en-Brie': 664, 'Brive-la-Gaillarde': 665, 'Le Petit-Quevilly': 666, 'Trier': 667, 'Gdansk': 668, 'Velbert': 669, 'Avignon': 670, 'Preston': 671, 'Trapani': 672, 'Aprilia': 673, 'Meudon': 674, 'Mykolayiv': 675, 'Colchester': 676, 'Cosenza': 677, 'Hasselt': 678, 'Rostock': 679, 'Tours': 680, 'Altamura': 681, 'Toulon': 682, 'Vilna': 683, 'Lincoln': 684, 'Aschaffenburg': 685, 'Bremen': 686, 'Heidelberg': 687, 'Bilbao': 688, 'Wuppertal': 689, 'Mont-de-Marsan': 690, 'Stoke-on-Trent': 691, 'Garches': 692, 'Pozzuoli': 693, 'Zwickau': 694, 'Offenbach': 695, 'Dnipropetrovsk': 696, 'La Baule-Escoublac': 697, 'Wigan': 698, 'Mons-en-Baroeul': 699, 'Timisoara': 700, 'Berne': 701, 'Aberdeen': 702, 'Celle': 703, 'Treviso': 704, 'Le Blanc-Mesnil': 705, 'Dijon': 706, 'Antony': 707, 'Carrara': 708, 'Budapest': 709, 'Castres': 710, 'Doetinchem': 711, 'Marignane': 712, 'Pamplona': 713, 'Ajaccio': 714, 'Garforth': 715, 'Ingolstadt': 716, 'Martigues': 717, 'Courbevoie': 718, 'Franconville': 719, 'Copenhagen': 720, 'Mantes-la-Jolie': 721, 'Erlangen': 722, 'Chaumont': 723, 'Lannion': 724, 'Burgos': 725, 'Corbeil-Essonnes': 726, 'Dabrowa Gornicza': 727, 'Porto': 728, 'Swansea': 729, 'Wolfsburg': 730, 'Versailles': 731, 'Argenteuil': 732, 'Emmen': 733, 'Herten': 734, 'Saint-Malo': 735, 'Blagoveshchensk': 736, 'Vitoria': 737, 'Muret': 738, 'Bari': 739, 'Essen': 740, 'Clichy-sous-Bois': 741, 'Gennevilliers': 742, 'Karlstad': 743, 'Maidstone': 744, 'Salzburgo': 745, 'Herford': 746, 'Creil': 747, 'Langenfeld': 748, 'Saint-Germain-en-Laye': 749, 'Rillieux-la-Pape': 750, 'Mougins': 751, 'Rambouillet': 752, 'Dresden': 753, 'Espoo': 754, 'Aubervilliers': 755, 'Carrefour': 756, 'Pirapora': 757, 'Tartagal': 758, 'Quetzaltenango': 759, 'Panama City': 760, 'Bolton': 761, 'Grigny': 762, 'Great Yarmouth': 763, 'Calais': 764, 'Gallarate': 765, 'Chartres': 766, 'Torremolinos': 767, 'Chemnitz': 768, 'Zeist': 769, 'Friedrichshafen': 770, 'Mechelen': 771, 'Piacenza': 772, 'Palma de Mallorca': 773, 'Le Havre': 774, 'Bayonne': 775, 'Sumy': 776, 'Menton': 777, 'Brescia': 778, 'Bacau': 779, 'Pantin': 780, 'Bologna': 781, 'Kotka': 782, 'Opole': 783, 'Sarcelles': 784, 'Oosterhout': 785, 'Heilbronn': 786, 'Aulnay-sous-Bois': 787, 'Vigneux-sur-Seine': 788, 'Recklinghausen': 789, 'Stockton-on-Tees': 790, 'Cerignola': 791, 'Clamart': 792, 'Veenendaal': 793, 'Carpi': 794, 'Carcassonne': 795, 'Garbsen': 796, 'Dreux': 797, 'Mazyr': 798, 'Sandnes': 799, 'Rijeka': 800, 'Catania': 801, 'La Teste-de-Buch': 802, 'Tarbes': 803, 'Pessac': 804, 'Bayeux': 805, 'Ronchin': 806, 'Carlisle': 807, 'Kaunas': 808, 'Rugby': 809, 'Vínnytsia': 810, 'Derby': 811, 'Dormagen': 812, 'Ginebra': 813, 'Gera': 814, 'Mantes-la-Ville': 815, 'Bebington': 816, 'Novara': 817, 'Angarsk': 818, 'Ploiesti': 819, 'Loughborough': 820, 'Deuil-la-Barre': 821, 'Járkov': 822, 'Tarragona': 823, 'Pontivy': 824, 'Cheltenham': 825, 'Zamora': 826, \"Villenave-d'Ornon\": 827, 'Le Plessis-Robinson': 828, 'Roanne': 829, 'Posadas': 830, 'Culiacán': 831, 'Cienfuegos': 832, 'Birigui': 833, 'Denizli': 834, 'Guwahati': 835, 'Jinan': 836, 'Corum': 837, 'Rawalpindi': 838, 'Huainan': 839, 'Luoyang': 840, 'Hangzhou': 841, 'Huaiyin': 842, 'Guangshui': 843, 'Baguio City': 844, 'Vientiane': 845, 'Gwalior': 846, 'Hanoi': 847, 'Yingcheng': 848, 'Qarshi': 849, 'Zahedan': 850, 'Anjo': 851, 'Abadan': 852, 'Anshan': 853, 'Kuala Terengganu': 854, 'Visakhapatnam': 855, 'Kollam': 856, 'Al Muharraq': 857, 'Zaozhuang': 858, 'Xichang': 859, 'Dubbo': 860, 'Nellore': 861, 'Albany': 862, 'Mount Isa': 863, 'Clinton': 864, 'Oswego': 865, 'Saint Charles': 866, 'Decatur': 867, 'Costa Mesa': 868, 'Asheville': 869, 'Lowell': 870, 'Akron': 871, 'Springfield': 872, 'Henderson': 873, 'North York': 874, 'Grand Rapids': 875, 'Mississauga': 876, 'Round Rock': 877, 'Arlington': 878, 'San Diego': 879, 'Tucson': 880, 'Detroit': 881, 'Minneapolis': 882, 'Charlotte': 883, 'Windsor': 884, 'Newport News': 885, 'Oceanside': 886, 'Surrey': 887, 'San Antonio': 888, 'Omaha': 889, 'Baltimore': 890, 'Dallas': 891, 'Calgary': 892, 'Jackson': 893, 'Chicago': 894, 'Waterbury': 895, 'Parker': 896, 'Fairfield': 897, 'Fayún': 898, 'Bournemouth': 899, 'Argentan': 900, 'Saint-Michel-sur-Orge': 901, 'Ghent': 902, 'Maisons-Alfort': 903, 'Solihull': 904, 'Perpignan': 905, 'Ufa': 906, 'Kumanovo': 907, 'Athis-Mons': 908, 'Almelo': 909, 'Odense': 910, 'Bergheim': 911, 'Rotterdam': 912, 'Kaliningrado': 913, 'Bergamo': 914, 'Foggia': 915, 'Mainz': 916, 'Kryvyy Rih': 917, 'Vila Nova de Gaia': 918, 'Fontaine': 919, 'Issy-les-Moulineaux': 920, 'Apeldoorn': 921, 'Slupsk': 922, 'Frederiksberg': 923, 'Zagreb': 924, 'Le Creusot': 925, 'Huddersfield': 926, 'Hamm': 927, 'Marly-le-Roi': 928, 'Leeuwarden': 929, 'Budënnovsk': 930, 'Dundee': 931, 'Bezons': 932, 'Douarnenez': 933, 'Constanza': 934, 'Guidonia Montecelio': 935, 'Viroflay': 936, 'Freiburg': 937, 'Hamar': 938, 'Lyon': 939, 'Saint-Quentin': 940, 'Bagneux': 941, 'San Galo': 942, 'Bayreuth': 943, 'Varna': 944, 'Soissons': 945, 'Ostrava': 946, 'Liberec': 947, 'Zurich': 948, 'Pau': 949, 'Capua': 950, 'Ivanovo': 951, 'Melilla': 952, 'Kaluga': 953, 'Getafe': 954, 'Munster': 955, 'Arles': 956, 'Poltava': 957, 'Basildon': 958, 'Upsala': 959, 'Winterthur': 960, 'Grosseto': 961, 'Aligudarz': 962, 'Taiping': 963, 'Medina': 964, 'Chennai': 965, 'Kuala Lumpur': 966, 'Ad Diwaniyah': 967, 'Kita-ku': 968, 'Himeji': 969, 'Wagga Wagga': 970, 'Bahawalpur': 971, 'Arbil': 972, \"Xi'an\": 973, 'Nishinomiya': 974, 'Shiraz': 975, 'Bokaro': 976, 'Wellington': 977, 'Malegaon': 978, 'Liaocheng': 979, 'Zhengzhou': 980, 'Taizhou': 981, 'Chittagong': 982, 'Thiruvananthapuram': 983, 'Atsugacho': 984, 'Zhanjiang': 985, 'Jalalabad': 986, 'Soma': 987, 'Rotorua': 988, 'Agra': 989, 'Kuantan': 990, 'Yangjiang': 991, 'Tiflis': 992, 'Mosul': 993, 'Xiaogan': 994, 'Zanyán': 995, 'Jincheng': 996, 'Mamak': 997, 'Nanchang': 998, 'Mianyang': 999, 'Xianyang': 1000, 'Nowra': 1001, 'Denpasar': 1002, 'Nanyang': 1003, 'Daejeon': 1004, 'Changzhou': 1005, 'Gisborne': 1006, 'Takatsuki': 1007, 'Devonport': 1008, 'Rach Gia': 1009, 'Bandar Abbas': 1010, 'Huntsville': 1011, 'Newark': 1012, 'Memphis': 1013, 'Fayetteville': 1014, 'Richmond': 1015, 'Lakeland': 1016, 'Auburn': 1017, 'Pharr': 1018, 'Hempstead': 1019, 'Louisville': 1020, 'Wichita': 1021, 'Fort Worth': 1022, 'Columbia': 1023, 'Atlanta': 1024, 'Odessa': 1025, 'Saanich': 1026, 'Las Vegas': 1027, 'Morgan Hill': 1028, 'Portland': 1029, 'Buffalo': 1030, 'Amarillo': 1031, 'Tampa': 1032, 'Frisco': 1033, 'Tallahassee': 1034, 'Lewiston': 1035, 'Port Saint Lucie': 1036, 'Saint Louis': 1037, 'Lawrence': 1038, 'Saskatoon': 1039, 'Redmond': 1040, 'Edea': 1041, 'Chitungwiza': 1042, 'Harare': 1043, 'Lubumbashi': 1044, 'Djougou': 1045, 'Keren': 1046, 'Ouagadougou': 1047, 'Ennigerloh': 1048, 'Solingen': 1049, 'Naples': 1050, 'Langen': 1051, 'Ramnicu Valcea': 1052, 'Mansfield': 1053, 'Montmorency': 1054, 'Oldenburg': 1055, 'Ivry-sur-Seine': 1056, 'Saint-Denis': 1057, 'Poole': 1058, 'Boulogne-sur-Mer': 1059, 'Champigny-sur-Marne': 1060, 'Suihua': 1061, 'Wuchuan': 1062, 'Rohtak': 1063, 'San Jose del Monte': 1064, 'Santa Rosa': 1065, 'Masaya': 1066, 'Soyapango': 1067, 'Medellín': 1068, 'Nicoya': 1069, 'Ribeirão Preto': 1070, 'Estelí': 1071, 'Itapevi': 1072, 'Oruro': 1073, 'Progreso': 1074, 'Curitiba': 1075, 'Toluca': 1076, 'Fortaleza': 1077, 'Avellaneda': 1078, 'Azcapotzalco': 1079, 'Porto-Novo': 1080, 'Nigde': 1081, 'Ardahan': 1082, 'Maltepe': 1083, 'Magnitogorsk': 1084, 'Kananga': 1085, 'Poznan': 1086, 'Mbandaka': 1087, 'Akhisar': 1088, 'Tamale': 1089, 'Sanliurfa': 1090, 'Kahramanmara?': 1091, 'Ankara': 1092, 'Haifa': 1093, 'Toronto': 1094, 'Rabat': 1095, 'Kaduna': 1096, 'Uskudar': 1097, 'Thies Nones': 1098, 'Orán': 1099, 'Sacramento': 1100, 'Clarksville': 1101, 'Noblesville': 1102, 'Lakewood': 1103, 'Wheeling': 1104, 'Chester': 1105, 'Spokane': 1106, 'Little Rock': 1107, 'Wilmington': 1108, 'Broken Arrow': 1109, 'Chesapeake': 1110, 'Englewood': 1111, 'Phoenix': 1112, 'Southaven': 1113, 'Redlands': 1114, 'Quincy': 1115, 'Saint Paul': 1116, 'Harrisonburg': 1117, 'New Albany': 1118, 'Griffith': 1119, 'Fushun': 1120, 'Moradabad': 1121, 'Nagercoil': 1122, 'Yunyang': 1123, 'Kulti': 1124, 'Imphal': 1125, 'Pisa': 1126, 'Amadora': 1127, 'Tilburg': 1128, 'Naumburg': 1129, 'Valdemoro': 1130, 'Olivet': 1131, 'Epinal': 1132, 'Avellino': 1133, 'Schiedam': 1134, 'Ravenna': 1135, 'Flers': 1136, 'Emden': 1137, 'Rimini': 1138, 'Surubim': 1139, 'Pontes e Lacerda': 1140, 'Coyoacán': 1141, 'Arauca': 1142, 'Choloma': 1143, 'Soledad Díez Gutiérrez': 1144, 'San Rafael': 1145, 'Milpa Alta': 1146, 'Feira de Santana': 1147, 'Francisco Beltrão': 1148, 'Araguaína': 1149, 'San José de las Lajas': 1150, 'San Pablo de las Salinas': 1151, 'Gómez Palacio': 1152, 'Eunápolis': 1153, 'Palma Soriano': 1154, 'Neiva': 1155, 'Matanzas': 1156, 'Bello': 1157, 'Santa Clara': 1158, 'Betim': 1159, 'Puerto Montt': 1160, 'Anápolis': 1161, 'Santa Ana': 1162, 'Morelia': 1163, 'Puerto La Cruz': 1164, 'La Romana': 1165, 'Santa Cruz de Barahona': 1166, 'Barra Mansa': 1167, 'Salvador': 1168, 'João Pessoa': 1169, 'Nuevo Laredo': 1170, 'Santo Domingo de los Colorados': 1171, 'La Vega': 1172, 'Santa Marta': 1173, 'Mendoza': 1174, 'Bagcilar': 1175, \"Ivano-Frankivs'k\": 1176, 'Mwanza': 1177, 'Benghazi': 1178, 'Arkhangelsk': 1179, 'Jizán': 1180, 'Tivoli': 1181, 'Cachan': 1182, 'Les Pavillons-sous-Bois': 1183, 'Lodz': 1184, 'Kremenchuk': 1185, \"Villeneuve-d'Ascq\": 1186, 'Radom': 1187, 'Bourgoin-Jallieu': 1188, 'Hildesheim': 1189, 'Villiers-sur-Marne': 1190, 'Marina di Carrara': 1191, 'Siauliai': 1192, 'Blackpool': 1193, 'Heerlen': 1194, 'Solna': 1195, 'Domont': 1196, 'Puteaux': 1197, 'Erfurt': 1198, 'Santa Fe': 1199, 'San Francisco del Rincón': 1200, 'Porto Alegre': 1201, 'Miguel Hidalgo': 1202, 'Heroica Zitácuaro': 1203, 'Veracruz': 1204, 'Choluteca': 1205, 'Resende': 1206, 'San Cristóbal de Las Casas': 1207, 'Tuxtla Gutiérrez': 1208, 'Mossoró': 1209, 'Celaya': 1210, 'Gonaïves': 1211, 'Sancti Spíritus': 1212, 'Armenia': 1213, 'Metepec': 1214, 'Tulancingo': 1215, 'Castanhal': 1216, 'Bucaramanga': 1217, 'Soledad': 1218, 'Acuña': 1219, 'Itaúna': 1220, 'San Fernando': 1221, 'El Limón': 1222, 'Barranquilla': 1223, 'Poza Rica de Hidalgo': 1224, 'Altamira': 1225, 'Mexicali': 1226, 'Ponte Nova': 1227, 'San Juan': 1228, 'Manzanillo': 1229, 'Callao': 1230, 'Montenegro': 1231, 'Caxias do Sul': 1232, 'Delgado': 1233, 'Blumenau': 1234, 'Las Piedras': 1235, 'Colón': 1236, 'Teresina': 1237, 'Gaziantep': 1238, 'Busan': 1239, 'Konya': 1240, 'Bunbury': 1241, 'Surat': 1242, 'Laiyang': 1243, 'Bhatpara': 1244, 'Malayer': 1245, 'Parbhani': 1246, 'Karagandá': 1247, 'Huaibei': 1248, 'Matsubara': 1249, 'Harbin': 1250, 'Baotou': 1251, 'Bhubaneswar': 1252, 'Gongzhuling': 1253, 'Bhatinda': 1254, 'Alice Springs': 1255, 'Escuintla': 1256, 'Pilar': 1257, 'Caracas': 1258, 'Cabo Frio': 1259, 'Valinhos': 1260, 'Tlalnepantla': 1261, 'Obregón': 1262, 'El Progreso': 1263, 'General Escobedo': 1264, 'San Luis Río Colorado': 1265, 'Contramaestre': 1266, 'Talcahuano': 1267, 'Victoria': 1268, 'Reynosa': 1269, 'Bridgetown': 1270, 'São Gonçalo': 1271, 'Penedo': 1272, 'Moa': 1273, 'Los Mochis': 1274, 'Maracaibo': 1275, 'Recife': 1276, 'Guacara': 1277, 'Villa Frontera': 1278, 'Madero': 1279, 'Iguala': 1280, 'Cochabamba': 1281, 'Consolación del Sur': 1282, 'Igarassu': 1283, 'Manizales': 1284, 'Guasave': 1285, 'Mérida': 1286, 'Pindamonhangaba': 1287, 'Barquisimeto': 1288, 'Açu': 1289, 'Yopal': 1290, 'Sylhet': 1291, 'Hamilton': 1292, 'Kulob': 1293, 'Shangqiu': 1294, 'Pematangsiantar': 1295, 'Almaty': 1296, 'Pontianak': 1297, 'Ekibastuz': 1298, 'Palmerston North': 1299, 'Srinagar': 1300, 'Homs': 1301, 'Benxi': 1302, 'Katoomba': 1303, 'Dumai': 1304, 'Bogor': 1305, 'Varanasi': 1306, 'Dewas': 1307, 'Amritsar': 1308, 'Al Hillah': 1309, 'Kakinada': 1310, 'Khulna': 1311, 'Korba': 1312, 'Cormeilles-en-Parisis': 1313, 'Ferrara': 1314, 'Herne': 1315, 'Manaus': 1316, 'Puerto Padre': 1317, 'Les Abymes': 1318, 'Colima': 1319, 'Nova Serrana': 1320, 'Huancayo': 1321, 'Paraná': 1322, 'Ashdod': 1323, 'Hohhot': 1324, 'Fengcheng': 1325, 'Port Moresby': 1326, 'Fukuyama': 1327, 'Turgutlu': 1328, 'Smyrna': 1329, 'Ibadan': 1330, 'Katsina': 1331, 'Cesena': 1332, 'Farnborough': 1333, 'San Nicolás de los Arroyos': 1334, 'Jieyang': 1335, 'Franklin': 1336, 'São Leopoldo': 1337, 'Klaip?da': 1338, 'Gómel': 1339, 'Broken Hill': 1340, 'Kunming': 1341, 'Sukabumi': 1342, 'Bijapur': 1343, 'Raleigh': 1344, 'Moca': 1345, 'Bulawayo': 1346, 'Malanje': 1347, 'Reus': 1348, 'Neuilly-sur-Marne': 1349, 'Irkutsk': 1350, 'Quimper': 1351, 'Horlivka': 1352, 'Mannheim': 1353, 'Blenheim': 1354, 'Kukatpalli': 1355, 'Las Pinas': 1356, 'Changzhi': 1357, 'Changchun': 1358, 'Baku': 1359, 'Yanbu al Bahr': 1360, 'Khorramabad': 1361, 'Chaoyang': 1362, 'Jiangyou': 1363, 'Seremban': 1364, 'Ceyhan': 1365, 'Warangal': 1366, 'Tiruchchirappalli': 1367, 'Pekanbaru': 1368, 'Licheng': 1369, 'Wodonga': 1370, 'Lucknow': 1371, 'Darbhanga': 1372, 'Kuching': 1373, 'Jieshou': 1374, 'Lanxi': 1375, 'Mount Gambier': 1376, 'Wenling': 1377, 'Melton': 1378, 'Jiangmen': 1379, 'Meerut': 1380, 'Hangu': 1381, 'Mashhad': 1382, 'Turkmenabat': 1383, 'Whyalla': 1384, 'Traralgon': 1385, 'Aurora': 1386, 'Salem': 1387, 'Ponferrada': 1388, 'Irun': 1389, 'Arezzo': 1390, 'Acireale': 1391, 'Walsall': 1392, 'Alicante': 1393, 'Fontainebleau': 1394, 'Sevastopol': 1395, 'Salina Cruz': 1396, 'Guayaquil': 1397, 'Maringá': 1398, 'Puente Alto': 1399, 'San Luis Potosí': 1400, 'San Pedro de Macorís': 1401, 'Itaituba': 1402, 'Piedras Negras': 1403, 'Rancagua': 1404, 'Antiguo Cuscatlán': 1405, 'Santa Catarina': 1406, 'Jequié': 1407, 'Baní': 1408, 'Amatitlán': 1409, 'Simões Filho': 1410, 'Chapecó': 1411, 'Resistencia': 1412, 'Barreirinhas': 1413, 'Paysandú': 1414, 'Jataí': 1415, 'Cruzeiro': 1416, 'Rivera': 1417, 'Uruguaiana': 1418, 'Arapiraca': 1419, 'Guarapuava': 1420, 'San Francisco de Macorís': 1421, 'Campeche': 1422, 'Itajaí': 1423, 'Turmero': 1424, 'Bom Jesus da Lapa': 1425, 'Gaspar': 1426, 'Linhares': 1427, 'Miramar': 1428, 'Ilhéus': 1429, 'Umuarama': 1430, 'São José dos Campos': 1431, 'Ibiúna': 1432, 'Praia Grande': 1433, 'Cruz das Almas': 1434, 'Santa Cruz de la Sierra': 1435, 'Novo Gama': 1436, 'Pouso Alegre': 1437, 'Jacobina': 1438, 'Asunción': 1439, 'Paita': 1440, 'Apodaca': 1441, 'Bayamo': 1442, 'Spanish Town': 1443, 'Santo André': 1444, 'Ciego de Ávila': 1445, 'Torreón': 1446, 'Limoeiro do Norte': 1447, 'Cajazeiras': 1448, 'Pereira': 1449, 'Camaçari': 1450, 'Franca': 1451, 'Tupã': 1452, 'Juiz de Fora': 1453, 'Cajamarca': 1454, 'Votuporanga': 1455, 'Puerto Vallarta': 1456, 'Chinandega': 1457, 'Antofagasta': 1458, 'Sabanalarga': 1459, 'Ji-Paraná': 1460, 'San Juan de la Maguana': 1461, 'Araçatuba': 1462, 'Canoas': 1463, 'Cancún': 1464, 'San Cristóbal': 1465, 'Grajaú': 1466, 'Kirsehir': 1467, 'Sandakan': 1468, 'Asjabad': 1469, 'Binzhou': 1470, 'Guiyang': 1471, 'Lower Hutt': 1472, 'Ballarat': 1473, 'Calamba': 1474, 'Kashan': 1475, 'Amman': 1476, 'Al Mubarraz': 1477, 'Yazd': 1478, 'Sakaka': 1479, 'Chifeng': 1480, 'Ludhiana': 1481, 'Kermanshah': 1482, 'Padang': 1483, 'Kowloon': 1484, 'Kokshetau': 1485, 'Nazilli': 1486, 'Nagasaki': 1487, 'Sivas': 1488, 'Firozabad': 1489, 'Xiamen': 1490, 'Ninghai': 1491, 'Kozhikode': 1492, 'Xintai': 1493, 'Mardin': 1494, 'Kalyan': 1495, 'Boulogne-Billancourt': 1496, 'Targu Mures': 1497, \"Donets'k\": 1498, 'Jerez de la Frontera': 1499, 'Oberhausen': 1500, 'Pontoise': 1501, 'Crawley': 1502, 'Wasquehal': 1503, 'Miass': 1504, 'Villach': 1505, 'Vladímir': 1506, 'Annemasse': 1507, 'Metz': 1508, 'Levallois-Perret': 1509, 'Givors': 1510, 'Bélgorod': 1511, 'Menden': 1512, 'Arraiján': 1513, 'Rosario': 1514, 'Concepción del Uruguay': 1515, 'Viña del Mar': 1516, 'Apatzingán de la Constitución': 1517, 'Tecomán': 1518, 'Vitória': 1519, 'Portoviejo': 1520, 'Trinidad': 1521, 'Passo Fundo': 1522, 'Aracaju': 1523, 'San Andrés Tuxtla': 1524, 'Jamundí': 1525, 'Tehuacán': 1526, 'Lagos de Moreno': 1527, 'São Miguel dos Campos': 1528, 'Sonsonate': 1529, 'Bezerros': 1530, 'Kochi': 1531, 'Invercargill': 1532, 'Lanzhou': 1533, 'Kilis': 1534, 'Siirt': 1535, 'Chaozhou': 1536, 'Erzurum': 1537, 'Tauranga': 1538, 'Sukkur': 1539, 'Mysore': 1540, 'Kolhapur': 1541, 'Jiaozuo': 1542, 'Aew?l-li': 1543, 'Edogawa-ku': 1544, 'Kastamonu': 1545, 'Superior': 1546, 'Regina': 1547, 'Montréal': 1548, 'Tempe': 1549, 'Albuquerque': 1550, 'Wilson': 1551, 'Mesquite': 1552, 'Woodland': 1553, 'El Jadida': 1554, 'Abha': 1555, 'Antakya': 1556, 'Nzerekore': 1557, 'Likasi': 1558, 'Fort Lauderdale': 1559, 'Pasadena': 1560, 'Kent': 1561, 'Bangor': 1562, 'Morristown': 1563, 'Nashville': 1564, 'Marietta': 1565, 'Miami': 1566, 'Oak Park': 1567, 'Wausau': 1568, 'Fremont': 1569, 'Milwaukee': 1570, 'Lakeville': 1571, 'Durham': 1572, 'Anqing': 1573, 'Taiyuan': 1574, 'Pimpri': 1575, 'Ichikawa': 1576, \"Cournon-d'Auvergne\": 1577, 'Oviedo': 1578, 'Clermont-Ferrand': 1579, 'Cardiff': 1580, 'Cork': 1581, 'Gladbeck': 1582, 'Chieti': 1583, 'Linz': 1584, 'Sceaux': 1585, 'Montauban': 1586, 'Sassari': 1587, 'La Plata': 1588, 'Cuiabá': 1589, 'Malambo': 1590, 'Auch': 1591, 'Lorca': 1592, 'Kingswood': 1593, 'Draguignan': 1594, 'Offenburg': 1595, 'Valles': 1596, 'Morón': 1597, 'São Benedito': 1598, 'Silao': 1599, 'Enugu': 1600, 'Mombasa': 1601, 'Sohag': 1602, 'Watford': 1603, 'Albi': 1604, 'Loures': 1605, 'Villeurbanne': 1606, 'Tallaght': 1607, 'Stavanger': 1608, 'Poissy': 1609, 'Aachen': 1610, 'Rybinsk': 1611, 'Ruda Slaska': 1612, 'Darmstadt': 1613, 'Worms': 1614, 'Livry-Gargan': 1615, 'Zwolle': 1616, 'Suresnes': 1617, 'Les Clayes-sous-Bois': 1618, 'Krefeld': 1619, 'Fort-de-France': 1620, 'Jacareí': 1621, 'Cartagena': 1622, 'Bajos de Haina': 1623, 'Los Ángeles': 1624, 'Maracay': 1625, 'Qitaihe': 1626, 'Tangshan': 1627, 'Ganganagar': 1628, 'Panihati': 1629, 'Cankaya': 1630, 'Tieling': 1631, 'Balikesir': 1632, 'Tiruppur': 1633, 'Saharanpur': 1634, 'Laohekou': 1635, 'Bellary': 1636, 'Tyler': 1637, 'Jonesboro': 1638, 'Vancouver': 1639, 'Portage': 1640, 'Balti': 1641, 'Osijek': 1642, 'Lisichansk': 1643, 'Lambaré': 1644, 'Jodhpur': 1645, 'La Mesa': 1646, 'Katowice': 1647, 'Jamnagar': 1648, 'Kayseri': 1649, 'Mecca': 1650, 'Zigong': 1651, 'Dhule': 1652, 'Whangarei': 1653, 'Hefei': 1654, 'Handan': 1655, 'Muskogee': 1656, 'Murfreesboro': 1657, 'Mobile': 1658, 'Westfield': 1659, 'Olathe': 1660, 'Lafayette': 1661, 'Winnipeg': 1662, 'Paterson': 1663, 'Long Beach': 1664, 'Hollywood': 1665, 'Kingston': 1666, 'Arvada': 1667, 'Quebec': 1668, 'East Point': 1669, 'Inglewood': 1670, 'Lancaster': 1671, 'Haltom City': 1672, 'Maputo': 1673, 'Wallasey': 1674, 'Sannois': 1675, 'Esbjerg': 1676, 'Pelotas': 1677, 'Aligarh': 1678, 'Al Hufuf': 1679, 'Jilin': 1680, 'Covington': 1681, 'Dorsten': 1682, 'Saint-Ouen': 1683, 'Bressuire': 1684, 'Thonon-les-Bains': 1685, 'Mar del Plata': 1686, 'Soacha': 1687, 'Iquique': 1688, 'Boa Esperança': 1689, 'Gladstone': 1690, 'Mathura': 1691, 'Amravati': 1692, 'Chandigarh': 1693, 'Longview': 1694, 'Lincoln Park': 1695, 'Oklahoma City': 1696, 'Orlando': 1697, 'Maxixe': 1698, 'Sucy-en-Brie': 1699, 'Haarlem': 1700, 'Lugo': 1701, 'Valparaíso': 1702, 'Nicolás Romero': 1703, 'Guaratinguetá': 1704, 'Troy': 1705, 'Belfort': 1706, 'Teherán': 1707, 'Bareilly': 1708, 'Funabashi': 1709, 'Dongguan': 1710, 'Nha Trang': 1711, 'Donghai': 1712, 'Napier': 1713, 'Doha': 1714, 'Wadi as Sir': 1715, 'Pavlodar': 1716, 'Qiqihar': 1717, 'Xianning': 1718, 'Anaheim': 1719, 'Conway': 1720, 'El Paso': 1721, 'Providence': 1722, 'Rochester': 1723, 'Riverside': 1724, 'Leominster': 1725, 'Austin': 1726, 'Salt Lake City': 1727, 'Waco': 1728, 'Bolingbrook': 1729, 'San Bernardino': 1730, 'Apopka': 1731, 'Pembroke Pines': 1732, 'Everett': 1733, 'Namibe': 1734, 'Kisumu': 1735, 'Garoua': 1736, 'Colmar': 1737, 'Benevento': 1738, 'Noisy-le-Sec': 1739, 'Longjumeau': 1740, 'Kerpen': 1741, 'Rhondda': 1742, 'Le Pontet': 1743, 'Villejuif': 1744, 'Dos Hermanas': 1745, 'Sari': 1746, 'Multan': 1747, 'Saga': 1748, 'Allahabad': 1749, 'Bellevue': 1750, 'Bowling Green': 1751, 'Ndola': 1752, 'Mopti': 1753, 'Torre del Greco': 1754, 'Velletri': 1755, 'Durres': 1756, 'Guaymas': 1757, 'Kaifeng': 1758, 'Queanbeyan': 1759, 'Glendale': 1760, 'Sandy Springs': 1761, 'Kumasi': 1762, 'Bonn': 1763, 'Saint-Genis-Laval': 1764, 'La Celle-Saint-Cloud': 1765, 'Montrouge': 1766, 'Oyonnax': 1767, 'Karlsruhe': 1768, 'Lora del Río': 1769, 'Colombes': 1770, 'Zaanstad': 1771, 'Estepona': 1772, 'Chimbote': 1773, 'Guanajuato': 1774, 'Gurupi': 1775, 'Tasikmalaya': 1776, 'Nasik': 1777, 'Marikina': 1778, 'Zhumadian': 1779, 'Kaiyuan': 1780, 'Palm Coast': 1781, 'Oshawa': 1782, 'Waynesboro': 1783, 'Freeport': 1784, 'Hesperia': 1785, 'Bristol': 1786, 'Banjarmasin': 1787, 'Kolwezi': 1788, 'Puertollano': 1789, 'Chincha Alta': 1790, 'Laghouat': 1791, 'eMbalenhle': 1792, 'Lusaka': 1793, 'Maidenhead': 1794, 'Lida': 1795, 'Lens': 1796, 'Nottingham': 1797, 'Fareham': 1798, 'Runcorn': 1799, 'Sagunto': 1800, 'Cannes': 1801, 'Como': 1802, 'Blackburn': 1803, 'Vigo': 1804, 'Euskirchen': 1805, 'Vernon': 1806, 'Gubkin': 1807, 'Praga': 1808, 'Troisdorf': 1809, 'Leuven': 1810, 'Burnley': 1811, 'Briansk': 1812, 'Graz': 1813, 'Bruselas': 1814, 'Norderstedt': 1815, 'Eindhoven': 1816, 'Potosí': 1817, 'Palmira': 1818, 'São Luís': 1819, 'Melchor Ocampo': 1820, 'Guzmán': 1821, 'Caçador': 1822, 'Piura': 1823, 'Ibirité': 1824, 'Zihuatanejo': 1825, 'Los Patios': 1826, 'Lençóis Paulista': 1827, 'Bengkulu': 1828, 'Karnal': 1829, 'Mentougou': 1830, 'Quchan': 1831, 'Hapur': 1832, 'Jinjiang': 1833, 'Sanya': 1834, 'Bengbu': 1835, 'Hamadán': 1836, 'Jining': 1837, 'Jammu': 1838, 'Edinburg': 1839, 'Lake Elsinore': 1840, 'Indianapolis': 1841, 'Allentown': 1842, 'Grand Prairie': 1843, 'New Bedford': 1844, 'Garden City': 1845, 'La Crosse': 1846, 'Redwood City': 1847, 'Chattanooga': 1848, 'Mesa': 1849, 'Dover': 1850, 'Mount Vernon': 1851, 'North Las Vegas': 1852, 'Kenosha': 1853, 'Cleveland': 1854, 'Avondale': 1855, 'Green Bay': 1856, 'Naperville': 1857, 'Glenview': 1858, 'Watertown': 1859, 'Trenton': 1860, 'Bakersfield': 1861, 'Plano': 1862, 'Rio Rancho': 1863, 'Vallejo': 1864, 'Bossier City': 1865, 'Markham': 1866, 'Bloomington': 1867, 'Hackensack': 1868, 'Burlington': 1869, 'Toledo': 1870, 'Santa Barbara': 1871, 'Texas City': 1872, 'Middletown': 1873, 'Evanston': 1874, 'Eugene': 1875, 'Pensacola': 1876, 'Edmonds': 1877, 'Plainfield': 1878, 'Boynton Beach': 1879, 'La Porte': 1880, 'Irving': 1881, 'Athens': 1882, 'Safi': 1883, 'Béchar': 1884, 'Yaounde': 1885, 'Aba': 1886, 'Ebolowa': 1887, 'Abeokuta': 1888, 'Beni Suef': 1889, 'Mubi': 1890, 'Kisangani': 1891, 'Kankan': 1892, 'Krugersdorp': 1893, 'Loubomo': 1894, 'Spijkenisse': 1895, 'Bedford': 1896, 'Murcia': 1897, 'Dinslaken': 1898, 'Les Mureaux': 1899, 'Cluj-Napoca': 1900, 'Bialystok': 1901, 'Roeselare': 1902, 'Faches-Thumesnil': 1903, 'Barnsley': 1904, 'Dudley': 1905, 'Pomezia': 1906, 'Grasse': 1907, 'Villefontaine': 1908, 'Tarnow': 1909, 'Rovigo': 1910, 'Tuzla': 1911, 'Zaporiyia': 1912, 'Burgas': 1913, 'Moers': 1914, 'Klagenfurt': 1915, 'Grenoble': 1916, 'Coslada': 1917, 'Witten': 1918, 'Fuengirola': 1919, 'Montigny-le-Bretonneux': 1920, 'Fleury-les-Aubrais': 1921, 'Chesterfield': 1922, 'Elda': 1923, 'Pierrefitte-sur-Seine': 1924, 'Narbonne': 1925, 'Bruges': 1926, 'Frontignan': 1927, 'Schiltigheim': 1928, 'Hagen': 1929, 'Trieste': 1930, 'Amiens': 1931, 'Caucaia': 1932, 'Corrientes': 1933, 'Novo Cruzeiro': 1934, 'Monclova': 1935, 'Boa Vista': 1936, 'Natal': 1937, 'Petrópolis': 1938, 'Cárdenas': 1939, 'Barbacena': 1940, 'Cuajimalpa': 1941, 'Jaboticabal': 1942, 'Mogi das Cruzes': 1943, 'José Bonifácio': 1944, 'Bolívar': 1945, 'Cuautitlán': 1946, 'Abreu e Lima': 1947, 'Ibagué': 1948, 'Ijuí': 1949, 'Bhopal': 1950, 'Bhiwandi': 1951, 'Yokkaichi': 1952, 'Khorramshahr': 1953, 'Ambattur': 1954, 'Amol': 1955, 'Felahiye': 1956, 'Menemen': 1957, 'Geraldton': 1958, 'Bandirma': 1959, 'Yanji': 1960, 'Mascate': 1961, 'Mary': 1962, 'Osmaniye': 1963, 'Masjed Soleyman': 1964, 'Guntur': 1965, 'Karbala': 1966, 'Arak': 1967, 'Changsha': 1968, 'Yicheng': 1969, 'Matsudo': 1970, 'Etimesgut': 1971, 'Huizhou': 1972, 'Shimonoseki': 1973, 'Shijiazhuang': 1974, 'Coimbatore': 1975, 'Dearborn': 1976, 'York': 1977, 'Pomona': 1978, 'Caldwell': 1979, 'Gastonia': 1980, 'Saginaw': 1981, 'Lorain': 1982, 'Lubbock': 1983, 'Saint-Laurent': 1984, 'Yonkers': 1985, 'Montgomery': 1986, 'Roseville': 1987, 'Suffolk': 1988, 'Des Moines': 1989, 'Utica': 1990, 'Apple Valley': 1991, 'Washington': 1992, 'Bridgeton': 1993, 'Tigard': 1994, 'Rockford': 1995, 'Malden': 1996, 'Bloemfontein': 1997, 'Batna': 1998, 'Sokoto': 1999, 'Westonaria': 2000, 'Túnez': 2001, 'Maradi': 2002, 'Benguela': 2003, 'Bideford': 2004, 'Friedberg': 2005, 'Schiffweiler': 2006, 'Resita': 2007, 'Rosny-sous-Bois': 2008, 'Lisieux': 2009, 'Arad': 2010, 'Montereau-Fault-Yonne': 2011, 'Uman': 2012, 'Passau': 2013, 'Busto Arsizio': 2014, \"Luts'k\": 2015, 'Denain': 2016, 'Bourges': 2017, 'Meaux': 2018, 'Slough': 2019, 'Reading': 2020, 'El Ejido': 2021, 'Cottbus': 2022, 'Sunnyvale': 2023, 'Carrollton': 2024, 'Pine Bluff': 2025, 'Laredo': 2026, 'Mishawaka': 2027, 'Ngaoundere': 2028, 'Makeni': 2029, 'Mbeya': 2030, 'Ilorin': 2031, 'Jos': 2032, 'Natitingou': 2033, 'East London': 2034, 'Yibuti': 2035, 'Bertoua': 2036, 'Bilbeis': 2037, 'Grodno': 2038, 'Wels': 2039, 'Villeneuve-sur-Lot': 2040, 'Taverny': 2041, \"Usol'ye-Sibirskoye\": 2042, 'Kopeysk': 2043, 'Santiago de Compostela': 2044, 'Guyancourt': 2045, 'Norwich': 2046, 'Bolzano': 2047, 'Baia Mare': 2048, 'Le Cannet': 2049, 'Ludwigshafen am Rhein': 2050, 'Drogobych': 2051, 'Chisináu': 2052, 'Gardanne': 2053, 'Beaune': 2054, 'Guayana': 2055, 'Ocaña': 2056, 'Sahuayo de José María Morelos': 2057, 'Duque de Caxias': 2058, 'Chetumal': 2059, 'Montes Claros': 2060, 'Goiânia': 2061, 'Fresnillo de González Echeverría': 2062, 'Carora': 2063, 'Diadema': 2064, 'Esenyurt': 2065, 'Khomeynishahr': 2066, 'Banda Aceh': 2067, 'Sabzevar': 2068, 'Shuangyashan': 2069, 'Ueda': 2070, 'Hendersonville': 2071, 'Scottsdale': 2072, 'Hickory': 2073, 'Meridian': 2074, 'Waterloo': 2075, 'Knoxville': 2076, 'Bafoussam': 2077, 'Kigoma': 2078, 'Bujumbura': 2079, 'Beauvais': 2080, 'Ceuta': 2081, \"Quartu Sant'Elena\": 2082, 'Castellammare di Stabia': 2083, 'Nizhyn': 2084, 'Rybnik': 2085, 'Worthing': 2086, 'Santander': 2087, 'Oxford': 2088, 'Fiumicino': 2089, 'Sant Boi de Llobregat': 2090, 'Podgorica': 2091, 'Sarajevo': 2092, 'Garza García': 2093, 'Orange': 2094, 'Sterling Heights': 2095, 'Hialeah': 2096, 'Chandler': 2097, 'Chalinze': 2098, 'Libreville': 2099, 'Vignola': 2100, 'Fontenay-le-Comte': 2101, 'Delft': 2102, 'Abbeville': 2103, 'Saint-Pierre-des-Corps': 2104, 'Bath': 2105, 'Vlore': 2106, 'Cremona': 2107, 'Colomiers': 2108, 'Lorena': 2109, 'Paranaguá': 2110, 'Mosquera': 2111, 'Guanambi': 2112, 'Andijon': 2113, 'Papakura': 2114, 'Ningbo': 2115, 'Brampton': 2116, 'Severodvinsk': 2117, 'San Bernardo': 2118, 'Islamabad': 2119, 'Wuchang': 2120, 'Johnson City': 2121, 'Saint-Dizier': 2122, 'Lake Charles': 2123, 'Al Manaqil': 2124, 'Sidi Qacem': 2125, 'Saint-Nazaire': 2126, 'Gulu': 2127, 'Boscoreale': 2128, 'Cagua': 2129, 'Cuenca': 2130, 'Nanning': 2131, 'Mission Viejo': 2132, 'Barry': 2133, 'Yulin': 2134, 'Kafr ad Dawwar': 2135, 'Morley': 2136, 'Rio Grande': 2137, 'Peshawar': 2138, 'Girón': 2139, 'Coventry': 2140, 'Kigali': 2141, 'Juba': 2142, 'Koblenz': 2143, 'Unna': 2144, 'Luxemburgo': 2145, 'Newcastle upon Tyne': 2146, 'Maisons-Laffitte': 2147, 'Toul': 2148, 'Pinheiro': 2149, 'Sucre': 2150, 'San Lorenzo': 2151, 'Petare': 2152, 'Zhongxiang': 2153, 'Indore': 2154, 'Shah Alam': 2155, 'Zunyi': 2156, 'Gaithersburg': 2157, 'Carlsbad': 2158, 'Vineland': 2159, 'George': 2160, 'Liverpool': 2161, 'Pingdingshan': 2162, 'Patiala': 2163, 'Kumba': 2164, 'Beni Mellal': 2165, 'Iasi': 2166, 'Hinckley': 2167, 'Arras': 2168, 'Kettering': 2169, 'Bar-le-Duc': 2170, 'Latina': 2171, 'Imola': 2172, 'El Prat de Llobregat': 2173, 'Venlo': 2174, 'Saint-Cyr-sur-Loire': 2175, 'Yambol': 2176, 'Echirolles': 2177, 'Saumur': 2178, 'Villingen-Schwenningen': 2179, 'Grevenbroich': 2180, 'Carquefou': 2181, 'Worcester': 2182, 'Osasco': 2183, 'Salamanca': 2184, 'Behshahr': 2185, 'Puducherry': 2186, 'Cuttack': 2187, 'Mcallen': 2188, 'Angers': 2189, 'Hradec Králové': 2190, 'Presidencia Roque Sáenz Peña': 2191, 'Greensboro': 2192, 'Beira': 2193, 'Sikasso': 2194, 'Arusha': 2195, 'Sokode': 2196, 'Chingola': 2197, 'Owo': 2198, 'Menia': 2199, 'Giyani': 2200, 'Windhoek': 2201, 'Nouakchott': 2202, 'Benin City': 2203, 'Pemba': 2204, 'Ilesha': 2205, 'Mpumalanga': 2206, 'Messaad': 2207, 'Marsabit': 2208, 'Kandi': 2209, 'Bo': 2210, 'Torcy': 2211, 'Flensburg': 2212, 'Basel': 2213, 'La Spezia': 2214, 'Roermond': 2215, 'Krasnyy Luch': 2216, 'Pforzheim': 2217, 'Potenza': 2218, 'Alkmaar': 2219, 'Torquay': 2220, 'Nitra': 2221, 'Laval': 2222, 'Nikopol': 2223, 'Trento': 2224, 'Hilversum': 2225, 'Neuilly-Plaisance': 2226, 'Sonderborg': 2227, 'Landskrona': 2228, 'Evreux': 2229, 'Illkirch-Graffenstaden': 2230, 'Foligno': 2231, 'Ercolano': 2232, 'Leverkusen': 2233, 'Deventer': 2234, 'Zhlobin': 2235, 'Parla': 2236, 'Lecce': 2237, 'Alfortville': 2238, 'Ternópil': 2239, 'Nogent-sur-Oise': 2240, 'Douai': 2241, 'Saint-Herblain': 2242, 'Mitry-Mory': 2243, 'Korce': 2244, 'Huyton': 2245, 'Lausanne': 2246, 'Montesson': 2247, 'Buzau': 2248, 'Eragny': 2249, 'Les Ulis': 2250, 'Hove': 2251, 'Namur': 2252, 'Yerres': 2253, 'Taranto': 2254, 'Innsbruck': 2255, 'Wakefield': 2256, 'Lunel': 2257, 'Assen': 2258, 'Bottrop': 2259, 'Alcobendas': 2260, 'Lund': 2261, 'Pistoia': 2262, 'Landerneau': 2263, 'Hemel Hempstead': 2264, 'Paderborn': 2265, 'Rochdale': 2266, 'Minden': 2267, 'Coimbra': 2268, 'Roubaix': 2269, 'Auxerre': 2270, 'Saint-Jean-de-la-Ruelle': 2271, 'Forbach': 2272, 'Aalst': 2273, 'Lomme': 2274, 'Plock': 2275, 'Sittard': 2276, 'Troyes': 2277, 'Panevezys': 2278, 'Cherkasy': 2279, 'Sibiu': 2280, 'Chelmsford': 2281, 'Gillingham': 2282, 'Velsen': 2283, 'Regensburg': 2284, 'Jundiaí': 2285, 'Ardebil': 2286, 'Barasat': 2287, 'Can Tho': 2288, 'Binjai': 2289, 'Sanandaj': 2290, 'Yangquan': 2291, 'Elazig': 2292, 'Lake Forest': 2293, 'Marion': 2294, 'Jupiter': 2295, 'Coral Springs': 2296, 'Georgetown': 2297, 'Man': 2298, 'Kamina': 2299, 'Owerri': 2300, 'Birkenhead': 2301, 'Massy': 2302, 'Helsingborg': 2303, 'Falconara Marittima': 2304, 'Plovdiv': 2305, 'Legnano': 2306, 'Lattes': 2307, 'Middlesbrough': 2308, 'Lippstadt': 2309, 'Braila': 2310, 'Montgeron': 2311, 'Vitry-sur-Seine': 2312, 'Ploemeur': 2313, 'Manresa': 2314, 'Bamberg': 2315, 'Ipiales': 2316, 'Baruta': 2317, 'Rosarito': 2318, 'Tirupati': 2319, 'Naihati': 2320, 'Changde': 2321, 'Concord': 2322, 'Larache': 2323, 'Atakpame': 2324, 'Funtua': 2325, 'Mabopane': 2326, 'Istres': 2327, 'Bergen': 2328, 'Albacete': 2329, 'Cluses': 2330, 'Lucca': 2331, 'Vertou': 2332, 'Hattingen': 2333, 'Pesaro': 2334, 'Sonneberg': 2335, 'Saint-Laurent-du-Var': 2336, 'Harrogate': 2337, 'Badajoz': 2338, 'Limoges': 2339, 'Chilpancingo': 2340, 'Tianguá': 2341, 'Linares': 2342, 'Paracatu': 2343, 'Florencia': 2344, 'Acarigua': 2345, 'Ituiutaba': 2346, 'Akola': 2347, 'Forster': 2348, 'Plantation': 2349, 'Murray': 2350, 'Hattiesburg': 2351, 'Olympia': 2352, 'Corpus Christi': 2353, 'Layton': 2354, 'Normal': 2355, 'West Jordan': 2356, 'Antioch': 2357, 'Broomfield': 2358, 'Pleasant Grove': 2359, 'Margate': 2360, 'Beverly': 2361, 'New Rochelle': 2362, 'Marsa Matruh': 2363, 'Mostaganem': 2364, 'Khenifra': 2365, 'Onitsha': 2366, 'Misurata': 2367, 'Bamako': 2368, 'Skikda': 2369, 'Agadir': 2370, 'Bamenda': 2371, 'Firminy': 2372, 'Hereford': 2373, 'Targu Jiu': 2374, 'Palencia': 2375, 'Hazebrouck': 2376, 'Taunton': 2377, 'Jena': 2378, 'Gradignan': 2379, 'Berdychiv': 2380, 'Randers': 2381, 'Chernihiv': 2382, 'Capelle aan den IJssel': 2383, 'Antibes': 2384, 'Marsala': 2385, 'Valle Hermoso': 2386, 'Araucária': 2387, 'Bahía Blanca': 2388, 'Arica': 2389, 'Port Arthur': 2390, 'Port Said': 2391, 'Vigevano': 2392, 'Sarreguemines': 2393, 'Evry': 2394, 'Warrington': 2395, 'Yacuiba': 2396, 'Itapetininga': 2397, 'Conselheiro Lafaiete': 2398, 'Etawah': 2399, 'Yueyang': 2400, 'Torrance': 2401, 'Alessandria': 2402, 'Provo': 2403, 'Cumaná': 2404, 'Chililabombwe': 2405, 'Kayes': 2406, 'Kabwe': 2407, 'Sanary-sur-Mer': 2408, 'Schwerin': 2409, 'Weston-super-Mare': 2410, 'Fresnes': 2411, 'Limay': 2412, 'Kalisz': 2413, 'Ensenada': 2414, 'Yaritagua': 2415, 'Ananindeua': 2416, 'Dourados': 2417, 'Chillán': 2418, 'Valparaíso de Goiás': 2419, 'Osorno': 2420, 'Aracati': 2421, 'Purwokerto': 2422, 'Gaoyou': 2423, 'Xinghua': 2424, 'Cizre': 2425, 'Dayr az Zawr': 2426, 'Kwangju': 2427, 'Ulsan': 2428, 'Colorado Springs': 2429, 'Daytona Beach': 2430, 'San Gabriel': 2431, 'Virginia Beach': 2432, 'Purmerend': 2433, 'Van': 2434, 'St. Catharines': 2435, 'Sierra Vista': 2436, 'Lansing': 2437, 'Ashford': 2438, 'Pucallpa': 2439, 'Trujillo': 2440, 'Tabora': 2441, 'Ilo': 2442, 'Greenville': 2443, 'Valledupar': 2444, 'Vryburg': 2445, 'Tetouan': 2446, 'Fianarantsoa': 2447, 'Kikwit': 2448, 'Kasama': 2449, 'Manzini': 2450, 'Vitrolles': 2451, 'Craiova': 2452, 'Vlaardingen': 2453, 'Altotonga': 2454, 'Gawler': 2455, 'Tirunelveli': 2456, 'Palu': 2457, 'Fasa': 2458, 'Kozan': 2459, 'Cessnock': 2460, 'Varamin': 2461, 'Puyang': 2462, 'Levin': 2463, 'Viransehir': 2464, 'Ramat Aviv': 2465, 'An Nasiriyah': 2466, 'Asansol': 2467, 'Beaumont': 2468, 'Redondo Beach': 2469, 'Charlottesville': 2470, 'Richmond Hill': 2471, 'Vaughan': 2472, 'Neunkirchen': 2473, 'Clichy': 2474, 'Cheshunt': 2475, 'Halluin': 2476, 'Viterbo': 2477, 'Linden': 2478, 'Esquina': 2479, 'Piedecuesta': 2480, 'Mezitli': 2481, 'Whitby': 2482, 'Neuquén': 2483, 'Hengyang': 2484, 'Passaic': 2485, 'Udaipur': 2486, 'Calabar': 2487, 'Gravesend': 2488, 'Rivne': 2489, 'Gummersbach': 2490, 'Kostanái': 2491, 'Orem': 2492, 'Sobral': 2493, 'Vereeniging': 2494, 'Gebze': 2495, 'Drammen': 2496, 'Gosport': 2497, 'Granollers': 2498, 'Valence': 2499, 'Bragança Paulista': 2500, 'Sumaré': 2501, 'Frontera': 2502, 'Tawau': 2503, 'Jhansi': 2504, 'Iranshahr': 2505, 'Koshigaya': 2506, 'Envigado': 2507, 'Cergy': 2508, 'Neubrandenburg': 2509, 'Allen': 2510, 'Amasya': 2511, 'Holon': 2512, 'Nampula': 2513, 'Damaturu': 2514, 'Saida': 2515, 'East Kilbride': 2516, 'Chatou': 2517, 'Iquitos': 2518, 'Temixco': 2519, 'Cayenne': 2520, 'Rolândia': 2521, 'Criciúma': 2522, 'São Pedro da Aldeia': 2523, 'Bene Beraq': 2524, 'Jember': 2525, 'Kurashiki': 2526, 'Yuanjiang': 2527, 'Yalova': 2528, 'Beykoz': 2529, 'Muzaffarpur': 2530, 'Weihai': 2531, 'Panipat': 2532, 'Cuyahoga Falls': 2533, 'Roswell': 2534, 'Orland Park': 2535, 'Harlingen': 2536, 'Dearborn Heights': 2537, 'Lehi': 2538, 'Champaign': 2539, 'Vorónezh': 2540, 'Bra?ov': 2541, 'Paisley': 2542, 'Vacaria': 2543, 'Farroupilha': 2544, 'Datong': 2545, 'Da Nang': 2546, 'Shrewsbury': 2547, 'Batman': 2548, 'Roodepoort': 2549, 'Tychy': 2550, 'Avion': 2551, 'Trappes': 2552, 'Vitória de Santo Antão': 2553, 'Bangui': 2554, 'Settat': 2555, 'Pernik': 2556, 'Sunbury': 2557, 'Talence': 2558, 'Les Lilas': 2559, 'Willich': 2560, 'Potsdam': 2561, 'Calabozo': 2562, 'Villa Alemana': 2563, 'Gravataí': 2564, 'Itapecerica da Serra': 2565, 'Copiapó': 2566, 'Ibaraki': 2567, 'Gaya': 2568, 'Hoover': 2569, 'Abbotsford': 2570, 'Calama': 2571, 'Francisco Morato': 2572, 'Sapucaia do Sul': 2573, 'Sinop': 2574, 'Cabo de Santo Agostinho': 2575, 'Cholula': 2576, 'San Fernando del Valle de Catamarca': 2577, 'Guarapari': 2578, 'Campo Grande': 2579, 'Coatzacoalcos': 2580, 'Mococa': 2581, 'Comodoro Rivadavia': 2582, 'Bonao': 2583, 'Tinaquillo': 2584, 'Apucarana': 2585, 'Jinhua': 2586, 'Sakai': 2587, 'Shashi': 2588, 'Taytay': 2589, 'Qazvín': 2590, 'Sonipat': 2591, 'Palmerston': 2592, 'Haikou': 2593, 'Avadi': 2594, 'Shouguang': 2595, 'Handa': 2596, 'Suwon': 2597, 'Birjand': 2598, 'Zhenjiang': 2599, 'Quetta': 2600, 'Rajshahi': 2601, 'Ezhou': 2602, 'Takamatsu': 2603, 'Upper Hutt': 2604, 'Chaohu': 2605, 'Gaziemir': 2606, 'Baranagar': 2607, 'Zhaoyuan': 2608, 'Escondido': 2609, 'Tamarac': 2610, 'The Colony': 2611, 'Skokie': 2612, 'Westminster': 2613, 'Norfolk': 2614, 'League City': 2615, 'Meriden': 2616, 'San Marcos': 2617, 'College Station': 2618, 'Redding': 2619, 'Montebello': 2620, 'Saint Cloud': 2621, 'Kadoma': 2622, 'Durban': 2623, 'Pitesti': 2624, 'Dieppe': 2625, 'Bourg-en-Bresse': 2626, 'Taubaté': 2627, 'São Vicente': 2628, 'Cubatão': 2629, 'Artemisa': 2630, 'Jamshedpur': 2631, 'Polatli': 2632, 'Alanya': 2633, 'Wuxi': 2634, 'Taipei': 2635, 'Guelph': 2636, 'Encinitas': 2637, 'Eagan': 2638, 'Zlatoust': 2639, 'Jersón': 2640, 'Zabrze': 2641, 'Chaville': 2642, 'Pontevedra': 2643, 'Pilsen': 2644, 'Cinisello Balsamo': 2645, 'Haninge': 2646, 'Mijas': 2647, 'Coulommiers': 2648, 'Dronfield': 2649, 'Saint-Brieuc': 2650, 'Outreau': 2651, 'Tallinn': 2652, 'Dewsbury': 2653, 'Tournefeuille': 2654, 'Uberaba': 2655, 'Oriximiná': 2656, 'Bagé': 2657, 'Huaraz': 2658, 'Sagamihara': 2659, 'Jiangdu': 2660, 'Xinshi': 2661, 'Brahmapur': 2662, 'Toyohashi': 2663, 'Laguna Niguel': 2664, 'Grove City': 2665, 'Edmonton': 2666, 'Rockville': 2667, 'Helena': 2668, 'Sparks': 2669, 'Arzgir': 2670, 'Garanhuns': 2671, 'Salta': 2672, 'Bijie': 2673, 'Hampton': 2674, 'Great Falls': 2675, 'Rustenburg': 2676, 'Shkoder': 2677, 'Liaoyang': 2678, 'Thanjavur': 2679, 'Mtwara': 2680, 'Cúa': 2681, 'Hachinohe': 2682, 'Botosani': 2683, 'Aswan': 2684, 'Mohammedia': 2685, 'Antsiranana': 2686, 'Bonneuil-sur-Marne': 2687, 'Breda': 2688, 'Lanester': 2689, 'Clydach': 2690, 'Pestovo': 2691, 'Pulheim': 2692, 'Sabadell': 2693, 'Forst': 2694, 'Lucerna': 2695, 'Ústí nad Labem': 2696, 'Catia La Mar': 2697, 'Presidente Prudente': 2698, 'San Juan del Río': 2699, 'Xining': 2700, 'Bilaspur': 2701, 'Aoba-ku': 2702, 'Xiangtan': 2703, 'Beirut': 2704, 'Tanggu': 2705, 'Chenzhou': 2706, 'Irbid': 2707, 'Brownsville': 2708, 'Shelton': 2709, 'Bethlehem': 2710, 'Midland': 2711, 'Huntington Beach': 2712, 'Bukavu': 2713, 'Rueil-Malmaison': 2714, 'Nicosia': 2715, 'Bron': 2716, 'Teziutlán': 2717, 'Verviers': 2718, 'Brentwood': 2719, 'Echuca': 2720, 'Atlantic City': 2721, 'Kaiserslautern': 2722, 'Patrocínio': 2723, 'Ratlam': 2724, 'Varese': 2725, 'Plaisir': 2726, 'Huambo': 2727, 'Macheng': 2728, 'Medford': 2729, 'Al Mahallah al Kubra': 2730, 'Matadi': 2731, 'Makurdi': 2732, 'Savona': 2733, 'Bielsko-Biala': 2734, 'Bagnolet': 2735, 'Lugoj': 2736, 'Crotone': 2737, 'Northwich': 2738, 'Quibdó': 2739, 'Uberlândia': 2740, 'Dehra Dun': 2741, 'Najafabad': 2742, 'Hamamatsu': 2743, 'Cranston': 2744, 'Niagara Falls': 2745, 'Vence': 2746, 'Fontenay-sous-Bois': 2747, 'Agde': 2748, 'Hiratsuka': 2749, 'Rapid City': 2750, 'Bagamoyo': 2751, 'Brighton': 2752, 'Paulista': 2753, 'Piatra-Neamt': 2754, 'Niterói': 2755, 'Ipswich': 2756, 'Perth Amboy': 2757, 'Manisa': 2758, 'Thomasville': 2759, 'Pocatello': 2760, 'Pueblo': 2761, 'Kindu': 2762, 'Matola': 2763, 'Loum': 2764, 'Gela': 2765, 'Kaspiysk': 2766, 'Bergisch Gladbach': 2767, 'Saint-Priest': 2768, 'La Madeleine': 2769, 'Livingston': 2770, 'Saint-Avold': 2771, 'Lormont': 2772, 'Siedlce': 2773, 'La Chorrera': 2774, 'Río Bravo': 2775, 'Yuyao': 2776, 'Annonay': 2777, 'Siena': 2778, 'Carvin': 2779, 'San Luis': 2780, 'Linhai': 2781, 'Samsun': 2782, 'Deyang': 2783, 'Shaoxing': 2784, 'Linyi': 2785, 'Hailin': 2786, 'Maple Grove': 2787, 'Logan': 2788, 'Madison': 2789, 'Ain Oussera': 2790, 'Vitória da Conquista': 2791, 'Tembisa': 2792, 'Umtata': 2793, 'Barletta': 2794, 'Hod HaSharon': 2795, 'Cavaillon': 2796, 'Vaulx-en-Velin': 2797, 'Montbrison': 2798, 'Clifton': 2799, 'Tete': 2800, 'Sindelfingen': 2801, 'Wafangdian': 2802, 'Kasala': 2803, 'Eggenstein-Leopoldshafen': 2804, 'Cártama': 2805, 'La Roche-sur-Yon': 2806, 'Kassel': 2807, 'Kristiansand': 2808, 'Iserlohn': 2809, 'Thiais': 2810, 'Marano di Napoli': 2811, 'Luohe': 2812, 'Jiamusi': 2813, 'Shushtar': 2814, 'Hebi': 2815, 'Kupang': 2816, 'Shizuishan': 2817, 'Reno': 2818, 'Belleville': 2819, 'Burbank': 2820, 'Tlemcen': 2821, 'Olomouc': 2822, 'Moulins': 2823, 'Barreiras': 2824, 'Camocim': 2825, 'Nevsehir': 2826, 'Aksu': 2827, 'Passos': 2828, 'Campina Grande': 2829, 'Floridablanca': 2830, 'Punta Arenas': 2831, 'Lins': 2832, 'Nagaoka': 2833, 'Yibin': 2834, 'Sialkot': 2835, 'Yushu': 2836, 'Richardson': 2837, 'Danville': 2838, 'Zhangjiakou': 2839, 'Warner Robins': 2840, 'Tekirdag': 2841, 'Villeparisis': 2842, 'Kamarhati': 2843, 'Orsay': 2844, 'Acayucan': 2845, 'Guarujá': 2846, 'Catanduva': 2847, 'Sogamoso': 2848, 'Zhytómyr': 2849, 'Orsha': 2850, 'Zenica': 2851, 'Springdale': 2852, 'Sanford': 2853, 'Hillsboro': 2854, 'Anyang': 2855, 'Oyama': 2856, 'Darlington': 2857, 'Tapachula': 2858, 'Londrina': 2859, 'Disuq': 2860, 'Oakville': 2861, 'Manteca': 2862, 'Stolberg': 2863, 'Les Herbiers': 2864, 'Modena': 2865, 'Duitama': 2866, 'Tremblay-en-France': 2867, 'Southampton': 2868, 'Günzburg': 2869, 'Porlamar': 2870, 'San Luis Obispo': 2871, 'Burnie': 2872, 'Zhoukou': 2873, 'Hamme': 2874, 'Manfredonia': 2875, 'Ancona': 2876, 'Iskenderun': 2877, 'Al Hudayda': 2878, 'Guelma': 2879, 'Bugía': 2880, 'Trebisonda': 2881, 'Bisáu': 2882, 'Ras al Khaymah': 2883, 'Shagamu': 2884, 'Lodi': 2885, 'Longmont': 2886, 'Thornton': 2887, 'Santa Maria': 2888, 'Indaiatuba': 2889, 'Prato': 2890, 'Kirovohrad': 2891, 'Mallawi': 2892, 'Taraz': 2893, 'Kocaeli': 2894, 'Gresham': 2895, 'Karimnagar': 2896, 'Shangyu': 2897, 'Sargodha': 2898, 'Wuhai': 2899, 'Montceau-les-Mines': 2900, 'Molfetta': 2901, 'Thionville': 2902, 'Saint-Chamond': 2903, 'Vesoul': 2904, 'Helmond': 2905, 'Chorzow': 2906, 'Split': 2907, 'Berck': 2908, 'Le Pré-Saint-Gervais': 2909, 'Tournai': 2910, 'Vallauris': 2911, 'Castelnau-le-Lez': 2912, 'Santiago del Estero': 2913, 'Quilmes': 2914, 'Heze': 2915, 'Renqiu': 2916, 'Matsumoto': 2917, 'Kars': 2918, 'Satna': 2919, 'Aksaray': 2920, 'Noda': 2921, 'Paraparaumu': 2922, 'Pompano Beach': 2923, 'Owensboro': 2924, 'Urbandale': 2925, 'Altoona': 2926, 'Highland Park': 2927, 'Tanga': 2928, 'Zilina': 2929, 'Bisceglie': 2930, 'San Angelo': 2931, 'Bouake': 2932, 'Choisy-le-Roi': 2933, 'Xiangfan': 2934, 'Kenner': 2935, 'Mentor': 2936, 'Chengjiang': 2937, 'Silivri': 2938, 'Ouidah': 2939, 'Idfu': 2940, 'Barika': 2941, 'Annecy-le-Vieux': 2942, 'Villiers-le-Bel': 2943, 'Rochefort': 2944, 'Bratsk': 2945, 'High Wycombe': 2946, 'Huddinge': 2947, 'Halesowen': 2948, 'Galway': 2949, 'Weimar': 2950, 'Saint-Pol-sur-Mer': 2951, 'Salavat': 2952, 'Haguenau': 2953, 'Lorient': 2954, 'Orihuela': 2955, 'Blanquefort': 2956, 'Rheine': 2957, 'Sheboygan': 2958, 'Chimoio': 2959, 'Maastricht': 2960, 'Southport': 2961, 'Gandia': 2962, 'Baden-Baden': 2963, 'Montfermeil': 2964, 'Saint-Gratien': 2965, 'Benidorm': 2966, 'Massa': 2967, 'Aix-les-Bains': 2968, 'Palo Negro': 2969, 'Jurema': 2970, 'Nizamabad': 2971, 'Ambon': 2972, 'Malatya': 2973, 'Mount Pleasant': 2974, 'Yuma': 2975, 'Westland': 2976, 'West Allis': 2977, 'Cary': 2978, 'Gap': 2979, 'Fuzhou': 2980, 'Xiantao': 2981, 'Ziguinchor': 2982, 'Den Helder': 2983, 'Enschede': 2984, 'Sioux Falls': 2985, 'Manacapuru': 2986, 'Líbano': 2987, 'Summerville': 2988, 'Nakuru': 2989, 'Epworth': 2990, 'Nguigmi': 2991, 'Parakou': 2992, 'Woking': 2993, 'Barneveld': 2994, 'Hilden': 2995, 'Stockport': 2996, 'Greifswald': 2997, 'Neu-Ulm': 2998, 'Waiblingen': 2999, 'Blois': 3000, 'Gagny': 3001, 'Melun': 3002, 'Goussainville': 3003, 'Faenza': 3004, 'Maubeuge': 3005, 'Cumbernauld': 3006, 'Amstelveen': 3007, 'Sallanches': 3008, 'Divinópolis': 3009, 'Gulbarga': 3010, 'Penglai': 3011, 'Xingtai': 3012, 'Randfontein': 3013, 'Segovia': 3014, 'Chioggia': 3015, 'Gliwice': 3016, 'Lons-le-Saunier': 3017, 'Catalão': 3018, 'Langfang': 3019, 'Ramat Gan': 3020, 'Adiyaman': 3021, 'Timaru': 3022, 'Huzhou': 3023, 'Bandar-e Anzali': 3024, 'Boise': 3025, 'Salinas': 3026, 'Warwick': 3027, 'Santa Helena': 3028, 'Concarneau': 3029, 'Goulburn': 3030, 'Abilene': 3031, 'Chapel Allerton': 3032, 'Jinja': 3033, 'Baraki': 3034, 'Centurion': 3035, 'Uvinza': 3036, 'Morogoro': 3037, 'Toamasina': 3038, 'Asiut': 3039, 'Voiron': 3040, 'Stralsund': 3041, 'La Crau': 3042, 'Bury': 3043, 'Kalundborg': 3044, 'Bergen op Zoom': 3045, 'Oleksandriya': 3046, 'Kidderminster': 3047, 'Gy?r': 3048, 'Dole': 3049, 'Vittoria': 3050, 'Nysa': 3051, 'Sousa': 3052, 'Jaú': 3053, 'El Tigre': 3054, 'Lajeado': 3055, 'Jiaohe': 3056, 'Anshun': 3057, 'Mataram': 3058, 'Kure': 3059, 'Afyon': 3060, 'Jayapura': 3061, 'Tarsus': 3062, 'Diyarbakir': 3063, 'Jingmen': 3064, 'Quanzhou': 3065, 'Chilly-Mazarin': 3066, 'Matehuala': 3067, 'Arcoverde': 3068, 'Kawagoe': 3069, 'Shahjahanpur': 3070, 'Barddhaman': 3071, 'Çanakkale': 3072, 'New Brunswick': 3073, 'Cottage Grove': 3074, 'Eau Claire': 3075, 'Chico': 3076, 'Burnaby': 3077, 'Modesto': 3078, 'Elbasan': 3079, 'Dartmouth': 3080, 'Lagny-sur-Marne': 3081, 'Guatire': 3082, 'Samarra': 3083, 'Macon': 3084, 'West Palm Beach': 3085, 'Tulle': 3086, 'Barretos': 3087, 'Erechim': 3088, 'Huixquilucan': 3089, 'Shuangcheng': 3090, 'Tripoli': 3091, 'Foshan': 3092, 'Suizhou': 3093, 'Ube': 3094, 'Meizhou': 3095, 'Tongliao': 3096, 'Revere': 3097, 'Hot Springs': 3098, 'Woodstock': 3099, 'Rochester Hills': 3100, 'Bullhead City': 3101, 'Vilhena': 3102, 'Milford': 3103, 'Renton': 3104, 'Issoire': 3105, 'Mariupol': 3106, 'Albertville': 3107, 'Khasavyurt': 3108, 'Leoben': 3109, 'Wetter (Ruhr)': 3110, 'Coudekerque-Branche': 3111, 'Poitiers': 3112, 'Trani': 3113, 'Santa Cruz do Sul': 3114, 'Paramaribo': 3115, 'Guatemala City': 3116, 'Cassilândia': 3117, 'Xuanhua': 3118, 'Leshan': 3119, 'Hisar': 3120, 'Kasugai': 3121, 'Tuscaloosa': 3122, 'Temecula': 3123, 'Gulfport': 3124, 'Oxnard': 3125, 'Stockton': 3126, 'Woonsocket': 3127, 'Buffalo Grove': 3128, 'Garland': 3129, 'Edmond': 3130, 'Salon-de-Provence': 3131, 'Taylor': 3132, 'Holland': 3133, 'Al Amarah': 3134, 'Maroua': 3135, 'Moshi': 3136, 'Rubí': 3137, 'Caluire-et-Cuire': 3138, 'Pingxiang': 3139, 'Waukesha': 3140, 'Lawton': 3141, 'Korla': 3142, 'Yamoussoukro': 3143, 'Qena': 3144, 'Bergerac': 3145, 'Sosnowiec': 3146, 'Ermont': 3147, 'Ludwigsburg': 3148, 'Delmenhorst': 3149, 'Quevedo': 3150, 'Araraquara': 3151, 'Chiclayo': 3152, 'Santos': 3153, 'Riberalta': 3154, 'San Ignacio': 3155, 'Taboão da Serra': 3156, 'Tumkur': 3157, 'Cheonan': 3158, 'Boca Raton': 3159, 'Andover': 3160, 'Liubliana': 3161, 'Suining': 3162, 'Kandahar': 3163, 'Shahreza': 3164, 'Ilam': 3165, 'Citrus Heights': 3166, 'Loveland': 3167, 'Akure': 3168, 'Koidu': 3169, 'Uvira': 3170, 'Bauchi': 3171, 'Fort Portal': 3172, 'Terneuzen': 3173, 'Caraguatatuba': 3174, 'Apartadó': 3175, 'Plaisance-du-Touch': 3176, 'Clacton-on-Sea': 3177, 'Getxo': 3178, 'Odivelas': 3179, 'Behbahan': 3180, 'Pickering': 3181, 'Gorzow Wielkopolski': 3182, 'Aydin': 3183, 'Majadahonda': 3184, 'Cuxhaven': 3185, 'Chatham': 3186, 'Bento Gonçalves': 3187, 'Palmares': 3188, 'Zielona Gora': 3189, 'Woodbury': 3190, 'Jalna': 3191, 'Crato': 3192, 'Ciénaga': 3193, 'Dax': 3194, 'Molina de Segura': 3195, 'San Salvador de Jujuy': 3196, 'Halmstad': 3197, 'Gaomi': 3198, 'Wuzhou': 3199, 'Anantapur': 3200, 'Huaihua': 3201, 'Pekalongan': 3202, 'Xinxiang': 3203, 'Guiping': 3204, 'Sartrouville': 3205, 'Bastia': 3206, 'Guimarães': 3207, 'Civitavecchia': 3208, 'Saint-Louis': 3209, 'Agen': 3210, 'Marl': 3211, 'Oullins': 3212, 'Ragusa': 3213, 'Caserta': 3214, 'Valenciennes': 3215, 'Avon': 3216, 'Les Pennes-Mirabeau': 3217, 'Borken': 3218, 'Eskilstuna': 3219, 'Bad Waldsee': 3220, 'South Shields': 3221, 'Osny': 3222, 'Mâcon': 3223, 'Loos': 3224, 'Houilles': 3225, 'Stourbridge': 3226, 'Andradina': 3227, 'Pato Branco': 3228, 'Floriano': 3229, 'Guarenas': 3230, 'Palhoça': 3231, 'Cadereyta': 3232, 'Villavicencio': 3233, 'Delicias': 3234, 'Franco da Rocha': 3235, 'Fernando de la Mora': 3236, 'Várzea Grande': 3237, 'Gravatá': 3238, 'Babol': 3239, 'Mau': 3240, 'Clovis': 3241, 'Saint-Cloud': 3242, 'Igdir': 3243, 'Chipata': 3244, 'Yantai': 3245, 'Zinder': 3246, 'Feira': 3247, 'Pila': 3248, 'Ferndown': 3249, 'Yiyang': 3250, 'Inegol': 3251, 'Delray Beach': 3252, 'Murrieta': 3253, 'Stevenage': 3254, \"Berdyans'k\": 3255, 'Karliova': 3256, 'Roman': 3257, 'Neuwied': 3258, 'Amersfoort': 3259, 'Roosendaal': 3260, 'Polatsk': 3261, 'Saqqez': 3262, 'Nijmegen': 3263, 'Montargis': 3264, 'Oss': 3265, 'Cidade Ocidental': 3266, 'Carapicuíba': 3267, 'Talara': 3268, 'Camarillo': 3269, 'Uithoorn': 3270, 'La Rioja': 3271, 'Rottingdean': 3272, 'Fargo': 3273, 'Drobeta-Turnu Severin': 3274, 'Brantford': 3275, 'Tahta': 3276, 'Brikama': 3277, 'Ris-Orangis': 3278, 'Millau': 3279, 'Harlow': 3280, 'Dunstable': 3281, 'Charallave': 3282, 'Acámbaro': 3283, 'Paço do Lumiar': 3284, 'Barranca': 3285, 'Torbali': 3286, 'Shihezi': 3287, 'Tongi': 3288, 'Takasaki': 3289, 'Dubuque': 3290, 'Whittier': 3291, 'Ontario': 3292, 'Bryan': 3293, 'Cedar Rapids': 3294, 'Elyria': 3295, 'Longueuil': 3296, 'Saint Petersburg': 3297, 'Homestead': 3298, 'Marysville': 3299, 'Ludwigsfelde': 3300, 'Gorgan': 3301, 'Stains': 3302, 'Ipatinga': 3303, \"Oktyabr'skiy\": 3304, 'Royal Oak': 3305, 'Norman': 3306, 'Balmazujvaros': 3307, 'Silopi': 3308, 'Coppell': 3309, 'Rock Hill': 3310, 'Zwedru': 3311, 'Iringa': 3312, 'Gaborone': 3313, 'Guamúchil': 3314, 'Villeneuve-la-Garenne': 3315, 'Briton Ferry': 3316, 'Birobidzhan': 3317, 'Oradea': 3318, 'Ariquemes': 3319, 'Bolu': 3320, 'Changshu': 3321, 'Mutare': 3322, 'Guildford': 3323, 'La Ciotat': 3324, 'Treviglio': 3325, 'Cherbourg-Octeville': 3326, 'Buca': 3327, 'Marlborough': 3328, 'Lichinga': 3329, 'Nuneaton': 3330, 'Mauguio': 3331, 'Zhangzhou': 3332, 'Vanadzor': 3333, 'Greenwood': 3334, 'Grand Island': 3335, 'Kiziltepe': 3336, 'Modica': 3337, 'Semnán': 3338, 'Beipiao': 3339, 'Ann Arbor': 3340, 'Cangzhou': 3341, 'Bozeman': 3342, 'Warrnambool': 3343, 'Jizzakh': 3344, 'Girga': 3345, \"Be'er Sheva\": 3346, 'Umraniye': 3347, 'Sliven': 3348, 'Berrechid': 3349, 'Rafsanjan': 3350, 'Igurusi': 3351, 'Isparta': 3352, 'Rize': 3353, 'Pietermaritzburg': 3354, 'Gusau': 3355, 'Shahriar': 3356, 'Bata': 3357, 'Melitopol': 3358, 'Borazjan': 3359, 'Baqubah': 3360, 'Ar Raqa': 3361, 'Tanta': 3362, 'Stakhanov': 3363, 'Al Khums': 3364, 'Osh': 3365, 'Cape Coast': 3366, 'Tokat': 3367, \"Nal'chik\": 3368, 'Usak': 3369, 'Deva': 3370, 'Mufulira': 3371, 'Khemisset': 3372, 'Kuwait City': 3373, 'Mason': 3374, 'San Clemente': 3375, 'Arlington Heights': 3376, 'Fort Collins': 3377, 'North Miami': 3378, 'Twin Falls': 3379, 'Rancho Cucamonga': 3380, 'San José de Guanipa': 3381, 'Itamaraju': 3382, 'Tatuí': 3383, 'Coari': 3384, 'Senhor do Bonfim': 3385, 'Poços de Caldas': 3386, 'Camaragibe': 3387, 'Chevilly-Larue': 3388, 'Chiclana de la Frontera': 3389, 'Cuneo': 3390, 'Upplands Väsby': 3391, 'Visalia': 3392, 'North Charleston': 3393, 'Thousand Oaks': 3394, 'Draper': 3395, 'Kirkwood': 3396, 'Deltona': 3397, 'Carol Stream': 3398, 'Tinley Park': 3399, 'Conroe': 3400, 'San Mateo': 3401, 'Missouri City': 3402, 'Billings': 3403, 'Jamestown': 3404, 'Coachella': 3405, 'South Bend': 3406, 'Appleton': 3407, 'Whakatane': 3408, 'San Pedro': 3409, 'Cox\\x92s B?z?r': 3410, 'Yongchuan': 3411, 'Zaoyang': 3412, 'Rizhao': 3413, 'Tsukuba': 3414, 'Luanshya': 3415, 'Dartford': 3416, 'Stadtlohn': 3417, 'Teramo': 3418, 'Louviers': 3419, 'Cercola': 3420, 'Allauch': 3421, 'Bracknell': 3422, 'Rosenheim': 3423, 'Casoria': 3424, 'Facatativá': 3425, 'La Pintana': 3426, 'Itapeva': 3427, 'Musoma': 3428, 'Damanhur': 3429, 'Shumen': 3430, 'Gyula': 3431, 'Sorriso': 3432, 'Ordu': 3433, 'Jiaxing': 3434, 'Phuntsholing': 3435, 'Sanming': 3436, 'Suceava': 3437, 'Pazardzhik': 3438, 'Focsani': 3439, 'San Carlos del Zulia': 3440, 'Barra do Piraí': 3441, 'Kazerun': 3442, 'Kawaguchi': 3443, 'Taldyqorghan': 3444, 'Bhilwara': 3445, 'Bharatpur': 3446, 'Ghaziabad': 3447, 'Park Ridge': 3448, 'Canton': 3449, 'Holyoke': 3450, 'Romeoville': 3451, 'Independence': 3452, 'Lubango': 3453, 'Hadera': 3454, 'Ormond Beach': 3455, 'Toliara': 3456, 'Stafford': 3457, 'Kortrijk': 3458, 'Hardenberg': 3459, 'Junín': 3460, 'Dzhezkazgan': 3461, 'Latur': 3462, 'Yuncheng': 3463, 'Bingöl': 3464, 'New Delhi': 3465, 'Laurel': 3466, 'Bellingham': 3467, 'Ponteareas': 3468, 'Gombe': 3469, 'Buriticupu': 3470, 'Piotrkow Trybunalski': 3471, 'Boksburg': 3472, 'Koumra': 3473, 'Villeneuve-Saint-Georges': 3474, 'Cambrai': 3475, 'Karaman': 3476, 'Torbat-e Heydariyeh': 3477, 'Fulda': 3478, 'Javanrud': 3479, 'Sapele': 3480, 'Kara': 3481, 'Gatineau': 3482, 'Czestochowa': 3483, 'Cubuk': 3484, 'East Orange': 3485, 'El Cajon': 3486, 'Chula Vista': 3487, 'Cedar Hill': 3488, 'Moorhead': 3489, 'Las Cruces': 3490, 'New Castle': 3491, 'Grapevine': 3492, 'Jingdezhen': 3493, 'Elbeuf': 3494, 'Bitonto': 3495, 'San Severo': 3496, 'Battipaglia': 3497, 'Andria': 3498, 'Cambé': 3499, 'Pasto': 3500, 'Aalen': 3501, 'Belgrade': 3502, 'Mbinga': 3503, 'Leiden': 3504, 'Sorgues': 3505, 'Guelmim': 3506, 'Buyukcekmece': 3507, 'Stara Zagora': 3508, 'Ibb': 3509, 'Midyat': 3510, 'Pinsk': 3511, 'Sidi Bel Abbes': 3512, 'Ulundi': 3513, 'Zabol': 3514, 'Jastrzebie Zdroj': 3515, 'Dar Chioukh': 3516, 'Cruzeiro do Sul': 3517, 'Mouscron': 3518, 'Riom': 3519, 'La Chapelle-sur-Erdre': 3520, 'Guanare': 3521, 'Chigasaki': 3522, 'Arrentela': 3523, 'Springs': 3524, 'Tartu': 3525, 'Braga': 3526, 'Montería': 3527, 'Katsushika-ku': 3528, 'Juliaca': 3529, 'Neyshabur': 3530, 'Commerce City': 3531, 'Deer Park': 3532, 'El Aaiún': 3533, 'Libourne': 3534, 'Seropédica': 3535, 'Qidong': 3536, 'Moissy-Cramayel': 3537, 'Wendeng': 3538, 'Texarkana': 3539, 'Coon Rapids': 3540, 'Yao': 3541, 'Shimoga': 3542, 'Huangshi': 3543, 'Bafra': 3544, 'Zhuzhou': 3545, 'Gujrat': 3546, 'Liaoyuan': 3547, 'Pearland': 3548, 'Saint Peters': 3549, 'Vanderbijlpark': 3550, \"St. John's\": 3551, 'Samobor': 3552, 'Kissimmee': 3553, 'Hengelo': 3554, 'Detmold': 3555, 'Bitola': 3556, 'Botshabelo': 3557, 'Daloa': 3558, 'Korhogo': 3559, 'Samalut': 3560, 'Myslowice': 3561, 'Duzce': 3562, 'Stanger': 3563, 'Bistrita': 3564, 'Fujisawa': 3565, 'Ashqelon': 3566, 'Davis': 3567, 'Elkhart': 3568, 'Farmington': 3569, 'Tongzhou': 3570, 'Gonesse': 3571, 'Missoula': 3572, 'Shangzhi': 3573, 'Benoni': 3574, 'Sète': 3575, 'Contagem': 3576, 'Amagasaki': 3577, 'El Escorial': 3578, 'Peer': 3579, 'Lindenhurst': 3580, 'Takestan': 3581, 'Senlis': 3582, 'Asti': 3583, 'Limbe': 3584, 'Campo Limpo Paulista': 3585, 'Pingnan': 3586, 'Tottori': 3587, 'Rondonópolis': 3588, 'Yucaipa': 3589, 'Volksrust': 3590, 'Anglet': 3591, 'Urganch': 3592, 'Pico Rivera': 3593, 'Tongling': 3594, 'Liuyang': 3595, 'Nashua': 3596})"
   ]
  },
  {
   "cell_type": "markdown",
   "id": "71ae70a6",
   "metadata": {},
   "source": [
    "### Order Country"
   ]
  },
  {
   "cell_type": "code",
   "execution_count": null,
   "id": "71f83c13",
   "metadata": {
    "scrolled": false
   },
   "outputs": [],
   "source": [
    "# encoded_order_country = encoder.fit_transform(df['Order Country'])\n",
    "# df['Order Country'] = encoded_order_country\n",
    "# df[['Order Country']]"
   ]
  },
  {
   "cell_type": "code",
   "execution_count": null,
   "id": "0a61cbb5",
   "metadata": {
    "scrolled": true
   },
   "outputs": [],
   "source": [
    "Order_Country_list = df['Order Country'].unique()\n",
    "Order_Country_list\n",
    "Order_Country_value = {}\n",
    "for i in range(len(Order_Country_list)):\n",
    "    #print(i)\n",
    "    Order_Country_value.update({Order_Country_list[i]:i})\n",
    "    \n",
    "print(Order_Country_value)"
   ]
  },
  {
   "cell_type": "code",
   "execution_count": null,
   "id": "2f17c42b",
   "metadata": {},
   "outputs": [],
   "source": [
    "df['Order Country'] = df['Order Country'].replace({'Indonesia': 0, 'India': 1, 'Australia': 2, 'China': 3, 'Japón': 4, 'Corea del Sur': 5, 'Singapur': 6, 'Turquía': 7, 'Mongolia': 8, 'Estados Unidos': 9, 'Nigeria': 10, 'República Democrática del Congo': 11, 'Senegal': 12, 'Marruecos': 13, 'Alemania': 14, 'Francia': 15, 'Países Bajos': 16, 'Reino Unido': 17, 'Guatemala': 18, 'El Salvador': 19, 'Panamá': 20, 'República Dominicana': 21, 'Venezuela': 22, 'Colombia': 23, 'Honduras': 24, 'Brasil': 25, 'México': 26, 'Uruguay': 27, 'Argentina': 28, 'Cuba': 29, 'Perú': 30, 'Nicaragua': 31, 'Ecuador': 32, 'Angola': 33, 'Sudán': 34, 'Somalia': 35, 'Costa de Marfil': 36, 'Egipto': 37, 'Italia': 38, 'España': 39, 'Suecia': 40, 'Austria': 41, 'Canada': 42, 'Madagascar': 43, 'Argelia': 44, 'Liberia': 45, 'Zambia': 46, 'Níger': 47, 'SudAfrica': 48, 'Mozambique': 49, 'Tanzania': 50, 'Ruanda': 51, 'Israel': 52, 'Nueva Zelanda': 53, 'Bangladés': 54, 'Tailandia': 55, 'Irak': 56, 'Arabia Saudí': 57, 'Filipinas': 58, 'Kazajistán': 59, 'Irán': 60, 'Myanmar (Birmania)': 61, 'Uzbekistán': 62, 'Benín': 63, 'Camerún': 64, 'Kenia': 65, 'Togo': 66, 'Ucrania': 67, 'Polonia': 68, 'Portugal': 69, 'Rumania': 70, 'Trinidad y Tobago': 71, 'Afganistán': 72, 'Pakistán': 73, 'Vietnam': 74, 'Malasia': 75, 'Finlandia': 76, 'Rusia': 77, 'Irlanda': 78, 'Noruega': 79, 'Eslovaquia': 80, 'Bélgica': 81, 'Bolivia': 82, 'Chile': 83, 'Jamaica': 84, 'Yemen': 85, 'Ghana': 86, 'Guinea': 87, 'Etiopía': 88, 'Bulgaria': 89, 'Kirguistán': 90, 'Georgia': 91, 'Nepal': 92, 'Emiratos Árabes Unidos': 93, 'Camboya': 94, 'Uganda': 95, 'Lesoto': 96, 'Lituania': 97, 'Suiza': 98, 'Hungría': 99, 'Dinamarca': 100, 'Haití': 101, 'Bielorrusia': 102, 'Croacia': 103, 'Laos': 104, 'Baréin': 105, 'Macedonia': 106, 'República Checa': 107, 'Sri Lanka': 108, 'Zimbabue': 109, 'Eritrea': 110, 'Burkina Faso': 111, 'Costa Rica': 112, 'Libia': 113, 'Barbados': 114, 'Tayikistán': 115, 'Siria': 116, 'Guadalupe': 117, 'Papúa Nueva Guinea': 118, 'Azerbaiyán': 119, 'Turkmenistán': 120, 'Paraguay': 121, 'Jordania': 122, 'Hong Kong': 123, 'Martinica': 124, 'Moldavia': 125, 'Qatar': 126, 'Mali': 127, 'Albania': 128, 'República del Congo': 129, 'Bosnia y Herzegovina': 130, 'Omán': 131, 'Túnez': 132, 'Sierra Leona': 133, 'Yibuti': 134, 'Burundi': 135, 'Montenegro': 136, 'Gabón': 137, 'Sudán del Sur': 138, 'Luxemburgo': 139, 'Namibia': 140, 'Mauritania': 141, 'Grecia': 142, 'Suazilandia': 143, 'Guyana': 144, 'Guayana Francesa': 145, 'República Centroafricana': 146, 'Taiwán': 147, 'Estonia': 148, 'Líbano': 149, 'Chipre': 150, 'Guinea-Bissau': 151, 'Surinam': 152, 'Belice': 153, 'Eslovenia': 154, 'República de Gambia': 155, 'Botsuana': 156, 'Armenia': 157, 'Guinea Ecuatorial': 158, 'Kuwait': 159, 'Bután': 160, 'Chad': 161, 'Serbia': 162, 'Sáhara Occidental': 163})"
   ]
  },
  {
   "cell_type": "markdown",
   "id": "0ac53197",
   "metadata": {},
   "source": [
    "### order region"
   ]
  },
  {
   "cell_type": "markdown",
   "id": "9daae1c0",
   "metadata": {},
   "source": [
    "this is our target column"
   ]
  },
  {
   "cell_type": "markdown",
   "id": "aacce4c5",
   "metadata": {},
   "source": [
    "### Order State"
   ]
  },
  {
   "cell_type": "code",
   "execution_count": null,
   "id": "f36826ec",
   "metadata": {},
   "outputs": [],
   "source": [
    "df['Order State'].value_counts().to_dict()"
   ]
  },
  {
   "cell_type": "code",
   "execution_count": null,
   "id": "927e4065",
   "metadata": {
    "scrolled": false
   },
   "outputs": [],
   "source": [
    "# encoded_order_state = encoder.fit_transform(df['Order State'])\n",
    "# df['Order State'] = encoded_order_state\n",
    "# df[['Order State']]"
   ]
  },
  {
   "cell_type": "code",
   "execution_count": null,
   "id": "193987af",
   "metadata": {
    "scrolled": true
   },
   "outputs": [],
   "source": [
    "Order_State_list = df['Order State'].unique()\n",
    "Order_State_list\n",
    "Order_State_value = {}\n",
    "for i in range(len(Order_Country_list)):\n",
    "    #print(i)\n",
    "    Order_State_value.update({Order_State_list[i]:i})\n",
    "    \n",
    "print(Order_State_value)"
   ]
  },
  {
   "cell_type": "code",
   "execution_count": null,
   "id": "62fe8943",
   "metadata": {},
   "outputs": [],
   "source": [
    "df['Order State'] = df['Order State'].replace({'Java Occidental': 0, 'Rajastán': 1, 'Queensland': 2, 'Guangdong': 3, 'Tokio': 4, 'Célebes Septentrional': 5, 'Maharashtra': 6, 'Seúl': 7, 'Madhya Pradesh': 8, 'Victoria': 9, 'Australia Occidental': 10, 'Guangxi': 11, 'Delhi': 12, 'Gansu': 13, 'Singapur': 14, 'Karnataka': 15, 'Nueva Gales del Sur': 16, 'Sumatra Septentrional': 17, 'Territorio de la Capital Australiana': 18, 'Zhejiang': 19, 'Uttar Pradesh': 20, 'Bursa': 21, 'Australia del Sur': 22, 'Estambul': 23, 'Ulán Bator': 24, 'Washington': 25, 'California': 26, 'Kansas': 27, 'Cross River': 28, 'Kinshasa': 29, 'Dakar': 30, 'Gran Casablanca': 31, 'Renania del Norte-Westfalia': 32, 'Isla de Francia': 33, 'Países del Loira': 34, 'Groningen': 35, 'Inglaterra': 36, 'Alsacia-Champaña-Ardenas-Lorena': 37, 'Provenza-Alpes-Costa Azul': 38, 'Guatemala': 39, 'San Salvador': 40, 'Chiriquí': 41, 'Santo Domingo': 42, 'Zulia': 43, 'Risaralda': 44, 'Francisco Morazán': 45, 'Bahía': 46, 'Distrito Federal': 47, 'Jalisco': 48, 'Puebla': 49, 'São Paulo': 50, 'Montevideo': 51, 'Buenos Aires': 52, 'Paraná': 53, 'Camagüey': 54, 'Las Tunas': 55, 'Nayarit': 56, 'Panamá': 57, 'México': 58, 'Alagoas': 59, 'Minas Gerais': 60, 'Santiago de Cuba': 61, 'Cortés': 62, 'Lima (ciudad)': 63, 'Holguín': 64, 'Veracruz': 65, 'Managua': 66, 'Tabasco': 67, 'Ceará': 68, 'Isla de la Juventud': 69, 'Chimaltenango': 70, 'Pichincha': 71, 'Guárico': 72, 'Marañón': 73, 'León': 74, 'Río Negro': 75, 'Atlántida': 76, 'Bié': 77, 'Jartum': 78, 'Gobolka Woqooyi Galbeed': 79, 'Garb-Chrarda-Beni Hsen': 80, 'Lagunes': 81, 'Ash Sharqiyah': 82, 'Umbría': 83, 'Bavaria': 84, 'Sajonia-Anhalt': 85, 'Bremen': 86, 'Campania': 87, 'Sicilia': 88, 'Madrid': 89, 'Cataluña': 90, 'Norte-Paso de Calais-Picardía': 91, 'Aquitania-Lemosín-Poitou-Charentes': 92, 'Escocia': 93, 'Baja Sajonia': 94, 'País Vasco': 95, 'Estocolmo': 96, 'Holanda Septentrional': 97, 'Viena': 98, 'Texas': 99, 'Arizona': 100, 'Ohio': 101, 'Indiana': 102, 'Ontario': 103, 'Pensilvania': 104, 'Illinois': 105, 'Analamanga': 106, 'Alger': 107, 'Montserrado': 108, 'Fromager': 109, 'Meridional': 110, 'Fez-Bulmán': 111, 'El Cairo': 112, 'Al Bahr al Ahmar': 113, 'Niamey': 114, 'Rabat-Salé-Zemur-Zaer': 115, 'Gauteng': 116, 'Marrakech-Tensift-Al Hauz': 117, 'Mar Rojo': 118, 'Lagos': 119, 'Zambezia': 120, 'Cabo Oriental': 121, 'Shinyanga': 122, 'Jubbada Hoose': 123, 'KwaZulu-Natal': 124, 'Jerusalén': 125, 'Wellington': 126, 'Daca': 127, 'Bangkok': 128, 'Bagdad': 129, 'Adana': 130, 'Riad': 131, 'Tianjin': 132, 'Otago': 133, 'Capital Nacional': 134, 'Mersin': 135, 'Karagandá': 136, 'Shandong': 137, 'Jiangsu': 138, 'Liaoning': 139, 'Hunan': 140, 'Kerman': 141, 'Guyarat': 142, 'Java Central': 143, 'Rangún': 144, 'Kütahya': 145, 'Namangán': 146, 'Hubei': 147, 'Heilongjiang': 148, 'Mono': 149, 'Akwa Ibom': 150, 'Delta': 151, 'Bandundu': 152, 'Ouest': 153, 'Luanda': 154, 'Borno': 155, 'Nairobi': 156, 'Copperbelt': 157, 'Littoral': 158, 'Kasai Oriental': 159, 'Marítima': 160, 'Boeny': 161, 'Kano': 162, 'Annaba': 163})"
   ]
  },
  {
   "cell_type": "markdown",
   "id": "2608b576",
   "metadata": {},
   "source": [
    "### Order Status"
   ]
  },
  {
   "cell_type": "code",
   "execution_count": null,
   "id": "b77f9322",
   "metadata": {},
   "outputs": [],
   "source": [
    "df['Order Status'].value_counts().to_dict()"
   ]
  },
  {
   "cell_type": "code",
   "execution_count": null,
   "id": "56f746e8",
   "metadata": {},
   "outputs": [],
   "source": [
    "df['Order Status'] = df['Order Status'].replace({'COMPLETE': 0,\n",
    " 'PENDING_PAYMENT': 1,\n",
    " 'PROCESSING': 2,\n",
    " 'PENDING': 3,\n",
    " 'CLOSED': 4,\n",
    " 'ON_HOLD': 5,\n",
    " 'SUSPECTED_FRAUD': 6,\n",
    " 'CANCELED': 7,\n",
    " 'PAYMENT_REVIEW': 8})"
   ]
  },
  {
   "cell_type": "code",
   "execution_count": null,
   "id": "ec1d9606",
   "metadata": {},
   "outputs": [],
   "source": [
    "Order_Status_value = {'COMPLETE': 0,\n",
    " 'PENDING_PAYMENT': 1,\n",
    " 'PROCESSING': 2,\n",
    " 'PENDING': 3,\n",
    " 'CLOSED': 4,\n",
    " 'ON_HOLD': 5,\n",
    " 'SUSPECTED_FRAUD': 6,\n",
    " 'CANCELED': 7,\n",
    " 'PAYMENT_REVIEW': 8}\n",
    "Order_Status_value"
   ]
  },
  {
   "cell_type": "code",
   "execution_count": null,
   "id": "a59e73e0",
   "metadata": {},
   "outputs": [],
   "source": [
    "df['Order Status'].value_counts()"
   ]
  },
  {
   "cell_type": "markdown",
   "id": "373a3ca5",
   "metadata": {},
   "source": [
    "### Product Card Id"
   ]
  },
  {
   "cell_type": "code",
   "execution_count": null,
   "id": "293d1435",
   "metadata": {},
   "outputs": [],
   "source": [
    "df['Product Card Id'].value_counts()"
   ]
  },
  {
   "cell_type": "markdown",
   "id": "58849f57",
   "metadata": {},
   "source": [
    "### Product Category Id"
   ]
  },
  {
   "cell_type": "code",
   "execution_count": null,
   "id": "b6c7f276",
   "metadata": {},
   "outputs": [],
   "source": [
    "df['Product Category Id'].value_counts()"
   ]
  },
  {
   "cell_type": "markdown",
   "id": "c6d62826",
   "metadata": {},
   "source": [
    "### Product Name"
   ]
  },
  {
   "cell_type": "code",
   "execution_count": null,
   "id": "e3469a05",
   "metadata": {},
   "outputs": [],
   "source": [
    "df['Product Name'].value_counts().to_dict()"
   ]
  },
  {
   "cell_type": "code",
   "execution_count": null,
   "id": "cea8ea92",
   "metadata": {},
   "outputs": [],
   "source": [
    "df['Product Name'].nunique()"
   ]
  },
  {
   "cell_type": "code",
   "execution_count": null,
   "id": "ab675a02",
   "metadata": {
    "scrolled": true
   },
   "outputs": [],
   "source": [
    "# encoded_product_name = encoder.fit_transform(df['Product Name'])\n",
    "# df['Product Name'] = encoded_product_name\n",
    "# df[['Product Name']]"
   ]
  },
  {
   "cell_type": "code",
   "execution_count": null,
   "id": "a39165ef",
   "metadata": {
    "scrolled": true
   },
   "outputs": [],
   "source": [
    "Product_Name_list = df['Product Name'].unique()\n",
    "Product_Name_list\n",
    "Product_Name_value = {}\n",
    "for i in range(len(Product_Name_list)):\n",
    "    #print(i)\n",
    "    Product_Name_value.update({Product_Name_list[i]:i})\n",
    "    \n",
    "print(Product_Name_value)"
   ]
  },
  {
   "cell_type": "code",
   "execution_count": null,
   "id": "98938db4",
   "metadata": {},
   "outputs": [],
   "source": [
    "df['Product Name'] = df['Product Name'].replace({'Smart watch ': 0, 'Perfect Fitness Perfect Rip Deck': 1, \"Under Armour Girls' Toddler Spine Surge Runni\": 2, \"Nike Men's Dri-FIT Victory Golf Polo\": 3, \"Under Armour Men's Compression EV SL Slide\": 4, \"Under Armour Women's Micro G Skulpt Running S\": 5, \"Nike Men's Free 5.0+ Running Shoe\": 6, \"Glove It Women's Mod Oval 3-Zip Carry All Gol\": 7, 'Bridgestone e6 Straight Distance NFL San Dieg': 8, \"Columbia Men's PFG Anchor Tough T-Shirt\": 9, 'Titleist Pro V1x Golf Balls': 10, 'Bridgestone e6 Straight Distance NFL Tennesse': 11, 'Polar FT4 Heart Rate Monitor': 12, 'ENO Atlas Hammock Straps': 13, \"adidas Men's F10 Messi TRX FG Soccer Cleat\": 14, \"Brooks Women's Ghost 6 Running Shoe\": 15, \"Nike Men's CJ Elite 2 TD Football Cleat\": 16, \"Diamondback Women's Serene Classic Comfort Bi\": 17, 'Industrial consumer electronics': 18, 'Web Camera': 19, 'Dell Laptop': 20, 'SOLE E25 Elliptical': 21, 'Elevation Training Mask 2.0': 22, \"adidas Men's Germany Black Crest Away Tee\": 23, 'Team Golf Pittsburgh Steelers Putter Grip': 24, 'Glove It Urban Brick Golf Towel': 25, 'Team Golf Texas Longhorns Putter Grip': 26, \"Nike Men's Deutschland Weltmeister Winners Bl\": 27, 'Team Golf St. Louis Cardinals Putter Grip': 28, 'Summer dresses': 29, 'Porcelain crafts': 30, \"Men's gala suit\": 31, 'Team Golf Tennessee Volunteers Putter Grip': 32, 'Team Golf San Francisco Giants Putter Grip': 33, 'Glove It Imperial Golf Towel': 34, \"Nike Men's Comfort 2 Slide\": 35, 'Under Armour Hustle Storm Medium Duffle Bag': 36, \"Under Armour Kids' Mercenary Slide\": 37, \"Under Armour Women's Ignite PIP VI Slide\": 38, \"Nike Men's Free TR 5.0 TB Training Shoe\": 39, 'adidas Youth Germany Black/Red Away Match Soc': 40, \"TYR Boys' Team Digi Jammer\": 41, \"Glove It Women's Imperial Golf Glove\": 42, 'Titleist Pro V1x High Numbers Golf Balls': 43, 'Bridgestone e6 Straight Distance NFL Carolina': 44, \"Under Armour Women's Ignite Slide\": 45, 'Titleist Pro V1x High Numbers Personalized Go': 46, 'GoPro HERO3+ Black Edition Camera': 47, 'Total Gym 1400': 48, \"Children's heaters\": 49, 'Team Golf New England Patriots Putter Grip': 50, \"adidas Kids' F5 Messi FG Soccer Cleat\": 51, \"Nike Women's Tempo Shorts\": 52, \"Glove It Women's Mod Oval Golf Glove\": 53, 'Titleist Pro V1 High Numbers Personalized Gol': 54, \"Under Armour Men's Tech II T-Shirt\": 55, 'Baby sweater': 56, 'Mio ALPHA Heart Rate Monitor/Sport Watch': 57, 'Field & Stream Sportsman 16 Gun Fire Safe': 58, 'Sports Books ': 59, \"Diamondback Boys' Insight 24 Performance Hybr\": 60, 'Polar Loop Activity Tracker': 61, 'Garmin Forerunner 910XT GPS Watch': 62, 'DVDs ': 63, 'CDs of rock': 64, \"Nike Kids' Grade School KD VI Basketball Shoe\": 65, \"Nike Women's Free 5.0 TR FIT PRT 4 Training S\": 66, \"Hirzl Women's Soffft Flex Golf Glove\": 67, \"The North Face Women's Recon Backpack\": 68, 'Lawn mower': 69, 'Nike Dri-FIT Crew Sock 6 Pack': 70, \"Nike Women's Legend V-Neck T-Shirt\": 71, 'Garmin Approach S4 Golf GPS Watch': 72, 'insta-bed Neverflat Air Mattress': 73, \"Nike Men's Kobe IX Elite Low Basketball Shoe\": 74, 'Adult dog supplies': 75, 'First aid kit': 76, 'Garmin Approach S3 Golf GPS Watch': 77, 'Rock music': 78, 'Fighting video games': 79, 'Fitbit The One Wireless Activity & Sleep Trac': 80, 'Stiga Master Series ST3100 Competition Indoor': 81, \"Diamondback Girls' Clarity 24 Hybrid Bike 201\": 82, 'adidas Brazuca 2014 Official Match Ball': 83, 'GolfBuddy VT3 GPS Watch': 84, 'Bushnell Pro X7 Jolt Slope Rangefinder': 85, 'Yakima DoubleDown Ace Hitch Mount 4-Bike Rack': 86, \"Nike Men's Fingertrap Max Training Shoe\": 87, 'Bowflex SelectTech 1090 Dumbbells': 88, 'SOLE E35 Elliptical': 89, \"Hirzl Women's Hybrid Golf Glove\": 90, \"Hirzl Men's Hybrid Golf Glove\": 91, 'TaylorMade 2014 Purelite Stand Bag': 92, 'Bag Boy Beverage Holder': 93, 'Bag Boy M330 Push Cart': 94, 'Clicgear 8.0 Shoe Brush': 95, 'Titleist Small Wheeled Travel Cover': 96, 'Clicgear Rovic Cooler Bag': 97, 'Titleist Club Glove Travel Cover': 98, 'Ogio Race Golf Shoes': 99, \"LIJA Women's Argyle Golf Polo\": 100, \"LIJA Women's Eyelet Sleeveless Golf Polo\": 101, \"LIJA Women's Button Golf Dress\": 102, \"LIJA Women's Mid-Length Panel Golf Shorts\": 103, \"TaylorMade Women's RBZ SL Rescue\": 104, \"Cleveland Golf Women's 588 RTX CB Satin Chrom\": 105, \"Top Flite Women's 2014 XL Hybrid\": 106, 'MDGolf Pittsburgh Penguins Putter': 107, 'TaylorMade White Smoke IN-12 Putter': 108, 'Cleveland Golf Collegiate My Custom Wedge 588': 109, \"Merrell Men's All Out Flash Trail Running Sho\": 110, \"Merrell Women's Grassbow Sport Waterproof Hik\": 111, \"Merrell Women's Siren Mid Waterproof Hiking B\": 112, \"Merrell Women's Grassbow Sport Hiking Shoe\": 113, 'Toys ': 114, 'Pelican Sunstream 100 Kayak': 115, 'Pelican Maverick 100X Kayak': 116, \"O'Brien Men's Neoprene Life Vest\": 117})"
   ]
  },
  {
   "cell_type": "markdown",
   "id": "6e656a1b",
   "metadata": {},
   "source": [
    "### Product Price"
   ]
  },
  {
   "cell_type": "code",
   "execution_count": null,
   "id": "223754a5",
   "metadata": {},
   "outputs": [],
   "source": [
    "df['Product Price'].value_counts()"
   ]
  },
  {
   "cell_type": "markdown",
   "id": "754a6e20",
   "metadata": {},
   "source": [
    "### Product Status"
   ]
  },
  {
   "cell_type": "code",
   "execution_count": null,
   "id": "67bbfa58",
   "metadata": {},
   "outputs": [],
   "source": [
    "df['Product Status'].value_counts()"
   ]
  },
  {
   "cell_type": "markdown",
   "id": "0d326aa7",
   "metadata": {},
   "source": [
    "### shipping date (DateOrders)"
   ]
  },
  {
   "cell_type": "code",
   "execution_count": null,
   "id": "f330499d",
   "metadata": {},
   "outputs": [],
   "source": [
    "df['shipping date (DateOrders)'].value_counts().to_dict()"
   ]
  },
  {
   "cell_type": "code",
   "execution_count": null,
   "id": "bf582335",
   "metadata": {},
   "outputs": [],
   "source": [
    "# In this example, we first define the date format to match the given date string (\"%m/%d/%Y %H:%M\" represents \n",
    "# the format \"month/day/year hour:minute\"). Then, we use the strptime() function to convert the date string into\n",
    "# a datetime object. Finally, we use the mktime() function from the time module to convert the datetime object\n",
    "# to a Unix timestamp."
   ]
  },
  {
   "cell_type": "code",
   "execution_count": null,
   "id": "3e3f3474",
   "metadata": {},
   "outputs": [],
   "source": [
    "from datetime import datetime\n",
    "import time\n",
    "\n",
    "date_format = \"%m/%d/%Y %H:%M\"\n",
    "for i in df[\"shipping date (DateOrders)\"]:\n",
    "    date_object = datetime.strptime(i, date_format)\n",
    "    timestamp = int(time.mktime(date_object.timetuple()))\n",
    "df[\"shipping date (DateOrders)\"] = timestamp"
   ]
  },
  {
   "cell_type": "code",
   "execution_count": null,
   "id": "6fcc0594",
   "metadata": {},
   "outputs": [],
   "source": [
    "df[\"shipping date (DateOrders)\"]"
   ]
  },
  {
   "cell_type": "markdown",
   "id": "7bf7c3d5",
   "metadata": {},
   "source": [
    "### Shipping Mode"
   ]
  },
  {
   "cell_type": "code",
   "execution_count": null,
   "id": "91549ca0",
   "metadata": {},
   "outputs": [],
   "source": [
    "df['Shipping Mode'].value_counts().to_dict()"
   ]
  },
  {
   "cell_type": "code",
   "execution_count": null,
   "id": "cd284048",
   "metadata": {},
   "outputs": [],
   "source": [
    "df['Shipping Mode'] = df['Shipping Mode'].replace({'Standard Class': 0,\n",
    " 'Second Class': 1,\n",
    " 'First Class': 2,\n",
    " 'Same Day': 3})"
   ]
  },
  {
   "cell_type": "code",
   "execution_count": null,
   "id": "e38b2ccf",
   "metadata": {},
   "outputs": [],
   "source": [
    "Shipping_Mode_value = {'Standard Class': 0,\n",
    " 'Second Class': 1,\n",
    " 'First Class': 2,\n",
    " 'Same Day': 3}\n",
    "Shipping_Mode_value"
   ]
  },
  {
   "cell_type": "code",
   "execution_count": null,
   "id": "b294e97c",
   "metadata": {},
   "outputs": [],
   "source": [
    "df['Shipping Mode'].value_counts().to_dict()"
   ]
  },
  {
   "cell_type": "markdown",
   "id": "adb9ea3f",
   "metadata": {},
   "source": [
    "## Outliers Imputation"
   ]
  },
  {
   "cell_type": "markdown",
   "id": "79f7dcc9",
   "metadata": {},
   "source": [
    "###  Days for shipping (real)"
   ]
  },
  {
   "cell_type": "code",
   "execution_count": null,
   "id": "b4d6f0b3",
   "metadata": {},
   "outputs": [],
   "source": [
    "%matplotlib inline"
   ]
  },
  {
   "cell_type": "code",
   "execution_count": null,
   "id": "949f1d5d",
   "metadata": {},
   "outputs": [],
   "source": [
    "sns.boxplot(df[\"Days for shipping (real)\"])"
   ]
  },
  {
   "cell_type": "markdown",
   "id": "2a0c38ac",
   "metadata": {},
   "source": [
    "### Days for shipment (scheduled)"
   ]
  },
  {
   "cell_type": "code",
   "execution_count": null,
   "id": "1ca6313f",
   "metadata": {
    "scrolled": false
   },
   "outputs": [],
   "source": [
    "sns.boxplot(df[\"Days for shipment (scheduled)\"])"
   ]
  },
  {
   "cell_type": "markdown",
   "id": "446cd116",
   "metadata": {},
   "source": [
    "### Benefit per order"
   ]
  },
  {
   "cell_type": "code",
   "execution_count": null,
   "id": "3db4e191",
   "metadata": {
    "scrolled": true
   },
   "outputs": [],
   "source": [
    "sns.boxplot(df[\"Benefit per order\"])"
   ]
  },
  {
   "cell_type": "code",
   "execution_count": null,
   "id": "2b600f14",
   "metadata": {},
   "outputs": [],
   "source": [
    "q1 = df[\"Benefit per order\"].quantile(0.25)\n",
    "q2 = df[\"Benefit per order\"].quantile(0.50)\n",
    "q3 = df[\"Benefit per order\"].quantile(0.75)\n",
    "\n",
    "iqr = q3 - q1\n",
    "\n",
    "uppertail = q3 + 1.5 * iqr\n",
    "lowertail = q1 - 1.5 * iqr\n",
    "\n",
    "print(\"iqr:\", iqr)\n",
    "print(\"uppertail:\", uppertail)\n",
    "print(\"lowertail:\", lowertail)"
   ]
  },
  {
   "cell_type": "code",
   "execution_count": null,
   "id": "2d9586dd",
   "metadata": {
    "scrolled": true
   },
   "outputs": [],
   "source": [
    "df[\"Benefit per order\"].loc[df[\"Benefit per order\"] > uppertail]"
   ]
  },
  {
   "cell_type": "code",
   "execution_count": null,
   "id": "1e69c4eb",
   "metadata": {},
   "outputs": [],
   "source": [
    "df[\"Benefit per order\"].loc[df[\"Benefit per order\"] < lowertail]"
   ]
  },
  {
   "cell_type": "markdown",
   "id": "c569a415",
   "metadata": {},
   "source": [
    "### Sales per customer"
   ]
  },
  {
   "cell_type": "code",
   "execution_count": null,
   "id": "de26d551",
   "metadata": {
    "scrolled": false
   },
   "outputs": [],
   "source": [
    "sns.boxenplot(df[\"Sales per customer\"])"
   ]
  },
  {
   "cell_type": "code",
   "execution_count": null,
   "id": "24cba565",
   "metadata": {},
   "outputs": [],
   "source": [
    "q1 = df[\"Sales per customer\"].quantile(0.25)\n",
    "q2 = df[\"Sales per customer\"].quantile(0.50)\n",
    "q3 = df[\"Sales per customer\"].quantile(0.75)\n",
    "\n",
    "iqr = q3 - q1\n",
    "\n",
    "uppertail = q3 + 1.5 * iqr\n",
    "lowertail = q1 - 1.5 * iqr\n",
    "\n",
    "print(\"iqr:\", iqr)\n",
    "print(\"uppertail:\", uppertail)\n",
    "print(\"lowertail:\", lowertail)"
   ]
  },
  {
   "cell_type": "code",
   "execution_count": null,
   "id": "f5deccd4",
   "metadata": {
    "scrolled": true
   },
   "outputs": [],
   "source": [
    "df[\"Sales per customer\"].loc[df[\"Sales per customer\"] > uppertail]"
   ]
  },
  {
   "cell_type": "code",
   "execution_count": null,
   "id": "3f820ef2",
   "metadata": {
    "scrolled": false
   },
   "outputs": [],
   "source": [
    "df[\"Sales per customer\"].loc[df[\"Sales per customer\"] < lowertail]"
   ]
  },
  {
   "cell_type": "code",
   "execution_count": null,
   "id": "ad2dd5cc",
   "metadata": {},
   "outputs": [],
   "source": [
    "df.loc[(df[\"Sales per customer\"] > uppertail), \"Sales per customer\"] = uppertail"
   ]
  },
  {
   "cell_type": "code",
   "execution_count": null,
   "id": "6eba46f0",
   "metadata": {},
   "outputs": [],
   "source": [
    "sns.boxenplot(df[\"Sales per customer\"])"
   ]
  },
  {
   "cell_type": "markdown",
   "id": "b60ae5d8",
   "metadata": {},
   "source": [
    "### Late_delivery_risk "
   ]
  },
  {
   "cell_type": "code",
   "execution_count": null,
   "id": "db6c122f",
   "metadata": {},
   "outputs": [],
   "source": [
    "sns.boxplot(df[\"Late_delivery_risk\"])"
   ]
  },
  {
   "cell_type": "markdown",
   "id": "16b35c61",
   "metadata": {},
   "source": [
    "### Category Id"
   ]
  },
  {
   "cell_type": "code",
   "execution_count": null,
   "id": "bd5df266",
   "metadata": {
    "scrolled": false
   },
   "outputs": [],
   "source": [
    "sns.boxplot(df[\"Category Id\"])"
   ]
  },
  {
   "cell_type": "markdown",
   "id": "802de8ca",
   "metadata": {},
   "source": [
    "### Order Item Discount"
   ]
  },
  {
   "cell_type": "markdown",
   "id": "33e62029",
   "metadata": {},
   "source": [
    "#### handling outliers"
   ]
  },
  {
   "cell_type": "code",
   "execution_count": null,
   "id": "9d073860",
   "metadata": {},
   "outputs": [],
   "source": [
    "q1= df[\"Order Item Discount\"].quantile(0.25)\n",
    "q2= df[\"Order Item Discount\"].quantile(0.50)\n",
    "q3= df[\"Order Item Discount\"].quantile(0.75)\n",
    "\n",
    "median= df[\"Order Item Discount\"].median()\n",
    "\n",
    "iqr= q3-q1\n",
    "\n",
    "upper_tail= q3 + 1.5*iqr\n",
    "lower_tail= q1 - 1.5*iqr\n",
    "\n",
    "print(\"Q1--> \", q1)\n",
    "print(\"Q2--> \", q2)\n",
    "print(\"Q3--> \", q3)\n",
    "\n",
    "print(\"Median--> \", median)\n",
    "print(\"Upper_tail--> \", upper_tail)\n",
    "print(\"Lower_tail--> \", lower_tail)"
   ]
  },
  {
   "cell_type": "code",
   "execution_count": null,
   "id": "1c01ef24",
   "metadata": {},
   "outputs": [],
   "source": [
    "# upper_tail outliers\n",
    "\n",
    "df[[\"Order Item Discount\"]].loc[df[\"Order Item Discount\"] > upper_tail]"
   ]
  },
  {
   "cell_type": "code",
   "execution_count": null,
   "id": "84557ff4",
   "metadata": {},
   "outputs": [],
   "source": [
    "df.loc[(df[\"Order Item Discount\"] > upper_tail), \"Order Item Discount\"] = upper_tail"
   ]
  },
  {
   "cell_type": "code",
   "execution_count": null,
   "id": "bc67a2b5",
   "metadata": {},
   "outputs": [],
   "source": [
    "df[[\"Order Item Discount\"]].loc[df[\"Order Item Discount\"] > upper_tail]"
   ]
  },
  {
   "cell_type": "code",
   "execution_count": null,
   "id": "7adbeec7",
   "metadata": {
    "scrolled": false
   },
   "outputs": [],
   "source": [
    "sns.boxplot(df[\"Order Item Discount\"])\n",
    "plt.show()"
   ]
  },
  {
   "cell_type": "markdown",
   "id": "92c5d939",
   "metadata": {},
   "source": [
    "### order date (DateOrders)"
   ]
  },
  {
   "cell_type": "code",
   "execution_count": null,
   "id": "3ba3a0eb",
   "metadata": {
    "scrolled": false
   },
   "outputs": [],
   "source": [
    "df[\"order date (DateOrders)\"]"
   ]
  },
  {
   "cell_type": "code",
   "execution_count": null,
   "id": "a4833630",
   "metadata": {},
   "outputs": [],
   "source": [
    "# In this example, we first define the date format to match the given date string (\"%m/%d/%Y %H:%M\" represents \n",
    "# the format \"month/day/year hour:minute\"). Then, we use the strptime() function to convert the date string into\n",
    "# a datetime object. Finally, we use the mktime() function from the time module to convert the datetime object\n",
    "# to a Unix timestamp."
   ]
  },
  {
   "cell_type": "code",
   "execution_count": null,
   "id": "d8fed9a7",
   "metadata": {},
   "outputs": [],
   "source": [
    "from datetime import datetime\n",
    "import time\n",
    "\n",
    "date_format = \"%m/%d/%Y %H:%M\"\n",
    "for i in df[\"order date (DateOrders)\"]:\n",
    "    date_object = datetime.strptime(i, date_format)\n",
    "    timestamp = int(time.mktime(date_object.timetuple()))\n",
    "    df[\"order date (DateOrders)\"]=timestamp"
   ]
  },
  {
   "cell_type": "markdown",
   "id": "8bac1e52",
   "metadata": {},
   "source": [
    "# Feature Selection"
   ]
  },
  {
   "cell_type": "markdown",
   "id": "95c10eb9",
   "metadata": {},
   "source": [
    "### 1) Linearity"
   ]
  },
  {
   "cell_type": "code",
   "execution_count": null,
   "id": "6deb2785",
   "metadata": {},
   "outputs": [],
   "source": [
    "df.corr()"
   ]
  },
  {
   "cell_type": "code",
   "execution_count": null,
   "id": "8824dc4e",
   "metadata": {
    "scrolled": false
   },
   "outputs": [],
   "source": [
    "plt.figure(figsize=(20,20))\n",
    "sns.heatmap(df.corr(), annot=True)"
   ]
  },
  {
   "cell_type": "markdown",
   "id": "afbcbbc3",
   "metadata": {},
   "source": [
    "### 2) No Multicolinearity"
   ]
  },
  {
   "cell_type": "code",
   "execution_count": null,
   "id": "1fa81ed3",
   "metadata": {},
   "outputs": [],
   "source": [
    "df1 = df.drop(\"Order Region\", axis=1)"
   ]
  },
  {
   "cell_type": "code",
   "execution_count": null,
   "id": "7c28cad3",
   "metadata": {},
   "outputs": [],
   "source": [
    "# vif_list = []\n",
    "# for i in range(df1.shape[1]):\n",
    "#     vif = variance_inflation_factor(df1, i)\n",
    "#     vif_list.append(vif)\n",
    "# s1 = pd.Series(vif_list)\n",
    "# s1.sort_values().plot(kind=\"barh\")"
   ]
  },
  {
   "cell_type": "markdown",
   "id": "e2fb03fb",
   "metadata": {},
   "source": [
    "# Model Building"
   ]
  },
  {
   "cell_type": "markdown",
   "id": "6daf3fc4",
   "metadata": {},
   "source": [
    "### Train Test Splitting"
   ]
  },
  {
   "cell_type": "code",
   "execution_count": null,
   "id": "5e3d8071",
   "metadata": {},
   "outputs": [],
   "source": [
    "x = df.drop(\"Order Region\", axis=1)\n",
    "y = df[\"Order Region\"]"
   ]
  },
  {
   "cell_type": "code",
   "execution_count": null,
   "id": "490e5cd0",
   "metadata": {},
   "outputs": [],
   "source": [
    "x_train, x_test, y_train, y_test = train_test_split(x, y, test_size=0.2, random_state=1, stratify=y)"
   ]
  },
  {
   "cell_type": "markdown",
   "id": "019d8667",
   "metadata": {},
   "source": [
    "## Applying Logistic Regression"
   ]
  },
  {
   "cell_type": "code",
   "execution_count": null,
   "id": "9c83602e",
   "metadata": {
    "scrolled": true
   },
   "outputs": [],
   "source": [
    "logistic_model = LogisticRegression(multi_class= \"ovr\")\n",
    "logistic_model.fit(x_train, y_train)"
   ]
  },
  {
   "cell_type": "code",
   "execution_count": null,
   "id": "ccd7cf22",
   "metadata": {},
   "outputs": [],
   "source": [
    "model_details.append(\"Logistic Regression\")"
   ]
  },
  {
   "cell_type": "code",
   "execution_count": null,
   "id": "622176db",
   "metadata": {},
   "outputs": [],
   "source": [
    "# Training Accuracy\n",
    "y_pred_train = logistic_model.predict(x_train)\n",
    "\n",
    "cnf_matrix = confusion_matrix(y_train, y_pred_train)\n",
    "print(\"Confusion Matrix:\\n\", cnf_matrix)\n",
    "print(\"*\"*45)\n",
    "\n",
    "accuracy = accuracy_score(y_train, y_pred_train)\n",
    "print(\"Accuracy: \",accuracy)\n",
    "print(\"*\"*45)\n",
    "\n",
    "clf_report = classification_report(y_train, y_pred_train)\n",
    "print(\"Classification Report:\\n\",clf_report)\n",
    "\n",
    "training_accuracy_list.append(accuracy)"
   ]
  },
  {
   "cell_type": "code",
   "execution_count": null,
   "id": "c5111e68",
   "metadata": {
    "scrolled": false
   },
   "outputs": [],
   "source": [
    "# testing Accuracy\n",
    "y_pred = logistic_model.predict(x_test)\n",
    "\n",
    "cnf_matrix = confusion_matrix(y_test, y_pred)\n",
    "print(\"Confusion Matrix:\\n\", cnf_matrix)\n",
    "print(\"*\"*45)\n",
    "\n",
    "multi_cnf_matrix = multilabel_confusion_matrix(y_test, y_pred)\n",
    "print(\"Multilabel COnfusion Matrix\\n\",multi_cnf_matrix)\n",
    "print(\"*\"*45)\n",
    "\n",
    "accuracy = accuracy_score(y_test, y_pred)\n",
    "print(\"Accuracy: \",accuracy)\n",
    "print(\"*\"*45)\n",
    "\n",
    "clf_report = classification_report(y_test, y_pred)\n",
    "print(\"Classification Report:\\n\",clf_report)\n",
    "\n",
    "testing_accuracy_list .append(accuracy)"
   ]
  },
  {
   "cell_type": "markdown",
   "id": "ffc81df1",
   "metadata": {},
   "source": [
    "## Applying KNN Algorithm"
   ]
  },
  {
   "cell_type": "markdown",
   "id": "f0873aaf",
   "metadata": {},
   "source": [
    "### Feature Scaling"
   ]
  },
  {
   "cell_type": "markdown",
   "id": "87716ed8",
   "metadata": {},
   "source": [
    "### 1) Normalization"
   ]
  },
  {
   "cell_type": "code",
   "execution_count": null,
   "id": "2dcfd095",
   "metadata": {},
   "outputs": [],
   "source": [
    "normal_scalar = MinMaxScaler()\n",
    "array = normal_scalar.fit_transform(x_train)\n",
    "x_train_normal_df = pd.DataFrame(array, columns=x_train.columns)\n",
    "x_train_normal_df"
   ]
  },
  {
   "cell_type": "markdown",
   "id": "e03e6b9e",
   "metadata": {},
   "source": [
    "### 2) Standerdization"
   ]
  },
  {
   "cell_type": "code",
   "execution_count": null,
   "id": "089afdb8",
   "metadata": {},
   "outputs": [],
   "source": [
    "std_scalar = StandardScaler()\n",
    "array = std_scalar.fit_transform(x_train)\n",
    "x_train_std_df = pd.DataFrame(array, columns=x_train.columns)\n",
    "x_train_std_df"
   ]
  },
  {
   "cell_type": "markdown",
   "id": "d2673abe",
   "metadata": {},
   "source": [
    "### Creating Instance"
   ]
  },
  {
   "cell_type": "code",
   "execution_count": null,
   "id": "ed88e694",
   "metadata": {
    "scrolled": true
   },
   "outputs": [],
   "source": [
    "knn_clf = KNeighborsClassifier()\n",
    "knn_clf.fit(x_train_std_df, y_train)"
   ]
  },
  {
   "cell_type": "code",
   "execution_count": null,
   "id": "aad76387",
   "metadata": {},
   "outputs": [],
   "source": [
    "model_details.append(\"KNeighborsClassifier\")"
   ]
  },
  {
   "cell_type": "code",
   "execution_count": null,
   "id": "eed85f3d",
   "metadata": {},
   "outputs": [],
   "source": [
    "array = std_scalar.transform(x_test)\n",
    "\n",
    "x_test_std_df = pd.DataFrame(array, columns=x_test.columns)\n",
    "x_test_std_df"
   ]
  },
  {
   "cell_type": "code",
   "execution_count": null,
   "id": "f8597244",
   "metadata": {},
   "outputs": [],
   "source": [
    "array = std_scalar.transform(x_test)\n",
    "\n",
    "x_test_std_df = pd.DataFrame(array, columns=x_test.columns)\n",
    "x_test_std_df"
   ]
  },
  {
   "cell_type": "code",
   "execution_count": null,
   "id": "b22b99be",
   "metadata": {},
   "outputs": [],
   "source": [
    "# Training Data\n",
    "\n",
    "y_pred_train = knn_clf.predict(x_train_std_df)\n",
    "\n",
    "cnf_matrix = confusion_matrix(y_train, y_pred_train)\n",
    "print(\"Confusion Matrix -->\\n\", cnf_matrix)\n",
    "print(\"*\"*60)\n",
    "\n",
    "accurracy = accuracy_score(y_train, y_pred_train)\n",
    "print(\"Accuracy is -->\", accurracy)\n",
    "print(\"*\"*60)\n",
    "\n",
    "clf_report = classification_report(y_train, y_pred_train)\n",
    "print(\"Classification report -->\\n\",clf_report)\n",
    "\n",
    "training_accuracy_list.append(accuracy)"
   ]
  },
  {
   "cell_type": "code",
   "execution_count": null,
   "id": "cf305830",
   "metadata": {},
   "outputs": [],
   "source": [
    "# Testing Data\n",
    "\n",
    "y_pred = knn_clf.predict(x_test_std_df)\n",
    "\n",
    "cnf_matrix = confusion_matrix(y_test, y_pred)\n",
    "print(\"Confusion Matrix -->\\n\", cnf_matrix)\n",
    "print(\"*\"*60)\n",
    "\n",
    "accurracy = accuracy_score(y_test, y_pred)\n",
    "print(\"Accuracy is -->\", accurracy)\n",
    "print(\"*\"*60)\n",
    "\n",
    "clf_report = classification_report(y_test, y_pred)\n",
    "print(\"Classification report -->\\n\",clf_report)\n",
    "\n",
    "testing_accuracy_list .append(accuracy)"
   ]
  },
  {
   "cell_type": "markdown",
   "id": "7824d7e4",
   "metadata": {},
   "source": [
    "### Hyperparameter Tunning"
   ]
  },
  {
   "cell_type": "markdown",
   "id": "94318ded",
   "metadata": {},
   "source": [
    "### GridSearchCV"
   ]
  },
  {
   "cell_type": "code",
   "execution_count": null,
   "id": "2610f84c",
   "metadata": {
    "scrolled": false
   },
   "outputs": [],
   "source": [
    "knn_clf = KNeighborsClassifier() # Estimator\n",
    "\n",
    "param_grid = {\"n_neighbors\" : np.arange(3,30)} # Param_grid\n",
    "\n",
    "rmscv_knn_clf = RandomizedSearchCV(knn_clf, param_grid, cv=5)  # cv=5\n",
    "\n",
    "rmscv_knn_clf.fit(x_train_std_df, y_train) \n",
    "rmscv_knn_clf.best_estimator_"
   ]
  },
  {
   "cell_type": "code",
   "execution_count": null,
   "id": "4c764c66",
   "metadata": {},
   "outputs": [],
   "source": [
    "model_details.append(\"RandomizedSearchCV\")"
   ]
  },
  {
   "cell_type": "code",
   "execution_count": null,
   "id": "83093644",
   "metadata": {},
   "outputs": [],
   "source": [
    "knn_clf = rmscv_knn_clf.best_estimator_"
   ]
  },
  {
   "cell_type": "code",
   "execution_count": null,
   "id": "50b9f7d8",
   "metadata": {},
   "outputs": [],
   "source": [
    "# Training Data\n",
    "\n",
    "y_pred_train = knn_clf.predict(x_train_std_df)\n",
    "\n",
    "cnf_matrix = confusion_matrix(y_train, y_pred_train)\n",
    "print(\"Confusion Matrix -->\\n\", cnf_matrix)\n",
    "print(\"*\"*60)\n",
    "\n",
    "accurracy = accuracy_score(y_train, y_pred_train)\n",
    "print(\"Accuracy is -->\", accurracy)\n",
    "print(\"*\"*60)\n",
    "\n",
    "clf_report = classification_report(y_train, y_pred_train)\n",
    "print(\"Classification report -->\\n\",clf_report)\n",
    "\n",
    "training_accuracy_list.append(accuracy)"
   ]
  },
  {
   "cell_type": "code",
   "execution_count": null,
   "id": "adc595c8",
   "metadata": {},
   "outputs": [],
   "source": [
    "# Testing Accuracy\n",
    "\n",
    "knn_clf = rmscv_knn_clf.best_estimator_\n",
    "\n",
    "y_pred = knn_clf.predict(x_test_std_df)\n",
    "\n",
    "cnf_matrix = confusion_matrix(y_test, y_pred)\n",
    "print(\"Confusion Matrix -->\\n\", cnf_matrix)\n",
    "print(\"*\"*60)\n",
    "\n",
    "accurracy = accuracy_score(y_test, y_pred)\n",
    "print(\"Accuracy is -->\", accurracy)\n",
    "print(\"*\"*60)\n",
    "\n",
    "clf_report = classification_report(y_test, y_pred)\n",
    "print(\"Classification report -->\\n\",clf_report)\n",
    "\n",
    "testing_accuracy_list.append(accuracy)"
   ]
  },
  {
   "cell_type": "markdown",
   "id": "0fe151f3",
   "metadata": {},
   "source": [
    "## Applying Decision Tree"
   ]
  },
  {
   "cell_type": "code",
   "execution_count": null,
   "id": "1ef75f16",
   "metadata": {},
   "outputs": [],
   "source": [
    "dt_clf = DecisionTreeClassifier()\n",
    "dt_clf.fit(x_train,y_train)"
   ]
  },
  {
   "cell_type": "code",
   "execution_count": null,
   "id": "c7a44c4c",
   "metadata": {},
   "outputs": [],
   "source": [
    "model_details.append(\"Decision Tree\")"
   ]
  },
  {
   "cell_type": "code",
   "execution_count": null,
   "id": "3c1e177f",
   "metadata": {},
   "outputs": [],
   "source": [
    "# Evaluation on Training data\n",
    "y_pred_train = dt_clf.predict(x_train)\n",
    "\n",
    "cnf_matrix = confusion_matrix(y_train, y_pred_train)\n",
    "print(\"Confusion Matrix=\\n\",cnf_matrix)\n",
    "print(\"*\"*80)\n",
    "\n",
    "accuracy = accuracy_score(y_train, y_pred_train)\n",
    "print(\"accuracy=\", accuracy)\n",
    "print(\"*\"*80)\n",
    "\n",
    "clf_report = classification_report(y_train, y_pred_train)\n",
    "print(\"clf_report=\\n\", clf_report)\n",
    "\n",
    "training_accuracy_list.append(accuracy)"
   ]
  },
  {
   "cell_type": "code",
   "execution_count": null,
   "id": "dd25c6b4",
   "metadata": {},
   "outputs": [],
   "source": [
    "# Evaluation on Testing data\n",
    "y_pred = dt_clf.predict(x_test)\n",
    "\n",
    "cnf_matrix = confusion_matrix(y_test, y_pred)\n",
    "print(\"Confusion Matrix=\\n\",cnf_matrix)\n",
    "print(\"*\"*80)\n",
    "\n",
    "accuracy = accuracy_score(y_test, y_pred)\n",
    "print(\"accuracy=\", accuracy)\n",
    "print(\"*\"*80)\n",
    "\n",
    "clf_report = classification_report(y_test, y_pred)\n",
    "print(\"clf_report=\\n\", clf_report)\n",
    "\n",
    "testing_accuracy_list .append(accuracy)"
   ]
  },
  {
   "cell_type": "markdown",
   "id": "a69e9adc",
   "metadata": {},
   "source": [
    "### Feature Selection Methods"
   ]
  },
  {
   "cell_type": "raw",
   "id": "296a8aee",
   "metadata": {},
   "source": [
    "1. Filter Method\n",
    "2. Wrapper Method\n",
    "3. Embedded Method --> DT feature importance method"
   ]
  },
  {
   "cell_type": "code",
   "execution_count": null,
   "id": "4305ab0a",
   "metadata": {},
   "outputs": [],
   "source": [
    "dt_clf.feature_importances_"
   ]
  },
  {
   "cell_type": "code",
   "execution_count": null,
   "id": "fe4e0b96",
   "metadata": {},
   "outputs": [],
   "source": [
    "sum(dt_clf.feature_importances_)"
   ]
  },
  {
   "cell_type": "code",
   "execution_count": null,
   "id": "93021ed4",
   "metadata": {},
   "outputs": [],
   "source": [
    "array = dt_clf.feature_importances_\n",
    "array"
   ]
  },
  {
   "cell_type": "code",
   "execution_count": null,
   "id": "17914537",
   "metadata": {},
   "outputs": [],
   "source": [
    "pd.Series(array * 100,index = x.columns)"
   ]
  },
  {
   "cell_type": "code",
   "execution_count": null,
   "id": "ad2d0bfc",
   "metadata": {},
   "outputs": [],
   "source": [
    "s1 = pd.Series(array * 100,index = x.columns)\n",
    "s1.sort_values().plot(kind = 'bar')"
   ]
  },
  {
   "cell_type": "markdown",
   "id": "df08dd0f",
   "metadata": {},
   "source": [
    "### Hyperparameter Tunning"
   ]
  },
  {
   "cell_type": "code",
   "execution_count": null,
   "id": "155a188f",
   "metadata": {},
   "outputs": [],
   "source": [
    "dt_model = DecisionTreeClassifier(random_state=11)\n",
    "\n",
    "hyperparametr = {\"criterion\":['gini','entropy'],\n",
    "                'max_depth':np.arange(3,8),\n",
    "                'min_samples_split':np.arange(2,20),\n",
    "                'min_samples_leaf':np.arange(2,15)}\n",
    "\n",
    "gscv_dt_clf = RandomizedSearchCV(dt_model,hyperparametr,cv = 5,n_jobs = -1)\n",
    "gscv_dt_clf.fit(x_train,y_train)"
   ]
  },
  {
   "cell_type": "code",
   "execution_count": null,
   "id": "392db566",
   "metadata": {},
   "outputs": [],
   "source": [
    "model_details.append(\"RandomizedSearchCV\")"
   ]
  },
  {
   "cell_type": "code",
   "execution_count": null,
   "id": "ac2fa1b9",
   "metadata": {},
   "outputs": [],
   "source": [
    "gscv_dt_clf.best_estimator_"
   ]
  },
  {
   "cell_type": "code",
   "execution_count": null,
   "id": "e3d04ab0",
   "metadata": {},
   "outputs": [],
   "source": [
    "# Training Accuracy\n",
    "\n",
    "y_pred_train = dt_clf.predict(x_train)\n",
    "\n",
    "cnf_matrix = confusion_matrix(y_train,y_pred_train)\n",
    "print(\"Confusion Matrix ---->\\n\",cnf_matrix)\n",
    "print(\"*\"*50)\n",
    "\n",
    "accuracy = accuracy_score(y_train,y_pred_train)\n",
    "print(\"Accuracy is ---->\",accuracy)\n",
    "print(\"*\"*50)\n",
    "\n",
    "clf_report = classification_report(y_train,y_pred_train)\n",
    "print(\"Classification Report ---->\\n\",clf_report)\n",
    "\n",
    "training_accuracy_list.append(accuracy)"
   ]
  },
  {
   "cell_type": "code",
   "execution_count": null,
   "id": "9a9adccc",
   "metadata": {},
   "outputs": [],
   "source": [
    "# Testing Accuracy\n",
    "\n",
    "y_pred = dt_clf.predict(x_test)\n",
    "\n",
    "cnf_matrix = confusion_matrix(y_test,y_pred)\n",
    "print(\"Confusion Matrix ---->\\n\",cnf_matrix)\n",
    "print(\"*\"*50)\n",
    "\n",
    "accuracy = accuracy_score(y_test,y_pred)\n",
    "print(\"Accuracy is ---->\",accuracy)\n",
    "print(\"*\"*50)\n",
    "\n",
    "clf_report = classification_report(y_test,y_pred)\n",
    "print(\"Classification Report ---->\\n\",clf_report)\n",
    "\n",
    "testing_accuracy_list .append(accuracy)"
   ]
  },
  {
   "cell_type": "markdown",
   "id": "be82d89a",
   "metadata": {},
   "source": [
    "### Cost Complexity Prunning"
   ]
  },
  {
   "cell_type": "code",
   "execution_count": null,
   "id": "16271289",
   "metadata": {},
   "outputs": [],
   "source": [
    "# result = dt_clf.cost_complexity_pruning_path(x_train,y_train)\n",
    "# result"
   ]
  },
  {
   "cell_type": "code",
   "execution_count": null,
   "id": "56c02321",
   "metadata": {},
   "outputs": [],
   "source": [
    "# result = dt_clf.cost_complexity_pruning_path(x_train,y_train)\n",
    "# ccp_alpha_list = result['ccp_alphas']\n",
    "# ccp_alpha_list"
   ]
  },
  {
   "cell_type": "code",
   "execution_count": null,
   "id": "76e4a20e",
   "metadata": {},
   "outputs": [],
   "source": [
    "# for i in ccp_alpha_list:\n",
    "#     decision_tree_model = DecisionTreeClassifier(ccp_alpha=i,random_state=11)\n",
    "    \n",
    "#     decision_tree_model.fit(x_train,y_train)\n",
    "    \n",
    "#     training_accuracy = decision_tree_model.score(x_train,y_train)\n",
    "#     print(training_accuracy)\n",
    "    \n",
    "#     testing_accuracy = decision_tree_model.score(x_test,y_test)\n",
    "#     print(testing_accuracy)"
   ]
  },
  {
   "cell_type": "code",
   "execution_count": null,
   "id": "013c72c1",
   "metadata": {},
   "outputs": [],
   "source": [
    "# train_accuracy_list = []\n",
    "# test_accuracy_list = []\n",
    "\n",
    "# for i in ccp_alpha_list:\n",
    "#     decision_tree_model = DecisionTreeClassifier(ccp_alpha=i,random_state=11)\n",
    "    \n",
    "#     decision_tree_model.fit(x_train,y_train)\n",
    "    \n",
    "#     training_accuracy = decision_tree_model.score(x_train,y_train)\n",
    "#     train_accuracy_list.append(training_accuracy)\n",
    "    \n",
    "#     testing_accuracy = decision_tree_model.score(x_test,y_test)\n",
    "#     test_accuracy_list.append(testing_accuracy)\n",
    "    \n",
    "# train_accuracy_list"
   ]
  },
  {
   "cell_type": "code",
   "execution_count": null,
   "id": "63b6364f",
   "metadata": {},
   "outputs": [],
   "source": [
    "# fig,ax = plt.subplots()\n",
    "# ax.plot(ccp_alpha_list,train_accuracy_list)"
   ]
  },
  {
   "cell_type": "code",
   "execution_count": null,
   "id": "3ae0358e",
   "metadata": {},
   "outputs": [],
   "source": [
    "# fig,ax = plt.subplots()\n",
    "# ax.plot(ccp_alpha_list,train_accuracy_list,label = \"Training Data accuracy\")\n",
    "# ax.plot(ccp_alpha_list,test_accuracy_list,label = \"Testing Data accuracy\")\n",
    "# ax.legend()"
   ]
  },
  {
   "cell_type": "code",
   "execution_count": null,
   "id": "f30e07d8",
   "metadata": {},
   "outputs": [],
   "source": [
    "# max(test_accuracy_list)"
   ]
  },
  {
   "cell_type": "code",
   "execution_count": null,
   "id": "61ff69e2",
   "metadata": {},
   "outputs": [],
   "source": [
    "# max_test = test_accuracy_list.index(max(test_accuracy_list))\n",
    "# max_test"
   ]
  },
  {
   "cell_type": "code",
   "execution_count": null,
   "id": "af149439",
   "metadata": {},
   "outputs": [],
   "source": [
    "# best_ccp = ccp_alpha_list[max_test]\n",
    "# best_ccp"
   ]
  },
  {
   "cell_type": "code",
   "execution_count": null,
   "id": "dd09e354",
   "metadata": {
    "scrolled": true
   },
   "outputs": [],
   "source": [
    "# decision_tree_model = DecisionTreeClassifier(ccp_alpha=best_ccp,random_state=11)\n",
    "# decision_tree_model.fit(x_train,y_train)"
   ]
  },
  {
   "cell_type": "code",
   "execution_count": null,
   "id": "323faa69",
   "metadata": {},
   "outputs": [],
   "source": [
    "# model_details.append(\"ccp_alpha\")"
   ]
  },
  {
   "cell_type": "code",
   "execution_count": null,
   "id": "cbbf6172",
   "metadata": {},
   "outputs": [],
   "source": [
    "# # Training Accuracy\n",
    "\n",
    "# y_pred_train = decision_tree_model.predict(x_train)\n",
    "\n",
    "# cnf_matrix = confusion_matrix(y_train,y_pred_train)\n",
    "# print(\"Confusion Matrix ---->\\n\",cnf_matrix)\n",
    "# print(\"*\"*50)\n",
    "\n",
    "# accuracy = accuracy_score(y_train,y_pred_train)\n",
    "# print(\"Accuracy is ---->\",accuracy)\n",
    "# print(\"*\"*50)\n",
    "\n",
    "# clf_report = classification_report(y_train,y_pred_train)\n",
    "# print(\"Classification Report ---->\\n\",clf_report)\n",
    "\n",
    "# training_accuracy_list.append(accuracy)"
   ]
  },
  {
   "cell_type": "code",
   "execution_count": null,
   "id": "9d600713",
   "metadata": {},
   "outputs": [],
   "source": [
    "# # Testing Accuracy\n",
    "\n",
    "# y_pred = decision_tree_model.predict(x_test)\n",
    "\n",
    "# cnf_matrix = confusion_matrix(y_test,y_pred)\n",
    "# print(\"Confusion Matrix ---->\\n\",cnf_matrix)\n",
    "# print(\"*\"*50)\n",
    "\n",
    "# accuracy = accuracy_score(y_test,y_pred)\n",
    "# print(\"Accuracy is ---->\",accuracy)\n",
    "# print(\"*\"*50)\n",
    "\n",
    "# clf_report = classification_report(y_test,y_pred)\n",
    "# print(\"Classification Report ---->\\n\",clf_report)\n",
    "\n",
    "# testing_accuracy_list .append(accuracy)"
   ]
  },
  {
   "cell_type": "markdown",
   "id": "1e1785ba",
   "metadata": {},
   "source": [
    "## Applying Random Forest Classifier"
   ]
  },
  {
   "cell_type": "code",
   "execution_count": null,
   "id": "eda8a174",
   "metadata": {
    "scrolled": false
   },
   "outputs": [],
   "source": [
    "rf_clf_model = RandomForestClassifier()\n",
    "rf_clf_model.fit(x_train, y_train)"
   ]
  },
  {
   "cell_type": "code",
   "execution_count": null,
   "id": "b9a123fc",
   "metadata": {},
   "outputs": [],
   "source": [
    "model_details.append(\"Random Forest\")"
   ]
  },
  {
   "cell_type": "code",
   "execution_count": null,
   "id": "75e897b2",
   "metadata": {
    "scrolled": false
   },
   "outputs": [],
   "source": [
    "#prediction for training data\n",
    "y_pred_train = rf_clf_model.predict(x_train)\n",
    "y_pred_train\n",
    "\n",
    "cnf_matrix = confusion_matrix(y_train, y_pred_train)\n",
    "print(\"Confusion Matrix=\\n\",cnf_matrix)\n",
    "print()\n",
    "\n",
    "accuracy = accuracy_score(y_train, y_pred_train)\n",
    "print(\"accuracy=\", accuracy)\n",
    "print()\n",
    "\n",
    "clf_report = classification_report(y_train, y_pred_train)\n",
    "print(\"clf_report=\\n\", clf_report)\n",
    "\n",
    "training_accuracy_list.append(accuracy)"
   ]
  },
  {
   "cell_type": "code",
   "execution_count": null,
   "id": "0d4ed478",
   "metadata": {
    "scrolled": false
   },
   "outputs": [],
   "source": [
    "#prediction for testing data\n",
    "y_pred_test = rf_clf_model.predict(x_test)\n",
    "y_pred_train\n",
    "\n",
    "cnf_matrix = confusion_matrix(y_test, y_pred_test)\n",
    "print(\"Confusion Matrix=\\n\",cnf_matrix)\n",
    "print()\n",
    "\n",
    "accuracy = accuracy_score(y_test, y_pred_test)\n",
    "print(\"accuracy=\", accuracy)\n",
    "print()\n",
    "\n",
    "clf_report = classification_report(y_test, y_pred_test)\n",
    "print(\"clf_report=\\n\", clf_report)\n",
    "\n",
    "testing_accuracy_list .append(accuracy)"
   ]
  },
  {
   "cell_type": "code",
   "execution_count": null,
   "id": "a6997d35",
   "metadata": {
    "scrolled": false
   },
   "outputs": [],
   "source": [
    "array = rf_clf_model.feature_importances_\n",
    "s1 = pd.Series(array, index=x.columns)*100\n",
    "s1.sort_values().plot(kind=\"barh\")"
   ]
  },
  {
   "cell_type": "markdown",
   "id": "71d9d3c4",
   "metadata": {},
   "source": [
    "# Hyperparameter Tunning"
   ]
  },
  {
   "cell_type": "code",
   "execution_count": null,
   "id": "f1ab4d24",
   "metadata": {
    "scrolled": true
   },
   "outputs": [],
   "source": [
    "hyp_rf_clf_model = RandomForestClassifier(random_state=1, n_jobs=-1)\n",
    "\n",
    "parameter = {\n",
    "    \"n_estimators\": np.arange(10, 200),\n",
    "    \"criterion\": [\"gini\", \"entropy\"],\n",
    "    \"max_depth\": np.arange(3, 8),\n",
    "    \"min_samples_split\": np.arange(2, 20),\n",
    "    \"min_samples_leaf\": np.arange(2, 15),\n",
    "    \"max_features\": [\"sqrt\", \"log2\"]\n",
    "}\n",
    "\n",
    "rmscv_rf_clf_model = RandomizedSearchCV(hyp_rf_clf_model, parameter, cv=5, error_score='raise')\n",
    "rmscv_rf_clf_model.fit(x_train, y_train)"
   ]
  },
  {
   "cell_type": "code",
   "execution_count": null,
   "id": "e3d07e9a",
   "metadata": {},
   "outputs": [],
   "source": [
    "model_details.append(\"RandomizedSearchCV\")"
   ]
  },
  {
   "cell_type": "code",
   "execution_count": null,
   "id": "4f611b86",
   "metadata": {
    "scrolled": false
   },
   "outputs": [],
   "source": [
    "#prediction for training data\n",
    "y_pred_train = rmscv_rf_clf_model.predict(x_train)\n",
    "y_pred_train\n",
    "\n",
    "cnf_matrix = confusion_matrix(y_train, y_pred_train)\n",
    "print(\"Confusion Matrix=\\n\",cnf_matrix)\n",
    "print()\n",
    "\n",
    "accuracy = accuracy_score(y_train, y_pred_train)\n",
    "print(\"accuracy=\", accuracy)\n",
    "print()\n",
    "\n",
    "clf_report = classification_report(y_train, y_pred_train)\n",
    "print(\"clf_report=\\n\", clf_report)\n",
    "\n",
    "training_accuracy_list.append(accuracy)"
   ]
  },
  {
   "cell_type": "code",
   "execution_count": null,
   "id": "c72f12c8",
   "metadata": {
    "scrolled": false
   },
   "outputs": [],
   "source": [
    "#prediction for testing data\n",
    "y_pred_test = rmscv_rf_clf_model.predict(x_test)\n",
    "y_pred_train\n",
    "\n",
    "cnf_matrix = confusion_matrix(y_test, y_pred_test)\n",
    "print(\"Confusion Matrix=\\n\",cnf_matrix)\n",
    "print()\n",
    "\n",
    "accuracy = accuracy_score(y_test, y_pred_test)\n",
    "print(\"accuracy=\", accuracy)\n",
    "print()\n",
    "\n",
    "clf_report = classification_report(y_test, y_pred_test)\n",
    "print(\"clf_report=\\n\", clf_report)\n",
    "\n",
    "testing_accuracy_list .append(accuracy)"
   ]
  },
  {
   "cell_type": "markdown",
   "id": "5f469d95",
   "metadata": {},
   "source": [
    "## Applying Adaboost Algorithm"
   ]
  },
  {
   "cell_type": "code",
   "execution_count": null,
   "id": "bb8a37a2",
   "metadata": {},
   "outputs": [],
   "source": [
    "adb_clf = AdaBoostClassifier(random_state=11)\n",
    "adb_clf"
   ]
  },
  {
   "cell_type": "code",
   "execution_count": null,
   "id": "7ab985de",
   "metadata": {
    "scrolled": true
   },
   "outputs": [],
   "source": [
    "adb_clf.fit(x_train,y_train)"
   ]
  },
  {
   "cell_type": "code",
   "execution_count": null,
   "id": "fdf8a64b",
   "metadata": {},
   "outputs": [],
   "source": [
    "model_details.append(\"Adaboost\")"
   ]
  },
  {
   "cell_type": "code",
   "execution_count": null,
   "id": "64bba683",
   "metadata": {},
   "outputs": [],
   "source": [
    "# Model Evaluation Training data\n",
    "\n",
    "y_pred_train = adb_clf.predict(x_train)\n",
    "\n",
    "cnf_matrix = confusion_matrix(y_train,y_pred_train)\n",
    "print(\"Confusion Matrix is ----->\\n\",cnf_matrix)\n",
    "print(\"*\"*100)\n",
    "\n",
    "accuracy = accuracy_score(y_train,y_pred_train)\n",
    "print(\"Accuracy is  ----->\",accuracy)\n",
    "print(\"*\"*100)\n",
    "\n",
    "clf_report = classification_report(y_train,y_pred_train)\n",
    "print(\"Classification Report is ----->\\n\",clf_report)\n",
    "print(\"*\"*100)\n",
    "\n",
    "training_accuracy_list.append(accuracy)"
   ]
  },
  {
   "cell_type": "code",
   "execution_count": null,
   "id": "de1c747f",
   "metadata": {},
   "outputs": [],
   "source": [
    "# Model Evaluation Testing data\n",
    "\n",
    "y_pred = adb_clf.predict(x_test)\n",
    "\n",
    "cnf_matrix = confusion_matrix(y_test,y_pred)\n",
    "print(\"Confusion Matrix is ----->\\n\",cnf_matrix)\n",
    "print(\"*\"*100)\n",
    "\n",
    "accuracy = accuracy_score(y_test,y_pred)\n",
    "print(\"Accuracy is  ----->\",accuracy)\n",
    "print(\"*\"*100)\n",
    "\n",
    "clf_report = classification_report(y_test,y_pred)\n",
    "print(\"Classification Report is ----->\\n\",clf_report)\n",
    "print(\"*\"*100)\n",
    "\n",
    "testing_accuracy_list .append(accuracy)"
   ]
  },
  {
   "cell_type": "markdown",
   "id": "cf790a92",
   "metadata": {},
   "source": [
    "### Feature Importance"
   ]
  },
  {
   "cell_type": "code",
   "execution_count": null,
   "id": "0c52913e",
   "metadata": {},
   "outputs": [],
   "source": [
    "s1 = pd.Series(adb_clf.feature_importances_, index=x.columns)\n",
    "s1.sort_values().plot(kind= 'barh')"
   ]
  },
  {
   "cell_type": "markdown",
   "id": "a39d7423",
   "metadata": {},
   "source": [
    "### Hyperparameter Tunning"
   ]
  },
  {
   "cell_type": "code",
   "execution_count": null,
   "id": "38eb21c7",
   "metadata": {},
   "outputs": [],
   "source": [
    "# adb_clf = AdaBoostClassifier(random_state=30)\n",
    "\n",
    "# param_grid = {\n",
    "#                'n_estimators':np.arange(10,200,2),\n",
    "#                 'learning_rate':np.arange(0,2,0.001)\n",
    "#                 }\n",
    "\n",
    "# rscv_adb_clf = RandomizedSearchCV(adb_clf,param_grid,cv=7,n_jobs = -1)\n",
    "# rscv_adb_clf.fit(x_train,y_train)\n",
    "# rscv_adb_clf.best_estimator_"
   ]
  },
  {
   "cell_type": "code",
   "execution_count": null,
   "id": "52814deb",
   "metadata": {},
   "outputs": [],
   "source": [
    "# adb_clf = rscv_adb_clf.best_estimator_\n",
    "# adb_clf.fit(x_train,y_train)"
   ]
  },
  {
   "cell_type": "code",
   "execution_count": null,
   "id": "b8496a36",
   "metadata": {},
   "outputs": [],
   "source": [
    "# model_details.append(\"RandomizedSearchCV\")"
   ]
  },
  {
   "cell_type": "code",
   "execution_count": null,
   "id": "9ffde46a",
   "metadata": {},
   "outputs": [],
   "source": [
    "# # Model Evaluation Training data\n",
    "\n",
    "# y_pred_train = adb_clf.predict(x_train)\n",
    "\n",
    "# cnf_matrix = confusion_matrix(y_train,y_pred_train)\n",
    "# print(\"Confusion Matrix is ----->\\n\",cnf_matrix)\n",
    "# print(\"*\"*100)\n",
    "\n",
    "# accuracy = accuracy_score(y_train,y_pred_train)\n",
    "# print(\"Accuracy is  ----->\",accuracy)\n",
    "# print(\"*\"*100)\n",
    "\n",
    "# clf_report = classification_report(y_train,y_pred_train)\n",
    "# print(\"Classification Report is ----->\\n\",clf_report)\n",
    "# print(\"*\"*100)\n",
    "\n",
    "# training_accuracy_list.append(accuracy)"
   ]
  },
  {
   "cell_type": "code",
   "execution_count": null,
   "id": "ab6febeb",
   "metadata": {},
   "outputs": [],
   "source": [
    "# # Model Evaluation Testing data\n",
    "\n",
    "# y_pred = adb_clf.predict(x_test)\n",
    "\n",
    "# cnf_matrix = confusion_matrix(y_test,y_pred)\n",
    "# print(\"Confusion Matrix is ----->\\n\",cnf_matrix)\n",
    "# print(\"*\"*100)\n",
    "\n",
    "# accuracy = accuracy_score(y_test,y_pred)\n",
    "# print(\"Accuracy is  ----->\",accuracy)\n",
    "# print(\"*\"*100)\n",
    "\n",
    "# clf_report = classification_report(y_test,y_pred)\n",
    "# print(\"Classification Report is ----->\\n\",clf_report)\n",
    "# print(\"*\"*100)\n",
    "\n",
    "# testing_accuracy_list .append(accuracy)"
   ]
  },
  {
   "cell_type": "code",
   "execution_count": null,
   "id": "daf6ef81",
   "metadata": {},
   "outputs": [],
   "source": [
    "# Feature Importance\n",
    "\n",
    "# s1 = pd.Series(adb_clf.feature_importances_, index=x.columns)\n",
    "# s1.sort_values().plot(kind= 'barh')"
   ]
  },
  {
   "cell_type": "code",
   "execution_count": null,
   "id": "3c244d13",
   "metadata": {},
   "outputs": [],
   "source": [
    "df3 = pd.DataFrame({\"Model\": model_details, \"training accuracy\":training_accuracy_list, \"testing accuracy\":testing_accuracy_list})\n",
    "df3"
   ]
  },
  {
   "cell_type": "markdown",
   "id": "ef0dea84",
   "metadata": {},
   "source": [
    "# Creating Pickle"
   ]
  },
  {
   "cell_type": "code",
   "execution_count": null,
   "id": "fda29c34",
   "metadata": {},
   "outputs": [],
   "source": [
    "with open(\"Decision Tree.pkl\", \"wb\") as f:\n",
    "    pickle.dump(dt_model, f)"
   ]
  },
  {
   "cell_type": "markdown",
   "id": "2f5a100c",
   "metadata": {},
   "source": [
    "# Creating JSON"
   ]
  },
  {
   "cell_type": "code",
   "execution_count": null,
   "id": "c2c85118",
   "metadata": {},
   "outputs": [],
   "source": [
    "column_names = x.columns"
   ]
  },
  {
   "cell_type": "code",
   "execution_count": null,
   "id": "2dd868c0",
   "metadata": {
    "scrolled": false
   },
   "outputs": [],
   "source": [
    "json_data = {\"Type\":Type_value,\n",
    "             \"Customer_Country\":Customer_Country_value,\n",
    "             \"Delivery_Status\":Delivery_Status_value,\n",
    "             \"Customer_Segment\":Customer_Segment_values,\n",
    "             \"Customer_State\":Customer_State_values,\n",
    "             \"Department_Name\":Department_Name_values,\n",
    "             \"Market\":Market_values,\n",
    "             \"Order_Status\":Order_Status_value,\n",
    "             \"Shipping_Mode\":Shipping_Mode_value,\n",
    "             \"Category_Name\":Category_Name_value,\n",
    "             \"Customer_City\":Customer_City_value,\n",
    "             \"Customer_Fname\":Customer_Fname_value,\n",
    "             \"Customer_Lname\":Customer_Lname_value,\n",
    "             \"Customer_Street\":Customer_Street_value,\n",
    "             \"Order_City\":Order_City_value,\n",
    "             \"Order_Country\":Order_Country_value,\n",
    "             \"Order_State\":Order_State_value,\n",
    "             \"Product_Name\":Product_Name_value,\n",
    "             \"columns\":list(column_names)}\n",
    "json_data"
   ]
  },
  {
   "cell_type": "code",
   "execution_count": null,
   "id": "80edbaaa",
   "metadata": {},
   "outputs": [],
   "source": [
    "with open(\"Project_data.json\", \"w\")as f:\n",
    "    json.dump(json_data, f)"
   ]
  },
  {
   "cell_type": "code",
   "execution_count": null,
   "id": "08e0f437",
   "metadata": {},
   "outputs": [],
   "source": [
    "# label_encoder = LabelEncoder()\n",
    "\n",
    "# # Apply label encoding to the desired columns\n",
    "# encoded_column1 = label_encoder.fit_transform(encoded_catagory_name)\n",
    "# encoded_column2 = label_encoder.fit_transform(encoded_customer_city)\n",
    "# encoded_column3 = label_encoder.fit_transform(encoded_customer_fname)\n",
    "# encoded_column4 = label_encoder.fit_transform(encoded_customer_lname)\n",
    "# encoded_column5 = label_encoder.fit_transform(encoded_customer_street)\n",
    "# encoded_column6 = label_encoder.fit_transform(encoded_order_city)\n",
    "# encoded_column7 = label_encoder.fit_transform(encoded_order_country)\n",
    "# encoded_column8 = label_encoder.fit_transform(encoded_order_state)\n",
    "# encoded_column9 = label_encoder.fit_transform(encoded_product_name)"
   ]
  },
  {
   "cell_type": "code",
   "execution_count": null,
   "id": "e8d3c6b8",
   "metadata": {
    "scrolled": true
   },
   "outputs": [],
   "source": [
    "# encoded_data = {\n",
    "#     \"Category Name\": encoded_catagory_name.tolist(),\n",
    "#     \"Customer City\": encoded_customer_city.tolist(),\n",
    "#     \"Customer Fname\": encoded_customer_fname.tolist(),\n",
    "#     \"Customer Lname\": encoded_customer_lname.tolist(),\n",
    "#     \"Customer Street\": encoded_customer_street.tolist(),\n",
    "#     \"Order City\": encoded_order_city.tolist(),\n",
    "#     \"Order Country\": encoded_order_country.tolist(),\n",
    "#     \"Order State\": encoded_order_state.tolist(),\n",
    "#     \"Product Name\": encoded_product_name.tolist()}\n",
    "# encoded_data"
   ]
  },
  {
   "cell_type": "code",
   "execution_count": null,
   "id": "55c0d76f",
   "metadata": {},
   "outputs": [],
   "source": [
    "# # Write the encoded data dictionary to the JSON file\n",
    "# with open(\"encoded_data.json\", \"w\") as json_file:\n",
    "#     json.dump(encoded_data, json_file)"
   ]
  },
  {
   "cell_type": "markdown",
   "id": "986d5fa7",
   "metadata": {},
   "source": [
    "# User Input Testing"
   ]
  },
  {
   "cell_type": "code",
   "execution_count": null,
   "id": "bbd4eaf3",
   "metadata": {
    "scrolled": true
   },
   "outputs": [],
   "source": [
    "Type = \"DEBIT\"\n",
    "Days_for_shipping_real = 3\n",
    "Days_for_shipment_scheduled = 4\n",
    "Benefit_per_order = 91.25\n",
    "Sales_per_customer = 314.640015\n",
    "Delivery_Status = \"Advance shipping\"\n",
    "Late_delivery_risk = 0\n",
    "Category_Id = 73\n",
    "Category_Name = \"Sporting Goods\"\n",
    "Customer_City = \"Caguas\"\n",
    "Customer_Country = \"Puerto Rico\"\n",
    "Customer_Fname = \"Cally\"\n",
    "Customer_Id = 20755\n",
    "Customer_Lname = \"Holloway\"\n",
    "Customer_Segment= \"Consumer\"\n",
    "Customer_State = \"PR\"\n",
    "Customer_Street = \"5365 Noble Nectar Island\"\n",
    "Customer_Zipcode = 725.0\n",
    "Department_Id = 2\n",
    "Department_Name = \"Fitness\"\n",
    "Latitude = 18.251453\n",
    "Longitude = -66.037056\n",
    "Market = \"Pacific Asia\"\n",
    "Order_City = \"Bekasi\"\n",
    "Order_Country = \"Indonesia\"\n",
    "Order_Customer_Id = 20755\n",
    "order_date_DateOrders = 1453209840\n",
    "Order_Id = 77202\n",
    "Order_Item_Cardprod_Id = 1360\n",
    "Order_Item_Discount = 13.11\n",
    "Order_Item_Discount_Rate = 0.04\n",
    "Order_Item_Id = 180517\n",
    "Order_Item_Product_Pric = 327.75\n",
    "Order_Item_Profit_Ratio = 0.29\n",
    "Order_Item_Quantity = 1\n",
    "Sales = 327.75\n",
    "Order_Item_Total = 314.640015\n",
    "Order_Profit_Per_Order = 91.25\n",
    "Order_State = \"Java Occidental\"\n",
    "Order_Status = \"COMPLETE\"\n",
    "Product_Card_Id = 1360\n",
    "Product_Category_Id = 73\n",
    "Product_Name = \"Smart watch \"\n",
    "Product_Price = 327.75\n",
    "Product_Status = 0\n",
    "shipping_date_DateOrders =1452864240\n",
    "Shipping_Mode = \"Standard Class\""
   ]
  },
  {
   "cell_type": "code",
   "execution_count": null,
   "id": "933afa2b",
   "metadata": {
    "scrolled": true
   },
   "outputs": [],
   "source": [
    "test_array = np.zeros(len(column_names))\n",
    "test_array[0] = json_data[\"Type\"][Type]\n",
    "test_array[1] = Days_for_shipping_real\n",
    "test_array[2] = Days_for_shipment_scheduled\n",
    "test_array[3] = Benefit_per_order\n",
    "test_array[4] = Sales_per_customer\n",
    "test_array[5] = json_data[\"Delivery_Status\"][Delivery_Status]\n",
    "test_array[6] = Late_delivery_risk\n",
    "test_array[7] = Category_Id\n",
    "test_array[8] = json_data[\"Category_Name\"][Category_Name]\n",
    "test_array[9] = json_data[\"Customer_City\"][Customer_City]\n",
    "test_array[10] = json_data[\"Customer_Country\"][Customer_Country]\n",
    "test_array[11] = json_data[\"Customer_Fname\"][Customer_Fname]\n",
    "test_array[12] = Customer_Id\n",
    "test_array[13] = json_data[\"Customer_Lname\"][Customer_Lname]\n",
    "test_array[14] = json_data[\"Customer_Segment\"][Customer_Segment]\n",
    "test_array[15] = json_data[\"Customer_State\"][Customer_State]\n",
    "test_array[16] = json_data[\"Customer_Street\"][Customer_Street]\n",
    "test_array[17] = Customer_Zipcode\n",
    "test_array[18] = Department_Id\n",
    "test_array[19] = json_data[\"Department_Name\"][Department_Name]\n",
    "test_array[20] = Latitude\n",
    "test_array[21] = Longitude\n",
    "test_array[22] = json_data[\"Market\"][Market]\n",
    "test_array[23] = json_data[\"Order_City\"][Order_City]\n",
    "test_array[24] = json_data[\"Order_Country\"][Order_Country]\n",
    "test_array[25] = Order_Customer_Id\n",
    "test_array[26] = order_date_DateOrders\n",
    "test_array[27] = Order_Id\n",
    "test_array[28] = Order_Item_Cardprod_Id \n",
    "test_array[29] = Order_Item_Discount \n",
    "test_array[30] = Order_Item_Discount_Rate \n",
    "test_array[31] = Order_Item_Id \n",
    "test_array[32] = Order_Item_Product_Pric \n",
    "test_array[33] = Order_Item_Profit_Ratio \n",
    "test_array[34] = Order_Item_Quantity \n",
    "test_array[35] = Sales \n",
    "test_array[36] = Order_Item_Total  \n",
    "test_array[37] = Order_Profit_Per_Order \n",
    "test_array[38] = json_data[\"Order_State\"][Order_State] \n",
    "test_array[39] = json_data[\"Order_Status\"][Order_Status]\n",
    "test_array[40] = Product_Card_Id  \n",
    "test_array[41] = Product_Category_Id  \n",
    "test_array[42] = json_data[\"Product_Name\"][Product_Name]\n",
    "test_array[43] = Product_Price \n",
    "test_array[44] = Product_Status \n",
    "test_array[45] = shipping_date_DateOrders\n",
    "test_array[46] = json_data[\"Shipping_Mode\"][Shipping_Mode]\n",
    "test_array"
   ]
  },
  {
   "cell_type": "code",
   "execution_count": null,
   "id": "afe29274",
   "metadata": {
    "scrolled": true
   },
   "outputs": [],
   "source": [
    "prediction = dt_clf.predict([test_array])[0]\n",
    "prediction"
   ]
  }
 ],
 "metadata": {
  "kernelspec": {
   "display_name": "Python 3 (ipykernel)",
   "language": "python",
   "name": "python3"
  },
  "language_info": {
   "codemirror_mode": {
    "name": "ipython",
    "version": 3
   },
   "file_extension": ".py",
   "mimetype": "text/x-python",
   "name": "python",
   "nbconvert_exporter": "python",
   "pygments_lexer": "ipython3",
   "version": "3.10.9"
  }
 },
 "nbformat": 4,
 "nbformat_minor": 5
}
